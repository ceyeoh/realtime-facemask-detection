{
 "cells": [
  {
   "cell_type": "code",
   "execution_count": 1,
   "id": "40cf8597-8f8c-4fa4-a9d9-2b21e190cab8",
   "metadata": {},
   "outputs": [],
   "source": [
    "import numpy as np\n",
    "import pandas as pd\n",
    "from pathlib import Path\n",
    "from glob import glob\n",
    "from itertools import chain\n",
    "from collections import Counter\n",
    "from PIL import Image\n",
    "from tqdm import tqdm\n",
    "from datetime import datetime\n",
    "\n",
    "from sklearn.model_selection import train_test_split\n",
    "from sklearn.preprocessing import LabelEncoder\n",
    "from sklearn.metrics import classification_report\n",
    "from sklearn.metrics import confusion_matrix\n",
    "\n",
    "import torch\n",
    "import torch.nn as nn\n",
    "import torch.optim as optim\n",
    "from torchvision import transforms\n",
    "from torchvision.models.resnet import resnet18 \n",
    "from torch.utils.data import Dataset, DataLoader\n",
    "from torch.optim.lr_scheduler import CosineAnnealingLR\n",
    "\n",
    "import matplotlib.pyplot as plt\n",
    "\n",
    "import warnings\n",
    "warnings.filterwarnings('ignore')\n",
    "\n",
    "if torch.cuda.is_available():\n",
    "    torch.backends.cudnn.deterministic = True"
   ]
  },
  {
   "cell_type": "code",
   "execution_count": 2,
   "id": "2be1e262-969f-4211-a37e-4e634736def3",
   "metadata": {},
   "outputs": [],
   "source": [
    "seed = 17167055\n",
    "torch.manual_seed(seed)\n",
    "np.random.seed(seed)"
   ]
  },
  {
   "cell_type": "code",
   "execution_count": 3,
   "id": "67567d40-2dee-4e70-9188-e1a1465f7540",
   "metadata": {},
   "outputs": [
    {
     "name": "stdout",
     "output_type": "stream",
     "text": [
      "Total data: 4092\n"
     ]
    }
   ],
   "source": [
    "root = 'dataset'\n",
    "dataset = [str(data) for data in list(chain(*[i.glob('*') for i in Path(root).glob('*')]))]\n",
    "print(f'Total data: {len(dataset)}')"
   ]
  },
  {
   "cell_type": "code",
   "execution_count": 4,
   "id": "a18a600c-e71e-435d-8d22-a1fb2122c3f3",
   "metadata": {},
   "outputs": [],
   "source": [
    "def img_loader(path):\n",
    "    with open(path, 'rb') as f:\n",
    "        return Image.open(f).convert('RGB')"
   ]
  },
  {
   "cell_type": "code",
   "execution_count": 5,
   "id": "36eb823f-1903-477e-95a0-ae4031d0c066",
   "metadata": {},
   "outputs": [],
   "source": [
    "images = [img_loader(i) for i in dataset]\n",
    "labels = [i.split('\\\\')[-2] for i in dataset]\n",
    "\n",
    "assert len(images)==len(labels)\n",
    "assert len(images)==len(dataset)"
   ]
  },
  {
   "cell_type": "code",
   "execution_count": 6,
   "id": "77bb096f-3cab-4ff1-8f44-c41e1606b1c8",
   "metadata": {},
   "outputs": [],
   "source": [
    "scaler = LabelEncoder()\n",
    "labels = scaler.fit_transform(labels)"
   ]
  },
  {
   "cell_type": "code",
   "execution_count": 7,
   "id": "e800254c-5499-46ea-9fe1-8070488ade14",
   "metadata": {},
   "outputs": [
    {
     "data": {
      "text/plain": [
       "[(0, 2162), (1, 1930)]"
      ]
     },
     "execution_count": 7,
     "metadata": {},
     "output_type": "execute_result"
    }
   ],
   "source": [
    "Counter(labels).most_common()"
   ]
  },
  {
   "cell_type": "code",
   "execution_count": 8,
   "id": "ecc3c6af-6df0-4381-aa8b-ef2ea4714b02",
   "metadata": {},
   "outputs": [
    {
     "name": "stdout",
     "output_type": "stream",
     "text": [
      "Train: 2454\n",
      "Validation: 819\n",
      "Test: 819\n"
     ]
    }
   ],
   "source": [
    "X_train, X_test, y_train, y_test = train_test_split(images, labels, test_size=0.2, stratify=labels, random_state=seed)\n",
    "X_train, X_val, y_train, y_val = train_test_split(X_train, y_train, test_size=0.25, stratify=y_train, random_state=seed)\n",
    "print(f'Train: {len(X_train)}')\n",
    "print(f'Validation: {len(X_val)}')\n",
    "print(f'Test: {len(X_test)}')"
   ]
  },
  {
   "cell_type": "code",
   "execution_count": 9,
   "id": "c72f3ed8-23a6-437a-b891-28cca5d0df60",
   "metadata": {
    "tags": []
   },
   "outputs": [],
   "source": [
    "class MaskDataset(Dataset):\n",
    "    def __init__(self, X, y, transform):\n",
    "        self.image = X\n",
    "        self.label = y\n",
    "        self.transform = transform\n",
    "        \n",
    "    def __getitem__(self, idx):\n",
    "        img = self.image[idx]\n",
    "        lbl = self.label[idx]\n",
    "        if self.transform:\n",
    "            img = self.transform(img)\n",
    "        return img, lbl\n",
    "    \n",
    "    def __len__(self):\n",
    "        return len(self.image)"
   ]
  },
  {
   "cell_type": "code",
   "execution_count": 10,
   "id": "4b8113f7-346b-4c6e-8ac9-8c790e341673",
   "metadata": {},
   "outputs": [],
   "source": [
    "transform_train = transforms.Compose([\n",
    "    transforms.RandomResizedCrop(224),\n",
    "    transforms.RandomHorizontalFlip(),\n",
    "    transforms.RandomAutocontrast(),\n",
    "    transforms.RandomAdjustSharpness(2),\n",
    "    transforms.ToTensor(),\n",
    "])\n",
    "\n",
    "transform_valtest = transforms.Compose([\n",
    "    transforms.Resize(224),\n",
    "    transforms.ToTensor(),\n",
    "])"
   ]
  },
  {
   "cell_type": "code",
   "execution_count": 11,
   "id": "61bbbe65-4956-41da-bb9e-2f68f30a3d9e",
   "metadata": {},
   "outputs": [],
   "source": [
    "trainset = MaskDataset(X_train, y_train, transform_train)\n",
    "trainloader = DataLoader(trainset, batch_size=16, shuffle=True)\n",
    "\n",
    "valset = MaskDataset(X_val, y_val, transform_valtest)\n",
    "valloader = DataLoader(valset, batch_size=1, shuffle=False)\n",
    "\n",
    "testset = MaskDataset(X_test, y_test, transform_valtest)\n",
    "testloader = DataLoader(testset, batch_size=1, shuffle=False)"
   ]
  },
  {
   "cell_type": "code",
   "execution_count": 12,
   "id": "90827133-c606-41ac-a7f9-c6e0e0859d70",
   "metadata": {},
   "outputs": [
    {
     "data": {
      "text/plain": [
       "device(type='cuda')"
      ]
     },
     "execution_count": 12,
     "metadata": {},
     "output_type": "execute_result"
    }
   ],
   "source": [
    "device = torch.device('cuda' if torch.cuda.is_available() else 'cpu')\n",
    "device"
   ]
  },
  {
   "cell_type": "code",
   "execution_count": 13,
   "id": "da50ee0e-02d3-4a8a-b1ae-cf0d302f1d62",
   "metadata": {},
   "outputs": [],
   "source": [
    "net = resnet18(pretrained=True)\n",
    "num_ftrs = net.fc.in_features\n",
    "net.fc = nn.Linear(num_ftrs, 2, bias=True)\n",
    "net = net.to(device)\n",
    "criterion = nn.CrossEntropyLoss()\n",
    "optimizer = optim.Adam(net.parameters(), lr=0.001, weight_decay=1e-4)\n",
    "n_epochs = 50\n",
    "scheduler = CosineAnnealingLR(optimizer, n_epochs)"
   ]
  },
  {
   "cell_type": "code",
   "execution_count": 14,
   "id": "cfdef0a2-43dc-4695-94f9-1fb357be7e8a",
   "metadata": {},
   "outputs": [],
   "source": [
    "def train(epoch, trainloader, net):\n",
    "    net.train()\n",
    "    train_loss = 0\n",
    "    correct = 0\n",
    "    total = 0\n",
    "    pbar = tqdm(trainloader, desc='Training')\n",
    "    for batch_idx, (x_train, y_train) in enumerate(pbar):\n",
    "        x_train, y_train = x_train.to(device), y_train.to(device)\n",
    "        optimizer.zero_grad()\n",
    "        outputs = net(x_train)\n",
    "        loss = criterion(outputs, y_train)\n",
    "        loss.backward()\n",
    "        optimizer.step()\n",
    "        train_loss += loss.item()\n",
    "        _, predicted = torch.max(outputs.data, 1)\n",
    "        total += y_train.size(0)\n",
    "        correct += predicted.eq(y_train.data).cpu().sum()\n",
    "        pbar.set_postfix({\"epoch\":(epoch), \"loss\":(train_loss/(batch_idx+1)), \"acc\":(100.*correct/total).item()})\n",
    "    lr_.append(scheduler.get_last_lr())\n",
    "    acc = 100.*correct/total\n",
    "    loss = train_loss/(batch_idx+1)\n",
    "    return acc, loss"
   ]
  },
  {
   "cell_type": "code",
   "execution_count": 15,
   "id": "7d17f4fe-e940-478b-82b3-0385776b7275",
   "metadata": {},
   "outputs": [],
   "source": [
    "def valid(epoch, loader, net):\n",
    "    net.eval()\n",
    "    val_loss = 0\n",
    "    correct = 0\n",
    "    total = 0\n",
    "    pbar = tqdm(loader,desc='Validating')\n",
    "    with torch.no_grad():\n",
    "        for batch_idx, (x_val, y_val) in enumerate(pbar):\n",
    "            x_val, y_val = x_val.to(device), y_val.to(device)\n",
    "            outputs = net(x_val)\n",
    "            loss = criterion(outputs, y_val)\n",
    "            val_loss += loss.item()\n",
    "            _, predicted = torch.max(outputs.data, 1)\n",
    "            total += y_val.size(0)\n",
    "            correct += predicted.eq(y_val.data).cpu().sum()\n",
    "            pbar.set_postfix({\"epoch\":(epoch), \"loss\":(val_loss/(batch_idx+1)), \"acc\":(100.*correct/total).item()})\n",
    "    acc = 100.*correct/total\n",
    "    loss = val_loss/(batch_idx+1)\n",
    "    return acc, loss"
   ]
  },
  {
   "cell_type": "code",
   "execution_count": 16,
   "id": "729a49cc-2245-46c7-bfc5-3a645ad90c80",
   "metadata": {},
   "outputs": [
    {
     "name": "stderr",
     "output_type": "stream",
     "text": [
      "Training: 100%|███████████████████████████████████████| 154/154 [00:10<00:00, 14.73it/s, epoch=0, loss=0.357, acc=85.7]\n",
      "Validating: 100%|████████████████████████████████████| 819/819 [00:06<00:00, 128.56it/s, epoch=0, loss=0.169, acc=93.5]\n",
      "Training:   1%|▌                                        | 2/154 [00:00<00:08, 17.62it/s, epoch=1, loss=0.487, acc=78.1]"
     ]
    },
    {
     "name": "stdout",
     "output_type": "stream",
     "text": [
      "Best acc: 93.5287, saving...\n"
     ]
    },
    {
     "name": "stderr",
     "output_type": "stream",
     "text": [
      "Training: 100%|███████████████████████████████████████| 154/154 [00:09<00:00, 17.00it/s, epoch=1, loss=0.312, acc=87.5]\n",
      "Validating: 100%|████████████████████████████████████| 819/819 [00:06<00:00, 130.08it/s, epoch=1, loss=0.165, acc=93.3]\n",
      "Training: 100%|████████████████████████████████████████| 154/154 [00:09<00:00, 16.96it/s, epoch=2, loss=0.25, acc=90.1]\n",
      "Validating: 100%|██████████████████████████████████████| 819/819 [00:06<00:00, 130.12it/s, epoch=2, loss=0.123, acc=95]\n",
      "Training:   1%|▌                                        | 2/154 [00:00<00:08, 17.99it/s, epoch=3, loss=0.159, acc=90.6]"
     ]
    },
    {
     "name": "stdout",
     "output_type": "stream",
     "text": [
      "Best acc: 94.9939, saving...\n"
     ]
    },
    {
     "name": "stderr",
     "output_type": "stream",
     "text": [
      "Training: 100%|███████████████████████████████████████| 154/154 [00:09<00:00, 16.91it/s, epoch=3, loss=0.221, acc=91.2]\n",
      "Validating: 100%|██████████████████████████████████████| 819/819 [00:06<00:00, 128.78it/s, epoch=3, loss=0.1, acc=97.2]\n",
      "Training:   1%|▌                                        | 2/154 [00:00<00:09, 16.27it/s, epoch=4, loss=0.185, acc=90.6]"
     ]
    },
    {
     "name": "stdout",
     "output_type": "stream",
     "text": [
      "Best acc: 97.1917, saving...\n"
     ]
    },
    {
     "name": "stderr",
     "output_type": "stream",
     "text": [
      "Training: 100%|███████████████████████████████████████| 154/154 [00:09<00:00, 16.86it/s, epoch=4, loss=0.211, acc=91.8]\n",
      "Validating: 100%|████████████████████████████████████| 819/819 [00:06<00:00, 129.50it/s, epoch=4, loss=0.144, acc=95.8]\n",
      "Training: 100%|███████████████████████████████████████| 154/154 [00:09<00:00, 17.02it/s, epoch=5, loss=0.268, acc=89.4]\n",
      "Validating: 100%|████████████████████████████████████| 819/819 [00:06<00:00, 130.65it/s, epoch=5, loss=0.127, acc=96.5]\n",
      "Training: 100%|███████████████████████████████████████| 154/154 [00:09<00:00, 17.02it/s, epoch=6, loss=0.221, acc=91.8]\n",
      "Validating: 100%|███████████████████████████████████| 819/819 [00:06<00:00, 130.36it/s, epoch=6, loss=0.0577, acc=98.4]\n",
      "Training:   1%|▌                                        | 2/154 [00:00<00:08, 17.44it/s, epoch=7, loss=0.199, acc=96.9]"
     ]
    },
    {
     "name": "stdout",
     "output_type": "stream",
     "text": [
      "Best acc: 98.4127, saving...\n"
     ]
    },
    {
     "name": "stderr",
     "output_type": "stream",
     "text": [
      "Training: 100%|███████████████████████████████████████| 154/154 [00:09<00:00, 16.88it/s, epoch=7, loss=0.216, acc=91.9]\n",
      "Validating: 100%|███████████████████████████████████| 819/819 [00:06<00:00, 130.06it/s, epoch=7, loss=0.0605, acc=98.2]\n",
      "Training: 100%|███████████████████████████████████████| 154/154 [00:09<00:00, 16.79it/s, epoch=8, loss=0.203, acc=92.1]\n",
      "Validating: 100%|███████████████████████████████████| 819/819 [00:06<00:00, 130.10it/s, epoch=8, loss=0.0552, acc=98.4]\n",
      "Training: 100%|█████████████████████████████████████████| 154/154 [00:09<00:00, 16.85it/s, epoch=9, loss=0.186, acc=93]\n",
      "Validating: 100%|████████████████████████████████████| 819/819 [00:06<00:00, 130.10it/s, epoch=9, loss=0.079, acc=99.1]\n",
      "Training:   1%|▌                                       | 2/154 [00:00<00:08, 18.40it/s, epoch=10, loss=0.167, acc=90.6]"
     ]
    },
    {
     "name": "stdout",
     "output_type": "stream",
     "text": [
      "Best acc: 99.1453, saving...\n"
     ]
    },
    {
     "name": "stderr",
     "output_type": "stream",
     "text": [
      "Training: 100%|██████████████████████████████████████| 154/154 [00:09<00:00, 16.85it/s, epoch=10, loss=0.192, acc=92.7]\n",
      "Validating: 100%|█████████████████████████████████████| 819/819 [00:06<00:00, 130.24it/s, epoch=10, loss=0.103, acc=96]\n",
      "Training: 100%|██████████████████████████████████████| 154/154 [00:09<00:00, 16.83it/s, epoch=11, loss=0.175, acc=92.6]\n",
      "Validating: 100%|███████████████████████████████████| 819/819 [00:06<00:00, 130.28it/s, epoch=11, loss=0.103, acc=96.1]\n",
      "Training: 100%|██████████████████████████████████████| 154/154 [00:09<00:00, 16.79it/s, epoch=12, loss=0.179, acc=92.9]\n",
      "Validating: 100%|██████████████████████████████████| 819/819 [00:06<00:00, 131.90it/s, epoch=12, loss=0.0621, acc=98.3]\n",
      "Training: 100%|██████████████████████████████████████| 154/154 [00:09<00:00, 16.96it/s, epoch=13, loss=0.179, acc=92.9]\n",
      "Validating: 100%|███████████████████████████████████| 819/819 [00:06<00:00, 130.13it/s, epoch=13, loss=0.109, acc=96.5]\n",
      "Training: 100%|████████████████████████████████████████| 154/154 [00:09<00:00, 16.81it/s, epoch=14, loss=0.165, acc=94]\n",
      "Validating: 100%|██████████████████████████████████| 819/819 [00:06<00:00, 131.65it/s, epoch=14, loss=0.0784, acc=98.3]\n",
      "Training: 100%|██████████████████████████████████████| 154/154 [00:09<00:00, 16.87it/s, epoch=15, loss=0.173, acc=93.2]\n",
      "Validating: 100%|███████████████████████████████████| 819/819 [00:06<00:00, 129.99it/s, epoch=15, loss=0.153, acc=93.7]\n",
      "Training: 100%|██████████████████████████████████████| 154/154 [00:09<00:00, 16.90it/s, epoch=16, loss=0.137, acc=94.6]\n",
      "Validating: 100%|██████████████████████████████████| 819/819 [00:06<00:00, 128.73it/s, epoch=16, loss=0.0231, acc=99.3]\n",
      "Training:   1%|▌                                       | 2/154 [00:00<00:08, 16.89it/s, epoch=17, loss=0.189, acc=87.5]"
     ]
    },
    {
     "name": "stdout",
     "output_type": "stream",
     "text": [
      "Best acc: 99.2674, saving...\n"
     ]
    },
    {
     "name": "stderr",
     "output_type": "stream",
     "text": [
      "Training: 100%|██████████████████████████████████████| 154/154 [00:09<00:00, 16.79it/s, epoch=17, loss=0.142, acc=94.1]\n",
      "Validating: 100%|██████████████████████████████████| 819/819 [00:06<00:00, 131.46it/s, epoch=17, loss=0.0363, acc=98.8]\n",
      "Training: 100%|██████████████████████████████████████| 154/154 [00:09<00:00, 16.90it/s, epoch=18, loss=0.132, acc=94.6]\n",
      "Validating: 100%|███████████████████████████████████| 819/819 [00:06<00:00, 132.16it/s, epoch=18, loss=0.045, acc=98.5]\n",
      "Training: 100%|██████████████████████████████████████| 154/154 [00:09<00:00, 16.80it/s, epoch=19, loss=0.139, acc=94.7]\n",
      "Validating: 100%|██████████████████████████████████| 819/819 [00:06<00:00, 130.71it/s, epoch=19, loss=0.0382, acc=98.7]\n",
      "Training: 100%|██████████████████████████████████████| 154/154 [00:09<00:00, 16.88it/s, epoch=20, loss=0.161, acc=94.3]\n",
      "Validating: 100%|██████████████████████████████████| 819/819 [00:06<00:00, 131.58it/s, epoch=20, loss=0.0454, acc=98.7]\n",
      "Training: 100%|█████████████████████████████████████████| 154/154 [00:09<00:00, 16.86it/s, epoch=21, loss=0.13, acc=95]\n",
      "Validating: 100%|██████████████████████████████████| 819/819 [00:06<00:00, 131.69it/s, epoch=21, loss=0.0244, acc=99.6]\n",
      "Training:   1%|▌                                       | 2/154 [00:00<00:08, 17.15it/s, epoch=22, loss=0.155, acc=96.9]"
     ]
    },
    {
     "name": "stdout",
     "output_type": "stream",
     "text": [
      "Best acc: 99.6337, saving...\n"
     ]
    },
    {
     "name": "stderr",
     "output_type": "stream",
     "text": [
      "Training: 100%|██████████████████████████████████████| 154/154 [00:09<00:00, 16.93it/s, epoch=22, loss=0.133, acc=95.4]\n",
      "Validating: 100%|████████████████████████████████████| 819/819 [00:06<00:00, 131.88it/s, epoch=22, loss=0.0392, acc=99]\n",
      "Training: 100%|██████████████████████████████████████| 154/154 [00:09<00:00, 17.10it/s, epoch=23, loss=0.146, acc=94.4]\n",
      "Validating: 100%|██████████████████████████████████| 819/819 [00:06<00:00, 130.09it/s, epoch=23, loss=0.0522, acc=98.7]\n",
      "Training: 100%|██████████████████████████████████████| 154/154 [00:09<00:00, 16.82it/s, epoch=24, loss=0.144, acc=95.1]\n",
      "Validating: 100%|████████████████████████████████████| 819/819 [00:06<00:00, 132.33it/s, epoch=24, loss=0.0358, acc=99]\n",
      "Training: 100%|██████████████████████████████████████| 154/154 [00:08<00:00, 17.12it/s, epoch=25, loss=0.127, acc=95.5]\n",
      "Validating: 100%|██████████████████████████████████| 819/819 [00:06<00:00, 131.53it/s, epoch=25, loss=0.0173, acc=99.5]\n",
      "Training: 100%|██████████████████████████████████████| 154/154 [00:09<00:00, 17.08it/s, epoch=26, loss=0.119, acc=95.9]\n",
      "Validating: 100%|██████████████████████████████████| 819/819 [00:06<00:00, 128.48it/s, epoch=26, loss=0.0255, acc=99.5]\n",
      "Training: 100%|█████████████████████████████████████| 154/154 [00:09<00:00, 16.82it/s, epoch=27, loss=0.0938, acc=96.2]\n",
      "Validating: 100%|██████████████████████████████████| 819/819 [00:06<00:00, 128.19it/s, epoch=27, loss=0.0655, acc=97.7]\n",
      "Training: 100%|██████████████████████████████████████| 154/154 [00:09<00:00, 17.02it/s, epoch=28, loss=0.115, acc=95.3]\n",
      "Validating: 100%|███████████████████████████████████| 819/819 [00:06<00:00, 129.77it/s, epoch=28, loss=0.016, acc=99.5]\n",
      "Training: 100%|██████████████████████████████████████| 154/154 [00:09<00:00, 16.84it/s, epoch=29, loss=0.107, acc=96.2]\n",
      "Validating: 100%|██████████████████████████████████| 819/819 [00:06<00:00, 129.86it/s, epoch=29, loss=0.0317, acc=99.5]\n",
      "Training: 100%|██████████████████████████████████████| 154/154 [00:09<00:00, 16.96it/s, epoch=30, loss=0.103, acc=96.1]\n",
      "Validating: 100%|██████████████████████████████████| 819/819 [00:06<00:00, 129.30it/s, epoch=30, loss=0.0162, acc=99.6]\n",
      "Training: 100%|██████████████████████████████████████| 154/154 [00:09<00:00, 16.88it/s, epoch=31, loss=0.102, acc=95.8]\n",
      "Validating: 100%|██████████████████████████████████| 819/819 [00:06<00:00, 128.75it/s, epoch=31, loss=0.0165, acc=99.5]\n",
      "Training: 100%|█████████████████████████████████████| 154/154 [00:09<00:00, 16.95it/s, epoch=32, loss=0.0827, acc=96.7]\n",
      "Validating: 100%|██████████████████████████████████| 819/819 [00:06<00:00, 128.89it/s, epoch=32, loss=0.0221, acc=99.5]\n",
      "Training: 100%|█████████████████████████████████████| 154/154 [00:09<00:00, 16.87it/s, epoch=33, loss=0.0829, acc=97.3]\n",
      "Validating: 100%|███████████████████████████████████| 819/819 [00:06<00:00, 128.48it/s, epoch=33, loss=0.016, acc=99.6]\n",
      "Training: 100%|█████████████████████████████████████| 154/154 [00:09<00:00, 16.75it/s, epoch=34, loss=0.0827, acc=96.9]\n",
      "Validating: 100%|██████████████████████████████████| 819/819 [00:06<00:00, 130.40it/s, epoch=34, loss=0.0241, acc=99.1]\n",
      "Training: 100%|█████████████████████████████████████| 154/154 [00:09<00:00, 16.87it/s, epoch=35, loss=0.0835, acc=96.8]\n",
      "Validating: 100%|██████████████████████████████████| 819/819 [00:06<00:00, 129.10it/s, epoch=35, loss=0.0143, acc=99.6]\n",
      "Training: 100%|█████████████████████████████████████| 154/154 [00:09<00:00, 16.95it/s, epoch=36, loss=0.0745, acc=97.1]\n",
      "Validating: 100%|██████████████████████████████████| 819/819 [00:06<00:00, 128.75it/s, epoch=36, loss=0.0206, acc=99.4]\n",
      "Training: 100%|█████████████████████████████████████| 154/154 [00:09<00:00, 16.82it/s, epoch=37, loss=0.0672, acc=97.3]\n",
      "Validating: 100%|██████████████████████████████████| 819/819 [00:06<00:00, 128.91it/s, epoch=37, loss=0.0195, acc=99.6]\n",
      "Training: 100%|█████████████████████████████████████| 154/154 [00:09<00:00, 16.89it/s, epoch=38, loss=0.0852, acc=96.7]\n",
      "Validating: 100%|██████████████████████████████████| 819/819 [00:06<00:00, 128.96it/s, epoch=38, loss=0.0112, acc=99.8]\n",
      "Training:   1%|▌                                      | 2/154 [00:00<00:09, 16.41it/s, epoch=39, loss=0.0438, acc=96.9]"
     ]
    },
    {
     "name": "stdout",
     "output_type": "stream",
     "text": [
      "Best acc: 99.7558, saving...\n"
     ]
    },
    {
     "name": "stderr",
     "output_type": "stream",
     "text": [
      "Training: 100%|█████████████████████████████████████| 154/154 [00:09<00:00, 16.95it/s, epoch=39, loss=0.0532, acc=97.8]\n",
      "Validating: 100%|██████████████████████████████████| 819/819 [00:06<00:00, 130.28it/s, epoch=39, loss=0.0112, acc=99.8]\n",
      "Training: 100%|█████████████████████████████████████| 154/154 [00:09<00:00, 16.77it/s, epoch=40, loss=0.0813, acc=97.3]\n",
      "Validating: 100%|██████████████████████████████████| 819/819 [00:06<00:00, 128.98it/s, epoch=40, loss=0.0125, acc=99.6]\n",
      "Training: 100%|█████████████████████████████████████| 154/154 [00:09<00:00, 16.79it/s, epoch=41, loss=0.0747, acc=97.8]\n",
      "Validating: 100%|██████████████████████████████████| 819/819 [00:06<00:00, 129.33it/s, epoch=41, loss=0.0209, acc=99.4]\n",
      "Training: 100%|█████████████████████████████████████| 154/154 [00:09<00:00, 16.80it/s, epoch=42, loss=0.0622, acc=97.6]\n",
      "Validating: 100%|██████████████████████████████████| 819/819 [00:06<00:00, 128.15it/s, epoch=42, loss=0.0177, acc=99.5]\n",
      "Training: 100%|█████████████████████████████████████| 154/154 [00:09<00:00, 16.92it/s, epoch=43, loss=0.0623, acc=97.6]\n",
      "Validating: 100%|██████████████████████████████████| 819/819 [00:06<00:00, 128.48it/s, epoch=43, loss=0.0121, acc=99.5]\n",
      "Training: 100%|█████████████████████████████████████| 154/154 [00:09<00:00, 16.82it/s, epoch=44, loss=0.0436, acc=98.1]\n",
      "Validating: 100%|██████████████████████████████████| 819/819 [00:06<00:00, 128.70it/s, epoch=44, loss=0.0115, acc=99.6]\n",
      "Training: 100%|█████████████████████████████████████| 154/154 [00:09<00:00, 16.99it/s, epoch=45, loss=0.0535, acc=97.9]\n",
      "Validating: 100%|█████████████████████████████████| 819/819 [00:06<00:00, 128.43it/s, epoch=45, loss=0.00964, acc=99.8]\n",
      "Training: 100%|█████████████████████████████████████| 154/154 [00:09<00:00, 16.98it/s, epoch=46, loss=0.0418, acc=98.7]\n",
      "Validating: 100%|██████████████████████████████████| 819/819 [00:06<00:00, 129.26it/s, epoch=46, loss=0.0104, acc=99.6]\n",
      "Training: 100%|█████████████████████████████████████| 154/154 [00:09<00:00, 16.77it/s, epoch=47, loss=0.0696, acc=97.6]\n",
      "Validating: 100%|██████████████████████████████████| 819/819 [00:06<00:00, 127.85it/s, epoch=47, loss=0.0108, acc=99.6]\n",
      "Training: 100%|█████████████████████████████████████| 154/154 [00:09<00:00, 16.76it/s, epoch=48, loss=0.0526, acc=98.2]\n",
      "Validating: 100%|██████████████████████████████████| 819/819 [00:06<00:00, 127.66it/s, epoch=48, loss=0.0116, acc=99.6]\n",
      "Training: 100%|█████████████████████████████████████| 154/154 [00:09<00:00, 16.91it/s, epoch=49, loss=0.0519, acc=97.9]\n",
      "Validating: 100%|██████████████████████████████████| 819/819 [00:06<00:00, 128.12it/s, epoch=49, loss=0.0105, acc=99.8]\n"
     ]
    }
   ],
   "source": [
    "best_acc = 0.0\n",
    "train_acc_ = []\n",
    "train_loss_ = []\n",
    "valid_acc_ = []\n",
    "valid_loss_ = []\n",
    "epoch_ = []\n",
    "lr_ = []\n",
    "for epoch in range(n_epochs):\n",
    "    train_acc, train_loss = train(epoch, trainloader, net)\n",
    "    val_acc, val_loss = valid(epoch, valloader, net)\n",
    "    train_acc_.append(train_acc)\n",
    "    train_loss_.append(train_loss)\n",
    "    valid_acc_.append(val_acc)\n",
    "    valid_loss_.append(val_loss)\n",
    "    scheduler.step()\n",
    "    if (val_acc > best_acc):\n",
    "        best_acc = val_acc\n",
    "        print(f'Best acc: {best_acc:.4f}, saving...')\n",
    "        torch.save(net, f'models/{datetime.now().strftime(\"%d%m%Y_%H%M%S\")}_resnet18_{best_acc:.4f}_epoch_{epoch}.pth')\n",
    "        epoch_.append(epoch)"
   ]
  },
  {
   "cell_type": "code",
   "execution_count": 17,
   "id": "bc8f0d37-b532-4793-9056-44f8d92768a2",
   "metadata": {},
   "outputs": [
    {
     "name": "stdout",
     "output_type": "stream",
     "text": [
      "train_acc: 97.92\n",
      "val_acc: 99.76\n",
      "last model path: models/21052021_155503_resnet18_97.92_99.76_last.pth\n"
     ]
    }
   ],
   "source": [
    "print(f'train_acc: {train_acc:.2f}')\n",
    "print(f'val_acc: {val_acc:.2f}')\n",
    "model_path = f'models/{datetime.now().strftime(\"%d%m%Y_%H%M%S\")}_resnet18_{train_acc:.2f}_{val_acc:.2f}_last.pth'\n",
    "print(f'last model path: {model_path}')\n",
    "torch.save(net, model_path)"
   ]
  },
  {
   "cell_type": "code",
   "execution_count": 18,
   "id": "4cefaabd-7ea4-4365-b2ae-2d6a2369c939",
   "metadata": {},
   "outputs": [
    {
     "data": {
      "image/png": "[encoded data removed]",
      "text/plain": [
       "<Figure size 720x360 with 1 Axes>"
      ]
     },
     "metadata": {
      "needs_background": "light"
     },
     "output_type": "display_data"
    },
    {
     "data": {
      "image/png": "[encoded data removed]",
      "text/plain": [
       "<Figure size 720x360 with 1 Axes>"
      ]
     },
     "metadata": {
      "needs_background": "light"
     },
     "output_type": "display_data"
    },
    {
     "data": {
      "image/png": "[encoded data removed]",
      "text/plain": [
       "<Figure size 720x360 with 1 Axes>"
      ]
     },
     "metadata": {
      "needs_background": "light"
     },
     "output_type": "display_data"
    }
   ],
   "source": [
    "plt.figure(figsize=(10,5))\n",
    "plt.axvline(epoch_[-1], 0, 1, c='g', ls='--', lw=2, label='best')\n",
    "plt.plot(range(n_epochs), train_loss_, 'b', label='train')\n",
    "plt.plot(range(n_epochs), valid_loss_, 'r', label='valid')\n",
    "plt.xlabel('epochs')\n",
    "plt.ylabel('loss')\n",
    "plt.title('Loss vs Epoch')\n",
    "plt.legend()\n",
    "plt.show()\n",
    "\n",
    "plt.figure(figsize=(10,5))\n",
    "plt.axvline(epoch_[-1], 0, 1, c='g', ls='--', lw=2, label='best')\n",
    "plt.plot(range(n_epochs), train_acc_, 'b', label='train')\n",
    "plt.plot(range(n_epochs), valid_acc_, 'r', label='valid')\n",
    "plt.xlabel('epochs')\n",
    "plt.ylabel('acc')\n",
    "plt.title('Accuracy vs Epoch')\n",
    "plt.legend()\n",
    "plt.show()\n",
    "\n",
    "plt.figure(figsize=(10,5))\n",
    "plt.axvline(epoch_[-1], 0, 1, c='g', ls='--', lw=2, label='best')\n",
    "plt.plot(range(n_epochs), lr_, 'b', label='lr')\n",
    "plt.xlabel('epochs')\n",
    "plt.ylabel('lr')\n",
    "plt.title('Learning Rate vs Epoch')\n",
    "plt.legend()\n",
    "plt.show()"
   ]
  },
  {
   "cell_type": "code",
   "execution_count": 19,
   "id": "bc2d76c2-f954-4ddc-881b-5d4b5aaa56cf",
   "metadata": {},
   "outputs": [
    {
     "name": "stderr",
     "output_type": "stream",
     "text": [
      "Evaluating: 100%|███████████████████████████████████████████████████████████████████| 819/819 [00:05<00:00, 146.56it/s]\n",
      "Evaluating:   1%|▉                                                                   | 11/819 [00:00<00:07, 106.19it/s]"
     ]
    },
    {
     "name": "stdout",
     "output_type": "stream",
     "text": [
      "              precision    recall  f1-score   support\n",
      "\n",
      "           0       0.99      1.00      0.99       433\n",
      "           1       0.99      0.99      0.99       386\n",
      "\n",
      "    accuracy                           0.99       819\n",
      "   macro avg       0.99      0.99      0.99       819\n",
      "weighted avg       0.99      0.99      0.99       819\n",
      "\n",
      "[[431   2]\n",
      " [  5 381]]\n"
     ]
    },
    {
     "name": "stderr",
     "output_type": "stream",
     "text": [
      "Evaluating: 100%|███████████████████████████████████████████████████████████████████| 819/819 [00:05<00:00, 148.15it/s]"
     ]
    },
    {
     "name": "stdout",
     "output_type": "stream",
     "text": [
      "              precision    recall  f1-score   support\n",
      "\n",
      "           0       0.99      0.99      0.99       433\n",
      "           1       0.99      0.98      0.99       386\n",
      "\n",
      "    accuracy                           0.99       819\n",
      "   macro avg       0.99      0.99      0.99       819\n",
      "weighted avg       0.99      0.99      0.99       819\n",
      "\n",
      "[[430   3]\n",
      " [  6 380]]\n"
     ]
    },
    {
     "name": "stderr",
     "output_type": "stream",
     "text": [
      "\n"
     ]
    }
   ],
   "source": [
    "# the true (rows), predicted (columns)\n",
    "\n",
    "def evaluate_test(model_path):\n",
    "    net = torch.load(model_path, map_location=device)\n",
    "    net.eval()\n",
    "    pbar = tqdm(testloader, desc='Evaluating')\n",
    "    y = list()\n",
    "    y_hat = list()\n",
    "    with torch.no_grad():\n",
    "        for batch_idx, (image, label) in enumerate(pbar):\n",
    "            image = image.to(device)\n",
    "            y.append(label.item())\n",
    "            output = net(image)\n",
    "            _, predicted = torch.max(output.data, 1)\n",
    "            y_hat.append(predicted.item())\n",
    "    print(classification_report(y, y_hat))\n",
    "    print(confusion_matrix(y_true=y, y_pred=y_hat))\n",
    "\n",
    "best_model_path = 'models/21052021_155157_resnet18_99.7558_epoch_38.pth'\n",
    "evaluate_test(best_model_path)\n",
    "\n",
    "last_model_path = 'models/21052021_155503_resnet18_97.92_99.76_last.pth'\n",
    "evaluate_test(last_model_path)"
   ]
  }
 ],
 "metadata": {
  "kernelspec": {
   "display_name": "Python 3",
   "language": "python",
   "name": "python3"
  },
  "language_info": {
   "codemirror_mode": {
    "name": "ipython",
    "version": 3
   },
   "file_extension": ".py",
   "mimetype": "text/x-python",
   "name": "python",
   "nbconvert_exporter": "python",
   "pygments_lexer": "ipython3",
   "version": "3.8.8"
  }
 },
 "nbformat": 4,
 "nbformat_minor": 5
}
