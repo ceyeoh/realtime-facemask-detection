{
 "cells": [
  {
   "cell_type": "code",
   "execution_count": 1,
   "id": "ea435014-1eb0-462a-b1a4-afbdaca6e5d1",
   "metadata": {},
   "outputs": [],
   "source": [
    "import numpy as np\n",
    "import cv2\n",
    "import imutils\n",
    "from PIL import Image\n",
    "\n",
    "import torch\n",
    "import torch.nn as nn\n",
    "from torchvision import transforms"
   ]
  },
  {
   "cell_type": "code",
   "execution_count": 2,
   "id": "ef360182-b852-4d8e-8ee7-61c1c5137965",
   "metadata": {},
   "outputs": [],
   "source": [
    "def detect(cvnet, net):    \n",
    "    net.eval()\n",
    "    \n",
    "    image = cv2.imread('demo/self-nomask.jpg')\n",
    "    h, w = image.shape[:2]\n",
    "    if h>800:\n",
    "        image = imutils.resize(image, height=800)\n",
    "    elif w>1000:\n",
    "        image = imutils.resize(image, width=1000)\n",
    "    (h, w) = image.shape[:2]\n",
    "\n",
    "    blob = cv2.dnn.blobFromImage(image, 1.0, (300, 300), (104.0, 177.0, 123.0))\n",
    "\n",
    "    cvnet.setInput(blob)\n",
    "    detections = cvnet.forward()\n",
    "\n",
    "    transform = transforms.Compose([\n",
    "        transforms.Resize(224),\n",
    "        transforms.ToTensor(),\n",
    "    ])\n",
    "\n",
    "    for i in range(detections.shape[2]):\n",
    "        confidence = detections[0, 0, i, 2]\n",
    "\n",
    "        if confidence > 0.5:\n",
    "            box = detections[0, 0, i, 3:7]*np.array([w, h, w, h])\n",
    "            (startX, startY, endX, endY) = box.astype('int')\n",
    "            (startX, startY) = (max(0, startX), max(0, startY))\n",
    "            (endX, endY) = (min(w - 1, endX), min(h - 1, endY))\n",
    "\n",
    "            face = image[startY:endY, startX:endX]\n",
    "            face = cv2.cvtColor(face, cv2.COLOR_BGR2RGB)\n",
    "            face = transform(Image.fromarray(np.uint8(face))).unsqueeze(dim=0)\n",
    "            with torch.no_grad():\n",
    "                out = net.forward(face)\n",
    "            _, predicted = torch.max(out.data, 1)\n",
    "            label = 'Mask' if predicted.item()==0 else 'No Mask'\n",
    "            color = (0, 255, 0) if label=='Mask' else (0, 0, 255)\n",
    "            label = f'{label} {(nn.Softmax(1)(out).squeeze()[predicted].item()*100):.2f}%'\n",
    "            cv2.putText(image, label, (startX, startY - 10), cv2.FONT_HERSHEY_SIMPLEX, 0.45, color, 2)\n",
    "            cv2.rectangle(image, (startX, startY), (endX, endY), color, 2)\n",
    "#     cv2.imshow(\"Output\", image)\n",
    "#     cv2.waitKey(-1)"
   ]
  },
  {
   "cell_type": "code",
   "execution_count": 3,
   "id": "b7fc76dd-6255-4a53-b4ae-ce24c77cdfef",
   "metadata": {},
   "outputs": [],
   "source": [
    "prototxt = 'face_detector/deploy.prototxt'\n",
    "weights = 'face_detector/res10_300x300_ssd_iter_140000.caffemodel'\n",
    "cvnet = cv2.dnn.readNet(prototxt, weights)\n",
    "resnet18 = torch.load('models/resnet18.pth', map_location=torch.device('cpu'))\n",
    "mobilenetv2 = torch.load('models/mobilenetv2.pth', map_location=torch.device('cpu'))\n",
    "densenet121 = torch.load('models/densenet121.pth', map_location=torch.device('cpu'))"
   ]
  },
  {
   "cell_type": "code",
   "execution_count": 4,
   "id": "43279500-be5a-4ff9-b7d5-b35dff044267",
   "metadata": {},
   "outputs": [
    {
     "name": "stdout",
     "output_type": "stream",
     "text": [
      "77.7 ms ± 4.86 ms per loop (mean ± std. dev. of 7 runs, 10 loops each)\n"
     ]
    }
   ],
   "source": [
    "%timeit detect(cvnet, resnet18)"
   ]
  },
  {
   "cell_type": "code",
   "execution_count": 5,
   "id": "afec8d1d-fae0-48e7-a067-7f92bfa73f5d",
   "metadata": {},
   "outputs": [
    {
     "name": "stdout",
     "output_type": "stream",
     "text": [
      "75.4 ms ± 2.2 ms per loop (mean ± std. dev. of 7 runs, 10 loops each)\n"
     ]
    }
   ],
   "source": [
    "%timeit detect(cvnet, mobilenetv2)"
   ]
  },
  {
   "cell_type": "code",
   "execution_count": 6,
   "id": "35e93b6b-2934-42bd-82cf-d6218f7c826a",
   "metadata": {},
   "outputs": [
    {
     "name": "stdout",
     "output_type": "stream",
     "text": [
      "127 ms ± 4.07 ms per loop (mean ± std. dev. of 7 runs, 10 loops each)\n"
     ]
    }
   ],
   "source": [
    "%timeit detect(cvnet, densenet121)"
   ]
  },
  {
   "cell_type": "code",
   "execution_count": null,
   "id": "791b3729",
   "metadata": {},
   "outputs": [],
   "source": []
  }
 ],
 "metadata": {
  "kernelspec": {
   "display_name": "Python 3",
   "language": "python",
   "name": "python3"
  },
  "language_info": {
   "codemirror_mode": {
    "name": "ipython",
    "version": 3
   },
   "file_extension": ".py",
   "mimetype": "text/x-python",
   "name": "python",
   "nbconvert_exporter": "python",
   "pygments_lexer": "ipython3",
   "version": "3.8.12"
  }
 },
 "nbformat": 4,
 "nbformat_minor": 5
}
