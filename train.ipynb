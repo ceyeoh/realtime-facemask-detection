{
 "cells": [
  {
   "cell_type": "code",
   "execution_count": 1,
   "id": "40cf8597-8f8c-4fa4-a9d9-2b21e190cab8",
   "metadata": {},
   "outputs": [],
   "source": [
    "import numpy as np\n",
    "import pandas as pd\n",
    "from pathlib import Path\n",
    "from glob import glob\n",
    "from itertools import chain\n",
    "from collections import Counter\n",
    "from PIL import Image\n",
    "from tqdm import tqdm\n",
    "import time\n",
    "from datetime import datetime\n",
    "\n",
    "from sklearn.model_selection import train_test_split\n",
    "from sklearn.preprocessing import LabelEncoder\n",
    "from sklearn.metrics import classification_report, confusion_matrix, ConfusionMatrixDisplay\n",
    "\n",
    "import torch\n",
    "import torch.nn as nn\n",
    "import torch.optim as optim\n",
    "from torchvision import transforms\n",
    "from torchvision.models.resnet import resnet18\n",
    "from torchvision.models.densenet import densenet121\n",
    "from torchvision.models.mobilenetv2 import mobilenet_v2\n",
    "from torch.utils.data import Dataset, DataLoader\n",
    "from torch.optim.lr_scheduler import CosineAnnealingLR\n",
    "from torchsummary import summary\n",
    "\n",
    "import matplotlib.pyplot as plt\n",
    "\n",
    "import warnings\n",
    "warnings.filterwarnings('ignore')\n",
    "\n",
    "if torch.cuda.is_available():\n",
    "    torch.backends.cudnn.deterministic = True"
   ]
  },
  {
   "cell_type": "code",
   "execution_count": 2,
   "id": "2be1e262-969f-4211-a37e-4e634736def3",
   "metadata": {},
   "outputs": [],
   "source": [
    "seed = 17167055\n",
    "torch.manual_seed(seed)\n",
    "np.random.seed(seed)"
   ]
  },
  {
   "cell_type": "code",
   "execution_count": 3,
   "id": "67567d40-2dee-4e70-9188-e1a1465f7540",
   "metadata": {},
   "outputs": [
    {
     "name": "stdout",
     "output_type": "stream",
     "text": [
      "Total data: 4092\n"
     ]
    }
   ],
   "source": [
    "root = 'dataset'\n",
    "dataset = [str(data) for data in list(chain(*[i.glob('*') for i in Path(root).glob('*')]))]\n",
    "print(f'Total data: {len(dataset)}')"
   ]
  },
  {
   "cell_type": "code",
   "execution_count": 4,
   "id": "a18a600c-e71e-435d-8d22-a1fb2122c3f3",
   "metadata": {},
   "outputs": [],
   "source": [
    "def img_loader(path):\n",
    "    with open(path, 'rb') as f:\n",
    "        return Image.open(f).resize((224, 224)).convert('RGB')"
   ]
  },
  {
   "cell_type": "code",
   "execution_count": 5,
   "id": "36eb823f-1903-477e-95a0-ae4031d0c066",
   "metadata": {},
   "outputs": [],
   "source": [
    "images = [img_loader(i) for i in dataset]\n",
    "labels = [i.split('\\\\')[-2] for i in dataset]\n",
    "\n",
    "assert len(images)==len(labels)\n",
    "assert len(images)==len(dataset)"
   ]
  },
  {
   "cell_type": "code",
   "execution_count": 6,
   "id": "77bb096f-3cab-4ff1-8f44-c41e1606b1c8",
   "metadata": {},
   "outputs": [],
   "source": [
    "scaler = LabelEncoder()\n",
    "labels = scaler.fit_transform(labels)"
   ]
  },
  {
   "cell_type": "code",
   "execution_count": 7,
   "id": "e800254c-5499-46ea-9fe1-8070488ade14",
   "metadata": {},
   "outputs": [
    {
     "data": {
      "text/plain": [
       "[(0, 2162), (1, 1930)]"
      ]
     },
     "execution_count": 7,
     "metadata": {},
     "output_type": "execute_result"
    }
   ],
   "source": [
    "Counter(labels).most_common()"
   ]
  },
  {
   "cell_type": "code",
   "execution_count": 8,
   "id": "ecc3c6af-6df0-4381-aa8b-ef2ea4714b02",
   "metadata": {},
   "outputs": [
    {
     "name": "stdout",
     "output_type": "stream",
     "text": [
      "Train: 2454\n",
      "Validation: 819\n",
      "Test: 819\n"
     ]
    }
   ],
   "source": [
    "X_train, X_test, y_train, y_test = train_test_split(images, labels, test_size=0.2, stratify=labels, random_state=seed)\n",
    "X_train, X_val, y_train, y_val = train_test_split(X_train, y_train, test_size=0.25, stratify=y_train, random_state=seed)\n",
    "print(f'Train: {len(X_train)}')\n",
    "print(f'Validation: {len(X_val)}')\n",
    "print(f'Test: {len(X_test)}')"
   ]
  },
  {
   "cell_type": "code",
   "execution_count": 9,
   "id": "c72f3ed8-23a6-437a-b891-28cca5d0df60",
   "metadata": {
    "tags": []
   },
   "outputs": [],
   "source": [
    "class MaskDataset(Dataset):\n",
    "    def __init__(self, X, y, transform):\n",
    "        self.image = X\n",
    "        self.label = y\n",
    "        self.transform = transform\n",
    "        \n",
    "    def __getitem__(self, idx):\n",
    "        img = self.image[idx]\n",
    "        lbl = self.label[idx]\n",
    "        if self.transform:\n",
    "            img = self.transform(img)\n",
    "        return img, lbl\n",
    "    \n",
    "    def __len__(self):\n",
    "        return len(self.image)"
   ]
  },
  {
   "cell_type": "code",
   "execution_count": 10,
   "id": "4b8113f7-346b-4c6e-8ac9-8c790e341673",
   "metadata": {},
   "outputs": [],
   "source": [
    "transform_train = transforms.Compose([\n",
    "    transforms.RandomResizedCrop(224),\n",
    "    transforms.RandomHorizontalFlip(),\n",
    "    transforms.RandomAutocontrast(),\n",
    "    transforms.RandomAdjustSharpness(2),\n",
    "    transforms.ToTensor(),\n",
    "])\n",
    "\n",
    "transform_valtest = transforms.Compose([\n",
    "    transforms.Resize(224),\n",
    "    transforms.ToTensor(),\n",
    "])"
   ]
  },
  {
   "cell_type": "code",
   "execution_count": 11,
   "id": "61bbbe65-4956-41da-bb9e-2f68f30a3d9e",
   "metadata": {},
   "outputs": [],
   "source": [
    "trainset = MaskDataset(X_train, y_train, transform_train)\n",
    "trainloader = DataLoader(trainset, batch_size=16, shuffle=True)\n",
    "\n",
    "valset = MaskDataset(X_val, y_val, transform_valtest)\n",
    "valloader = DataLoader(valset, batch_size=1, shuffle=False)\n",
    "\n",
    "testset = MaskDataset(X_test, y_test, transform_valtest)\n",
    "testloader = DataLoader(testset, batch_size=1, shuffle=False)"
   ]
  },
  {
   "cell_type": "code",
   "execution_count": 12,
   "id": "90827133-c606-41ac-a7f9-c6e0e0859d70",
   "metadata": {},
   "outputs": [
    {
     "data": {
      "text/plain": [
       "device(type='cuda')"
      ]
     },
     "execution_count": 12,
     "metadata": {},
     "output_type": "execute_result"
    }
   ],
   "source": [
    "device = torch.device('cuda' if torch.cuda.is_available() else 'cpu')\n",
    "device"
   ]
  },
  {
   "cell_type": "code",
   "execution_count": 13,
   "id": "5244cc72-61f6-494e-89c4-073432ec92a2",
   "metadata": {},
   "outputs": [],
   "source": [
    "def count_parameters(net):\n",
    "    return sum(p.numel() for p in net.parameters() if p.requires_grad)"
   ]
  },
  {
   "cell_type": "code",
   "execution_count": 14,
   "id": "cfdef0a2-43dc-4695-94f9-1fb357be7e8a",
   "metadata": {
    "tags": []
   },
   "outputs": [],
   "source": [
    "def train(epoch, trainloader, net):\n",
    "    net.train()\n",
    "    train_loss = 0\n",
    "    correct = 0\n",
    "    total = 0\n",
    "    pbar = tqdm(trainloader, desc='Training')\n",
    "    for batch_idx, (x_train, y_train) in enumerate(pbar):\n",
    "        x_train, y_train = x_train.to(device), y_train.to(device)\n",
    "        optimizer.zero_grad()\n",
    "        outputs = net(x_train)\n",
    "        loss = criterion(outputs, y_train)\n",
    "        loss.backward()\n",
    "        optimizer.step()\n",
    "        train_loss += loss.item()\n",
    "        _, predicted = torch.max(outputs.data, 1)\n",
    "        total += y_train.size(0)\n",
    "        correct += predicted.eq(y_train.data).cpu().sum()\n",
    "        pbar.set_postfix({\"epoch\":(epoch), \"loss\":(train_loss/(batch_idx+1)), \"acc\":(100.*correct/total).item()})\n",
    "    lr_.append(scheduler.get_last_lr())\n",
    "    acc = 100.*correct/total\n",
    "    loss = train_loss/(batch_idx+1)\n",
    "    return acc, loss"
   ]
  },
  {
   "cell_type": "code",
   "execution_count": 15,
   "id": "7d17f4fe-e940-478b-82b3-0385776b7275",
   "metadata": {},
   "outputs": [],
   "source": [
    "def valid(epoch, loader, net):\n",
    "    net.eval()\n",
    "    val_loss = 0\n",
    "    correct = 0\n",
    "    total = 0\n",
    "    pbar = tqdm(loader,desc='Validating')\n",
    "    with torch.no_grad():\n",
    "        for batch_idx, (x_val, y_val) in enumerate(pbar):\n",
    "            x_val, y_val = x_val.to(device), y_val.to(device)\n",
    "            outputs = net(x_val)\n",
    "            loss = criterion(outputs, y_val)\n",
    "            val_loss += loss.item()\n",
    "            _, predicted = torch.max(outputs.data, 1)\n",
    "            total += y_val.size(0)\n",
    "            correct += predicted.eq(y_val.data).cpu().sum()\n",
    "            pbar.set_postfix({\"epoch\":(epoch), \"loss\":(val_loss/(batch_idx+1)), \"acc\":(100.*correct/total).item()})\n",
    "    acc = 100.*correct/total\n",
    "    loss = val_loss/(batch_idx+1)\n",
    "    return acc, loss"
   ]
  },
  {
   "cell_type": "code",
   "execution_count": 16,
   "id": "ca201338-8adc-40a0-a750-19d791afee48",
   "metadata": {},
   "outputs": [],
   "source": [
    "plotTotal = list()"
   ]
  },
  {
   "cell_type": "markdown",
   "id": "638cbc05-a5eb-4701-9745-1a24ebb610b6",
   "metadata": {},
   "source": [
    "## ResNet18"
   ]
  },
  {
   "cell_type": "code",
   "execution_count": 17,
   "id": "1088392d-cd84-49bc-a356-070ff3026be2",
   "metadata": {},
   "outputs": [
    {
     "name": "stdout",
     "output_type": "stream",
     "text": [
      "number of trainable params: 11177538\n",
      "ResNet(\n",
      "  (conv1): Conv2d(3, 64, kernel_size=(7, 7), stride=(2, 2), padding=(3, 3), bias=False)\n",
      "  (bn1): BatchNorm2d(64, eps=1e-05, momentum=0.1, affine=True, track_running_stats=True)\n",
      "  (relu): ReLU(inplace=True)\n",
      "  (maxpool): MaxPool2d(kernel_size=3, stride=2, padding=1, dilation=1, ceil_mode=False)\n",
      "  (layer1): Sequential(\n",
      "    (0): BasicBlock(\n",
      "      (conv1): Conv2d(64, 64, kernel_size=(3, 3), stride=(1, 1), padding=(1, 1), bias=False)\n",
      "      (bn1): BatchNorm2d(64, eps=1e-05, momentum=0.1, affine=True, track_running_stats=True)\n",
      "      (relu): ReLU(inplace=True)\n",
      "      (conv2): Conv2d(64, 64, kernel_size=(3, 3), stride=(1, 1), padding=(1, 1), bias=False)\n",
      "      (bn2): BatchNorm2d(64, eps=1e-05, momentum=0.1, affine=True, track_running_stats=True)\n",
      "    )\n",
      "    (1): BasicBlock(\n",
      "      (conv1): Conv2d(64, 64, kernel_size=(3, 3), stride=(1, 1), padding=(1, 1), bias=False)\n",
      "      (bn1): BatchNorm2d(64, eps=1e-05, momentum=0.1, affine=True, track_running_stats=True)\n",
      "      (relu): ReLU(inplace=True)\n",
      "      (conv2): Conv2d(64, 64, kernel_size=(3, 3), stride=(1, 1), padding=(1, 1), bias=False)\n",
      "      (bn2): BatchNorm2d(64, eps=1e-05, momentum=0.1, affine=True, track_running_stats=True)\n",
      "    )\n",
      "  )\n",
      "  (layer2): Sequential(\n",
      "    (0): BasicBlock(\n",
      "      (conv1): Conv2d(64, 128, kernel_size=(3, 3), stride=(2, 2), padding=(1, 1), bias=False)\n",
      "      (bn1): BatchNorm2d(128, eps=1e-05, momentum=0.1, affine=True, track_running_stats=True)\n",
      "      (relu): ReLU(inplace=True)\n",
      "      (conv2): Conv2d(128, 128, kernel_size=(3, 3), stride=(1, 1), padding=(1, 1), bias=False)\n",
      "      (bn2): BatchNorm2d(128, eps=1e-05, momentum=0.1, affine=True, track_running_stats=True)\n",
      "      (downsample): Sequential(\n",
      "        (0): Conv2d(64, 128, kernel_size=(1, 1), stride=(2, 2), bias=False)\n",
      "        (1): BatchNorm2d(128, eps=1e-05, momentum=0.1, affine=True, track_running_stats=True)\n",
      "      )\n",
      "    )\n",
      "    (1): BasicBlock(\n",
      "      (conv1): Conv2d(128, 128, kernel_size=(3, 3), stride=(1, 1), padding=(1, 1), bias=False)\n",
      "      (bn1): BatchNorm2d(128, eps=1e-05, momentum=0.1, affine=True, track_running_stats=True)\n",
      "      (relu): ReLU(inplace=True)\n",
      "      (conv2): Conv2d(128, 128, kernel_size=(3, 3), stride=(1, 1), padding=(1, 1), bias=False)\n",
      "      (bn2): BatchNorm2d(128, eps=1e-05, momentum=0.1, affine=True, track_running_stats=True)\n",
      "    )\n",
      "  )\n",
      "  (layer3): Sequential(\n",
      "    (0): BasicBlock(\n",
      "      (conv1): Conv2d(128, 256, kernel_size=(3, 3), stride=(2, 2), padding=(1, 1), bias=False)\n",
      "      (bn1): BatchNorm2d(256, eps=1e-05, momentum=0.1, affine=True, track_running_stats=True)\n",
      "      (relu): ReLU(inplace=True)\n",
      "      (conv2): Conv2d(256, 256, kernel_size=(3, 3), stride=(1, 1), padding=(1, 1), bias=False)\n",
      "      (bn2): BatchNorm2d(256, eps=1e-05, momentum=0.1, affine=True, track_running_stats=True)\n",
      "      (downsample): Sequential(\n",
      "        (0): Conv2d(128, 256, kernel_size=(1, 1), stride=(2, 2), bias=False)\n",
      "        (1): BatchNorm2d(256, eps=1e-05, momentum=0.1, affine=True, track_running_stats=True)\n",
      "      )\n",
      "    )\n",
      "    (1): BasicBlock(\n",
      "      (conv1): Conv2d(256, 256, kernel_size=(3, 3), stride=(1, 1), padding=(1, 1), bias=False)\n",
      "      (bn1): BatchNorm2d(256, eps=1e-05, momentum=0.1, affine=True, track_running_stats=True)\n",
      "      (relu): ReLU(inplace=True)\n",
      "      (conv2): Conv2d(256, 256, kernel_size=(3, 3), stride=(1, 1), padding=(1, 1), bias=False)\n",
      "      (bn2): BatchNorm2d(256, eps=1e-05, momentum=0.1, affine=True, track_running_stats=True)\n",
      "    )\n",
      "  )\n",
      "  (layer4): Sequential(\n",
      "    (0): BasicBlock(\n",
      "      (conv1): Conv2d(256, 512, kernel_size=(3, 3), stride=(2, 2), padding=(1, 1), bias=False)\n",
      "      (bn1): BatchNorm2d(512, eps=1e-05, momentum=0.1, affine=True, track_running_stats=True)\n",
      "      (relu): ReLU(inplace=True)\n",
      "      (conv2): Conv2d(512, 512, kernel_size=(3, 3), stride=(1, 1), padding=(1, 1), bias=False)\n",
      "      (bn2): BatchNorm2d(512, eps=1e-05, momentum=0.1, affine=True, track_running_stats=True)\n",
      "      (downsample): Sequential(\n",
      "        (0): Conv2d(256, 512, kernel_size=(1, 1), stride=(2, 2), bias=False)\n",
      "        (1): BatchNorm2d(512, eps=1e-05, momentum=0.1, affine=True, track_running_stats=True)\n",
      "      )\n",
      "    )\n",
      "    (1): BasicBlock(\n",
      "      (conv1): Conv2d(512, 512, kernel_size=(3, 3), stride=(1, 1), padding=(1, 1), bias=False)\n",
      "      (bn1): BatchNorm2d(512, eps=1e-05, momentum=0.1, affine=True, track_running_stats=True)\n",
      "      (relu): ReLU(inplace=True)\n",
      "      (conv2): Conv2d(512, 512, kernel_size=(3, 3), stride=(1, 1), padding=(1, 1), bias=False)\n",
      "      (bn2): BatchNorm2d(512, eps=1e-05, momentum=0.1, affine=True, track_running_stats=True)\n",
      "    )\n",
      "  )\n",
      "  (avgpool): AdaptiveAvgPool2d(output_size=(1, 1))\n",
      "  (fc): Linear(in_features=512, out_features=2, bias=True)\n",
      ")\n"
     ]
    }
   ],
   "source": [
    "net = resnet18(pretrained=True)\n",
    "num_ftrs = net.fc.in_features\n",
    "net.fc = nn.Linear(num_ftrs, 2, bias=True)\n",
    "rnetsnet = net.to(device)\n",
    "print(f'number of trainable params: {count_parameters(net)}')\n",
    "print(net)"
   ]
  },
  {
   "cell_type": "code",
   "execution_count": 18,
   "id": "d6187364-f824-4482-9c8e-22923ea9c2fd",
   "metadata": {},
   "outputs": [],
   "source": [
    "criterion = nn.CrossEntropyLoss()\n",
    "optimizer = optim.Adam(net.parameters(), lr=0.001, weight_decay=1e-4)\n",
    "n_epochs = 100\n",
    "scheduler = CosineAnnealingLR(optimizer, n_epochs)"
   ]
  },
  {
   "cell_type": "code",
   "execution_count": 19,
   "id": "729a49cc-2245-46c7-bfc5-3a645ad90c80",
   "metadata": {},
   "outputs": [
    {
     "name": "stderr",
     "output_type": "stream",
     "text": [
      "Training: 100%|██████████| 154/154 [00:16<00:00,  9.15it/s, epoch=0, loss=0.35, acc=86.2] \n",
      "Validating: 100%|██████████| 819/819 [00:06<00:00, 120.04it/s, epoch=0, loss=0.172, acc=93.5] \n"
     ]
    },
    {
     "name": "stdout",
     "output_type": "stream",
     "text": [
      "Best acc: 93.5287, saving...\n"
     ]
    },
    {
     "name": "stderr",
     "output_type": "stream",
     "text": [
      "Training: 100%|██████████| 154/154 [00:11<00:00, 13.27it/s, epoch=1, loss=0.264, acc=89.7]\n",
      "Validating: 100%|██████████| 819/819 [00:06<00:00, 118.85it/s, epoch=1, loss=0.102, acc=97.1] \n"
     ]
    },
    {
     "name": "stdout",
     "output_type": "stream",
     "text": [
      "Best acc: 97.0696, saving...\n"
     ]
    },
    {
     "name": "stderr",
     "output_type": "stream",
     "text": [
      "Training: 100%|██████████| 154/154 [00:11<00:00, 13.35it/s, epoch=2, loss=0.222, acc=90.8]\n",
      "Validating: 100%|██████████| 819/819 [00:06<00:00, 117.53it/s, epoch=2, loss=0.158, acc=94.5]\n",
      "Training: 100%|██████████| 154/154 [00:11<00:00, 13.17it/s, epoch=3, loss=0.218, acc=91.9]\n",
      "Validating: 100%|██████████| 819/819 [00:06<00:00, 119.37it/s, epoch=3, loss=0.131, acc=95.2] \n",
      "Training: 100%|██████████| 154/154 [00:11<00:00, 13.18it/s, epoch=4, loss=0.202, acc=92.2]\n",
      "Validating: 100%|██████████| 819/819 [00:06<00:00, 118.96it/s, epoch=4, loss=0.0795, acc=97.6]\n"
     ]
    },
    {
     "name": "stdout",
     "output_type": "stream",
     "text": [
      "Best acc: 97.5580, saving...\n"
     ]
    },
    {
     "name": "stderr",
     "output_type": "stream",
     "text": [
      "Training: 100%|██████████| 154/154 [00:11<00:00, 13.06it/s, epoch=5, loss=0.2, acc=91.9]  \n",
      "Validating: 100%|██████████| 819/819 [00:06<00:00, 120.77it/s, epoch=5, loss=0.0475, acc=98.7]\n"
     ]
    },
    {
     "name": "stdout",
     "output_type": "stream",
     "text": [
      "Best acc: 98.6569, saving...\n"
     ]
    },
    {
     "name": "stderr",
     "output_type": "stream",
     "text": [
      "Training: 100%|██████████| 154/154 [00:11<00:00, 13.40it/s, epoch=6, loss=0.181, acc=93]  \n",
      "Validating: 100%|██████████| 819/819 [00:06<00:00, 121.69it/s, epoch=6, loss=0.367, acc=85.6]\n",
      "Training: 100%|██████████| 154/154 [00:11<00:00, 13.42it/s, epoch=7, loss=0.177, acc=93.5]\n",
      "Validating: 100%|██████████| 819/819 [00:06<00:00, 121.06it/s, epoch=7, loss=0.0478, acc=98.3]\n",
      "Training: 100%|██████████| 154/154 [00:11<00:00, 13.44it/s, epoch=8, loss=0.166, acc=93.7]\n",
      "Validating: 100%|██████████| 819/819 [00:06<00:00, 120.34it/s, epoch=8, loss=0.0597, acc=97.9]\n",
      "Training: 100%|██████████| 154/154 [00:11<00:00, 13.37it/s, epoch=9, loss=0.162, acc=93.9]\n",
      "Validating: 100%|██████████| 819/819 [00:06<00:00, 122.82it/s, epoch=9, loss=0.0698, acc=97.7]\n",
      "Training: 100%|██████████| 154/154 [00:11<00:00, 13.50it/s, epoch=10, loss=0.146, acc=94.1]\n",
      "Validating: 100%|██████████| 819/819 [00:06<00:00, 124.00it/s, epoch=10, loss=0.259, acc=92.1]\n",
      "Training: 100%|██████████| 154/154 [00:11<00:00, 13.40it/s, epoch=11, loss=0.178, acc=92.9]\n",
      "Validating: 100%|██████████| 819/819 [00:06<00:00, 123.65it/s, epoch=11, loss=0.0739, acc=98.4]\n",
      "Training: 100%|██████████| 154/154 [00:11<00:00, 13.52it/s, epoch=12, loss=0.154, acc=94.1]\n",
      "Validating: 100%|██████████| 819/819 [00:06<00:00, 121.33it/s, epoch=12, loss=0.106, acc=95.5] \n",
      "Training: 100%|██████████| 154/154 [00:11<00:00, 13.25it/s, epoch=13, loss=0.152, acc=94.3]\n",
      "Validating: 100%|██████████| 819/819 [00:06<00:00, 121.73it/s, epoch=13, loss=0.0778, acc=97.8]\n",
      "Training: 100%|██████████| 154/154 [00:11<00:00, 13.57it/s, epoch=14, loss=0.149, acc=94.9]\n",
      "Validating: 100%|██████████| 819/819 [00:06<00:00, 123.70it/s, epoch=14, loss=0.121, acc=96.3] \n",
      "Training: 100%|██████████| 154/154 [00:11<00:00, 13.64it/s, epoch=15, loss=0.138, acc=94.6]\n",
      "Validating: 100%|██████████| 819/819 [00:06<00:00, 123.65it/s, epoch=15, loss=0.0523, acc=98]  \n",
      "Training: 100%|██████████| 154/154 [00:11<00:00, 13.53it/s, epoch=16, loss=0.159, acc=93.8]\n",
      "Validating: 100%|██████████| 819/819 [00:06<00:00, 122.45it/s, epoch=16, loss=0.0998, acc=97.1]\n",
      "Training: 100%|██████████| 154/154 [00:11<00:00, 13.57it/s, epoch=17, loss=0.152, acc=94.1]\n",
      "Validating: 100%|██████████| 819/819 [00:06<00:00, 127.52it/s, epoch=17, loss=0.0694, acc=97.2]\n",
      "Training: 100%|██████████| 154/154 [00:11<00:00, 13.67it/s, epoch=18, loss=0.174, acc=93.3]\n",
      "Validating: 100%|██████████| 819/819 [00:06<00:00, 126.34it/s, epoch=18, loss=0.0511, acc=98]  \n",
      "Training: 100%|██████████| 154/154 [00:11<00:00, 13.55it/s, epoch=19, loss=0.144, acc=94.5]\n",
      "Validating: 100%|██████████| 819/819 [00:06<00:00, 119.04it/s, epoch=19, loss=0.0371, acc=99]  \n"
     ]
    },
    {
     "name": "stdout",
     "output_type": "stream",
     "text": [
      "Best acc: 99.0232, saving...\n"
     ]
    },
    {
     "name": "stderr",
     "output_type": "stream",
     "text": [
      "Training: 100%|██████████| 154/154 [00:11<00:00, 13.57it/s, epoch=20, loss=0.131, acc=95.2]\n",
      "Validating: 100%|██████████| 819/819 [00:06<00:00, 122.46it/s, epoch=20, loss=0.0736, acc=97.6]\n",
      "Training: 100%|██████████| 154/154 [00:11<00:00, 13.30it/s, epoch=21, loss=0.135, acc=94.9]\n",
      "Validating: 100%|██████████| 819/819 [00:06<00:00, 122.69it/s, epoch=21, loss=0.0274, acc=99]  \n",
      "Training: 100%|██████████| 154/154 [00:11<00:00, 13.69it/s, epoch=22, loss=0.12, acc=95.3] \n",
      "Validating: 100%|██████████| 819/819 [00:06<00:00, 119.59it/s, epoch=22, loss=0.0626, acc=97.9]\n",
      "Training: 100%|██████████| 154/154 [00:11<00:00, 13.72it/s, epoch=23, loss=0.142, acc=94]  \n",
      "Validating: 100%|██████████| 819/819 [00:06<00:00, 122.03it/s, epoch=23, loss=0.0293, acc=98.9]\n",
      "Training: 100%|██████████| 154/154 [00:11<00:00, 13.70it/s, epoch=24, loss=0.15, acc=94.5] \n",
      "Validating: 100%|██████████| 819/819 [00:06<00:00, 121.41it/s, epoch=24, loss=0.112, acc=96.1] \n",
      "Training: 100%|██████████| 154/154 [00:11<00:00, 13.67it/s, epoch=25, loss=0.131, acc=95.3]\n",
      "Validating: 100%|██████████| 819/819 [00:06<00:00, 121.65it/s, epoch=25, loss=0.0496, acc=98]  \n",
      "Training: 100%|██████████| 154/154 [00:11<00:00, 13.52it/s, epoch=26, loss=0.127, acc=95]  \n",
      "Validating: 100%|██████████| 819/819 [00:06<00:00, 120.10it/s, epoch=26, loss=0.0306, acc=99.4]\n"
     ]
    },
    {
     "name": "stdout",
     "output_type": "stream",
     "text": [
      "Best acc: 99.3895, saving...\n"
     ]
    },
    {
     "name": "stderr",
     "output_type": "stream",
     "text": [
      "Training: 100%|██████████| 154/154 [00:11<00:00, 13.69it/s, epoch=27, loss=0.139, acc=94.5]\n",
      "Validating: 100%|██████████| 819/819 [00:06<00:00, 122.27it/s, epoch=27, loss=0.0359, acc=99]  \n",
      "Training: 100%|██████████| 154/154 [00:11<00:00, 13.68it/s, epoch=28, loss=0.129, acc=95.1]\n",
      "Validating: 100%|██████████| 819/819 [00:06<00:00, 122.21it/s, epoch=28, loss=0.0658, acc=97.2]\n",
      "Training: 100%|██████████| 154/154 [00:11<00:00, 13.71it/s, epoch=29, loss=0.146, acc=94.9]\n",
      "Validating: 100%|██████████| 819/819 [00:06<00:00, 122.38it/s, epoch=29, loss=0.0486, acc=98.7]\n",
      "Training: 100%|██████████| 154/154 [00:11<00:00, 13.69it/s, epoch=30, loss=0.129, acc=95.3]\n",
      "Validating: 100%|██████████| 819/819 [00:06<00:00, 123.20it/s, epoch=30, loss=0.0333, acc=99.3]\n",
      "Training: 100%|██████████| 154/154 [00:11<00:00, 13.73it/s, epoch=31, loss=0.12, acc=95.7] \n",
      "Validating: 100%|██████████| 819/819 [00:06<00:00, 122.47it/s, epoch=31, loss=0.0322, acc=99]  \n",
      "Training: 100%|██████████| 154/154 [00:11<00:00, 13.66it/s, epoch=32, loss=0.127, acc=95.4]\n",
      "Validating: 100%|██████████| 819/819 [00:06<00:00, 121.70it/s, epoch=32, loss=0.0433, acc=98.4]\n",
      "Training: 100%|██████████| 154/154 [00:11<00:00, 13.67it/s, epoch=33, loss=0.12, acc=95.6] \n",
      "Validating: 100%|██████████| 819/819 [00:06<00:00, 121.27it/s, epoch=33, loss=0.0278, acc=98.9]\n",
      "Training: 100%|██████████| 154/154 [00:11<00:00, 13.69it/s, epoch=34, loss=0.0974, acc=96.5]\n",
      "Validating: 100%|██████████| 819/819 [00:06<00:00, 121.54it/s, epoch=34, loss=0.016, acc=99.5] \n"
     ]
    },
    {
     "name": "stdout",
     "output_type": "stream",
     "text": [
      "Best acc: 99.5116, saving...\n"
     ]
    },
    {
     "name": "stderr",
     "output_type": "stream",
     "text": [
      "Training: 100%|██████████| 154/154 [00:11<00:00, 13.62it/s, epoch=35, loss=0.116, acc=95.6]\n",
      "Validating: 100%|██████████| 819/819 [00:06<00:00, 121.81it/s, epoch=35, loss=0.0299, acc=99]  \n",
      "Training: 100%|██████████| 154/154 [00:11<00:00, 13.66it/s, epoch=36, loss=0.113, acc=95.6]\n",
      "Validating: 100%|██████████| 819/819 [00:06<00:00, 122.61it/s, epoch=36, loss=0.0513, acc=98.2]\n",
      "Training: 100%|██████████| 154/154 [00:11<00:00, 13.63it/s, epoch=37, loss=0.123, acc=95.4]\n",
      "Validating: 100%|██████████| 819/819 [00:06<00:00, 120.10it/s, epoch=37, loss=0.0261, acc=99.4]\n",
      "Training: 100%|██████████| 154/154 [00:11<00:00, 13.68it/s, epoch=38, loss=0.117, acc=95.4]\n",
      "Validating: 100%|██████████| 819/819 [00:06<00:00, 121.49it/s, epoch=38, loss=0.0256, acc=99.4]\n",
      "Training: 100%|██████████| 154/154 [00:11<00:00, 13.66it/s, epoch=39, loss=0.109, acc=96.5] \n",
      "Validating: 100%|██████████| 819/819 [00:06<00:00, 121.09it/s, epoch=39, loss=0.0244, acc=99.1]\n",
      "Training: 100%|██████████| 154/154 [00:11<00:00, 13.61it/s, epoch=40, loss=0.127, acc=95.2]\n",
      "Validating: 100%|██████████| 819/819 [00:06<00:00, 122.63it/s, epoch=40, loss=0.0348, acc=98.9]\n",
      "Training: 100%|██████████| 154/154 [00:11<00:00, 13.61it/s, epoch=41, loss=0.115, acc=95.6]\n",
      "Validating: 100%|██████████| 819/819 [00:06<00:00, 122.12it/s, epoch=41, loss=0.0327, acc=98.9]\n",
      "Training: 100%|██████████| 154/154 [00:11<00:00, 13.73it/s, epoch=42, loss=0.108, acc=96]  \n",
      "Validating: 100%|██████████| 819/819 [00:06<00:00, 121.07it/s, epoch=42, loss=0.0276, acc=99.3]\n",
      "Training: 100%|██████████| 154/154 [00:11<00:00, 13.56it/s, epoch=43, loss=0.107, acc=96.3]\n",
      "Validating: 100%|██████████| 819/819 [00:06<00:00, 119.62it/s, epoch=43, loss=0.0358, acc=98.2]\n",
      "Training: 100%|██████████| 154/154 [00:11<00:00, 13.62it/s, epoch=44, loss=0.122, acc=95.1]\n",
      "Validating: 100%|██████████| 819/819 [00:06<00:00, 120.70it/s, epoch=44, loss=0.035, acc=98.8] \n",
      "Training: 100%|██████████| 154/154 [00:11<00:00, 13.68it/s, epoch=45, loss=0.0949, acc=96.5]\n",
      "Validating: 100%|██████████| 819/819 [00:06<00:00, 120.04it/s, epoch=45, loss=0.0237, acc=99.4] \n",
      "Training: 100%|██████████| 154/154 [00:11<00:00, 13.59it/s, epoch=46, loss=0.0818, acc=97.3]\n",
      "Validating: 100%|██████████| 819/819 [00:06<00:00, 120.10it/s, epoch=46, loss=0.0196, acc=99.3]\n",
      "Training: 100%|██████████| 154/154 [00:11<00:00, 13.63it/s, epoch=47, loss=0.0863, acc=96.7]\n",
      "Validating: 100%|██████████| 819/819 [00:06<00:00, 117.58it/s, epoch=47, loss=0.0225, acc=98.9]\n",
      "Training: 100%|██████████| 154/154 [00:11<00:00, 13.63it/s, epoch=48, loss=0.097, acc=96.4] \n",
      "Validating: 100%|██████████| 819/819 [00:06<00:00, 120.57it/s, epoch=48, loss=0.0212, acc=99]  \n",
      "Training: 100%|██████████| 154/154 [00:11<00:00, 13.58it/s, epoch=49, loss=0.085, acc=96.9] \n",
      "Validating: 100%|██████████| 819/819 [00:06<00:00, 117.33it/s, epoch=49, loss=0.0203, acc=99.3]\n",
      "Training: 100%|██████████| 154/154 [00:11<00:00, 13.67it/s, epoch=50, loss=0.0884, acc=96.9]\n",
      "Validating: 100%|██████████| 819/819 [00:06<00:00, 120.36it/s, epoch=50, loss=0.0226, acc=99.3]\n",
      "Training: 100%|██████████| 154/154 [00:11<00:00, 13.65it/s, epoch=51, loss=0.0676, acc=97.6]\n",
      "Validating: 100%|██████████| 819/819 [00:06<00:00, 119.59it/s, epoch=51, loss=0.0143, acc=99.8] \n"
     ]
    },
    {
     "name": "stdout",
     "output_type": "stream",
     "text": [
      "Best acc: 99.7558, saving...\n"
     ]
    },
    {
     "name": "stderr",
     "output_type": "stream",
     "text": [
      "Training: 100%|██████████| 154/154 [00:11<00:00, 13.56it/s, epoch=52, loss=0.106, acc=96.4]\n",
      "Validating: 100%|██████████| 819/819 [00:06<00:00, 120.57it/s, epoch=52, loss=0.024, acc=99.6] \n",
      "Training: 100%|██████████| 154/154 [00:11<00:00, 13.66it/s, epoch=53, loss=0.0902, acc=96.6]\n",
      "Validating: 100%|██████████| 819/819 [00:06<00:00, 122.47it/s, epoch=53, loss=0.0156, acc=99.5]\n",
      "Training: 100%|██████████| 154/154 [00:11<00:00, 13.68it/s, epoch=54, loss=0.0665, acc=97.6]\n",
      "Validating: 100%|██████████| 819/819 [00:06<00:00, 121.59it/s, epoch=54, loss=0.0402, acc=99.1]\n",
      "Training: 100%|██████████| 154/154 [00:11<00:00, 13.67it/s, epoch=55, loss=0.08, acc=97]    \n",
      "Validating: 100%|██████████| 819/819 [00:06<00:00, 120.66it/s, epoch=55, loss=0.0337, acc=98.8]\n",
      "Training: 100%|██████████| 154/154 [00:11<00:00, 13.70it/s, epoch=56, loss=0.092, acc=96.5] \n",
      "Validating: 100%|██████████| 819/819 [00:06<00:00, 119.87it/s, epoch=56, loss=0.0346, acc=98.9]\n",
      "Training: 100%|██████████| 154/154 [00:11<00:00, 13.68it/s, epoch=57, loss=0.0825, acc=97.2]\n",
      "Validating: 100%|██████████| 819/819 [00:06<00:00, 120.98it/s, epoch=57, loss=0.0161, acc=99.6]\n",
      "Training: 100%|██████████| 154/154 [00:11<00:00, 13.70it/s, epoch=58, loss=0.0909, acc=96.5]\n",
      "Validating: 100%|██████████| 819/819 [00:06<00:00, 120.11it/s, epoch=58, loss=0.0167, acc=99.8]\n",
      "Training: 100%|██████████| 154/154 [00:11<00:00, 13.69it/s, epoch=59, loss=0.0832, acc=96.8]\n",
      "Validating: 100%|██████████| 819/819 [00:06<00:00, 120.48it/s, epoch=59, loss=0.0184, acc=99.6]\n",
      "Training: 100%|██████████| 154/154 [00:11<00:00, 13.66it/s, epoch=60, loss=0.0684, acc=97.3]\n",
      "Validating: 100%|██████████| 819/819 [00:06<00:00, 119.57it/s, epoch=60, loss=0.0557, acc=98.5]\n",
      "Training: 100%|██████████| 154/154 [00:11<00:00, 13.70it/s, epoch=61, loss=0.0985, acc=96]  \n",
      "Validating: 100%|██████████| 819/819 [00:06<00:00, 120.04it/s, epoch=61, loss=0.0146, acc=99.8]\n",
      "Training: 100%|██████████| 154/154 [00:11<00:00, 13.68it/s, epoch=62, loss=0.0664, acc=97.7]\n",
      "Validating: 100%|██████████| 819/819 [00:06<00:00, 120.72it/s, epoch=62, loss=0.0131, acc=99.5] \n",
      "Training: 100%|██████████| 154/154 [00:11<00:00, 13.69it/s, epoch=63, loss=0.072, acc=97.1] \n",
      "Validating: 100%|██████████| 819/819 [00:06<00:00, 119.10it/s, epoch=63, loss=0.0152, acc=99.6] \n",
      "Training: 100%|██████████| 154/154 [00:11<00:00, 13.69it/s, epoch=64, loss=0.0574, acc=97.9]\n",
      "Validating: 100%|██████████| 819/819 [00:06<00:00, 121.18it/s, epoch=64, loss=0.0122, acc=99.9]\n"
     ]
    },
    {
     "name": "stdout",
     "output_type": "stream",
     "text": [
      "Best acc: 99.8779, saving...\n"
     ]
    },
    {
     "name": "stderr",
     "output_type": "stream",
     "text": [
      "Training: 100%|██████████| 154/154 [00:11<00:00, 13.62it/s, epoch=65, loss=0.0655, acc=97.6]\n",
      "Validating: 100%|██████████| 819/819 [00:06<00:00, 121.83it/s, epoch=65, loss=0.0125, acc=99.8] \n",
      "Training: 100%|██████████| 154/154 [00:11<00:00, 13.64it/s, epoch=66, loss=0.0659, acc=97.5]\n",
      "Validating: 100%|██████████| 819/819 [00:06<00:00, 120.89it/s, epoch=66, loss=0.0157, acc=99.4] \n",
      "Training: 100%|██████████| 154/154 [00:11<00:00, 13.67it/s, epoch=67, loss=0.0652, acc=97.2]\n",
      "Validating: 100%|██████████| 819/819 [00:06<00:00, 121.56it/s, epoch=67, loss=0.0285, acc=99.1]\n",
      "Training: 100%|██████████| 154/154 [00:11<00:00, 13.63it/s, epoch=68, loss=0.0567, acc=97.8]\n",
      "Validating: 100%|██████████| 819/819 [00:06<00:00, 120.13it/s, epoch=68, loss=0.0138, acc=99.5] \n",
      "Training: 100%|██████████| 154/154 [00:11<00:00, 13.65it/s, epoch=69, loss=0.0625, acc=97.4]\n",
      "Validating: 100%|██████████| 819/819 [00:06<00:00, 120.11it/s, epoch=69, loss=0.0128, acc=99.5] \n",
      "Training: 100%|██████████| 154/154 [00:11<00:00, 13.70it/s, epoch=70, loss=0.0527, acc=97.8]\n",
      "Validating: 100%|██████████| 819/819 [00:06<00:00, 120.63it/s, epoch=70, loss=0.0131, acc=99.6] \n",
      "Training: 100%|██████████| 154/154 [00:11<00:00, 13.58it/s, epoch=71, loss=0.0539, acc=97.8]\n",
      "Validating: 100%|██████████| 819/819 [00:06<00:00, 120.40it/s, epoch=71, loss=0.0132, acc=99.8]\n",
      "Training: 100%|██████████| 154/154 [00:11<00:00, 13.72it/s, epoch=72, loss=0.0458, acc=98.3]\n",
      "Validating: 100%|██████████| 819/819 [00:06<00:00, 120.45it/s, epoch=72, loss=0.0191, acc=99.3] \n",
      "Training: 100%|██████████| 154/154 [00:11<00:00, 13.61it/s, epoch=73, loss=0.0548, acc=97.7]\n",
      "Validating: 100%|██████████| 819/819 [00:06<00:00, 120.80it/s, epoch=73, loss=0.0167, acc=99.5]\n",
      "Training: 100%|██████████| 154/154 [00:11<00:00, 13.62it/s, epoch=74, loss=0.0486, acc=98.2]\n",
      "Validating: 100%|██████████| 819/819 [00:06<00:00, 120.24it/s, epoch=74, loss=0.0126, acc=99.8]\n",
      "Training: 100%|██████████| 154/154 [00:11<00:00, 13.57it/s, epoch=75, loss=0.049, acc=98.2] \n",
      "Validating: 100%|██████████| 819/819 [00:06<00:00, 120.95it/s, epoch=75, loss=0.0132, acc=99.5] \n",
      "Training: 100%|██████████| 154/154 [00:11<00:00, 13.56it/s, epoch=76, loss=0.0481, acc=98.6]\n",
      "Validating: 100%|██████████| 819/819 [00:06<00:00, 119.62it/s, epoch=76, loss=0.0184, acc=99.4]\n",
      "Training: 100%|██████████| 154/154 [00:11<00:00, 13.68it/s, epoch=77, loss=0.0557, acc=98]  \n",
      "Validating: 100%|██████████| 819/819 [00:06<00:00, 119.88it/s, epoch=77, loss=0.0132, acc=99.6]\n",
      "Training: 100%|██████████| 154/154 [00:11<00:00, 13.62it/s, epoch=78, loss=0.0434, acc=98.5]\n",
      "Validating: 100%|██████████| 819/819 [00:06<00:00, 119.33it/s, epoch=78, loss=0.0128, acc=99.4] \n",
      "Training: 100%|██████████| 154/154 [00:11<00:00, 13.69it/s, epoch=79, loss=0.0372, acc=98.7]\n",
      "Validating: 100%|██████████| 819/819 [00:06<00:00, 120.86it/s, epoch=79, loss=0.0102, acc=99.6] \n",
      "Training: 100%|██████████| 154/154 [00:11<00:00, 13.63it/s, epoch=80, loss=0.0474, acc=98]  \n",
      "Validating: 100%|██████████| 819/819 [00:06<00:00, 119.69it/s, epoch=80, loss=0.00901, acc=99.6]\n",
      "Training: 100%|██████████| 154/154 [00:11<00:00, 13.26it/s, epoch=81, loss=0.0498, acc=98.2]\n",
      "Validating: 100%|██████████| 819/819 [00:06<00:00, 119.31it/s, epoch=81, loss=0.00876, acc=99.6]\n",
      "Training: 100%|██████████| 154/154 [00:11<00:00, 13.59it/s, epoch=82, loss=0.0394, acc=98.3]\n",
      "Validating: 100%|██████████| 819/819 [00:06<00:00, 119.33it/s, epoch=82, loss=0.0134, acc=99.3] \n",
      "Training: 100%|██████████| 154/154 [00:11<00:00, 13.67it/s, epoch=83, loss=0.0412, acc=98.3]\n",
      "Validating: 100%|██████████| 819/819 [00:06<00:00, 119.90it/s, epoch=83, loss=0.0148, acc=99.3]\n",
      "Training: 100%|██████████| 154/154 [00:11<00:00, 13.58it/s, epoch=84, loss=0.042, acc=98.6] \n",
      "Validating: 100%|██████████| 819/819 [00:06<00:00, 119.94it/s, epoch=84, loss=0.0126, acc=99.4] \n",
      "Training: 100%|██████████| 154/154 [00:11<00:00, 13.59it/s, epoch=85, loss=0.043, acc=98.3] \n",
      "Validating: 100%|██████████| 819/819 [00:06<00:00, 117.44it/s, epoch=85, loss=0.0168, acc=99.4] \n",
      "Training: 100%|██████████| 154/154 [00:11<00:00, 13.59it/s, epoch=86, loss=0.0443, acc=98.6]\n",
      "Validating: 100%|██████████| 819/819 [00:06<00:00, 119.12it/s, epoch=86, loss=0.0157, acc=99.4]\n",
      "Training: 100%|██████████| 154/154 [00:11<00:00, 13.62it/s, epoch=87, loss=0.0348, acc=98.5]\n",
      "Validating: 100%|██████████| 819/819 [00:06<00:00, 119.64it/s, epoch=87, loss=0.0127, acc=99.3] \n",
      "Training: 100%|██████████| 154/154 [00:11<00:00, 13.66it/s, epoch=88, loss=0.0416, acc=98.5]\n",
      "Validating: 100%|██████████| 819/819 [00:06<00:00, 126.07it/s, epoch=88, loss=0.0151, acc=99.5] \n",
      "Training: 100%|██████████| 154/154 [00:11<00:00, 13.73it/s, epoch=89, loss=0.036, acc=98.6] \n",
      "Validating: 100%|██████████| 819/819 [00:06<00:00, 125.62it/s, epoch=89, loss=0.0161, acc=99.5] \n",
      "Training: 100%|██████████| 154/154 [00:11<00:00, 13.66it/s, epoch=90, loss=0.0403, acc=98.4]\n",
      "Validating: 100%|██████████| 819/819 [00:06<00:00, 125.64it/s, epoch=90, loss=0.0188, acc=99.5] \n",
      "Training: 100%|██████████| 154/154 [00:11<00:00, 13.64it/s, epoch=91, loss=0.036, acc=98.6] \n",
      "Validating: 100%|██████████| 819/819 [00:06<00:00, 126.07it/s, epoch=91, loss=0.0171, acc=99.6]\n",
      "Training: 100%|██████████| 154/154 [00:11<00:00, 13.68it/s, epoch=92, loss=0.0291, acc=98.9]\n",
      "Validating: 100%|██████████| 819/819 [00:06<00:00, 124.69it/s, epoch=92, loss=0.0167, acc=99.4] \n",
      "Training: 100%|██████████| 154/154 [00:11<00:00, 13.68it/s, epoch=93, loss=0.0413, acc=98.4]\n",
      "Validating: 100%|██████████| 819/819 [00:06<00:00, 126.75it/s, epoch=93, loss=0.0163, acc=99.4] \n",
      "Training: 100%|██████████| 154/154 [00:11<00:00, 13.73it/s, epoch=94, loss=0.0301, acc=98.9]\n",
      "Validating: 100%|██████████| 819/819 [00:06<00:00, 124.82it/s, epoch=94, loss=0.0183, acc=99.4] \n",
      "Training: 100%|██████████| 154/154 [00:11<00:00, 13.66it/s, epoch=95, loss=0.043, acc=98.4] \n",
      "Validating: 100%|██████████| 819/819 [00:06<00:00, 125.87it/s, epoch=95, loss=0.0157, acc=99.6]\n",
      "Training: 100%|██████████| 154/154 [00:11<00:00, 13.70it/s, epoch=96, loss=0.0394, acc=98.4]\n",
      "Validating: 100%|██████████| 819/819 [00:06<00:00, 126.09it/s, epoch=96, loss=0.0206, acc=99.3] \n",
      "Training: 100%|██████████| 154/154 [00:11<00:00, 13.69it/s, epoch=97, loss=0.0496, acc=98]  \n",
      "Validating: 100%|██████████| 819/819 [00:06<00:00, 124.01it/s, epoch=97, loss=0.0156, acc=99.5] \n",
      "Training: 100%|██████████| 154/154 [00:11<00:00, 13.70it/s, epoch=98, loss=0.0304, acc=98.8]\n",
      "Validating: 100%|██████████| 819/819 [00:06<00:00, 126.91it/s, epoch=98, loss=0.0196, acc=99.5] \n",
      "Training: 100%|██████████| 154/154 [00:11<00:00, 13.74it/s, epoch=99, loss=0.0392, acc=98.7]\n",
      "Validating: 100%|██████████| 819/819 [00:06<00:00, 126.01it/s, epoch=99, loss=0.0175, acc=99.5] "
     ]
    },
    {
     "name": "stdout",
     "output_type": "stream",
     "text": [
      "time taken: 1813.2667s\n"
     ]
    },
    {
     "name": "stderr",
     "output_type": "stream",
     "text": [
      "\n"
     ]
    }
   ],
   "source": [
    "start = time.time()\n",
    "best_acc = 0.0\n",
    "train_acc_ = []\n",
    "train_loss_ = []\n",
    "valid_acc_ = []\n",
    "valid_loss_ = []\n",
    "epoch_ = []\n",
    "lr_ = []\n",
    "for epoch in range(n_epochs):\n",
    "    train_acc, train_loss = train(epoch, trainloader, net)\n",
    "    val_acc, val_loss = valid(epoch, valloader, net)\n",
    "    train_acc_.append(train_acc)\n",
    "    train_loss_.append(train_loss)\n",
    "    valid_acc_.append(val_acc)\n",
    "    valid_loss_.append(val_loss)\n",
    "    scheduler.step()\n",
    "    if (val_acc > best_acc):\n",
    "        best_acc = val_acc\n",
    "        print(f'Best acc: {best_acc:.4f}, saving...')\n",
    "        torch.save(net, f'models/{datetime.now().strftime(\"%d%m%Y_%H%M%S\")}_resnet18_{best_acc:.4f}_epoch_{epoch}.pth')\n",
    "        epoch_.append(epoch)\n",
    "end = time.time()\n",
    "print(f'time taken: {(end-start):.4f}s')"
   ]
  },
  {
   "cell_type": "code",
   "execution_count": 20,
   "id": "bc8f0d37-b532-4793-9056-44f8d92768a2",
   "metadata": {},
   "outputs": [
    {
     "name": "stdout",
     "output_type": "stream",
     "text": [
      "train_acc: 98.70\n",
      "val_acc: 99.51\n",
      "last model path: models/08012022_002308_resnet18_98.70_99.51_last.pth\n"
     ]
    }
   ],
   "source": [
    "print(f'train_acc: {train_acc:.2f}')\n",
    "print(f'val_acc: {val_acc:.2f}')\n",
    "model_path = f'models/{datetime.now().strftime(\"%d%m%Y_%H%M%S\")}_resnet18_{train_acc:.2f}_{val_acc:.2f}_last.pth'\n",
    "print(f'last model path: {model_path}')\n",
    "torch.save(net, model_path)"
   ]
  },
  {
   "cell_type": "code",
   "execution_count": 21,
   "id": "4cefaabd-7ea4-4365-b2ae-2d6a2369c939",
   "metadata": {},
   "outputs": [
    {
     "data": {
      "image/png": "[encoded data removed]",
      "text/plain": [
       "<Figure size 720x360 with 1 Axes>"
      ]
     },
     "metadata": {
      "needs_background": "light"
     },
     "output_type": "display_data"
    },
    {
     "data": {
      "image/png": "[encoded data removed]",
      "text/plain": [
       "<Figure size 720x360 with 1 Axes>"
      ]
     },
     "metadata": {
      "needs_background": "light"
     },
     "output_type": "display_data"
    },
    {
     "data": {
      "image/png": "[encoded data removed]",
      "text/plain": [
       "<Figure size 720x360 with 1 Axes>"
      ]
     },
     "metadata": {
      "needs_background": "light"
     },
     "output_type": "display_data"
    }
   ],
   "source": [
    "plt.figure(figsize=(10,5))\n",
    "plt.axvline(epoch_[-1], 0, 1, c='g', ls='--', lw=2, label='best')\n",
    "plt.plot(range(n_epochs), train_loss_, 'b', label='train')\n",
    "plt.plot(range(n_epochs), valid_loss_, 'r', label='valid')\n",
    "plt.xlabel('epochs')\n",
    "plt.ylabel('loss')\n",
    "plt.title('Loss vs Epoch')\n",
    "plt.legend()\n",
    "plt.show()\n",
    "\n",
    "plt.figure(figsize=(10,5))\n",
    "plt.axvline(epoch_[-1], 0, 1, c='g', ls='--', lw=2, label='best')\n",
    "plt.plot(range(n_epochs), train_acc_, 'b', label='train')\n",
    "plt.plot(range(n_epochs), valid_acc_, 'r', label='valid')\n",
    "plt.xlabel('epochs')\n",
    "plt.ylabel('acc')\n",
    "plt.title('Accuracy vs Epoch')\n",
    "plt.legend()\n",
    "plt.show()\n",
    "\n",
    "plt.figure(figsize=(10,5))\n",
    "plt.axvline(epoch_[-1], 0, 1, c='g', ls='--', lw=2, label='best')\n",
    "plt.plot(range(n_epochs), lr_, 'b', label='lr')\n",
    "plt.xlabel('epochs')\n",
    "plt.ylabel('lr')\n",
    "plt.title('Learning Rate vs Epoch')\n",
    "plt.legend()\n",
    "plt.show()"
   ]
  },
  {
   "cell_type": "code",
   "execution_count": 22,
   "id": "2b75ce15-9461-4e4e-be77-04a28fddf039",
   "metadata": {},
   "outputs": [],
   "source": [
    "plotTotal.append([net, train_acc_, train_loss_])"
   ]
  },
  {
   "cell_type": "markdown",
   "id": "d8dd1f22-6aba-402b-9d20-7df14ff930cd",
   "metadata": {},
   "source": [
    "## Mobilenet_v2"
   ]
  },
  {
   "cell_type": "code",
   "execution_count": 23,
   "id": "7f78f43f-158b-480d-92ed-1e1b7e3e3e99",
   "metadata": {},
   "outputs": [
    {
     "name": "stdout",
     "output_type": "stream",
     "text": [
      "number of trainable params: 2226434\n",
      "MobileNetV2(\n",
      "  (features): Sequential(\n",
      "    (0): ConvNormActivation(\n",
      "      (0): Conv2d(3, 32, kernel_size=(3, 3), stride=(2, 2), padding=(1, 1), bias=False)\n",
      "      (1): BatchNorm2d(32, eps=1e-05, momentum=0.1, affine=True, track_running_stats=True)\n",
      "      (2): ReLU6(inplace=True)\n",
      "    )\n",
      "    (1): InvertedResidual(\n",
      "      (conv): Sequential(\n",
      "        (0): ConvNormActivation(\n",
      "          (0): Conv2d(32, 32, kernel_size=(3, 3), stride=(1, 1), padding=(1, 1), groups=32, bias=False)\n",
      "          (1): BatchNorm2d(32, eps=1e-05, momentum=0.1, affine=True, track_running_stats=True)\n",
      "          (2): ReLU6(inplace=True)\n",
      "        )\n",
      "        (1): Conv2d(32, 16, kernel_size=(1, 1), stride=(1, 1), bias=False)\n",
      "        (2): BatchNorm2d(16, eps=1e-05, momentum=0.1, affine=True, track_running_stats=True)\n",
      "      )\n",
      "    )\n",
      "    (2): InvertedResidual(\n",
      "      (conv): Sequential(\n",
      "        (0): ConvNormActivation(\n",
      "          (0): Conv2d(16, 96, kernel_size=(1, 1), stride=(1, 1), bias=False)\n",
      "          (1): BatchNorm2d(96, eps=1e-05, momentum=0.1, affine=True, track_running_stats=True)\n",
      "          (2): ReLU6(inplace=True)\n",
      "        )\n",
      "        (1): ConvNormActivation(\n",
      "          (0): Conv2d(96, 96, kernel_size=(3, 3), stride=(2, 2), padding=(1, 1), groups=96, bias=False)\n",
      "          (1): BatchNorm2d(96, eps=1e-05, momentum=0.1, affine=True, track_running_stats=True)\n",
      "          (2): ReLU6(inplace=True)\n",
      "        )\n",
      "        (2): Conv2d(96, 24, kernel_size=(1, 1), stride=(1, 1), bias=False)\n",
      "        (3): BatchNorm2d(24, eps=1e-05, momentum=0.1, affine=True, track_running_stats=True)\n",
      "      )\n",
      "    )\n",
      "    (3): InvertedResidual(\n",
      "      (conv): Sequential(\n",
      "        (0): ConvNormActivation(\n",
      "          (0): Conv2d(24, 144, kernel_size=(1, 1), stride=(1, 1), bias=False)\n",
      "          (1): BatchNorm2d(144, eps=1e-05, momentum=0.1, affine=True, track_running_stats=True)\n",
      "          (2): ReLU6(inplace=True)\n",
      "        )\n",
      "        (1): ConvNormActivation(\n",
      "          (0): Conv2d(144, 144, kernel_size=(3, 3), stride=(1, 1), padding=(1, 1), groups=144, bias=False)\n",
      "          (1): BatchNorm2d(144, eps=1e-05, momentum=0.1, affine=True, track_running_stats=True)\n",
      "          (2): ReLU6(inplace=True)\n",
      "        )\n",
      "        (2): Conv2d(144, 24, kernel_size=(1, 1), stride=(1, 1), bias=False)\n",
      "        (3): BatchNorm2d(24, eps=1e-05, momentum=0.1, affine=True, track_running_stats=True)\n",
      "      )\n",
      "    )\n",
      "    (4): InvertedResidual(\n",
      "      (conv): Sequential(\n",
      "        (0): ConvNormActivation(\n",
      "          (0): Conv2d(24, 144, kernel_size=(1, 1), stride=(1, 1), bias=False)\n",
      "          (1): BatchNorm2d(144, eps=1e-05, momentum=0.1, affine=True, track_running_stats=True)\n",
      "          (2): ReLU6(inplace=True)\n",
      "        )\n",
      "        (1): ConvNormActivation(\n",
      "          (0): Conv2d(144, 144, kernel_size=(3, 3), stride=(2, 2), padding=(1, 1), groups=144, bias=False)\n",
      "          (1): BatchNorm2d(144, eps=1e-05, momentum=0.1, affine=True, track_running_stats=True)\n",
      "          (2): ReLU6(inplace=True)\n",
      "        )\n",
      "        (2): Conv2d(144, 32, kernel_size=(1, 1), stride=(1, 1), bias=False)\n",
      "        (3): BatchNorm2d(32, eps=1e-05, momentum=0.1, affine=True, track_running_stats=True)\n",
      "      )\n",
      "    )\n",
      "    (5): InvertedResidual(\n",
      "      (conv): Sequential(\n",
      "        (0): ConvNormActivation(\n",
      "          (0): Conv2d(32, 192, kernel_size=(1, 1), stride=(1, 1), bias=False)\n",
      "          (1): BatchNorm2d(192, eps=1e-05, momentum=0.1, affine=True, track_running_stats=True)\n",
      "          (2): ReLU6(inplace=True)\n",
      "        )\n",
      "        (1): ConvNormActivation(\n",
      "          (0): Conv2d(192, 192, kernel_size=(3, 3), stride=(1, 1), padding=(1, 1), groups=192, bias=False)\n",
      "          (1): BatchNorm2d(192, eps=1e-05, momentum=0.1, affine=True, track_running_stats=True)\n",
      "          (2): ReLU6(inplace=True)\n",
      "        )\n",
      "        (2): Conv2d(192, 32, kernel_size=(1, 1), stride=(1, 1), bias=False)\n",
      "        (3): BatchNorm2d(32, eps=1e-05, momentum=0.1, affine=True, track_running_stats=True)\n",
      "      )\n",
      "    )\n",
      "    (6): InvertedResidual(\n",
      "      (conv): Sequential(\n",
      "        (0): ConvNormActivation(\n",
      "          (0): Conv2d(32, 192, kernel_size=(1, 1), stride=(1, 1), bias=False)\n",
      "          (1): BatchNorm2d(192, eps=1e-05, momentum=0.1, affine=True, track_running_stats=True)\n",
      "          (2): ReLU6(inplace=True)\n",
      "        )\n",
      "        (1): ConvNormActivation(\n",
      "          (0): Conv2d(192, 192, kernel_size=(3, 3), stride=(1, 1), padding=(1, 1), groups=192, bias=False)\n",
      "          (1): BatchNorm2d(192, eps=1e-05, momentum=0.1, affine=True, track_running_stats=True)\n",
      "          (2): ReLU6(inplace=True)\n",
      "        )\n",
      "        (2): Conv2d(192, 32, kernel_size=(1, 1), stride=(1, 1), bias=False)\n",
      "        (3): BatchNorm2d(32, eps=1e-05, momentum=0.1, affine=True, track_running_stats=True)\n",
      "      )\n",
      "    )\n",
      "    (7): InvertedResidual(\n",
      "      (conv): Sequential(\n",
      "        (0): ConvNormActivation(\n",
      "          (0): Conv2d(32, 192, kernel_size=(1, 1), stride=(1, 1), bias=False)\n",
      "          (1): BatchNorm2d(192, eps=1e-05, momentum=0.1, affine=True, track_running_stats=True)\n",
      "          (2): ReLU6(inplace=True)\n",
      "        )\n",
      "        (1): ConvNormActivation(\n",
      "          (0): Conv2d(192, 192, kernel_size=(3, 3), stride=(2, 2), padding=(1, 1), groups=192, bias=False)\n",
      "          (1): BatchNorm2d(192, eps=1e-05, momentum=0.1, affine=True, track_running_stats=True)\n",
      "          (2): ReLU6(inplace=True)\n",
      "        )\n",
      "        (2): Conv2d(192, 64, kernel_size=(1, 1), stride=(1, 1), bias=False)\n",
      "        (3): BatchNorm2d(64, eps=1e-05, momentum=0.1, affine=True, track_running_stats=True)\n",
      "      )\n",
      "    )\n",
      "    (8): InvertedResidual(\n",
      "      (conv): Sequential(\n",
      "        (0): ConvNormActivation(\n",
      "          (0): Conv2d(64, 384, kernel_size=(1, 1), stride=(1, 1), bias=False)\n",
      "          (1): BatchNorm2d(384, eps=1e-05, momentum=0.1, affine=True, track_running_stats=True)\n",
      "          (2): ReLU6(inplace=True)\n",
      "        )\n",
      "        (1): ConvNormActivation(\n",
      "          (0): Conv2d(384, 384, kernel_size=(3, 3), stride=(1, 1), padding=(1, 1), groups=384, bias=False)\n",
      "          (1): BatchNorm2d(384, eps=1e-05, momentum=0.1, affine=True, track_running_stats=True)\n",
      "          (2): ReLU6(inplace=True)\n",
      "        )\n",
      "        (2): Conv2d(384, 64, kernel_size=(1, 1), stride=(1, 1), bias=False)\n",
      "        (3): BatchNorm2d(64, eps=1e-05, momentum=0.1, affine=True, track_running_stats=True)\n",
      "      )\n",
      "    )\n",
      "    (9): InvertedResidual(\n",
      "      (conv): Sequential(\n",
      "        (0): ConvNormActivation(\n",
      "          (0): Conv2d(64, 384, kernel_size=(1, 1), stride=(1, 1), bias=False)\n",
      "          (1): BatchNorm2d(384, eps=1e-05, momentum=0.1, affine=True, track_running_stats=True)\n",
      "          (2): ReLU6(inplace=True)\n",
      "        )\n",
      "        (1): ConvNormActivation(\n",
      "          (0): Conv2d(384, 384, kernel_size=(3, 3), stride=(1, 1), padding=(1, 1), groups=384, bias=False)\n",
      "          (1): BatchNorm2d(384, eps=1e-05, momentum=0.1, affine=True, track_running_stats=True)\n",
      "          (2): ReLU6(inplace=True)\n",
      "        )\n",
      "        (2): Conv2d(384, 64, kernel_size=(1, 1), stride=(1, 1), bias=False)\n",
      "        (3): BatchNorm2d(64, eps=1e-05, momentum=0.1, affine=True, track_running_stats=True)\n",
      "      )\n",
      "    )\n",
      "    (10): InvertedResidual(\n",
      "      (conv): Sequential(\n",
      "        (0): ConvNormActivation(\n",
      "          (0): Conv2d(64, 384, kernel_size=(1, 1), stride=(1, 1), bias=False)\n",
      "          (1): BatchNorm2d(384, eps=1e-05, momentum=0.1, affine=True, track_running_stats=True)\n",
      "          (2): ReLU6(inplace=True)\n",
      "        )\n",
      "        (1): ConvNormActivation(\n",
      "          (0): Conv2d(384, 384, kernel_size=(3, 3), stride=(1, 1), padding=(1, 1), groups=384, bias=False)\n",
      "          (1): BatchNorm2d(384, eps=1e-05, momentum=0.1, affine=True, track_running_stats=True)\n",
      "          (2): ReLU6(inplace=True)\n",
      "        )\n",
      "        (2): Conv2d(384, 64, kernel_size=(1, 1), stride=(1, 1), bias=False)\n",
      "        (3): BatchNorm2d(64, eps=1e-05, momentum=0.1, affine=True, track_running_stats=True)\n",
      "      )\n",
      "    )\n",
      "    (11): InvertedResidual(\n",
      "      (conv): Sequential(\n",
      "        (0): ConvNormActivation(\n",
      "          (0): Conv2d(64, 384, kernel_size=(1, 1), stride=(1, 1), bias=False)\n",
      "          (1): BatchNorm2d(384, eps=1e-05, momentum=0.1, affine=True, track_running_stats=True)\n",
      "          (2): ReLU6(inplace=True)\n",
      "        )\n",
      "        (1): ConvNormActivation(\n",
      "          (0): Conv2d(384, 384, kernel_size=(3, 3), stride=(1, 1), padding=(1, 1), groups=384, bias=False)\n",
      "          (1): BatchNorm2d(384, eps=1e-05, momentum=0.1, affine=True, track_running_stats=True)\n",
      "          (2): ReLU6(inplace=True)\n",
      "        )\n",
      "        (2): Conv2d(384, 96, kernel_size=(1, 1), stride=(1, 1), bias=False)\n",
      "        (3): BatchNorm2d(96, eps=1e-05, momentum=0.1, affine=True, track_running_stats=True)\n",
      "      )\n",
      "    )\n",
      "    (12): InvertedResidual(\n",
      "      (conv): Sequential(\n",
      "        (0): ConvNormActivation(\n",
      "          (0): Conv2d(96, 576, kernel_size=(1, 1), stride=(1, 1), bias=False)\n",
      "          (1): BatchNorm2d(576, eps=1e-05, momentum=0.1, affine=True, track_running_stats=True)\n",
      "          (2): ReLU6(inplace=True)\n",
      "        )\n",
      "        (1): ConvNormActivation(\n",
      "          (0): Conv2d(576, 576, kernel_size=(3, 3), stride=(1, 1), padding=(1, 1), groups=576, bias=False)\n",
      "          (1): BatchNorm2d(576, eps=1e-05, momentum=0.1, affine=True, track_running_stats=True)\n",
      "          (2): ReLU6(inplace=True)\n",
      "        )\n",
      "        (2): Conv2d(576, 96, kernel_size=(1, 1), stride=(1, 1), bias=False)\n",
      "        (3): BatchNorm2d(96, eps=1e-05, momentum=0.1, affine=True, track_running_stats=True)\n",
      "      )\n",
      "    )\n",
      "    (13): InvertedResidual(\n",
      "      (conv): Sequential(\n",
      "        (0): ConvNormActivation(\n",
      "          (0): Conv2d(96, 576, kernel_size=(1, 1), stride=(1, 1), bias=False)\n",
      "          (1): BatchNorm2d(576, eps=1e-05, momentum=0.1, affine=True, track_running_stats=True)\n",
      "          (2): ReLU6(inplace=True)\n",
      "        )\n",
      "        (1): ConvNormActivation(\n",
      "          (0): Conv2d(576, 576, kernel_size=(3, 3), stride=(1, 1), padding=(1, 1), groups=576, bias=False)\n",
      "          (1): BatchNorm2d(576, eps=1e-05, momentum=0.1, affine=True, track_running_stats=True)\n",
      "          (2): ReLU6(inplace=True)\n",
      "        )\n",
      "        (2): Conv2d(576, 96, kernel_size=(1, 1), stride=(1, 1), bias=False)\n",
      "        (3): BatchNorm2d(96, eps=1e-05, momentum=0.1, affine=True, track_running_stats=True)\n",
      "      )\n",
      "    )\n",
      "    (14): InvertedResidual(\n",
      "      (conv): Sequential(\n",
      "        (0): ConvNormActivation(\n",
      "          (0): Conv2d(96, 576, kernel_size=(1, 1), stride=(1, 1), bias=False)\n",
      "          (1): BatchNorm2d(576, eps=1e-05, momentum=0.1, affine=True, track_running_stats=True)\n",
      "          (2): ReLU6(inplace=True)\n",
      "        )\n",
      "        (1): ConvNormActivation(\n",
      "          (0): Conv2d(576, 576, kernel_size=(3, 3), stride=(2, 2), padding=(1, 1), groups=576, bias=False)\n",
      "          (1): BatchNorm2d(576, eps=1e-05, momentum=0.1, affine=True, track_running_stats=True)\n",
      "          (2): ReLU6(inplace=True)\n",
      "        )\n",
      "        (2): Conv2d(576, 160, kernel_size=(1, 1), stride=(1, 1), bias=False)\n",
      "        (3): BatchNorm2d(160, eps=1e-05, momentum=0.1, affine=True, track_running_stats=True)\n",
      "      )\n",
      "    )\n",
      "    (15): InvertedResidual(\n",
      "      (conv): Sequential(\n",
      "        (0): ConvNormActivation(\n",
      "          (0): Conv2d(160, 960, kernel_size=(1, 1), stride=(1, 1), bias=False)\n",
      "          (1): BatchNorm2d(960, eps=1e-05, momentum=0.1, affine=True, track_running_stats=True)\n",
      "          (2): ReLU6(inplace=True)\n",
      "        )\n",
      "        (1): ConvNormActivation(\n",
      "          (0): Conv2d(960, 960, kernel_size=(3, 3), stride=(1, 1), padding=(1, 1), groups=960, bias=False)\n",
      "          (1): BatchNorm2d(960, eps=1e-05, momentum=0.1, affine=True, track_running_stats=True)\n",
      "          (2): ReLU6(inplace=True)\n",
      "        )\n",
      "        (2): Conv2d(960, 160, kernel_size=(1, 1), stride=(1, 1), bias=False)\n",
      "        (3): BatchNorm2d(160, eps=1e-05, momentum=0.1, affine=True, track_running_stats=True)\n",
      "      )\n",
      "    )\n",
      "    (16): InvertedResidual(\n",
      "      (conv): Sequential(\n",
      "        (0): ConvNormActivation(\n",
      "          (0): Conv2d(160, 960, kernel_size=(1, 1), stride=(1, 1), bias=False)\n",
      "          (1): BatchNorm2d(960, eps=1e-05, momentum=0.1, affine=True, track_running_stats=True)\n",
      "          (2): ReLU6(inplace=True)\n",
      "        )\n",
      "        (1): ConvNormActivation(\n",
      "          (0): Conv2d(960, 960, kernel_size=(3, 3), stride=(1, 1), padding=(1, 1), groups=960, bias=False)\n",
      "          (1): BatchNorm2d(960, eps=1e-05, momentum=0.1, affine=True, track_running_stats=True)\n",
      "          (2): ReLU6(inplace=True)\n",
      "        )\n",
      "        (2): Conv2d(960, 160, kernel_size=(1, 1), stride=(1, 1), bias=False)\n",
      "        (3): BatchNorm2d(160, eps=1e-05, momentum=0.1, affine=True, track_running_stats=True)\n",
      "      )\n",
      "    )\n",
      "    (17): InvertedResidual(\n",
      "      (conv): Sequential(\n",
      "        (0): ConvNormActivation(\n",
      "          (0): Conv2d(160, 960, kernel_size=(1, 1), stride=(1, 1), bias=False)\n",
      "          (1): BatchNorm2d(960, eps=1e-05, momentum=0.1, affine=True, track_running_stats=True)\n",
      "          (2): ReLU6(inplace=True)\n",
      "        )\n",
      "        (1): ConvNormActivation(\n",
      "          (0): Conv2d(960, 960, kernel_size=(3, 3), stride=(1, 1), padding=(1, 1), groups=960, bias=False)\n",
      "          (1): BatchNorm2d(960, eps=1e-05, momentum=0.1, affine=True, track_running_stats=True)\n",
      "          (2): ReLU6(inplace=True)\n",
      "        )\n",
      "        (2): Conv2d(960, 320, kernel_size=(1, 1), stride=(1, 1), bias=False)\n",
      "        (3): BatchNorm2d(320, eps=1e-05, momentum=0.1, affine=True, track_running_stats=True)\n",
      "      )\n",
      "    )\n",
      "    (18): ConvNormActivation(\n",
      "      (0): Conv2d(320, 1280, kernel_size=(1, 1), stride=(1, 1), bias=False)\n",
      "      (1): BatchNorm2d(1280, eps=1e-05, momentum=0.1, affine=True, track_running_stats=True)\n",
      "      (2): ReLU6(inplace=True)\n",
      "    )\n",
      "  )\n",
      "  (classifier): Sequential(\n",
      "    (0): Dropout(p=0.2, inplace=False)\n",
      "    (1): Linear(in_features=1280, out_features=2, bias=True)\n",
      "  )\n",
      ")\n"
     ]
    }
   ],
   "source": [
    "net = mobilenet_v2(pretrained=True)\n",
    "num_ftrs = net.classifier[1].in_features\n",
    "net.classifier[1] = nn.Linear(num_ftrs, 2, bias=True)\n",
    "net = net.to(device)\n",
    "print(f'number of trainable params: {count_parameters(net)}')\n",
    "print(net)"
   ]
  },
  {
   "cell_type": "code",
   "execution_count": 24,
   "id": "5416e70a-f8e0-4506-8d9d-62de033eb989",
   "metadata": {},
   "outputs": [],
   "source": [
    "criterion = nn.CrossEntropyLoss()\n",
    "optimizer = optim.Adam(net.parameters(), lr=0.001, weight_decay=1e-4)\n",
    "n_epochs = 100\n",
    "scheduler = CosineAnnealingLR(optimizer, n_epochs)"
   ]
  },
  {
   "cell_type": "code",
   "execution_count": 25,
   "id": "8c4904f3-1b48-4960-9eb3-84b054d0d3df",
   "metadata": {},
   "outputs": [
    {
     "name": "stderr",
     "output_type": "stream",
     "text": [
      "Training: 100%|██████████| 154/154 [00:15<00:00, 10.18it/s, epoch=0, loss=0.273, acc=89]  \n",
      "Validating: 100%|██████████| 819/819 [00:09<00:00, 82.52it/s, epoch=0, loss=0.0915, acc=97.6]\n"
     ]
    },
    {
     "name": "stdout",
     "output_type": "stream",
     "text": [
      "Best acc: 97.5580, saving...\n"
     ]
    },
    {
     "name": "stderr",
     "output_type": "stream",
     "text": [
      "Training: 100%|██████████| 154/154 [00:14<00:00, 10.36it/s, epoch=1, loss=0.198, acc=92.7]\n",
      "Validating: 100%|██████████| 819/819 [00:10<00:00, 81.62it/s, epoch=1, loss=0.186, acc=94.4] \n",
      "Training: 100%|██████████| 154/154 [00:14<00:00, 10.46it/s, epoch=2, loss=0.188, acc=93.2]\n",
      "Validating: 100%|██████████| 819/819 [00:09<00:00, 82.60it/s, epoch=2, loss=0.0533, acc=97.8]\n"
     ]
    },
    {
     "name": "stdout",
     "output_type": "stream",
     "text": [
      "Best acc: 97.8022, saving...\n"
     ]
    },
    {
     "name": "stderr",
     "output_type": "stream",
     "text": [
      "Training: 100%|██████████| 154/154 [00:14<00:00, 10.52it/s, epoch=3, loss=0.163, acc=94.2]\n",
      "Validating: 100%|██████████| 819/819 [00:09<00:00, 82.82it/s, epoch=3, loss=0.0526, acc=98.7]\n"
     ]
    },
    {
     "name": "stdout",
     "output_type": "stream",
     "text": [
      "Best acc: 98.6569, saving...\n"
     ]
    },
    {
     "name": "stderr",
     "output_type": "stream",
     "text": [
      "Training: 100%|██████████| 154/154 [00:14<00:00, 10.52it/s, epoch=4, loss=0.193, acc=93.3]\n",
      "Validating: 100%|██████████| 819/819 [00:09<00:00, 82.31it/s, epoch=4, loss=0.0482, acc=98.7]\n",
      "Training: 100%|██████████| 154/154 [00:14<00:00, 10.40it/s, epoch=5, loss=0.172, acc=93.3]\n",
      "Validating: 100%|██████████| 819/819 [00:09<00:00, 82.39it/s, epoch=5, loss=0.126, acc=96]   \n",
      "Training: 100%|██████████| 154/154 [00:14<00:00, 10.29it/s, epoch=6, loss=0.14, acc=95.1] \n",
      "Validating: 100%|██████████| 819/819 [00:09<00:00, 82.79it/s, epoch=6, loss=0.0541, acc=98.2]\n",
      "Training: 100%|██████████| 154/154 [00:14<00:00, 10.39it/s, epoch=7, loss=0.144, acc=94.6]\n",
      "Validating: 100%|██████████| 819/819 [00:10<00:00, 81.64it/s, epoch=7, loss=0.0347, acc=98.5]\n",
      "Training: 100%|██████████| 154/154 [00:14<00:00, 10.42it/s, epoch=8, loss=0.123, acc=95.4]\n",
      "Validating: 100%|██████████| 819/819 [00:09<00:00, 81.91it/s, epoch=8, loss=0.0394, acc=98.9]\n"
     ]
    },
    {
     "name": "stdout",
     "output_type": "stream",
     "text": [
      "Best acc: 98.9011, saving...\n"
     ]
    },
    {
     "name": "stderr",
     "output_type": "stream",
     "text": [
      "Training: 100%|██████████| 154/154 [00:14<00:00, 10.44it/s, epoch=9, loss=0.131, acc=95.1]\n",
      "Validating: 100%|██████████| 819/819 [00:09<00:00, 82.36it/s, epoch=9, loss=0.0517, acc=97.9]\n",
      "Training: 100%|██████████| 154/154 [00:14<00:00, 10.43it/s, epoch=10, loss=0.145, acc=94.6]\n",
      "Validating: 100%|██████████| 819/819 [00:10<00:00, 80.93it/s, epoch=10, loss=0.0373, acc=98.5]\n",
      "Training: 100%|██████████| 154/154 [00:14<00:00, 10.37it/s, epoch=11, loss=0.148, acc=94]  \n",
      "Validating: 100%|██████████| 819/819 [00:10<00:00, 79.78it/s, epoch=11, loss=0.0815, acc=97.2]\n",
      "Training: 100%|██████████| 154/154 [00:15<00:00, 10.24it/s, epoch=12, loss=0.126, acc=95.3]\n",
      "Validating: 100%|██████████| 819/819 [00:10<00:00, 79.02it/s, epoch=12, loss=0.0532, acc=98.3]\n",
      "Training: 100%|██████████| 154/154 [00:14<00:00, 10.46it/s, epoch=13, loss=0.12, acc=95.5] \n",
      "Validating: 100%|██████████| 819/819 [00:10<00:00, 80.01it/s, epoch=13, loss=0.0426, acc=97.9]\n",
      "Training: 100%|██████████| 154/154 [00:15<00:00, 10.22it/s, epoch=14, loss=0.121, acc=95.7]\n",
      "Validating: 100%|██████████| 819/819 [00:09<00:00, 83.04it/s, epoch=14, loss=0.0472, acc=98.3]\n",
      "Training: 100%|██████████| 154/154 [00:14<00:00, 10.47it/s, epoch=15, loss=0.135, acc=95.2]\n",
      "Validating: 100%|██████████| 819/819 [00:10<00:00, 80.85it/s, epoch=15, loss=0.0365, acc=98.8]\n",
      "Training: 100%|██████████| 154/154 [00:14<00:00, 10.43it/s, epoch=16, loss=0.14, acc=94.5] \n",
      "Validating: 100%|██████████| 819/819 [00:10<00:00, 80.79it/s, epoch=16, loss=0.0516, acc=98.3]\n",
      "Training: 100%|██████████| 154/154 [00:14<00:00, 10.43it/s, epoch=17, loss=0.104, acc=95.8]\n",
      "Validating: 100%|██████████| 819/819 [00:10<00:00, 80.37it/s, epoch=17, loss=0.0257, acc=99.4]\n"
     ]
    },
    {
     "name": "stdout",
     "output_type": "stream",
     "text": [
      "Best acc: 99.3895, saving...\n"
     ]
    },
    {
     "name": "stderr",
     "output_type": "stream",
     "text": [
      "Training: 100%|██████████| 154/154 [00:14<00:00, 10.46it/s, epoch=18, loss=0.128, acc=95.4]\n",
      "Validating: 100%|██████████| 819/819 [00:10<00:00, 80.21it/s, epoch=18, loss=0.0333, acc=99.4]\n",
      "Training: 100%|██████████| 154/154 [00:14<00:00, 10.39it/s, epoch=19, loss=0.114, acc=95.6]\n",
      "Validating: 100%|██████████| 819/819 [00:10<00:00, 80.54it/s, epoch=19, loss=0.0541, acc=98.8]\n",
      "Training: 100%|██████████| 154/154 [00:14<00:00, 10.39it/s, epoch=20, loss=0.117, acc=95.6]\n",
      "Validating: 100%|██████████| 819/819 [00:10<00:00, 80.74it/s, epoch=20, loss=0.0458, acc=98.3]\n",
      "Training: 100%|██████████| 154/154 [00:14<00:00, 10.39it/s, epoch=21, loss=0.104, acc=95.8] \n",
      "Validating: 100%|██████████| 819/819 [00:10<00:00, 80.39it/s, epoch=21, loss=0.0637, acc=97.1]\n",
      "Training: 100%|██████████| 154/154 [00:14<00:00, 10.42it/s, epoch=22, loss=0.128, acc=95.4]\n",
      "Validating: 100%|██████████| 819/819 [00:09<00:00, 81.96it/s, epoch=22, loss=0.0342, acc=98.9]\n",
      "Training: 100%|██████████| 154/154 [00:14<00:00, 10.36it/s, epoch=23, loss=0.103, acc=96.3] \n",
      "Validating: 100%|██████████| 819/819 [00:10<00:00, 80.94it/s, epoch=23, loss=0.0447, acc=98.8]\n",
      "Training: 100%|██████████| 154/154 [00:14<00:00, 10.46it/s, epoch=24, loss=0.125, acc=95.2]\n",
      "Validating: 100%|██████████| 819/819 [00:10<00:00, 81.09it/s, epoch=24, loss=0.0476, acc=99]  \n",
      "Training: 100%|██████████| 154/154 [00:14<00:00, 10.39it/s, epoch=25, loss=0.0961, acc=96.3]\n",
      "Validating: 100%|██████████| 819/819 [00:10<00:00, 81.40it/s, epoch=25, loss=0.0322, acc=99.4]\n",
      "Training: 100%|██████████| 154/154 [00:14<00:00, 10.27it/s, epoch=26, loss=0.116, acc=95.9]\n",
      "Validating: 100%|██████████| 819/819 [00:10<00:00, 81.03it/s, epoch=26, loss=0.0238, acc=98.9]\n",
      "Training: 100%|██████████| 154/154 [00:14<00:00, 10.46it/s, epoch=27, loss=0.0989, acc=96.3]\n",
      "Validating: 100%|██████████| 819/819 [00:10<00:00, 80.19it/s, epoch=27, loss=0.0182, acc=99.5]\n"
     ]
    },
    {
     "name": "stdout",
     "output_type": "stream",
     "text": [
      "Best acc: 99.5116, saving...\n"
     ]
    },
    {
     "name": "stderr",
     "output_type": "stream",
     "text": [
      "Training: 100%|██████████| 154/154 [00:14<00:00, 10.42it/s, epoch=28, loss=0.0917, acc=96.9]\n",
      "Validating: 100%|██████████| 819/819 [00:09<00:00, 81.94it/s, epoch=28, loss=0.0584, acc=97.9]\n",
      "Training: 100%|██████████| 154/154 [00:14<00:00, 10.27it/s, epoch=29, loss=0.125, acc=95.3] \n",
      "Validating: 100%|██████████| 819/819 [00:10<00:00, 81.76it/s, epoch=29, loss=0.145, acc=96.2]\n",
      "Training: 100%|██████████| 154/154 [00:14<00:00, 10.37it/s, epoch=30, loss=0.121, acc=95.4]\n",
      "Validating: 100%|██████████| 819/819 [00:10<00:00, 81.42it/s, epoch=30, loss=0.106, acc=96.9] \n",
      "Training: 100%|██████████| 154/154 [00:14<00:00, 10.44it/s, epoch=31, loss=0.101, acc=96.4] \n",
      "Validating: 100%|██████████| 819/819 [00:10<00:00, 80.37it/s, epoch=31, loss=0.0296, acc=98.9]\n",
      "Training: 100%|██████████| 154/154 [00:14<00:00, 10.42it/s, epoch=32, loss=0.107, acc=95.7] \n",
      "Validating: 100%|██████████| 819/819 [00:10<00:00, 81.22it/s, epoch=32, loss=0.0744, acc=98]  \n",
      "Training: 100%|██████████| 154/154 [00:14<00:00, 10.41it/s, epoch=33, loss=0.103, acc=96]   \n",
      "Validating: 100%|██████████| 819/819 [00:10<00:00, 81.39it/s, epoch=33, loss=0.051, acc=98.2] \n",
      "Training: 100%|██████████| 154/154 [00:14<00:00, 10.42it/s, epoch=34, loss=0.126, acc=95.6]\n",
      "Validating: 100%|██████████| 819/819 [00:10<00:00, 80.20it/s, epoch=34, loss=0.0276, acc=99.3]\n",
      "Training: 100%|██████████| 154/154 [00:14<00:00, 10.37it/s, epoch=35, loss=0.0993, acc=96.5]\n",
      "Validating: 100%|██████████| 819/819 [00:10<00:00, 81.34it/s, epoch=35, loss=0.0133, acc=99.6]\n"
     ]
    },
    {
     "name": "stdout",
     "output_type": "stream",
     "text": [
      "Best acc: 99.6337, saving...\n"
     ]
    },
    {
     "name": "stderr",
     "output_type": "stream",
     "text": [
      "Training: 100%|██████████| 154/154 [00:14<00:00, 10.39it/s, epoch=36, loss=0.115, acc=96]  \n",
      "Validating: 100%|██████████| 819/819 [00:10<00:00, 81.10it/s, epoch=36, loss=0.0273, acc=98.9]\n",
      "Training: 100%|██████████| 154/154 [00:14<00:00, 10.41it/s, epoch=37, loss=0.0936, acc=96.5]\n",
      "Validating: 100%|██████████| 819/819 [00:10<00:00, 81.49it/s, epoch=37, loss=0.0203, acc=99.4]\n",
      "Training: 100%|██████████| 154/154 [00:14<00:00, 10.39it/s, epoch=38, loss=0.0998, acc=96.3]\n",
      "Validating: 100%|██████████| 819/819 [00:10<00:00, 81.31it/s, epoch=38, loss=0.0331, acc=98.9]\n",
      "Training: 100%|██████████| 154/154 [00:14<00:00, 10.51it/s, epoch=39, loss=0.0937, acc=96.9]\n",
      "Validating: 100%|██████████| 819/819 [00:10<00:00, 80.91it/s, epoch=39, loss=0.023, acc=99.8] \n"
     ]
    },
    {
     "name": "stdout",
     "output_type": "stream",
     "text": [
      "Best acc: 99.7558, saving...\n"
     ]
    },
    {
     "name": "stderr",
     "output_type": "stream",
     "text": [
      "Training: 100%|██████████| 154/154 [00:14<00:00, 10.39it/s, epoch=40, loss=0.0827, acc=97.1]\n",
      "Validating: 100%|██████████| 819/819 [00:10<00:00, 81.01it/s, epoch=40, loss=0.0176, acc=99.5]\n",
      "Training: 100%|██████████| 154/154 [00:14<00:00, 10.44it/s, epoch=41, loss=0.066, acc=97.8] \n",
      "Validating: 100%|██████████| 819/819 [00:10<00:00, 80.70it/s, epoch=41, loss=0.0215, acc=99.6]\n",
      "Training: 100%|██████████| 154/154 [00:14<00:00, 10.44it/s, epoch=42, loss=0.084, acc=96.5] \n",
      "Validating: 100%|██████████| 819/819 [00:10<00:00, 80.34it/s, epoch=42, loss=0.0257, acc=99.4]\n",
      "Training: 100%|██████████| 154/154 [00:14<00:00, 10.47it/s, epoch=43, loss=0.0993, acc=96.3]\n",
      "Validating: 100%|██████████| 819/819 [00:10<00:00, 80.97it/s, epoch=43, loss=0.0172, acc=99.4] \n",
      "Training: 100%|██████████| 154/154 [00:14<00:00, 10.35it/s, epoch=44, loss=0.066, acc=97.3] \n",
      "Validating: 100%|██████████| 819/819 [00:10<00:00, 81.12it/s, epoch=44, loss=0.0113, acc=99.6] \n",
      "Training: 100%|██████████| 154/154 [00:14<00:00, 10.46it/s, epoch=45, loss=0.0843, acc=96.7]\n",
      "Validating: 100%|██████████| 819/819 [00:10<00:00, 80.47it/s, epoch=45, loss=0.0225, acc=99.3]\n",
      "Training: 100%|██████████| 154/154 [00:14<00:00, 10.50it/s, epoch=46, loss=0.0871, acc=97]  \n",
      "Validating: 100%|██████████| 819/819 [00:10<00:00, 80.35it/s, epoch=46, loss=0.0234, acc=99.6]\n",
      "Training: 100%|██████████| 154/154 [00:14<00:00, 10.39it/s, epoch=47, loss=0.0754, acc=97.2]\n",
      "Validating: 100%|██████████| 819/819 [00:10<00:00, 81.36it/s, epoch=47, loss=0.0209, acc=99.5]\n",
      "Training: 100%|██████████| 154/154 [00:14<00:00, 10.40it/s, epoch=48, loss=0.0656, acc=97.6]\n",
      "Validating: 100%|██████████| 819/819 [00:10<00:00, 81.05it/s, epoch=48, loss=0.0133, acc=99.9]\n"
     ]
    },
    {
     "name": "stdout",
     "output_type": "stream",
     "text": [
      "Best acc: 99.8779, saving...\n"
     ]
    },
    {
     "name": "stderr",
     "output_type": "stream",
     "text": [
      "Training: 100%|██████████| 154/154 [00:14<00:00, 10.43it/s, epoch=49, loss=0.0691, acc=97.6]\n",
      "Validating: 100%|██████████| 819/819 [00:10<00:00, 79.99it/s, epoch=49, loss=0.0162, acc=99.8] \n",
      "Training: 100%|██████████| 154/154 [00:14<00:00, 10.46it/s, epoch=50, loss=0.0693, acc=97.6]\n",
      "Validating: 100%|██████████| 819/819 [00:10<00:00, 80.54it/s, epoch=50, loss=0.022, acc=99.6] \n",
      "Training: 100%|██████████| 154/154 [00:14<00:00, 10.46it/s, epoch=51, loss=0.0624, acc=97.8]\n",
      "Validating: 100%|██████████| 819/819 [00:10<00:00, 80.60it/s, epoch=51, loss=0.0223, acc=99.4]\n",
      "Training: 100%|██████████| 154/154 [00:14<00:00, 10.43it/s, epoch=52, loss=0.0797, acc=97.7]\n",
      "Validating: 100%|██████████| 819/819 [00:10<00:00, 80.13it/s, epoch=52, loss=0.0249, acc=99.3]\n",
      "Training: 100%|██████████| 154/154 [00:14<00:00, 10.51it/s, epoch=53, loss=0.063, acc=97.8] \n",
      "Validating: 100%|██████████| 819/819 [00:10<00:00, 81.26it/s, epoch=53, loss=0.0229, acc=99.4]\n",
      "Training: 100%|██████████| 154/154 [00:15<00:00, 10.21it/s, epoch=54, loss=0.0675, acc=97.5]\n",
      "Validating: 100%|██████████| 819/819 [00:10<00:00, 79.37it/s, epoch=54, loss=0.0137, acc=99.9]\n",
      "Training: 100%|██████████| 154/154 [00:14<00:00, 10.47it/s, epoch=55, loss=0.0747, acc=97.3]\n",
      "Validating: 100%|██████████| 819/819 [00:10<00:00, 81.34it/s, epoch=55, loss=0.0115, acc=99.9]\n",
      "Training: 100%|██████████| 154/154 [00:14<00:00, 10.47it/s, epoch=56, loss=0.0549, acc=97.8]\n",
      "Validating: 100%|██████████| 819/819 [00:10<00:00, 80.39it/s, epoch=56, loss=0.0186, acc=99.8]\n",
      "Training: 100%|██████████| 154/154 [00:14<00:00, 10.36it/s, epoch=57, loss=0.0499, acc=98.2]\n",
      "Validating: 100%|██████████| 819/819 [00:10<00:00, 80.74it/s, epoch=57, loss=0.0208, acc=99.8]\n",
      "Training: 100%|██████████| 154/154 [00:14<00:00, 10.39it/s, epoch=58, loss=0.0621, acc=98.1]\n",
      "Validating: 100%|██████████| 819/819 [00:10<00:00, 79.33it/s, epoch=58, loss=0.0151, acc=99.8] \n",
      "Training: 100%|██████████| 154/154 [00:14<00:00, 10.45it/s, epoch=59, loss=0.0524, acc=98.1]\n",
      "Validating: 100%|██████████| 819/819 [00:10<00:00, 78.85it/s, epoch=59, loss=0.0183, acc=99.6]\n",
      "Training: 100%|██████████| 154/154 [00:14<00:00, 10.47it/s, epoch=60, loss=0.0432, acc=98.8]\n",
      "Validating: 100%|██████████| 819/819 [00:10<00:00, 80.35it/s, epoch=60, loss=0.0164, acc=99.4] \n",
      "Training: 100%|██████████| 154/154 [00:14<00:00, 10.43it/s, epoch=61, loss=0.0462, acc=98.2]\n",
      "Validating: 100%|██████████| 819/819 [00:10<00:00, 80.85it/s, epoch=61, loss=0.0161, acc=99.8] \n",
      "Training: 100%|██████████| 154/154 [00:14<00:00, 10.47it/s, epoch=62, loss=0.0408, acc=98.5]\n",
      "Validating: 100%|██████████| 819/819 [00:10<00:00, 78.59it/s, epoch=62, loss=0.022, acc=99.6] \n",
      "Training: 100%|██████████| 154/154 [00:14<00:00, 10.43it/s, epoch=63, loss=0.0682, acc=97.8]\n",
      "Validating: 100%|██████████| 819/819 [00:10<00:00, 80.18it/s, epoch=63, loss=0.0165, acc=99.5]\n",
      "Training: 100%|██████████| 154/154 [00:14<00:00, 10.47it/s, epoch=64, loss=0.0516, acc=98.1]\n",
      "Validating: 100%|██████████| 819/819 [00:10<00:00, 80.98it/s, epoch=64, loss=0.00897, acc=99.8]\n",
      "Training: 100%|██████████| 154/154 [00:14<00:00, 10.40it/s, epoch=65, loss=0.0436, acc=98.4]\n",
      "Validating: 100%|██████████| 819/819 [00:10<00:00, 79.86it/s, epoch=65, loss=0.013, acc=99.9] \n",
      "Training: 100%|██████████| 154/154 [00:14<00:00, 10.42it/s, epoch=66, loss=0.0448, acc=98.3]\n",
      "Validating: 100%|██████████| 819/819 [00:10<00:00, 80.22it/s, epoch=66, loss=0.022, acc=99.3]  \n",
      "Training: 100%|██████████| 154/154 [00:14<00:00, 10.40it/s, epoch=67, loss=0.0483, acc=98]  \n",
      "Validating: 100%|██████████| 819/819 [00:10<00:00, 80.70it/s, epoch=67, loss=0.0159, acc=99.8] \n",
      "Training: 100%|██████████| 154/154 [00:14<00:00, 10.48it/s, epoch=68, loss=0.0382, acc=98.6]\n",
      "Validating: 100%|██████████| 819/819 [00:10<00:00, 80.64it/s, epoch=68, loss=0.00681, acc=99.9]\n",
      "Training: 100%|██████████| 154/154 [00:14<00:00, 10.40it/s, epoch=69, loss=0.0314, acc=99]  \n",
      "Validating: 100%|██████████| 819/819 [00:10<00:00, 80.34it/s, epoch=69, loss=0.0269, acc=99.1]\n",
      "Training: 100%|██████████| 154/154 [00:14<00:00, 10.47it/s, epoch=70, loss=0.0449, acc=98.2]\n",
      "Validating: 100%|██████████| 819/819 [00:10<00:00, 79.95it/s, epoch=70, loss=0.0135, acc=99.8] \n",
      "Training: 100%|██████████| 154/154 [00:14<00:00, 10.45it/s, epoch=71, loss=0.0593, acc=97.6]\n",
      "Validating: 100%|██████████| 819/819 [00:10<00:00, 80.54it/s, epoch=71, loss=0.0103, acc=99.6] \n",
      "Training: 100%|██████████| 154/154 [00:14<00:00, 10.45it/s, epoch=72, loss=0.0381, acc=98.3]\n",
      "Validating: 100%|██████████| 819/819 [00:10<00:00, 80.72it/s, epoch=72, loss=0.0168, acc=99.5]\n",
      "Training: 100%|██████████| 154/154 [00:14<00:00, 10.29it/s, epoch=73, loss=0.0476, acc=98.1]\n",
      "Validating: 100%|██████████| 819/819 [00:10<00:00, 81.18it/s, epoch=73, loss=0.0164, acc=99.6]\n",
      "Training: 100%|██████████| 154/154 [00:14<00:00, 10.38it/s, epoch=74, loss=0.0534, acc=97.7]\n",
      "Validating: 100%|██████████| 819/819 [00:10<00:00, 80.65it/s, epoch=74, loss=0.00903, acc=99.9]\n",
      "Training: 100%|██████████| 154/154 [00:14<00:00, 10.40it/s, epoch=75, loss=0.0523, acc=98.1]\n",
      "Validating: 100%|██████████| 819/819 [00:10<00:00, 81.13it/s, epoch=75, loss=0.0103, acc=99.9]\n",
      "Training: 100%|██████████| 154/154 [00:14<00:00, 10.49it/s, epoch=76, loss=0.0397, acc=98.2]\n",
      "Validating: 100%|██████████| 819/819 [00:10<00:00, 80.97it/s, epoch=76, loss=0.0131, acc=99.8] \n",
      "Training: 100%|██████████| 154/154 [00:14<00:00, 10.45it/s, epoch=77, loss=0.0295, acc=99]  \n",
      "Validating: 100%|██████████| 819/819 [00:10<00:00, 81.04it/s, epoch=77, loss=0.0115, acc=99.9]\n",
      "Training: 100%|██████████| 154/154 [00:14<00:00, 10.47it/s, epoch=78, loss=0.043, acc=98.2] \n",
      "Validating: 100%|██████████| 819/819 [00:10<00:00, 81.34it/s, epoch=78, loss=0.0122, acc=99.9]\n",
      "Training: 100%|██████████| 154/154 [00:14<00:00, 10.32it/s, epoch=79, loss=0.0291, acc=98.9]\n",
      "Validating: 100%|██████████| 819/819 [00:10<00:00, 79.27it/s, epoch=79, loss=0.015, acc=99.8]  \n",
      "Training: 100%|██████████| 154/154 [00:14<00:00, 10.49it/s, epoch=80, loss=0.0321, acc=98.8]\n",
      "Validating: 100%|██████████| 819/819 [00:10<00:00, 80.61it/s, epoch=80, loss=0.0164, acc=99.6] \n",
      "Training: 100%|██████████| 154/154 [00:14<00:00, 10.37it/s, epoch=81, loss=0.0405, acc=98.2]\n",
      "Validating: 100%|██████████| 819/819 [00:10<00:00, 79.91it/s, epoch=81, loss=0.0139, acc=99.9]\n",
      "Training: 100%|██████████| 154/154 [00:14<00:00, 10.45it/s, epoch=82, loss=0.0307, acc=98.9]\n",
      "Validating: 100%|██████████| 819/819 [00:10<00:00, 80.34it/s, epoch=82, loss=0.0123, acc=99.9]\n",
      "Training: 100%|██████████| 154/154 [00:14<00:00, 10.46it/s, epoch=83, loss=0.0257, acc=99]  \n",
      "Validating: 100%|██████████| 819/819 [00:09<00:00, 86.28it/s, epoch=83, loss=0.014, acc=99.9] \n",
      "Training: 100%|██████████| 154/154 [00:14<00:00, 10.57it/s, epoch=84, loss=0.0344, acc=98.7]\n",
      "Validating: 100%|██████████| 819/819 [00:09<00:00, 85.10it/s, epoch=84, loss=0.0137, acc=99.9]\n",
      "Training: 100%|██████████| 154/154 [00:14<00:00, 10.46it/s, epoch=85, loss=0.031, acc=98.9] \n",
      "Validating: 100%|██████████| 819/819 [00:09<00:00, 83.35it/s, epoch=85, loss=0.012, acc=99.9] \n",
      "Training: 100%|██████████| 154/154 [00:14<00:00, 10.43it/s, epoch=86, loss=0.0269, acc=98.9]\n",
      "Validating: 100%|██████████| 819/819 [00:09<00:00, 83.74it/s, epoch=86, loss=0.0127, acc=99.9]\n",
      "Training: 100%|██████████| 154/154 [00:14<00:00, 10.57it/s, epoch=87, loss=0.0247, acc=99.1]\n",
      "Validating: 100%|██████████| 819/819 [00:09<00:00, 86.01it/s, epoch=87, loss=0.0122, acc=99.9]\n",
      "Training: 100%|██████████| 154/154 [00:14<00:00, 10.55it/s, epoch=88, loss=0.0304, acc=98.9]\n",
      "Validating: 100%|██████████| 819/819 [00:09<00:00, 87.38it/s, epoch=88, loss=0.013, acc=99.9] \n",
      "Training: 100%|██████████| 154/154 [00:14<00:00, 10.64it/s, epoch=89, loss=0.0323, acc=98.8]\n",
      "Validating: 100%|██████████| 819/819 [00:09<00:00, 84.43it/s, epoch=89, loss=0.0144, acc=99.8] \n",
      "Training: 100%|██████████| 154/154 [00:14<00:00, 10.41it/s, epoch=90, loss=0.0263, acc=99.1]\n",
      "Validating: 100%|██████████| 819/819 [00:09<00:00, 86.42it/s, epoch=90, loss=0.0134, acc=99.9] \n",
      "Training: 100%|██████████| 154/154 [00:14<00:00, 10.54it/s, epoch=91, loss=0.0285, acc=99.1]\n",
      "Validating: 100%|██████████| 819/819 [00:09<00:00, 86.60it/s, epoch=91, loss=0.0125, acc=99.9]\n",
      "Training: 100%|██████████| 154/154 [00:14<00:00, 10.62it/s, epoch=92, loss=0.0227, acc=99.2]\n",
      "Validating: 100%|██████████| 819/819 [00:09<00:00, 85.02it/s, epoch=92, loss=0.0127, acc=99.9]\n",
      "Training: 100%|██████████| 154/154 [00:14<00:00, 10.37it/s, epoch=93, loss=0.0274, acc=98.9]\n",
      "Validating: 100%|██████████| 819/819 [00:10<00:00, 81.82it/s, epoch=93, loss=0.014, acc=99.8]  \n",
      "Training: 100%|██████████| 154/154 [00:14<00:00, 10.50it/s, epoch=94, loss=0.0297, acc=98.7]\n",
      "Validating: 100%|██████████| 819/819 [00:10<00:00, 81.27it/s, epoch=94, loss=0.0129, acc=99.9]\n",
      "Training: 100%|██████████| 154/154 [00:14<00:00, 10.49it/s, epoch=95, loss=0.0266, acc=98.8]\n",
      "Validating: 100%|██████████| 819/819 [00:10<00:00, 81.27it/s, epoch=95, loss=0.0139, acc=99.9] \n",
      "Training: 100%|██████████| 154/154 [00:14<00:00, 10.49it/s, epoch=96, loss=0.0355, acc=98.7]\n",
      "Validating: 100%|██████████| 819/819 [00:10<00:00, 81.64it/s, epoch=96, loss=0.012, acc=99.9] \n",
      "Training: 100%|██████████| 154/154 [00:14<00:00, 10.48it/s, epoch=97, loss=0.0253, acc=99]  \n",
      "Validating: 100%|██████████| 819/819 [00:09<00:00, 82.52it/s, epoch=97, loss=0.0135, acc=99.9] \n",
      "Training: 100%|██████████| 154/154 [00:14<00:00, 10.53it/s, epoch=98, loss=0.0314, acc=98.8]\n",
      "Validating: 100%|██████████| 819/819 [00:10<00:00, 81.14it/s, epoch=98, loss=0.0122, acc=99.9]\n",
      "Training: 100%|██████████| 154/154 [00:14<00:00, 10.52it/s, epoch=99, loss=0.0293, acc=99]  \n",
      "Validating: 100%|██████████| 819/819 [00:10<00:00, 81.84it/s, epoch=99, loss=0.012, acc=99.9] "
     ]
    },
    {
     "name": "stdout",
     "output_type": "stream",
     "text": [
      "time taken: 2484.7482s\n"
     ]
    },
    {
     "name": "stderr",
     "output_type": "stream",
     "text": [
      "\n"
     ]
    }
   ],
   "source": [
    "start = time.time()\n",
    "best_acc = 0.0\n",
    "train_acc_ = []\n",
    "train_loss_ = []\n",
    "valid_acc_ = []\n",
    "valid_loss_ = []\n",
    "epoch_ = []\n",
    "lr_ = []\n",
    "for epoch in range(n_epochs):\n",
    "    train_acc, train_loss = train(epoch, trainloader, net)\n",
    "    val_acc, val_loss = valid(epoch, valloader, net)\n",
    "    train_acc_.append(train_acc)\n",
    "    train_loss_.append(train_loss)\n",
    "    valid_acc_.append(val_acc)\n",
    "    valid_loss_.append(val_loss)\n",
    "    scheduler.step()\n",
    "    if (val_acc > best_acc):\n",
    "        best_acc = val_acc\n",
    "        print(f'Best acc: {best_acc:.4f}, saving...')\n",
    "        torch.save(net, f'models/{datetime.now().strftime(\"%d%m%Y_%H%M%S\")}_mobilenetv2_{best_acc:.4f}_epoch_{epoch}.pth')\n",
    "        epoch_.append(epoch)\n",
    "end = time.time()\n",
    "print(f'time taken: {(end-start):.4f}s')"
   ]
  },
  {
   "cell_type": "code",
   "execution_count": 26,
   "id": "2ccd6b9a-1ae8-4ff7-b917-139c19edb4b2",
   "metadata": {},
   "outputs": [
    {
     "name": "stdout",
     "output_type": "stream",
     "text": [
      "train_acc: 99.02\n",
      "val_acc: 99.88\n",
      "last model path: models/08012022_010637_mobilenetv2_99.02_99.88_last.pth\n"
     ]
    }
   ],
   "source": [
    "print(f'train_acc: {train_acc:.2f}')\n",
    "print(f'val_acc: {val_acc:.2f}')\n",
    "model_path = f'models/{datetime.now().strftime(\"%d%m%Y_%H%M%S\")}_mobilenetv2_{train_acc:.2f}_{val_acc:.2f}_last.pth'\n",
    "print(f'last model path: {model_path}')\n",
    "torch.save(net, model_path)"
   ]
  },
  {
   "cell_type": "code",
   "execution_count": 27,
   "id": "925e1695-af83-485a-ba33-f47794012577",
   "metadata": {},
   "outputs": [
    {
     "data": {
      "image/png": "[encoded data removed]",
      "text/plain": [
       "<Figure size 720x360 with 1 Axes>"
      ]
     },
     "metadata": {
      "needs_background": "light"
     },
     "output_type": "display_data"
    },
    {
     "data": {
      "image/png": "[encoded data removed]",
      "text/plain": [
       "<Figure size 720x360 with 1 Axes>"
      ]
     },
     "metadata": {
      "needs_background": "light"
     },
     "output_type": "display_data"
    },
    {
     "data": {
      "image/png": "[encoded data removed]",
      "text/plain": [
       "<Figure size 720x360 with 1 Axes>"
      ]
     },
     "metadata": {
      "needs_background": "light"
     },
     "output_type": "display_data"
    }
   ],
   "source": [
    "plt.figure(figsize=(10,5))\n",
    "plt.axvline(epoch_[-1], 0, 1, c='g', ls='--', lw=2, label='best')\n",
    "plt.plot(range(n_epochs), train_loss_, 'b', label='train')\n",
    "plt.plot(range(n_epochs), valid_loss_, 'r', label='valid')\n",
    "plt.xlabel('epochs')\n",
    "plt.ylabel('loss')\n",
    "plt.title('Loss vs Epoch')\n",
    "plt.legend()\n",
    "plt.show()\n",
    "\n",
    "plt.figure(figsize=(10,5))\n",
    "plt.axvline(epoch_[-1], 0, 1, c='g', ls='--', lw=2, label='best')\n",
    "plt.plot(range(n_epochs), train_acc_, 'b', label='train')\n",
    "plt.plot(range(n_epochs), valid_acc_, 'r', label='valid')\n",
    "plt.xlabel('epochs')\n",
    "plt.ylabel('acc')\n",
    "plt.title('Accuracy vs Epoch')\n",
    "plt.legend()\n",
    "plt.show()\n",
    "\n",
    "plt.figure(figsize=(10,5))\n",
    "plt.axvline(epoch_[-1], 0, 1, c='g', ls='--', lw=2, label='best')\n",
    "plt.plot(range(n_epochs), lr_, 'b', label='lr')\n",
    "plt.xlabel('epochs')\n",
    "plt.ylabel('lr')\n",
    "plt.title('Learning Rate vs Epoch')\n",
    "plt.legend()\n",
    "plt.show()"
   ]
  },
  {
   "cell_type": "code",
   "execution_count": 28,
   "id": "b926fcc3-2bee-4280-9be6-00f26e44ee3d",
   "metadata": {},
   "outputs": [],
   "source": [
    "plotTotal.append([net, train_acc_, train_loss_])"
   ]
  },
  {
   "cell_type": "markdown",
   "id": "d526ec12-c836-4d13-bd8f-67e9c52e370a",
   "metadata": {},
   "source": [
    "## Densenet121"
   ]
  },
  {
   "cell_type": "code",
   "execution_count": 29,
   "id": "179c1cf1-4c85-4e69-8849-c41528b32dd8",
   "metadata": {},
   "outputs": [
    {
     "name": "stdout",
     "output_type": "stream",
     "text": [
      "number of trainable params: 6955906\n",
      "DenseNet(\n",
      "  (features): Sequential(\n",
      "    (conv0): Conv2d(3, 64, kernel_size=(7, 7), stride=(2, 2), padding=(3, 3), bias=False)\n",
      "    (norm0): BatchNorm2d(64, eps=1e-05, momentum=0.1, affine=True, track_running_stats=True)\n",
      "    (relu0): ReLU(inplace=True)\n",
      "    (pool0): MaxPool2d(kernel_size=3, stride=2, padding=1, dilation=1, ceil_mode=False)\n",
      "    (denseblock1): _DenseBlock(\n",
      "      (denselayer1): _DenseLayer(\n",
      "        (norm1): BatchNorm2d(64, eps=1e-05, momentum=0.1, affine=True, track_running_stats=True)\n",
      "        (relu1): ReLU(inplace=True)\n",
      "        (conv1): Conv2d(64, 128, kernel_size=(1, 1), stride=(1, 1), bias=False)\n",
      "        (norm2): BatchNorm2d(128, eps=1e-05, momentum=0.1, affine=True, track_running_stats=True)\n",
      "        (relu2): ReLU(inplace=True)\n",
      "        (conv2): Conv2d(128, 32, kernel_size=(3, 3), stride=(1, 1), padding=(1, 1), bias=False)\n",
      "      )\n",
      "      (denselayer2): _DenseLayer(\n",
      "        (norm1): BatchNorm2d(96, eps=1e-05, momentum=0.1, affine=True, track_running_stats=True)\n",
      "        (relu1): ReLU(inplace=True)\n",
      "        (conv1): Conv2d(96, 128, kernel_size=(1, 1), stride=(1, 1), bias=False)\n",
      "        (norm2): BatchNorm2d(128, eps=1e-05, momentum=0.1, affine=True, track_running_stats=True)\n",
      "        (relu2): ReLU(inplace=True)\n",
      "        (conv2): Conv2d(128, 32, kernel_size=(3, 3), stride=(1, 1), padding=(1, 1), bias=False)\n",
      "      )\n",
      "      (denselayer3): _DenseLayer(\n",
      "        (norm1): BatchNorm2d(128, eps=1e-05, momentum=0.1, affine=True, track_running_stats=True)\n",
      "        (relu1): ReLU(inplace=True)\n",
      "        (conv1): Conv2d(128, 128, kernel_size=(1, 1), stride=(1, 1), bias=False)\n",
      "        (norm2): BatchNorm2d(128, eps=1e-05, momentum=0.1, affine=True, track_running_stats=True)\n",
      "        (relu2): ReLU(inplace=True)\n",
      "        (conv2): Conv2d(128, 32, kernel_size=(3, 3), stride=(1, 1), padding=(1, 1), bias=False)\n",
      "      )\n",
      "      (denselayer4): _DenseLayer(\n",
      "        (norm1): BatchNorm2d(160, eps=1e-05, momentum=0.1, affine=True, track_running_stats=True)\n",
      "        (relu1): ReLU(inplace=True)\n",
      "        (conv1): Conv2d(160, 128, kernel_size=(1, 1), stride=(1, 1), bias=False)\n",
      "        (norm2): BatchNorm2d(128, eps=1e-05, momentum=0.1, affine=True, track_running_stats=True)\n",
      "        (relu2): ReLU(inplace=True)\n",
      "        (conv2): Conv2d(128, 32, kernel_size=(3, 3), stride=(1, 1), padding=(1, 1), bias=False)\n",
      "      )\n",
      "      (denselayer5): _DenseLayer(\n",
      "        (norm1): BatchNorm2d(192, eps=1e-05, momentum=0.1, affine=True, track_running_stats=True)\n",
      "        (relu1): ReLU(inplace=True)\n",
      "        (conv1): Conv2d(192, 128, kernel_size=(1, 1), stride=(1, 1), bias=False)\n",
      "        (norm2): BatchNorm2d(128, eps=1e-05, momentum=0.1, affine=True, track_running_stats=True)\n",
      "        (relu2): ReLU(inplace=True)\n",
      "        (conv2): Conv2d(128, 32, kernel_size=(3, 3), stride=(1, 1), padding=(1, 1), bias=False)\n",
      "      )\n",
      "      (denselayer6): _DenseLayer(\n",
      "        (norm1): BatchNorm2d(224, eps=1e-05, momentum=0.1, affine=True, track_running_stats=True)\n",
      "        (relu1): ReLU(inplace=True)\n",
      "        (conv1): Conv2d(224, 128, kernel_size=(1, 1), stride=(1, 1), bias=False)\n",
      "        (norm2): BatchNorm2d(128, eps=1e-05, momentum=0.1, affine=True, track_running_stats=True)\n",
      "        (relu2): ReLU(inplace=True)\n",
      "        (conv2): Conv2d(128, 32, kernel_size=(3, 3), stride=(1, 1), padding=(1, 1), bias=False)\n",
      "      )\n",
      "    )\n",
      "    (transition1): _Transition(\n",
      "      (norm): BatchNorm2d(256, eps=1e-05, momentum=0.1, affine=True, track_running_stats=True)\n",
      "      (relu): ReLU(inplace=True)\n",
      "      (conv): Conv2d(256, 128, kernel_size=(1, 1), stride=(1, 1), bias=False)\n",
      "      (pool): AvgPool2d(kernel_size=2, stride=2, padding=0)\n",
      "    )\n",
      "    (denseblock2): _DenseBlock(\n",
      "      (denselayer1): _DenseLayer(\n",
      "        (norm1): BatchNorm2d(128, eps=1e-05, momentum=0.1, affine=True, track_running_stats=True)\n",
      "        (relu1): ReLU(inplace=True)\n",
      "        (conv1): Conv2d(128, 128, kernel_size=(1, 1), stride=(1, 1), bias=False)\n",
      "        (norm2): BatchNorm2d(128, eps=1e-05, momentum=0.1, affine=True, track_running_stats=True)\n",
      "        (relu2): ReLU(inplace=True)\n",
      "        (conv2): Conv2d(128, 32, kernel_size=(3, 3), stride=(1, 1), padding=(1, 1), bias=False)\n",
      "      )\n",
      "      (denselayer2): _DenseLayer(\n",
      "        (norm1): BatchNorm2d(160, eps=1e-05, momentum=0.1, affine=True, track_running_stats=True)\n",
      "        (relu1): ReLU(inplace=True)\n",
      "        (conv1): Conv2d(160, 128, kernel_size=(1, 1), stride=(1, 1), bias=False)\n",
      "        (norm2): BatchNorm2d(128, eps=1e-05, momentum=0.1, affine=True, track_running_stats=True)\n",
      "        (relu2): ReLU(inplace=True)\n",
      "        (conv2): Conv2d(128, 32, kernel_size=(3, 3), stride=(1, 1), padding=(1, 1), bias=False)\n",
      "      )\n",
      "      (denselayer3): _DenseLayer(\n",
      "        (norm1): BatchNorm2d(192, eps=1e-05, momentum=0.1, affine=True, track_running_stats=True)\n",
      "        (relu1): ReLU(inplace=True)\n",
      "        (conv1): Conv2d(192, 128, kernel_size=(1, 1), stride=(1, 1), bias=False)\n",
      "        (norm2): BatchNorm2d(128, eps=1e-05, momentum=0.1, affine=True, track_running_stats=True)\n",
      "        (relu2): ReLU(inplace=True)\n",
      "        (conv2): Conv2d(128, 32, kernel_size=(3, 3), stride=(1, 1), padding=(1, 1), bias=False)\n",
      "      )\n",
      "      (denselayer4): _DenseLayer(\n",
      "        (norm1): BatchNorm2d(224, eps=1e-05, momentum=0.1, affine=True, track_running_stats=True)\n",
      "        (relu1): ReLU(inplace=True)\n",
      "        (conv1): Conv2d(224, 128, kernel_size=(1, 1), stride=(1, 1), bias=False)\n",
      "        (norm2): BatchNorm2d(128, eps=1e-05, momentum=0.1, affine=True, track_running_stats=True)\n",
      "        (relu2): ReLU(inplace=True)\n",
      "        (conv2): Conv2d(128, 32, kernel_size=(3, 3), stride=(1, 1), padding=(1, 1), bias=False)\n",
      "      )\n",
      "      (denselayer5): _DenseLayer(\n",
      "        (norm1): BatchNorm2d(256, eps=1e-05, momentum=0.1, affine=True, track_running_stats=True)\n",
      "        (relu1): ReLU(inplace=True)\n",
      "        (conv1): Conv2d(256, 128, kernel_size=(1, 1), stride=(1, 1), bias=False)\n",
      "        (norm2): BatchNorm2d(128, eps=1e-05, momentum=0.1, affine=True, track_running_stats=True)\n",
      "        (relu2): ReLU(inplace=True)\n",
      "        (conv2): Conv2d(128, 32, kernel_size=(3, 3), stride=(1, 1), padding=(1, 1), bias=False)\n",
      "      )\n",
      "      (denselayer6): _DenseLayer(\n",
      "        (norm1): BatchNorm2d(288, eps=1e-05, momentum=0.1, affine=True, track_running_stats=True)\n",
      "        (relu1): ReLU(inplace=True)\n",
      "        (conv1): Conv2d(288, 128, kernel_size=(1, 1), stride=(1, 1), bias=False)\n",
      "        (norm2): BatchNorm2d(128, eps=1e-05, momentum=0.1, affine=True, track_running_stats=True)\n",
      "        (relu2): ReLU(inplace=True)\n",
      "        (conv2): Conv2d(128, 32, kernel_size=(3, 3), stride=(1, 1), padding=(1, 1), bias=False)\n",
      "      )\n",
      "      (denselayer7): _DenseLayer(\n",
      "        (norm1): BatchNorm2d(320, eps=1e-05, momentum=0.1, affine=True, track_running_stats=True)\n",
      "        (relu1): ReLU(inplace=True)\n",
      "        (conv1): Conv2d(320, 128, kernel_size=(1, 1), stride=(1, 1), bias=False)\n",
      "        (norm2): BatchNorm2d(128, eps=1e-05, momentum=0.1, affine=True, track_running_stats=True)\n",
      "        (relu2): ReLU(inplace=True)\n",
      "        (conv2): Conv2d(128, 32, kernel_size=(3, 3), stride=(1, 1), padding=(1, 1), bias=False)\n",
      "      )\n",
      "      (denselayer8): _DenseLayer(\n",
      "        (norm1): BatchNorm2d(352, eps=1e-05, momentum=0.1, affine=True, track_running_stats=True)\n",
      "        (relu1): ReLU(inplace=True)\n",
      "        (conv1): Conv2d(352, 128, kernel_size=(1, 1), stride=(1, 1), bias=False)\n",
      "        (norm2): BatchNorm2d(128, eps=1e-05, momentum=0.1, affine=True, track_running_stats=True)\n",
      "        (relu2): ReLU(inplace=True)\n",
      "        (conv2): Conv2d(128, 32, kernel_size=(3, 3), stride=(1, 1), padding=(1, 1), bias=False)\n",
      "      )\n",
      "      (denselayer9): _DenseLayer(\n",
      "        (norm1): BatchNorm2d(384, eps=1e-05, momentum=0.1, affine=True, track_running_stats=True)\n",
      "        (relu1): ReLU(inplace=True)\n",
      "        (conv1): Conv2d(384, 128, kernel_size=(1, 1), stride=(1, 1), bias=False)\n",
      "        (norm2): BatchNorm2d(128, eps=1e-05, momentum=0.1, affine=True, track_running_stats=True)\n",
      "        (relu2): ReLU(inplace=True)\n",
      "        (conv2): Conv2d(128, 32, kernel_size=(3, 3), stride=(1, 1), padding=(1, 1), bias=False)\n",
      "      )\n",
      "      (denselayer10): _DenseLayer(\n",
      "        (norm1): BatchNorm2d(416, eps=1e-05, momentum=0.1, affine=True, track_running_stats=True)\n",
      "        (relu1): ReLU(inplace=True)\n",
      "        (conv1): Conv2d(416, 128, kernel_size=(1, 1), stride=(1, 1), bias=False)\n",
      "        (norm2): BatchNorm2d(128, eps=1e-05, momentum=0.1, affine=True, track_running_stats=True)\n",
      "        (relu2): ReLU(inplace=True)\n",
      "        (conv2): Conv2d(128, 32, kernel_size=(3, 3), stride=(1, 1), padding=(1, 1), bias=False)\n",
      "      )\n",
      "      (denselayer11): _DenseLayer(\n",
      "        (norm1): BatchNorm2d(448, eps=1e-05, momentum=0.1, affine=True, track_running_stats=True)\n",
      "        (relu1): ReLU(inplace=True)\n",
      "        (conv1): Conv2d(448, 128, kernel_size=(1, 1), stride=(1, 1), bias=False)\n",
      "        (norm2): BatchNorm2d(128, eps=1e-05, momentum=0.1, affine=True, track_running_stats=True)\n",
      "        (relu2): ReLU(inplace=True)\n",
      "        (conv2): Conv2d(128, 32, kernel_size=(3, 3), stride=(1, 1), padding=(1, 1), bias=False)\n",
      "      )\n",
      "      (denselayer12): _DenseLayer(\n",
      "        (norm1): BatchNorm2d(480, eps=1e-05, momentum=0.1, affine=True, track_running_stats=True)\n",
      "        (relu1): ReLU(inplace=True)\n",
      "        (conv1): Conv2d(480, 128, kernel_size=(1, 1), stride=(1, 1), bias=False)\n",
      "        (norm2): BatchNorm2d(128, eps=1e-05, momentum=0.1, affine=True, track_running_stats=True)\n",
      "        (relu2): ReLU(inplace=True)\n",
      "        (conv2): Conv2d(128, 32, kernel_size=(3, 3), stride=(1, 1), padding=(1, 1), bias=False)\n",
      "      )\n",
      "    )\n",
      "    (transition2): _Transition(\n",
      "      (norm): BatchNorm2d(512, eps=1e-05, momentum=0.1, affine=True, track_running_stats=True)\n",
      "      (relu): ReLU(inplace=True)\n",
      "      (conv): Conv2d(512, 256, kernel_size=(1, 1), stride=(1, 1), bias=False)\n",
      "      (pool): AvgPool2d(kernel_size=2, stride=2, padding=0)\n",
      "    )\n",
      "    (denseblock3): _DenseBlock(\n",
      "      (denselayer1): _DenseLayer(\n",
      "        (norm1): BatchNorm2d(256, eps=1e-05, momentum=0.1, affine=True, track_running_stats=True)\n",
      "        (relu1): ReLU(inplace=True)\n",
      "        (conv1): Conv2d(256, 128, kernel_size=(1, 1), stride=(1, 1), bias=False)\n",
      "        (norm2): BatchNorm2d(128, eps=1e-05, momentum=0.1, affine=True, track_running_stats=True)\n",
      "        (relu2): ReLU(inplace=True)\n",
      "        (conv2): Conv2d(128, 32, kernel_size=(3, 3), stride=(1, 1), padding=(1, 1), bias=False)\n",
      "      )\n",
      "      (denselayer2): _DenseLayer(\n",
      "        (norm1): BatchNorm2d(288, eps=1e-05, momentum=0.1, affine=True, track_running_stats=True)\n",
      "        (relu1): ReLU(inplace=True)\n",
      "        (conv1): Conv2d(288, 128, kernel_size=(1, 1), stride=(1, 1), bias=False)\n",
      "        (norm2): BatchNorm2d(128, eps=1e-05, momentum=0.1, affine=True, track_running_stats=True)\n",
      "        (relu2): ReLU(inplace=True)\n",
      "        (conv2): Conv2d(128, 32, kernel_size=(3, 3), stride=(1, 1), padding=(1, 1), bias=False)\n",
      "      )\n",
      "      (denselayer3): _DenseLayer(\n",
      "        (norm1): BatchNorm2d(320, eps=1e-05, momentum=0.1, affine=True, track_running_stats=True)\n",
      "        (relu1): ReLU(inplace=True)\n",
      "        (conv1): Conv2d(320, 128, kernel_size=(1, 1), stride=(1, 1), bias=False)\n",
      "        (norm2): BatchNorm2d(128, eps=1e-05, momentum=0.1, affine=True, track_running_stats=True)\n",
      "        (relu2): ReLU(inplace=True)\n",
      "        (conv2): Conv2d(128, 32, kernel_size=(3, 3), stride=(1, 1), padding=(1, 1), bias=False)\n",
      "      )\n",
      "      (denselayer4): _DenseLayer(\n",
      "        (norm1): BatchNorm2d(352, eps=1e-05, momentum=0.1, affine=True, track_running_stats=True)\n",
      "        (relu1): ReLU(inplace=True)\n",
      "        (conv1): Conv2d(352, 128, kernel_size=(1, 1), stride=(1, 1), bias=False)\n",
      "        (norm2): BatchNorm2d(128, eps=1e-05, momentum=0.1, affine=True, track_running_stats=True)\n",
      "        (relu2): ReLU(inplace=True)\n",
      "        (conv2): Conv2d(128, 32, kernel_size=(3, 3), stride=(1, 1), padding=(1, 1), bias=False)\n",
      "      )\n",
      "      (denselayer5): _DenseLayer(\n",
      "        (norm1): BatchNorm2d(384, eps=1e-05, momentum=0.1, affine=True, track_running_stats=True)\n",
      "        (relu1): ReLU(inplace=True)\n",
      "        (conv1): Conv2d(384, 128, kernel_size=(1, 1), stride=(1, 1), bias=False)\n",
      "        (norm2): BatchNorm2d(128, eps=1e-05, momentum=0.1, affine=True, track_running_stats=True)\n",
      "        (relu2): ReLU(inplace=True)\n",
      "        (conv2): Conv2d(128, 32, kernel_size=(3, 3), stride=(1, 1), padding=(1, 1), bias=False)\n",
      "      )\n",
      "      (denselayer6): _DenseLayer(\n",
      "        (norm1): BatchNorm2d(416, eps=1e-05, momentum=0.1, affine=True, track_running_stats=True)\n",
      "        (relu1): ReLU(inplace=True)\n",
      "        (conv1): Conv2d(416, 128, kernel_size=(1, 1), stride=(1, 1), bias=False)\n",
      "        (norm2): BatchNorm2d(128, eps=1e-05, momentum=0.1, affine=True, track_running_stats=True)\n",
      "        (relu2): ReLU(inplace=True)\n",
      "        (conv2): Conv2d(128, 32, kernel_size=(3, 3), stride=(1, 1), padding=(1, 1), bias=False)\n",
      "      )\n",
      "      (denselayer7): _DenseLayer(\n",
      "        (norm1): BatchNorm2d(448, eps=1e-05, momentum=0.1, affine=True, track_running_stats=True)\n",
      "        (relu1): ReLU(inplace=True)\n",
      "        (conv1): Conv2d(448, 128, kernel_size=(1, 1), stride=(1, 1), bias=False)\n",
      "        (norm2): BatchNorm2d(128, eps=1e-05, momentum=0.1, affine=True, track_running_stats=True)\n",
      "        (relu2): ReLU(inplace=True)\n",
      "        (conv2): Conv2d(128, 32, kernel_size=(3, 3), stride=(1, 1), padding=(1, 1), bias=False)\n",
      "      )\n",
      "      (denselayer8): _DenseLayer(\n",
      "        (norm1): BatchNorm2d(480, eps=1e-05, momentum=0.1, affine=True, track_running_stats=True)\n",
      "        (relu1): ReLU(inplace=True)\n",
      "        (conv1): Conv2d(480, 128, kernel_size=(1, 1), stride=(1, 1), bias=False)\n",
      "        (norm2): BatchNorm2d(128, eps=1e-05, momentum=0.1, affine=True, track_running_stats=True)\n",
      "        (relu2): ReLU(inplace=True)\n",
      "        (conv2): Conv2d(128, 32, kernel_size=(3, 3), stride=(1, 1), padding=(1, 1), bias=False)\n",
      "      )\n",
      "      (denselayer9): _DenseLayer(\n",
      "        (norm1): BatchNorm2d(512, eps=1e-05, momentum=0.1, affine=True, track_running_stats=True)\n",
      "        (relu1): ReLU(inplace=True)\n",
      "        (conv1): Conv2d(512, 128, kernel_size=(1, 1), stride=(1, 1), bias=False)\n",
      "        (norm2): BatchNorm2d(128, eps=1e-05, momentum=0.1, affine=True, track_running_stats=True)\n",
      "        (relu2): ReLU(inplace=True)\n",
      "        (conv2): Conv2d(128, 32, kernel_size=(3, 3), stride=(1, 1), padding=(1, 1), bias=False)\n",
      "      )\n",
      "      (denselayer10): _DenseLayer(\n",
      "        (norm1): BatchNorm2d(544, eps=1e-05, momentum=0.1, affine=True, track_running_stats=True)\n",
      "        (relu1): ReLU(inplace=True)\n",
      "        (conv1): Conv2d(544, 128, kernel_size=(1, 1), stride=(1, 1), bias=False)\n",
      "        (norm2): BatchNorm2d(128, eps=1e-05, momentum=0.1, affine=True, track_running_stats=True)\n",
      "        (relu2): ReLU(inplace=True)\n",
      "        (conv2): Conv2d(128, 32, kernel_size=(3, 3), stride=(1, 1), padding=(1, 1), bias=False)\n",
      "      )\n",
      "      (denselayer11): _DenseLayer(\n",
      "        (norm1): BatchNorm2d(576, eps=1e-05, momentum=0.1, affine=True, track_running_stats=True)\n",
      "        (relu1): ReLU(inplace=True)\n",
      "        (conv1): Conv2d(576, 128, kernel_size=(1, 1), stride=(1, 1), bias=False)\n",
      "        (norm2): BatchNorm2d(128, eps=1e-05, momentum=0.1, affine=True, track_running_stats=True)\n",
      "        (relu2): ReLU(inplace=True)\n",
      "        (conv2): Conv2d(128, 32, kernel_size=(3, 3), stride=(1, 1), padding=(1, 1), bias=False)\n",
      "      )\n",
      "      (denselayer12): _DenseLayer(\n",
      "        (norm1): BatchNorm2d(608, eps=1e-05, momentum=0.1, affine=True, track_running_stats=True)\n",
      "        (relu1): ReLU(inplace=True)\n",
      "        (conv1): Conv2d(608, 128, kernel_size=(1, 1), stride=(1, 1), bias=False)\n",
      "        (norm2): BatchNorm2d(128, eps=1e-05, momentum=0.1, affine=True, track_running_stats=True)\n",
      "        (relu2): ReLU(inplace=True)\n",
      "        (conv2): Conv2d(128, 32, kernel_size=(3, 3), stride=(1, 1), padding=(1, 1), bias=False)\n",
      "      )\n",
      "      (denselayer13): _DenseLayer(\n",
      "        (norm1): BatchNorm2d(640, eps=1e-05, momentum=0.1, affine=True, track_running_stats=True)\n",
      "        (relu1): ReLU(inplace=True)\n",
      "        (conv1): Conv2d(640, 128, kernel_size=(1, 1), stride=(1, 1), bias=False)\n",
      "        (norm2): BatchNorm2d(128, eps=1e-05, momentum=0.1, affine=True, track_running_stats=True)\n",
      "        (relu2): ReLU(inplace=True)\n",
      "        (conv2): Conv2d(128, 32, kernel_size=(3, 3), stride=(1, 1), padding=(1, 1), bias=False)\n",
      "      )\n",
      "      (denselayer14): _DenseLayer(\n",
      "        (norm1): BatchNorm2d(672, eps=1e-05, momentum=0.1, affine=True, track_running_stats=True)\n",
      "        (relu1): ReLU(inplace=True)\n",
      "        (conv1): Conv2d(672, 128, kernel_size=(1, 1), stride=(1, 1), bias=False)\n",
      "        (norm2): BatchNorm2d(128, eps=1e-05, momentum=0.1, affine=True, track_running_stats=True)\n",
      "        (relu2): ReLU(inplace=True)\n",
      "        (conv2): Conv2d(128, 32, kernel_size=(3, 3), stride=(1, 1), padding=(1, 1), bias=False)\n",
      "      )\n",
      "      (denselayer15): _DenseLayer(\n",
      "        (norm1): BatchNorm2d(704, eps=1e-05, momentum=0.1, affine=True, track_running_stats=True)\n",
      "        (relu1): ReLU(inplace=True)\n",
      "        (conv1): Conv2d(704, 128, kernel_size=(1, 1), stride=(1, 1), bias=False)\n",
      "        (norm2): BatchNorm2d(128, eps=1e-05, momentum=0.1, affine=True, track_running_stats=True)\n",
      "        (relu2): ReLU(inplace=True)\n",
      "        (conv2): Conv2d(128, 32, kernel_size=(3, 3), stride=(1, 1), padding=(1, 1), bias=False)\n",
      "      )\n",
      "      (denselayer16): _DenseLayer(\n",
      "        (norm1): BatchNorm2d(736, eps=1e-05, momentum=0.1, affine=True, track_running_stats=True)\n",
      "        (relu1): ReLU(inplace=True)\n",
      "        (conv1): Conv2d(736, 128, kernel_size=(1, 1), stride=(1, 1), bias=False)\n",
      "        (norm2): BatchNorm2d(128, eps=1e-05, momentum=0.1, affine=True, track_running_stats=True)\n",
      "        (relu2): ReLU(inplace=True)\n",
      "        (conv2): Conv2d(128, 32, kernel_size=(3, 3), stride=(1, 1), padding=(1, 1), bias=False)\n",
      "      )\n",
      "      (denselayer17): _DenseLayer(\n",
      "        (norm1): BatchNorm2d(768, eps=1e-05, momentum=0.1, affine=True, track_running_stats=True)\n",
      "        (relu1): ReLU(inplace=True)\n",
      "        (conv1): Conv2d(768, 128, kernel_size=(1, 1), stride=(1, 1), bias=False)\n",
      "        (norm2): BatchNorm2d(128, eps=1e-05, momentum=0.1, affine=True, track_running_stats=True)\n",
      "        (relu2): ReLU(inplace=True)\n",
      "        (conv2): Conv2d(128, 32, kernel_size=(3, 3), stride=(1, 1), padding=(1, 1), bias=False)\n",
      "      )\n",
      "      (denselayer18): _DenseLayer(\n",
      "        (norm1): BatchNorm2d(800, eps=1e-05, momentum=0.1, affine=True, track_running_stats=True)\n",
      "        (relu1): ReLU(inplace=True)\n",
      "        (conv1): Conv2d(800, 128, kernel_size=(1, 1), stride=(1, 1), bias=False)\n",
      "        (norm2): BatchNorm2d(128, eps=1e-05, momentum=0.1, affine=True, track_running_stats=True)\n",
      "        (relu2): ReLU(inplace=True)\n",
      "        (conv2): Conv2d(128, 32, kernel_size=(3, 3), stride=(1, 1), padding=(1, 1), bias=False)\n",
      "      )\n",
      "      (denselayer19): _DenseLayer(\n",
      "        (norm1): BatchNorm2d(832, eps=1e-05, momentum=0.1, affine=True, track_running_stats=True)\n",
      "        (relu1): ReLU(inplace=True)\n",
      "        (conv1): Conv2d(832, 128, kernel_size=(1, 1), stride=(1, 1), bias=False)\n",
      "        (norm2): BatchNorm2d(128, eps=1e-05, momentum=0.1, affine=True, track_running_stats=True)\n",
      "        (relu2): ReLU(inplace=True)\n",
      "        (conv2): Conv2d(128, 32, kernel_size=(3, 3), stride=(1, 1), padding=(1, 1), bias=False)\n",
      "      )\n",
      "      (denselayer20): _DenseLayer(\n",
      "        (norm1): BatchNorm2d(864, eps=1e-05, momentum=0.1, affine=True, track_running_stats=True)\n",
      "        (relu1): ReLU(inplace=True)\n",
      "        (conv1): Conv2d(864, 128, kernel_size=(1, 1), stride=(1, 1), bias=False)\n",
      "        (norm2): BatchNorm2d(128, eps=1e-05, momentum=0.1, affine=True, track_running_stats=True)\n",
      "        (relu2): ReLU(inplace=True)\n",
      "        (conv2): Conv2d(128, 32, kernel_size=(3, 3), stride=(1, 1), padding=(1, 1), bias=False)\n",
      "      )\n",
      "      (denselayer21): _DenseLayer(\n",
      "        (norm1): BatchNorm2d(896, eps=1e-05, momentum=0.1, affine=True, track_running_stats=True)\n",
      "        (relu1): ReLU(inplace=True)\n",
      "        (conv1): Conv2d(896, 128, kernel_size=(1, 1), stride=(1, 1), bias=False)\n",
      "        (norm2): BatchNorm2d(128, eps=1e-05, momentum=0.1, affine=True, track_running_stats=True)\n",
      "        (relu2): ReLU(inplace=True)\n",
      "        (conv2): Conv2d(128, 32, kernel_size=(3, 3), stride=(1, 1), padding=(1, 1), bias=False)\n",
      "      )\n",
      "      (denselayer22): _DenseLayer(\n",
      "        (norm1): BatchNorm2d(928, eps=1e-05, momentum=0.1, affine=True, track_running_stats=True)\n",
      "        (relu1): ReLU(inplace=True)\n",
      "        (conv1): Conv2d(928, 128, kernel_size=(1, 1), stride=(1, 1), bias=False)\n",
      "        (norm2): BatchNorm2d(128, eps=1e-05, momentum=0.1, affine=True, track_running_stats=True)\n",
      "        (relu2): ReLU(inplace=True)\n",
      "        (conv2): Conv2d(128, 32, kernel_size=(3, 3), stride=(1, 1), padding=(1, 1), bias=False)\n",
      "      )\n",
      "      (denselayer23): _DenseLayer(\n",
      "        (norm1): BatchNorm2d(960, eps=1e-05, momentum=0.1, affine=True, track_running_stats=True)\n",
      "        (relu1): ReLU(inplace=True)\n",
      "        (conv1): Conv2d(960, 128, kernel_size=(1, 1), stride=(1, 1), bias=False)\n",
      "        (norm2): BatchNorm2d(128, eps=1e-05, momentum=0.1, affine=True, track_running_stats=True)\n",
      "        (relu2): ReLU(inplace=True)\n",
      "        (conv2): Conv2d(128, 32, kernel_size=(3, 3), stride=(1, 1), padding=(1, 1), bias=False)\n",
      "      )\n",
      "      (denselayer24): _DenseLayer(\n",
      "        (norm1): BatchNorm2d(992, eps=1e-05, momentum=0.1, affine=True, track_running_stats=True)\n",
      "        (relu1): ReLU(inplace=True)\n",
      "        (conv1): Conv2d(992, 128, kernel_size=(1, 1), stride=(1, 1), bias=False)\n",
      "        (norm2): BatchNorm2d(128, eps=1e-05, momentum=0.1, affine=True, track_running_stats=True)\n",
      "        (relu2): ReLU(inplace=True)\n",
      "        (conv2): Conv2d(128, 32, kernel_size=(3, 3), stride=(1, 1), padding=(1, 1), bias=False)\n",
      "      )\n",
      "    )\n",
      "    (transition3): _Transition(\n",
      "      (norm): BatchNorm2d(1024, eps=1e-05, momentum=0.1, affine=True, track_running_stats=True)\n",
      "      (relu): ReLU(inplace=True)\n",
      "      (conv): Conv2d(1024, 512, kernel_size=(1, 1), stride=(1, 1), bias=False)\n",
      "      (pool): AvgPool2d(kernel_size=2, stride=2, padding=0)\n",
      "    )\n",
      "    (denseblock4): _DenseBlock(\n",
      "      (denselayer1): _DenseLayer(\n",
      "        (norm1): BatchNorm2d(512, eps=1e-05, momentum=0.1, affine=True, track_running_stats=True)\n",
      "        (relu1): ReLU(inplace=True)\n",
      "        (conv1): Conv2d(512, 128, kernel_size=(1, 1), stride=(1, 1), bias=False)\n",
      "        (norm2): BatchNorm2d(128, eps=1e-05, momentum=0.1, affine=True, track_running_stats=True)\n",
      "        (relu2): ReLU(inplace=True)\n",
      "        (conv2): Conv2d(128, 32, kernel_size=(3, 3), stride=(1, 1), padding=(1, 1), bias=False)\n",
      "      )\n",
      "      (denselayer2): _DenseLayer(\n",
      "        (norm1): BatchNorm2d(544, eps=1e-05, momentum=0.1, affine=True, track_running_stats=True)\n",
      "        (relu1): ReLU(inplace=True)\n",
      "        (conv1): Conv2d(544, 128, kernel_size=(1, 1), stride=(1, 1), bias=False)\n",
      "        (norm2): BatchNorm2d(128, eps=1e-05, momentum=0.1, affine=True, track_running_stats=True)\n",
      "        (relu2): ReLU(inplace=True)\n",
      "        (conv2): Conv2d(128, 32, kernel_size=(3, 3), stride=(1, 1), padding=(1, 1), bias=False)\n",
      "      )\n",
      "      (denselayer3): _DenseLayer(\n",
      "        (norm1): BatchNorm2d(576, eps=1e-05, momentum=0.1, affine=True, track_running_stats=True)\n",
      "        (relu1): ReLU(inplace=True)\n",
      "        (conv1): Conv2d(576, 128, kernel_size=(1, 1), stride=(1, 1), bias=False)\n",
      "        (norm2): BatchNorm2d(128, eps=1e-05, momentum=0.1, affine=True, track_running_stats=True)\n",
      "        (relu2): ReLU(inplace=True)\n",
      "        (conv2): Conv2d(128, 32, kernel_size=(3, 3), stride=(1, 1), padding=(1, 1), bias=False)\n",
      "      )\n",
      "      (denselayer4): _DenseLayer(\n",
      "        (norm1): BatchNorm2d(608, eps=1e-05, momentum=0.1, affine=True, track_running_stats=True)\n",
      "        (relu1): ReLU(inplace=True)\n",
      "        (conv1): Conv2d(608, 128, kernel_size=(1, 1), stride=(1, 1), bias=False)\n",
      "        (norm2): BatchNorm2d(128, eps=1e-05, momentum=0.1, affine=True, track_running_stats=True)\n",
      "        (relu2): ReLU(inplace=True)\n",
      "        (conv2): Conv2d(128, 32, kernel_size=(3, 3), stride=(1, 1), padding=(1, 1), bias=False)\n",
      "      )\n",
      "      (denselayer5): _DenseLayer(\n",
      "        (norm1): BatchNorm2d(640, eps=1e-05, momentum=0.1, affine=True, track_running_stats=True)\n",
      "        (relu1): ReLU(inplace=True)\n",
      "        (conv1): Conv2d(640, 128, kernel_size=(1, 1), stride=(1, 1), bias=False)\n",
      "        (norm2): BatchNorm2d(128, eps=1e-05, momentum=0.1, affine=True, track_running_stats=True)\n",
      "        (relu2): ReLU(inplace=True)\n",
      "        (conv2): Conv2d(128, 32, kernel_size=(3, 3), stride=(1, 1), padding=(1, 1), bias=False)\n",
      "      )\n",
      "      (denselayer6): _DenseLayer(\n",
      "        (norm1): BatchNorm2d(672, eps=1e-05, momentum=0.1, affine=True, track_running_stats=True)\n",
      "        (relu1): ReLU(inplace=True)\n",
      "        (conv1): Conv2d(672, 128, kernel_size=(1, 1), stride=(1, 1), bias=False)\n",
      "        (norm2): BatchNorm2d(128, eps=1e-05, momentum=0.1, affine=True, track_running_stats=True)\n",
      "        (relu2): ReLU(inplace=True)\n",
      "        (conv2): Conv2d(128, 32, kernel_size=(3, 3), stride=(1, 1), padding=(1, 1), bias=False)\n",
      "      )\n",
      "      (denselayer7): _DenseLayer(\n",
      "        (norm1): BatchNorm2d(704, eps=1e-05, momentum=0.1, affine=True, track_running_stats=True)\n",
      "        (relu1): ReLU(inplace=True)\n",
      "        (conv1): Conv2d(704, 128, kernel_size=(1, 1), stride=(1, 1), bias=False)\n",
      "        (norm2): BatchNorm2d(128, eps=1e-05, momentum=0.1, affine=True, track_running_stats=True)\n",
      "        (relu2): ReLU(inplace=True)\n",
      "        (conv2): Conv2d(128, 32, kernel_size=(3, 3), stride=(1, 1), padding=(1, 1), bias=False)\n",
      "      )\n",
      "      (denselayer8): _DenseLayer(\n",
      "        (norm1): BatchNorm2d(736, eps=1e-05, momentum=0.1, affine=True, track_running_stats=True)\n",
      "        (relu1): ReLU(inplace=True)\n",
      "        (conv1): Conv2d(736, 128, kernel_size=(1, 1), stride=(1, 1), bias=False)\n",
      "        (norm2): BatchNorm2d(128, eps=1e-05, momentum=0.1, affine=True, track_running_stats=True)\n",
      "        (relu2): ReLU(inplace=True)\n",
      "        (conv2): Conv2d(128, 32, kernel_size=(3, 3), stride=(1, 1), padding=(1, 1), bias=False)\n",
      "      )\n",
      "      (denselayer9): _DenseLayer(\n",
      "        (norm1): BatchNorm2d(768, eps=1e-05, momentum=0.1, affine=True, track_running_stats=True)\n",
      "        (relu1): ReLU(inplace=True)\n",
      "        (conv1): Conv2d(768, 128, kernel_size=(1, 1), stride=(1, 1), bias=False)\n",
      "        (norm2): BatchNorm2d(128, eps=1e-05, momentum=0.1, affine=True, track_running_stats=True)\n",
      "        (relu2): ReLU(inplace=True)\n",
      "        (conv2): Conv2d(128, 32, kernel_size=(3, 3), stride=(1, 1), padding=(1, 1), bias=False)\n",
      "      )\n",
      "      (denselayer10): _DenseLayer(\n",
      "        (norm1): BatchNorm2d(800, eps=1e-05, momentum=0.1, affine=True, track_running_stats=True)\n",
      "        (relu1): ReLU(inplace=True)\n",
      "        (conv1): Conv2d(800, 128, kernel_size=(1, 1), stride=(1, 1), bias=False)\n",
      "        (norm2): BatchNorm2d(128, eps=1e-05, momentum=0.1, affine=True, track_running_stats=True)\n",
      "        (relu2): ReLU(inplace=True)\n",
      "        (conv2): Conv2d(128, 32, kernel_size=(3, 3), stride=(1, 1), padding=(1, 1), bias=False)\n",
      "      )\n",
      "      (denselayer11): _DenseLayer(\n",
      "        (norm1): BatchNorm2d(832, eps=1e-05, momentum=0.1, affine=True, track_running_stats=True)\n",
      "        (relu1): ReLU(inplace=True)\n",
      "        (conv1): Conv2d(832, 128, kernel_size=(1, 1), stride=(1, 1), bias=False)\n",
      "        (norm2): BatchNorm2d(128, eps=1e-05, momentum=0.1, affine=True, track_running_stats=True)\n",
      "        (relu2): ReLU(inplace=True)\n",
      "        (conv2): Conv2d(128, 32, kernel_size=(3, 3), stride=(1, 1), padding=(1, 1), bias=False)\n",
      "      )\n",
      "      (denselayer12): _DenseLayer(\n",
      "        (norm1): BatchNorm2d(864, eps=1e-05, momentum=0.1, affine=True, track_running_stats=True)\n",
      "        (relu1): ReLU(inplace=True)\n",
      "        (conv1): Conv2d(864, 128, kernel_size=(1, 1), stride=(1, 1), bias=False)\n",
      "        (norm2): BatchNorm2d(128, eps=1e-05, momentum=0.1, affine=True, track_running_stats=True)\n",
      "        (relu2): ReLU(inplace=True)\n",
      "        (conv2): Conv2d(128, 32, kernel_size=(3, 3), stride=(1, 1), padding=(1, 1), bias=False)\n",
      "      )\n",
      "      (denselayer13): _DenseLayer(\n",
      "        (norm1): BatchNorm2d(896, eps=1e-05, momentum=0.1, affine=True, track_running_stats=True)\n",
      "        (relu1): ReLU(inplace=True)\n",
      "        (conv1): Conv2d(896, 128, kernel_size=(1, 1), stride=(1, 1), bias=False)\n",
      "        (norm2): BatchNorm2d(128, eps=1e-05, momentum=0.1, affine=True, track_running_stats=True)\n",
      "        (relu2): ReLU(inplace=True)\n",
      "        (conv2): Conv2d(128, 32, kernel_size=(3, 3), stride=(1, 1), padding=(1, 1), bias=False)\n",
      "      )\n",
      "      (denselayer14): _DenseLayer(\n",
      "        (norm1): BatchNorm2d(928, eps=1e-05, momentum=0.1, affine=True, track_running_stats=True)\n",
      "        (relu1): ReLU(inplace=True)\n",
      "        (conv1): Conv2d(928, 128, kernel_size=(1, 1), stride=(1, 1), bias=False)\n",
      "        (norm2): BatchNorm2d(128, eps=1e-05, momentum=0.1, affine=True, track_running_stats=True)\n",
      "        (relu2): ReLU(inplace=True)\n",
      "        (conv2): Conv2d(128, 32, kernel_size=(3, 3), stride=(1, 1), padding=(1, 1), bias=False)\n",
      "      )\n",
      "      (denselayer15): _DenseLayer(\n",
      "        (norm1): BatchNorm2d(960, eps=1e-05, momentum=0.1, affine=True, track_running_stats=True)\n",
      "        (relu1): ReLU(inplace=True)\n",
      "        (conv1): Conv2d(960, 128, kernel_size=(1, 1), stride=(1, 1), bias=False)\n",
      "        (norm2): BatchNorm2d(128, eps=1e-05, momentum=0.1, affine=True, track_running_stats=True)\n",
      "        (relu2): ReLU(inplace=True)\n",
      "        (conv2): Conv2d(128, 32, kernel_size=(3, 3), stride=(1, 1), padding=(1, 1), bias=False)\n",
      "      )\n",
      "      (denselayer16): _DenseLayer(\n",
      "        (norm1): BatchNorm2d(992, eps=1e-05, momentum=0.1, affine=True, track_running_stats=True)\n",
      "        (relu1): ReLU(inplace=True)\n",
      "        (conv1): Conv2d(992, 128, kernel_size=(1, 1), stride=(1, 1), bias=False)\n",
      "        (norm2): BatchNorm2d(128, eps=1e-05, momentum=0.1, affine=True, track_running_stats=True)\n",
      "        (relu2): ReLU(inplace=True)\n",
      "        (conv2): Conv2d(128, 32, kernel_size=(3, 3), stride=(1, 1), padding=(1, 1), bias=False)\n",
      "      )\n",
      "    )\n",
      "    (norm5): BatchNorm2d(1024, eps=1e-05, momentum=0.1, affine=True, track_running_stats=True)\n",
      "  )\n",
      "  (classifier): Linear(in_features=1024, out_features=2, bias=True)\n",
      ")\n"
     ]
    }
   ],
   "source": [
    "net = densenet121(pretrained=True)\n",
    "num_ftrs = net.classifier.in_features\n",
    "net.classifier = nn.Linear(num_ftrs, 2, bias=True)\n",
    "net = net.to(device)\n",
    "print(f'number of trainable params: {count_parameters(net)}')\n",
    "print(net)"
   ]
  },
  {
   "cell_type": "code",
   "execution_count": 30,
   "id": "f91c8ce0-d748-4d9d-b829-f9e0a9b9ca8f",
   "metadata": {},
   "outputs": [],
   "source": [
    "criterion = nn.CrossEntropyLoss()\n",
    "optimizer = optim.Adam(net.parameters(), lr=0.001, weight_decay=1e-4)\n",
    "n_epochs = 100\n",
    "scheduler = CosineAnnealingLR(optimizer, n_epochs)"
   ]
  },
  {
   "cell_type": "code",
   "execution_count": 31,
   "id": "f27b485b-af13-487c-a8d7-0463f78e7a21",
   "metadata": {},
   "outputs": [
    {
     "name": "stderr",
     "output_type": "stream",
     "text": [
      "Training: 100%|██████████| 154/154 [00:33<00:00,  4.53it/s, epoch=0, loss=0.351, acc=86.4]\n",
      "Validating: 100%|██████████| 819/819 [00:29<00:00, 27.42it/s, epoch=0, loss=0.257, acc=89.5]\n"
     ]
    },
    {
     "name": "stdout",
     "output_type": "stream",
     "text": [
      "Best acc: 89.4994, saving...\n"
     ]
    },
    {
     "name": "stderr",
     "output_type": "stream",
     "text": [
      "Training: 100%|██████████| 154/154 [00:33<00:00,  4.66it/s, epoch=1, loss=0.263, acc=89.5]\n",
      "Validating: 100%|██████████| 819/819 [00:29<00:00, 27.37it/s, epoch=1, loss=0.279, acc=89.3]\n",
      "Training: 100%|██████████| 154/154 [00:33<00:00,  4.62it/s, epoch=2, loss=0.221, acc=91.7]\n",
      "Validating: 100%|██████████| 819/819 [00:29<00:00, 27.52it/s, epoch=2, loss=0.115, acc=95.2] \n"
     ]
    },
    {
     "name": "stdout",
     "output_type": "stream",
     "text": [
      "Best acc: 95.2381, saving...\n"
     ]
    },
    {
     "name": "stderr",
     "output_type": "stream",
     "text": [
      "Training: 100%|██████████| 154/154 [00:33<00:00,  4.66it/s, epoch=3, loss=0.221, acc=91.2]\n",
      "Validating: 100%|██████████| 819/819 [00:29<00:00, 27.54it/s, epoch=3, loss=0.128, acc=96.1]\n"
     ]
    },
    {
     "name": "stdout",
     "output_type": "stream",
     "text": [
      "Best acc: 96.0928, saving...\n"
     ]
    },
    {
     "name": "stderr",
     "output_type": "stream",
     "text": [
      "Training: 100%|██████████| 154/154 [00:33<00:00,  4.64it/s, epoch=4, loss=0.201, acc=92.2]\n",
      "Validating: 100%|██████████| 819/819 [00:29<00:00, 27.40it/s, epoch=4, loss=0.0824, acc=97.7]\n"
     ]
    },
    {
     "name": "stdout",
     "output_type": "stream",
     "text": [
      "Best acc: 97.6801, saving...\n"
     ]
    },
    {
     "name": "stderr",
     "output_type": "stream",
     "text": [
      "Training: 100%|██████████| 154/154 [00:32<00:00,  4.67it/s, epoch=5, loss=0.19, acc=92.2] \n",
      "Validating: 100%|██████████| 819/819 [00:29<00:00, 27.41it/s, epoch=5, loss=0.141, acc=95.7] \n",
      "Training: 100%|██████████| 154/154 [00:33<00:00,  4.64it/s, epoch=6, loss=0.212, acc=91.7]\n",
      "Validating: 100%|██████████| 819/819 [00:30<00:00, 27.27it/s, epoch=6, loss=0.0748, acc=96.8]\n",
      "Training: 100%|██████████| 154/154 [00:33<00:00,  4.62it/s, epoch=7, loss=0.184, acc=93.4]\n",
      "Validating: 100%|██████████| 819/819 [00:30<00:00, 27.22it/s, epoch=7, loss=0.19, acc=92.4] \n",
      "Training: 100%|██████████| 154/154 [00:33<00:00,  4.62it/s, epoch=8, loss=0.195, acc=92.6]\n",
      "Validating: 100%|██████████| 819/819 [00:29<00:00, 27.34it/s, epoch=8, loss=0.0668, acc=97.8]\n"
     ]
    },
    {
     "name": "stdout",
     "output_type": "stream",
     "text": [
      "Best acc: 97.8022, saving...\n"
     ]
    },
    {
     "name": "stderr",
     "output_type": "stream",
     "text": [
      "Training: 100%|██████████| 154/154 [00:33<00:00,  4.55it/s, epoch=9, loss=0.187, acc=93.5]\n",
      "Validating: 100%|██████████| 819/819 [00:29<00:00, 27.36it/s, epoch=9, loss=0.0595, acc=97.9]\n"
     ]
    },
    {
     "name": "stdout",
     "output_type": "stream",
     "text": [
      "Best acc: 97.9243, saving...\n"
     ]
    },
    {
     "name": "stderr",
     "output_type": "stream",
     "text": [
      "Training: 100%|██████████| 154/154 [00:33<00:00,  4.65it/s, epoch=10, loss=0.16, acc=93.6] \n",
      "Validating: 100%|██████████| 819/819 [00:30<00:00, 27.23it/s, epoch=10, loss=0.0647, acc=98.7]\n"
     ]
    },
    {
     "name": "stdout",
     "output_type": "stream",
     "text": [
      "Best acc: 98.6569, saving...\n"
     ]
    },
    {
     "name": "stderr",
     "output_type": "stream",
     "text": [
      "Training: 100%|██████████| 154/154 [00:33<00:00,  4.64it/s, epoch=11, loss=0.154, acc=94.1]\n",
      "Validating: 100%|██████████| 819/819 [00:29<00:00, 27.41it/s, epoch=11, loss=0.124, acc=96]   \n",
      "Training: 100%|██████████| 154/154 [00:33<00:00,  4.63it/s, epoch=12, loss=0.175, acc=93.6]\n",
      "Validating: 100%|██████████| 819/819 [00:30<00:00, 27.28it/s, epoch=12, loss=0.0686, acc=96.9]\n",
      "Training: 100%|██████████| 154/154 [00:33<00:00,  4.65it/s, epoch=13, loss=0.138, acc=94.8]\n",
      "Validating: 100%|██████████| 819/819 [00:29<00:00, 27.45it/s, epoch=13, loss=0.106, acc=97.1] \n",
      "Training: 100%|██████████| 154/154 [00:33<00:00,  4.65it/s, epoch=14, loss=0.184, acc=93.2]\n",
      "Validating: 100%|██████████| 819/819 [00:29<00:00, 27.41it/s, epoch=14, loss=0.0832, acc=98.3]\n",
      "Training: 100%|██████████| 154/154 [00:32<00:00,  4.67it/s, epoch=15, loss=0.149, acc=94.2]\n",
      "Validating: 100%|██████████| 819/819 [00:29<00:00, 27.32it/s, epoch=15, loss=0.06, acc=97.8]  \n",
      "Training: 100%|██████████| 154/154 [00:33<00:00,  4.61it/s, epoch=16, loss=0.121, acc=95.3]\n",
      "Validating: 100%|██████████| 819/819 [00:30<00:00, 27.10it/s, epoch=16, loss=0.0715, acc=97.8]\n",
      "Training: 100%|██████████| 154/154 [00:33<00:00,  4.66it/s, epoch=17, loss=0.13, acc=95.3] \n",
      "Validating: 100%|██████████| 819/819 [00:29<00:00, 27.37it/s, epoch=17, loss=0.121, acc=96.6]\n",
      "Training: 100%|██████████| 154/154 [00:33<00:00,  4.66it/s, epoch=18, loss=0.155, acc=94]  \n",
      "Validating: 100%|██████████| 819/819 [00:30<00:00, 27.10it/s, epoch=18, loss=0.0547, acc=98.2]\n",
      "Training: 100%|██████████| 154/154 [00:33<00:00,  4.66it/s, epoch=19, loss=0.15, acc=94.4] \n",
      "Validating: 100%|██████████| 819/819 [00:30<00:00, 27.23it/s, epoch=19, loss=0.0745, acc=98.4]\n",
      "Training: 100%|██████████| 154/154 [00:33<00:00,  4.62it/s, epoch=20, loss=0.13, acc=94.4] \n",
      "Validating: 100%|██████████| 819/819 [00:30<00:00, 27.26it/s, epoch=20, loss=0.0869, acc=97.4]\n",
      "Training: 100%|██████████| 154/154 [00:33<00:00,  4.64it/s, epoch=21, loss=0.145, acc=93.9]\n",
      "Validating: 100%|██████████| 819/819 [00:30<00:00, 27.06it/s, epoch=21, loss=0.0426, acc=98.7]\n",
      "Training: 100%|██████████| 154/154 [00:32<00:00,  4.67it/s, epoch=22, loss=0.147, acc=94.5]\n",
      "Validating: 100%|██████████| 819/819 [00:30<00:00, 27.12it/s, epoch=22, loss=0.107, acc=96.5] \n",
      "Training: 100%|██████████| 154/154 [00:33<00:00,  4.62it/s, epoch=23, loss=0.138, acc=94.9]\n",
      "Validating: 100%|██████████| 819/819 [00:30<00:00, 27.26it/s, epoch=23, loss=0.443, acc=84.6]\n",
      "Training: 100%|██████████| 154/154 [00:32<00:00,  4.67it/s, epoch=24, loss=0.121, acc=95.5]\n",
      "Validating: 100%|██████████| 819/819 [00:29<00:00, 27.40it/s, epoch=24, loss=0.152, acc=96.2] \n",
      "Training: 100%|██████████| 154/154 [00:32<00:00,  4.69it/s, epoch=25, loss=0.146, acc=94.4]\n",
      "Validating: 100%|██████████| 819/819 [00:30<00:00, 27.15it/s, epoch=25, loss=0.0426, acc=98.5]\n",
      "Training: 100%|██████████| 154/154 [00:33<00:00,  4.65it/s, epoch=26, loss=0.125, acc=94.8]\n",
      "Validating: 100%|██████████| 819/819 [00:29<00:00, 27.33it/s, epoch=26, loss=0.0681, acc=98.3]\n",
      "Training: 100%|██████████| 154/154 [00:32<00:00,  4.67it/s, epoch=27, loss=0.144, acc=94.6]\n",
      "Validating: 100%|██████████| 819/819 [00:29<00:00, 27.35it/s, epoch=27, loss=0.0373, acc=99.1]\n"
     ]
    },
    {
     "name": "stdout",
     "output_type": "stream",
     "text": [
      "Best acc: 99.1453, saving...\n"
     ]
    },
    {
     "name": "stderr",
     "output_type": "stream",
     "text": [
      "Training: 100%|██████████| 154/154 [00:32<00:00,  4.69it/s, epoch=28, loss=0.128, acc=95.3]\n",
      "Validating: 100%|██████████| 819/819 [00:29<00:00, 27.36it/s, epoch=28, loss=0.0309, acc=98.7]\n",
      "Training: 100%|██████████| 154/154 [00:33<00:00,  4.65it/s, epoch=29, loss=0.115, acc=95.5]\n",
      "Validating: 100%|██████████| 819/819 [00:29<00:00, 27.44it/s, epoch=29, loss=0.0611, acc=98.9]\n",
      "Training: 100%|██████████| 154/154 [00:32<00:00,  4.67it/s, epoch=30, loss=0.115, acc=95.3] \n",
      "Validating: 100%|██████████| 819/819 [00:29<00:00, 27.57it/s, epoch=30, loss=0.0596, acc=97.6]\n",
      "Training: 100%|██████████| 154/154 [00:32<00:00,  4.67it/s, epoch=31, loss=0.1, acc=96.6]   \n",
      "Validating: 100%|██████████| 819/819 [00:29<00:00, 27.55it/s, epoch=31, loss=0.107, acc=96.1] \n",
      "Training: 100%|██████████| 154/154 [00:32<00:00,  4.67it/s, epoch=32, loss=0.112, acc=95.4]\n",
      "Validating: 100%|██████████| 819/819 [00:30<00:00, 27.19it/s, epoch=32, loss=0.048, acc=98.8] \n",
      "Training: 100%|██████████| 154/154 [00:32<00:00,  4.67it/s, epoch=33, loss=0.113, acc=95.6]\n",
      "Validating: 100%|██████████| 819/819 [00:30<00:00, 27.24it/s, epoch=33, loss=0.0374, acc=98.9]\n",
      "Training: 100%|██████████| 154/154 [00:33<00:00,  4.66it/s, epoch=34, loss=0.118, acc=96]  \n",
      "Validating: 100%|██████████| 819/819 [00:29<00:00, 27.40it/s, epoch=34, loss=0.0626, acc=97.9]\n",
      "Training: 100%|██████████| 154/154 [00:32<00:00,  4.67it/s, epoch=35, loss=0.122, acc=95.6]\n",
      "Validating: 100%|██████████| 819/819 [00:30<00:00, 27.21it/s, epoch=35, loss=0.0254, acc=98.9]\n",
      "Training: 100%|██████████| 154/154 [00:33<00:00,  4.65it/s, epoch=36, loss=0.0957, acc=97]  \n",
      "Validating: 100%|██████████| 819/819 [00:29<00:00, 27.53it/s, epoch=36, loss=0.029, acc=99]   \n",
      "Training: 100%|██████████| 154/154 [00:33<00:00,  4.59it/s, epoch=37, loss=0.107, acc=95.9]\n",
      "Validating: 100%|██████████| 819/819 [00:30<00:00, 26.90it/s, epoch=37, loss=0.0313, acc=98.8]\n",
      "Training: 100%|██████████| 154/154 [00:33<00:00,  4.60it/s, epoch=38, loss=0.113, acc=96]  \n",
      "Validating: 100%|██████████| 819/819 [00:30<00:00, 27.26it/s, epoch=38, loss=0.0383, acc=98.4]\n",
      "Training: 100%|██████████| 154/154 [00:33<00:00,  4.65it/s, epoch=39, loss=0.106, acc=95.8]\n",
      "Validating: 100%|██████████| 819/819 [00:29<00:00, 27.50it/s, epoch=39, loss=0.0326, acc=99.4]\n"
     ]
    },
    {
     "name": "stdout",
     "output_type": "stream",
     "text": [
      "Best acc: 99.3895, saving...\n"
     ]
    },
    {
     "name": "stderr",
     "output_type": "stream",
     "text": [
      "Training: 100%|██████████| 154/154 [00:33<00:00,  4.66it/s, epoch=40, loss=0.0862, acc=96.9]\n",
      "Validating: 100%|██████████| 819/819 [00:29<00:00, 27.44it/s, epoch=40, loss=0.0368, acc=98.4]\n",
      "Training: 100%|██████████| 154/154 [00:32<00:00,  4.68it/s, epoch=41, loss=0.103, acc=96.5] \n",
      "Validating: 100%|██████████| 819/819 [00:29<00:00, 27.62it/s, epoch=41, loss=0.0286, acc=98.9]\n",
      "Training: 100%|██████████| 154/154 [00:32<00:00,  4.68it/s, epoch=42, loss=0.111, acc=95.6]\n",
      "Validating: 100%|██████████| 819/819 [00:29<00:00, 27.39it/s, epoch=42, loss=0.0315, acc=98.9]\n",
      "Training: 100%|██████████| 154/154 [00:33<00:00,  4.63it/s, epoch=43, loss=0.085, acc=96.9] \n",
      "Validating: 100%|██████████| 819/819 [00:29<00:00, 27.36it/s, epoch=43, loss=0.0775, acc=96.3]\n",
      "Training: 100%|██████████| 154/154 [00:33<00:00,  4.66it/s, epoch=44, loss=0.0828, acc=97.1]\n",
      "Validating: 100%|██████████| 819/819 [00:29<00:00, 27.44it/s, epoch=44, loss=0.0232, acc=99.4]\n",
      "Training: 100%|██████████| 154/154 [00:33<00:00,  4.54it/s, epoch=45, loss=0.0861, acc=96.8]\n",
      "Validating: 100%|██████████| 819/819 [00:29<00:00, 27.50it/s, epoch=45, loss=0.0282, acc=99.1]\n",
      "Training: 100%|██████████| 154/154 [00:33<00:00,  4.66it/s, epoch=46, loss=0.0863, acc=96.8]\n",
      "Validating: 100%|██████████| 819/819 [00:29<00:00, 27.59it/s, epoch=46, loss=0.0282, acc=98.9]\n",
      "Training: 100%|██████████| 154/154 [00:33<00:00,  4.66it/s, epoch=47, loss=0.0831, acc=97.1]\n",
      "Validating: 100%|██████████| 819/819 [00:29<00:00, 27.48it/s, epoch=47, loss=0.0256, acc=99.1]\n",
      "Training: 100%|██████████| 154/154 [00:33<00:00,  4.64it/s, epoch=48, loss=0.0871, acc=97.1]\n",
      "Validating: 100%|██████████| 819/819 [00:29<00:00, 27.43it/s, epoch=48, loss=0.032, acc=98.8] \n",
      "Training: 100%|██████████| 154/154 [00:33<00:00,  4.60it/s, epoch=49, loss=0.0904, acc=96.7]\n",
      "Validating: 100%|██████████| 819/819 [00:29<00:00, 27.31it/s, epoch=49, loss=0.024, acc=99.5] \n"
     ]
    },
    {
     "name": "stdout",
     "output_type": "stream",
     "text": [
      "Best acc: 99.5116, saving...\n"
     ]
    },
    {
     "name": "stderr",
     "output_type": "stream",
     "text": [
      "Training: 100%|██████████| 154/154 [00:32<00:00,  4.67it/s, epoch=50, loss=0.079, acc=97.3] \n",
      "Validating: 100%|██████████| 819/819 [00:29<00:00, 27.40it/s, epoch=50, loss=0.0244, acc=98.9] \n",
      "Training: 100%|██████████| 154/154 [00:32<00:00,  4.68it/s, epoch=51, loss=0.061, acc=97.5] \n",
      "Validating: 100%|██████████| 819/819 [00:29<00:00, 27.42it/s, epoch=51, loss=0.0311, acc=98.9]\n",
      "Training: 100%|██████████| 154/154 [00:32<00:00,  4.69it/s, epoch=52, loss=0.0886, acc=96.5]\n",
      "Validating: 100%|██████████| 819/819 [00:29<00:00, 27.59it/s, epoch=52, loss=0.0161, acc=99.4] \n",
      "Training: 100%|██████████| 154/154 [00:33<00:00,  4.65it/s, epoch=53, loss=0.0816, acc=97]  \n",
      "Validating: 100%|██████████| 819/819 [00:29<00:00, 27.45it/s, epoch=53, loss=0.0271, acc=99.3]\n",
      "Training: 100%|██████████| 154/154 [00:32<00:00,  4.69it/s, epoch=54, loss=0.0737, acc=97.1]\n",
      "Validating: 100%|██████████| 819/819 [00:29<00:00, 27.60it/s, epoch=54, loss=0.0249, acc=99]  \n",
      "Training: 100%|██████████| 154/154 [00:33<00:00,  4.65it/s, epoch=55, loss=0.0823, acc=96.9]\n",
      "Validating: 100%|██████████| 819/819 [00:29<00:00, 27.48it/s, epoch=55, loss=0.0322, acc=99]  \n",
      "Training: 100%|██████████| 154/154 [00:33<00:00,  4.65it/s, epoch=56, loss=0.0782, acc=97.1]\n",
      "Validating: 100%|██████████| 819/819 [00:29<00:00, 27.44it/s, epoch=56, loss=0.0248, acc=99.3]\n",
      "Training: 100%|██████████| 154/154 [00:32<00:00,  4.69it/s, epoch=57, loss=0.0593, acc=97.6]\n",
      "Validating: 100%|██████████| 819/819 [00:29<00:00, 27.55it/s, epoch=57, loss=0.018, acc=99.1]  \n",
      "Training: 100%|██████████| 154/154 [00:33<00:00,  4.66it/s, epoch=58, loss=0.0637, acc=97.6]\n",
      "Validating: 100%|██████████| 819/819 [00:29<00:00, 27.59it/s, epoch=58, loss=0.0191, acc=99.5] \n",
      "Training: 100%|██████████| 154/154 [00:33<00:00,  4.65it/s, epoch=59, loss=0.0746, acc=97]  \n",
      "Validating: 100%|██████████| 819/819 [00:29<00:00, 27.33it/s, epoch=59, loss=0.0202, acc=99.5] \n",
      "Training: 100%|██████████| 154/154 [00:33<00:00,  4.64it/s, epoch=60, loss=0.0721, acc=96.8]\n",
      "Validating: 100%|██████████| 819/819 [00:29<00:00, 27.43it/s, epoch=60, loss=0.0193, acc=99.5]\n",
      "Training: 100%|██████████| 154/154 [00:33<00:00,  4.65it/s, epoch=61, loss=0.0687, acc=97.5]\n",
      "Validating: 100%|██████████| 819/819 [00:29<00:00, 27.52it/s, epoch=61, loss=0.0181, acc=99.1]\n",
      "Training: 100%|██████████| 154/154 [00:33<00:00,  4.60it/s, epoch=62, loss=0.0477, acc=98.2]\n",
      "Validating: 100%|██████████| 819/819 [00:30<00:00, 27.11it/s, epoch=62, loss=0.0193, acc=99.1]\n",
      "Training: 100%|██████████| 154/154 [00:33<00:00,  4.65it/s, epoch=63, loss=0.077, acc=97.5] \n",
      "Validating: 100%|██████████| 819/819 [00:29<00:00, 27.46it/s, epoch=63, loss=0.023, acc=99.1] \n",
      "Training: 100%|██████████| 154/154 [00:33<00:00,  4.62it/s, epoch=64, loss=0.0514, acc=97.9]\n",
      "Validating: 100%|██████████| 819/819 [00:29<00:00, 27.37it/s, epoch=64, loss=0.0107, acc=99.6] \n"
     ]
    },
    {
     "name": "stdout",
     "output_type": "stream",
     "text": [
      "Best acc: 99.6337, saving...\n"
     ]
    },
    {
     "name": "stderr",
     "output_type": "stream",
     "text": [
      "Training: 100%|██████████| 154/154 [00:33<00:00,  4.61it/s, epoch=65, loss=0.0489, acc=98.2]\n",
      "Validating: 100%|██████████| 819/819 [00:30<00:00, 27.28it/s, epoch=65, loss=0.0184, acc=99.1] \n",
      "Training: 100%|██████████| 154/154 [00:33<00:00,  4.58it/s, epoch=66, loss=0.0571, acc=98]  \n",
      "Validating: 100%|██████████| 819/819 [00:29<00:00, 27.45it/s, epoch=66, loss=0.0148, acc=99.4] \n",
      "Training: 100%|██████████| 154/154 [00:33<00:00,  4.64it/s, epoch=67, loss=0.0664, acc=97.9]\n",
      "Validating: 100%|██████████| 819/819 [00:30<00:00, 27.21it/s, epoch=67, loss=0.0206, acc=99.4]\n",
      "Training: 100%|██████████| 154/154 [00:33<00:00,  4.63it/s, epoch=68, loss=0.0716, acc=97.7]\n",
      "Validating: 100%|██████████| 819/819 [00:30<00:00, 27.11it/s, epoch=68, loss=0.0153, acc=99.5] \n",
      "Training: 100%|██████████| 154/154 [00:32<00:00,  4.67it/s, epoch=69, loss=0.0593, acc=97.7]\n",
      "Validating: 100%|██████████| 819/819 [00:29<00:00, 27.34it/s, epoch=69, loss=0.0132, acc=99.4]\n",
      "Training: 100%|██████████| 154/154 [00:33<00:00,  4.64it/s, epoch=70, loss=0.058, acc=97.8] \n",
      "Validating: 100%|██████████| 819/819 [00:29<00:00, 27.35it/s, epoch=70, loss=0.0231, acc=99.1]\n",
      "Training: 100%|██████████| 154/154 [00:33<00:00,  4.60it/s, epoch=71, loss=0.0533, acc=98.3]\n",
      "Validating: 100%|██████████| 819/819 [00:30<00:00, 27.08it/s, epoch=71, loss=0.0191, acc=99.3]\n",
      "Training: 100%|██████████| 154/154 [00:32<00:00,  4.67it/s, epoch=72, loss=0.0571, acc=97.9]\n",
      "Validating: 100%|██████████| 819/819 [00:29<00:00, 27.33it/s, epoch=72, loss=0.0207, acc=99.5]\n",
      "Training: 100%|██████████| 154/154 [00:33<00:00,  4.64it/s, epoch=73, loss=0.0598, acc=98.1]\n",
      "Validating: 100%|██████████| 819/819 [00:30<00:00, 27.23it/s, epoch=73, loss=0.025, acc=99.4] \n",
      "Training: 100%|██████████| 154/154 [00:33<00:00,  4.60it/s, epoch=74, loss=0.0385, acc=98.8]\n",
      "Validating: 100%|██████████| 819/819 [00:30<00:00, 27.05it/s, epoch=74, loss=0.0251, acc=99.3]\n",
      "Training: 100%|██████████| 154/154 [00:33<00:00,  4.64it/s, epoch=75, loss=0.0559, acc=97.9]\n",
      "Validating: 100%|██████████| 819/819 [00:30<00:00, 27.07it/s, epoch=75, loss=0.0199, acc=99.3]\n",
      "Training: 100%|██████████| 154/154 [00:33<00:00,  4.63it/s, epoch=76, loss=0.0467, acc=98.2]\n",
      "Validating: 100%|██████████| 819/819 [00:30<00:00, 27.29it/s, epoch=76, loss=0.0157, acc=99.5]\n",
      "Training: 100%|██████████| 154/154 [00:33<00:00,  4.66it/s, epoch=77, loss=0.052, acc=98.2] \n",
      "Validating: 100%|██████████| 819/819 [00:29<00:00, 27.39it/s, epoch=77, loss=0.0174, acc=99.4]\n",
      "Training: 100%|██████████| 154/154 [00:33<00:00,  4.65it/s, epoch=78, loss=0.0387, acc=98.5]\n",
      "Validating: 100%|██████████| 819/819 [00:29<00:00, 27.32it/s, epoch=78, loss=0.0192, acc=99.5]\n",
      "Training: 100%|██████████| 154/154 [00:33<00:00,  4.63it/s, epoch=79, loss=0.0434, acc=98.3]\n",
      "Validating: 100%|██████████| 819/819 [00:30<00:00, 27.12it/s, epoch=79, loss=0.0252, acc=99.5]\n",
      "Training: 100%|██████████| 154/154 [00:33<00:00,  4.63it/s, epoch=80, loss=0.0526, acc=97.9]\n",
      "Validating: 100%|██████████| 819/819 [00:30<00:00, 27.03it/s, epoch=80, loss=0.0236, acc=99.1]\n",
      "Training: 100%|██████████| 154/154 [00:33<00:00,  4.65it/s, epoch=81, loss=0.0474, acc=98.1]\n",
      "Validating: 100%|██████████| 819/819 [00:29<00:00, 27.36it/s, epoch=81, loss=0.0322, acc=99.1]\n",
      "Training: 100%|██████████| 154/154 [00:33<00:00,  4.60it/s, epoch=82, loss=0.0335, acc=98.9]\n",
      "Validating: 100%|██████████| 819/819 [00:30<00:00, 27.09it/s, epoch=82, loss=0.0263, acc=99.1]\n",
      "Training: 100%|██████████| 154/154 [00:33<00:00,  4.61it/s, epoch=83, loss=0.0499, acc=98.6]\n",
      "Validating: 100%|██████████| 819/819 [00:30<00:00, 27.14it/s, epoch=83, loss=0.0213, acc=99.4]\n",
      "Training: 100%|██████████| 154/154 [00:33<00:00,  4.62it/s, epoch=84, loss=0.0407, acc=98.3]\n",
      "Validating: 100%|██████████| 819/819 [00:30<00:00, 27.12it/s, epoch=84, loss=0.0268, acc=99.3]\n",
      "Training: 100%|██████████| 154/154 [00:33<00:00,  4.62it/s, epoch=85, loss=0.0327, acc=98.8]\n",
      "Validating: 100%|██████████| 819/819 [00:30<00:00, 26.93it/s, epoch=85, loss=0.0254, acc=99.3]\n",
      "Training: 100%|██████████| 154/154 [00:33<00:00,  4.61it/s, epoch=86, loss=0.0356, acc=98.6]\n",
      "Validating: 100%|██████████| 819/819 [00:30<00:00, 27.14it/s, epoch=86, loss=0.0179, acc=99.5]\n",
      "Training: 100%|██████████| 154/154 [00:32<00:00,  4.67it/s, epoch=87, loss=0.0388, acc=98.6]\n",
      "Validating: 100%|██████████| 819/819 [00:30<00:00, 27.27it/s, epoch=87, loss=0.0226, acc=99.3]\n",
      "Training: 100%|██████████| 154/154 [00:33<00:00,  4.60it/s, epoch=88, loss=0.0534, acc=98.5]\n",
      "Validating: 100%|██████████| 819/819 [00:30<00:00, 27.06it/s, epoch=88, loss=0.0213, acc=99.4]\n",
      "Training: 100%|██████████| 154/154 [00:33<00:00,  4.65it/s, epoch=89, loss=0.0373, acc=98.7]\n",
      "Validating: 100%|██████████| 819/819 [00:30<00:00, 27.26it/s, epoch=89, loss=0.0176, acc=99.6]\n",
      "Training: 100%|██████████| 154/154 [00:33<00:00,  4.64it/s, epoch=90, loss=0.0434, acc=98.3]\n",
      "Validating: 100%|██████████| 819/819 [00:30<00:00, 27.08it/s, epoch=90, loss=0.0133, acc=99.6]\n",
      "Training: 100%|██████████| 154/154 [00:33<00:00,  4.60it/s, epoch=91, loss=0.0296, acc=98.9]\n",
      "Validating: 100%|██████████| 819/819 [00:30<00:00, 27.14it/s, epoch=91, loss=0.02, acc=99.3]  \n",
      "Training: 100%|██████████| 154/154 [00:33<00:00,  4.63it/s, epoch=92, loss=0.0484, acc=98.2]\n",
      "Validating: 100%|██████████| 819/819 [00:30<00:00, 27.04it/s, epoch=92, loss=0.0138, acc=99.5]\n",
      "Training: 100%|██████████| 154/154 [00:33<00:00,  4.64it/s, epoch=93, loss=0.0348, acc=98.8]\n",
      "Validating: 100%|██████████| 819/819 [00:30<00:00, 27.29it/s, epoch=93, loss=0.0178, acc=99.3]\n",
      "Training: 100%|██████████| 154/154 [00:33<00:00,  4.62it/s, epoch=94, loss=0.0478, acc=98.1]\n",
      "Validating: 100%|██████████| 819/819 [00:30<00:00, 26.75it/s, epoch=94, loss=0.0132, acc=99.5]\n",
      "Training: 100%|██████████| 154/154 [00:32<00:00,  4.68it/s, epoch=95, loss=0.043, acc=98.7] \n",
      "Validating: 100%|██████████| 819/819 [00:28<00:00, 28.27it/s, epoch=95, loss=0.0191, acc=99.4]\n",
      "Training: 100%|██████████| 154/154 [00:32<00:00,  4.68it/s, epoch=96, loss=0.0463, acc=98.2]\n",
      "Validating: 100%|██████████| 819/819 [00:29<00:00, 28.19it/s, epoch=96, loss=0.017, acc=99.4] \n",
      "Training: 100%|██████████| 154/154 [00:32<00:00,  4.68it/s, epoch=97, loss=0.0393, acc=98.9]\n",
      "Validating: 100%|██████████| 819/819 [00:28<00:00, 28.33it/s, epoch=97, loss=0.0142, acc=99.6]\n",
      "Training: 100%|██████████| 154/154 [00:32<00:00,  4.69it/s, epoch=98, loss=0.0452, acc=98.7]\n",
      "Validating: 100%|██████████| 819/819 [00:29<00:00, 28.22it/s, epoch=98, loss=0.0183, acc=99.5]\n",
      "Training: 100%|██████████| 154/154 [00:33<00:00,  4.63it/s, epoch=99, loss=0.0383, acc=98.7]\n",
      "Validating: 100%|██████████| 819/819 [00:30<00:00, 27.25it/s, epoch=99, loss=0.0197, acc=99.4]"
     ]
    },
    {
     "name": "stdout",
     "output_type": "stream",
     "text": [
      "time taken: 6314.2111s\n"
     ]
    },
    {
     "name": "stderr",
     "output_type": "stream",
     "text": [
      "\n"
     ]
    }
   ],
   "source": [
    "start = time.time()\n",
    "best_acc = 0.0\n",
    "train_acc_ = []\n",
    "train_loss_ = []\n",
    "valid_acc_ = []\n",
    "valid_loss_ = []\n",
    "epoch_ = []\n",
    "lr_ = []\n",
    "for epoch in range(n_epochs):\n",
    "    train_acc, train_loss = train(epoch, trainloader, net)\n",
    "    val_acc, val_loss = valid(epoch, valloader, net)\n",
    "    train_acc_.append(train_acc)\n",
    "    train_loss_.append(train_loss)\n",
    "    valid_acc_.append(val_acc)\n",
    "    valid_loss_.append(val_loss)\n",
    "    scheduler.step()\n",
    "    if (val_acc > best_acc):\n",
    "        best_acc = val_acc\n",
    "        print(f'Best acc: {best_acc:.4f}, saving...')\n",
    "        torch.save(net, f'models/{datetime.now().strftime(\"%d%m%Y_%H%M%S\")}_densenet121_{best_acc:.4f}_epoch_{epoch}.pth')\n",
    "        epoch_.append(epoch)\n",
    "end = time.time()\n",
    "print(f'time taken: {(end-start):.4f}s')"
   ]
  },
  {
   "cell_type": "code",
   "execution_count": 32,
   "id": "00fc4e95-b39d-41a5-ba51-679bc40b0981",
   "metadata": {},
   "outputs": [
    {
     "name": "stdout",
     "output_type": "stream",
     "text": [
      "train_acc: 98.66\n",
      "val_acc: 99.39\n",
      "last model path: models/08012022_025216_densenet121_98.66_99.39_last.pth\n"
     ]
    }
   ],
   "source": [
    "print(f'train_acc: {train_acc:.2f}')\n",
    "print(f'val_acc: {val_acc:.2f}')\n",
    "model_path = f'models/{datetime.now().strftime(\"%d%m%Y_%H%M%S\")}_densenet121_{train_acc:.2f}_{val_acc:.2f}_last.pth'\n",
    "print(f'last model path: {model_path}')\n",
    "torch.save(net, model_path)"
   ]
  },
  {
   "cell_type": "code",
   "execution_count": 33,
   "id": "8f0e8a12-3eb5-4c64-afbd-684b8a55b8d4",
   "metadata": {},
   "outputs": [
    {
     "data": {
      "image/png": "[encoded data removed]",
      "text/plain": [
       "<Figure size 720x360 with 1 Axes>"
      ]
     },
     "metadata": {
      "needs_background": "light"
     },
     "output_type": "display_data"
    },
    {
     "data": {
      "image/png": "[encoded data removed]",
      "text/plain": [
       "<Figure size 720x360 with 1 Axes>"
      ]
     },
     "metadata": {
      "needs_background": "light"
     },
     "output_type": "display_data"
    },
    {
     "data": {
      "image/png": "[encoded data removed]",
      "text/plain": [
       "<Figure size 720x360 with 1 Axes>"
      ]
     },
     "metadata": {
      "needs_background": "light"
     },
     "output_type": "display_data"
    }
   ],
   "source": [
    "plt.figure(figsize=(10,5))\n",
    "plt.axvline(epoch_[-1], 0, 1, c='g', ls='--', lw=2, label='best')\n",
    "plt.plot(range(n_epochs), train_loss_, 'b', label='train')\n",
    "plt.plot(range(n_epochs), valid_loss_, 'r', label='valid')\n",
    "plt.xlabel('epochs')\n",
    "plt.ylabel('loss')\n",
    "plt.title('Loss vs Epoch')\n",
    "plt.legend()\n",
    "plt.show()\n",
    "\n",
    "plt.figure(figsize=(10,5))\n",
    "plt.axvline(epoch_[-1], 0, 1, c='g', ls='--', lw=2, label='best')\n",
    "plt.plot(range(n_epochs), train_acc_, 'b', label='train')\n",
    "plt.plot(range(n_epochs), valid_acc_, 'r', label='valid')\n",
    "plt.xlabel('epochs')\n",
    "plt.ylabel('acc')\n",
    "plt.title('Accuracy vs Epoch')\n",
    "plt.legend()\n",
    "plt.show()\n",
    "\n",
    "plt.figure(figsize=(10,5))\n",
    "plt.axvline(epoch_[-1], 0, 1, c='g', ls='--', lw=2, label='best')\n",
    "plt.plot(range(n_epochs), lr_, 'b', label='lr')\n",
    "plt.xlabel('epochs')\n",
    "plt.ylabel('lr')\n",
    "plt.title('Learning Rate vs Epoch')\n",
    "plt.legend()\n",
    "plt.show()"
   ]
  },
  {
   "cell_type": "code",
   "execution_count": 34,
   "id": "7eb0b968-402b-49e2-8a02-2641dd3d4c89",
   "metadata": {},
   "outputs": [],
   "source": [
    "plotTotal.append([net, train_acc_, train_loss_])"
   ]
  },
  {
   "cell_type": "markdown",
   "id": "96de6487-61cc-4da1-82a6-c0940a9ac04b",
   "metadata": {},
   "source": [
    "## Analysis"
   ]
  },
  {
   "cell_type": "code",
   "execution_count": 35,
   "id": "c032caf1-7f81-4284-8a92-029525081deb",
   "metadata": {},
   "outputs": [
    {
     "data": {
      "image/png": "[encoded data removed]",
      "text/plain": [
       "<Figure size 720x360 with 1 Axes>"
      ]
     },
     "metadata": {
      "needs_background": "light"
     },
     "output_type": "display_data"
    },
    {
     "data": {
      "image/png": "[encoded data removed]",
      "text/plain": [
       "<Figure size 720x360 with 1 Axes>"
      ]
     },
     "metadata": {
      "needs_background": "light"
     },
     "output_type": "display_data"
    }
   ],
   "source": [
    "plt.figure(figsize=(10,5))\n",
    "plt.plot(range(n_epochs), plotTotal[0][1], color='tab:blue', label='ResNet18')\n",
    "plt.plot(range(n_epochs), plotTotal[1][1], color='tab:red', label='MobileNetV2')\n",
    "plt.plot(range(n_epochs), plotTotal[2][1], color='tab:green', label='DenseNet121')\n",
    "plt.xlabel('# epoch')\n",
    "plt.ylabel('Training Accuracy %')\n",
    "plt.title('Training Accuracy vs Epochs')\n",
    "plt.legend()\n",
    "plt.show()\n",
    "\n",
    "plt.figure(figsize=(10,5))\n",
    "plt.plot(range(n_epochs), plotTotal[0][2], color='tab:blue', label='ResNet18')\n",
    "plt.plot(range(n_epochs), plotTotal[1][2], color='tab:red', label='MobileNetV2')\n",
    "plt.plot(range(n_epochs), plotTotal[2][2], color='tab:green', label='DenseNet121')\n",
    "plt.xlabel('# epoch')\n",
    "plt.ylabel('Training Loss')\n",
    "plt.title('Training Loss vs Epochs')\n",
    "plt.legend()\n",
    "plt.show()"
   ]
  },
  {
   "cell_type": "markdown",
   "id": "fcdaa9c8-374d-471e-a707-9fde7435628d",
   "metadata": {},
   "source": [
    "# Evaluate"
   ]
  },
  {
   "cell_type": "code",
   "execution_count": 36,
   "id": "bc2d76c2-f954-4ddc-881b-5d4b5aaa56cf",
   "metadata": {},
   "outputs": [],
   "source": [
    "# the true (rows), predicted (columns)\n",
    "\n",
    "def evaluate_test(model_path):\n",
    "    net = torch.load(model_path, map_location=device)\n",
    "    net.eval()\n",
    "    y = list()\n",
    "    y_hat = list()\n",
    "    correct = 0\n",
    "    total = 0\n",
    "    with torch.no_grad():\n",
    "        for image, label in testloader:\n",
    "            image, label = image.to(device), label.to(device)\n",
    "            y.append(label.item())\n",
    "            total += label.size()[0]\n",
    "            output = net(image)\n",
    "            _, predicted = torch.max(output.data, 1)\n",
    "            y_hat.append(predicted.item())\n",
    "            correct += label.eq(predicted).cpu().sum()\n",
    "    print(classification_report(y, y_hat))\n",
    "#     print(ConfusionMatrixDisplay(confusion_matrix(y_true=y, y_pred=y_hat)))\n",
    "    cm = ConfusionMatrixDisplay(confusion_matrix(y_true=y, y_pred=y_hat))\n",
    "    cm.plot() \n",
    "    return correct/total*100"
   ]
  },
  {
   "cell_type": "markdown",
   "id": "964b27a9-7215-42eb-bd4e-5ad7cee2ec06",
   "metadata": {},
   "source": [
    "## ResNet18"
   ]
  },
  {
   "cell_type": "code",
   "execution_count": 37,
   "id": "5ba6e555-ecf6-4729-bd29-df5cb3eaa4b0",
   "metadata": {},
   "outputs": [
    {
     "name": "stdout",
     "output_type": "stream",
     "text": [
      "---Evaluate best model---\n",
      "              precision    recall  f1-score   support\n",
      "\n",
      "           0       0.99      1.00      1.00       433\n",
      "           1       1.00      0.99      0.99       386\n",
      "\n",
      "    accuracy                           1.00       819\n",
      "   macro avg       1.00      0.99      1.00       819\n",
      "weighted avg       1.00      1.00      1.00       819\n",
      "\n",
      "Accuracy: 99.5116%\n",
      "Time taken: 5.4322s\n",
      "\n",
      "\n",
      "---Evaluate last model---\n",
      "              precision    recall  f1-score   support\n",
      "\n",
      "           0       0.99      1.00      0.99       433\n",
      "           1       0.99      0.99      0.99       386\n",
      "\n",
      "    accuracy                           0.99       819\n",
      "   macro avg       0.99      0.99      0.99       819\n",
      "weighted avg       0.99      0.99      0.99       819\n",
      "\n",
      "Accuracy: 99.3895%\n",
      "Time taken: 5.0882s\n"
     ]
    },
    {
     "data": {
      "image/png": "[encoded data removed]",
      "text/plain": [
       "<Figure size 432x288 with 2 Axes>"
      ]
     },
     "metadata": {
      "needs_background": "light"
     },
     "output_type": "display_data"
    },
    {
     "data": {
      "image/png": "[encoded data removed]",
      "text/plain": [
       "<Figure size 432x288 with 2 Axes>"
      ]
     },
     "metadata": {
      "needs_background": "light"
     },
     "output_type": "display_data"
    }
   ],
   "source": [
    "print('---Evaluate best model---')\n",
    "start = time.time()\n",
    "best_model_path = 'models/08012022_001139_resnet18_99.8779_epoch_64.pth'\n",
    "print(f'Accuracy: {evaluate_test(best_model_path):.4f}%')\n",
    "end = time.time()\n",
    "print(f'Time taken: {(end-start):.4f}s')\n",
    "print('\\n')\n",
    "print('---Evaluate last model---')\n",
    "start = time.time()\n",
    "last_model_path = 'models/08012022_002308_resnet18_98.70_99.51_last.pth'\n",
    "print(f'Accuracy: {evaluate_test(last_model_path):.4f}%')\n",
    "end = time.time()\n",
    "print(f'Time taken: {(end-start):.4f}s')"
   ]
  },
  {
   "cell_type": "markdown",
   "id": "7e7c1840-0f17-441e-b54a-ad2db29d5b68",
   "metadata": {},
   "source": [
    "## MobileNetV2"
   ]
  },
  {
   "cell_type": "code",
   "execution_count": 38,
   "id": "a740a3f8-cd84-4937-a859-6bc01921cde9",
   "metadata": {},
   "outputs": [
    {
     "name": "stdout",
     "output_type": "stream",
     "text": [
      "---Evaluate best model---\n",
      "              precision    recall  f1-score   support\n",
      "\n",
      "           0       0.98      0.99      0.99       433\n",
      "           1       0.99      0.98      0.99       386\n",
      "\n",
      "    accuracy                           0.99       819\n",
      "   macro avg       0.99      0.99      0.99       819\n",
      "weighted avg       0.99      0.99      0.99       819\n",
      "\n",
      "Accuracy: 98.6569%\n",
      "Time taken: 8.3179s\n",
      "\n",
      "\n",
      "---Evaluate last model---\n",
      "              precision    recall  f1-score   support\n",
      "\n",
      "           0       0.99      0.99      0.99       433\n",
      "           1       0.99      0.99      0.99       386\n",
      "\n",
      "    accuracy                           0.99       819\n",
      "   macro avg       0.99      0.99      0.99       819\n",
      "weighted avg       0.99      0.99      0.99       819\n",
      "\n",
      "Accuracy: 99.0232%\n",
      "Time taken: 8.0158s\n"
     ]
    },
    {
     "data": {
      "image/png": "[encoded data removed]",
      "text/plain": [
       "<Figure size 432x288 with 2 Axes>"
      ]
     },
     "metadata": {
      "needs_background": "light"
     },
     "output_type": "display_data"
    },
    {
     "data": {
      "image/png": "[encoded data removed]",
      "text/plain": [
       "<Figure size 432x288 with 2 Axes>"
      ]
     },
     "metadata": {
      "needs_background": "light"
     },
     "output_type": "display_data"
    }
   ],
   "source": [
    "print('---Evaluate best model---')\n",
    "start = time.time()\n",
    "best_model_path = 'models/08012022_004422_mobilenetv2_99.8779_epoch_48.pth'\n",
    "print(f'Accuracy: {evaluate_test(best_model_path):.4f}%')\n",
    "end = time.time()\n",
    "print(f'Time taken: {(end-start):.4f}s')\n",
    "print('\\n')\n",
    "print('---Evaluate last model---')\n",
    "start = time.time()\n",
    "last_model_path = 'models/08012022_010637_mobilenetv2_99.02_99.88_last.pth'\n",
    "print(f'Accuracy: {evaluate_test(last_model_path):.4f}%')\n",
    "end = time.time()\n",
    "print(f'Time taken: {(end-start):.4f}s')"
   ]
  },
  {
   "cell_type": "markdown",
   "id": "768a36cb-4551-4ad5-b321-85a31f1ade0b",
   "metadata": {},
   "source": [
    "## DenseNet121"
   ]
  },
  {
   "cell_type": "code",
   "execution_count": 39,
   "id": "f5a7d8eb-f3a6-4202-9af3-29446f5fb895",
   "metadata": {},
   "outputs": [
    {
     "name": "stdout",
     "output_type": "stream",
     "text": [
      "---Evaluate best model---\n",
      "              precision    recall  f1-score   support\n",
      "\n",
      "           0       0.99      1.00      0.99       433\n",
      "           1       0.99      0.99      0.99       386\n",
      "\n",
      "    accuracy                           0.99       819\n",
      "   macro avg       0.99      0.99      0.99       819\n",
      "weighted avg       0.99      0.99      0.99       819\n",
      "\n",
      "Accuracy: 99.1453%\n",
      "Time taken: 27.9243s\n",
      "\n",
      "\n",
      "---Evaluate last model---\n",
      "              precision    recall  f1-score   support\n",
      "\n",
      "           0       0.98      1.00      0.99       433\n",
      "           1       1.00      0.97      0.99       386\n",
      "\n",
      "    accuracy                           0.99       819\n",
      "   macro avg       0.99      0.99      0.99       819\n",
      "weighted avg       0.99      0.99      0.99       819\n",
      "\n",
      "Accuracy: 98.6569%\n",
      "Time taken: 27.3542s\n"
     ]
    },
    {
     "data": {
      "image/png": "[encoded data removed]",
      "text/plain": [
       "<Figure size 432x288 with 2 Axes>"
      ]
     },
     "metadata": {
      "needs_background": "light"
     },
     "output_type": "display_data"
    },
    {
     "data": {
      "image/png": "[encoded data removed]",
      "text/plain": [
       "<Figure size 432x288 with 2 Axes>"
      ]
     },
     "metadata": {
      "needs_background": "light"
     },
     "output_type": "display_data"
    }
   ],
   "source": [
    "print('---Evaluate best model---')\n",
    "start = time.time()\n",
    "best_model_path = 'models/08012022_021509_densenet121_99.6337_epoch_64.pth'\n",
    "print(f'Accuracy: {evaluate_test(best_model_path):.4f}%')\n",
    "end = time.time()\n",
    "print(f'Time taken: {(end-start):.4f}s')\n",
    "print('\\n')\n",
    "print('---Evaluate last model---')\n",
    "start = time.time()\n",
    "last_model_path = 'models/08012022_025216_densenet121_98.66_99.39_last.pth'\n",
    "print(f'Accuracy: {evaluate_test(last_model_path):.4f}%')\n",
    "end = time.time()\n",
    "print(f'Time taken: {(end-start):.4f}s')"
   ]
  },
  {
   "cell_type": "code",
   "execution_count": 40,
   "id": "f9584ae7-b5f4-43c9-b9c2-5ea8be382260",
   "metadata": {},
   "outputs": [
    {
     "name": "stdout",
     "output_type": "stream",
     "text": [
      "(2226434, 6955906, 11177538)\n",
      "('mobilenetv2', 'densenet121', 'resnet18')\n"
     ]
    }
   ],
   "source": [
    "net, param = zip(*sorted(list(zip([count_parameters(i[0]) for i in plotTotal], ['resnet18', 'mobilenetv2', 'densenet121']))))\n",
    "print(net)\n",
    "print(param)"
   ]
  }
 ],
 "metadata": {
  "kernelspec": {
   "display_name": "Python 3",
   "language": "python",
   "name": "python3"
  },
  "language_info": {
   "codemirror_mode": {
    "name": "ipython",
    "version": 3
   },
   "file_extension": ".py",
   "mimetype": "text/x-python",
   "name": "python",
   "nbconvert_exporter": "python",
   "pygments_lexer": "ipython3",
   "version": "3.8.12"
  }
 },
 "nbformat": 4,
 "nbformat_minor": 5
}
