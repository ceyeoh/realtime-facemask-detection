{
 "cells": [
  {
   "cell_type": "code",
   "execution_count": 19,
   "id": "40cf8597-8f8c-4fa4-a9d9-2b21e190cab8",
   "metadata": {},
   "outputs": [],
   "source": [
    "import numpy as np\n",
    "import pandas as pd\n",
    "from pathlib import Path\n",
    "from glob import glob\n",
    "from itertools import chain\n",
    "from collections import Counter\n",
    "from PIL import Image\n",
    "from tqdm import tqdm\n",
    "import time\n",
    "from datetime import datetime\n",
    "\n",
    "from sklearn.model_selection import train_test_split\n",
    "from sklearn.preprocessing import LabelEncoder\n",
    "from sklearn.metrics import classification_report, confusion_matrix, ConfusionMatrixDisplay\n",
    "\n",
    "import torch\n",
    "import torch.nn as nn\n",
    "import torch.optim as optim\n",
    "from torchvision import transforms\n",
    "from torchvision.models.resnet import resnet18\n",
    "from torchvision.models.densenet import densenet121\n",
    "from torchvision.models.mobilenetv2 import mobilenet_v2\n",
    "from torch.utils.data import Dataset, DataLoader\n",
    "from torch.optim.lr_scheduler import CosineAnnealingLR\n",
    "from torchsummary import summary\n",
    "\n",
    "import matplotlib.pyplot as plt\n",
    "\n",
    "import warnings\n",
    "warnings.filterwarnings('ignore')\n",
    "\n",
    "if torch.cuda.is_available():\n",
    "    torch.backends.cudnn.deterministic = True"
   ]
  },
  {
   "cell_type": "code",
   "execution_count": 2,
   "id": "2be1e262-969f-4211-a37e-4e634736def3",
   "metadata": {},
   "outputs": [],
   "source": [
    "seed = 17167055\n",
    "torch.manual_seed(seed)\n",
    "np.random.seed(seed)"
   ]
  },
  {
   "cell_type": "code",
   "execution_count": 3,
   "id": "67567d40-2dee-4e70-9188-e1a1465f7540",
   "metadata": {},
   "outputs": [
    {
     "name": "stdout",
     "output_type": "stream",
     "text": [
      "Total data: 4092\n"
     ]
    }
   ],
   "source": [
    "root = 'dataset'\n",
    "dataset = [str(data) for data in list(chain(*[i.glob('*') for i in Path(root).glob('*')]))]\n",
    "print(f'Total data: {len(dataset)}')"
   ]
  },
  {
   "cell_type": "code",
   "execution_count": 4,
   "id": "a18a600c-e71e-435d-8d22-a1fb2122c3f3",
   "metadata": {},
   "outputs": [],
   "source": [
    "def img_loader(path):\n",
    "    with open(path, 'rb') as f:\n",
    "        return Image.open(f).resize((224, 224)).convert('RGB')"
   ]
  },
  {
   "cell_type": "code",
   "execution_count": 5,
   "id": "36eb823f-1903-477e-95a0-ae4031d0c066",
   "metadata": {},
   "outputs": [],
   "source": [
    "images = [img_loader(i) for i in dataset]\n",
    "labels = [i.split('\\\\')[-2] for i in dataset]\n",
    "\n",
    "assert len(images)==len(labels)\n",
    "assert len(images)==len(dataset)"
   ]
  },
  {
   "cell_type": "code",
   "execution_count": 6,
   "id": "77bb096f-3cab-4ff1-8f44-c41e1606b1c8",
   "metadata": {},
   "outputs": [],
   "source": [
    "scaler = LabelEncoder()\n",
    "labels = scaler.fit_transform(labels)"
   ]
  },
  {
   "cell_type": "code",
   "execution_count": 7,
   "id": "e800254c-5499-46ea-9fe1-8070488ade14",
   "metadata": {},
   "outputs": [
    {
     "data": {
      "text/plain": [
       "[(0, 2162), (1, 1930)]"
      ]
     },
     "execution_count": 7,
     "metadata": {},
     "output_type": "execute_result"
    }
   ],
   "source": [
    "Counter(labels).most_common()"
   ]
  },
  {
   "cell_type": "code",
   "execution_count": 8,
   "id": "ecc3c6af-6df0-4381-aa8b-ef2ea4714b02",
   "metadata": {},
   "outputs": [
    {
     "name": "stdout",
     "output_type": "stream",
     "text": [
      "Train: 2454\n",
      "Validation: 819\n",
      "Test: 819\n"
     ]
    }
   ],
   "source": [
    "X_train, X_test, y_train, y_test = train_test_split(images, labels, test_size=0.2, stratify=labels, random_state=seed)\n",
    "X_train, X_val, y_train, y_val = train_test_split(X_train, y_train, test_size=0.25, stratify=y_train, random_state=seed)\n",
    "print(f'Train: {len(X_train)}')\n",
    "print(f'Validation: {len(X_val)}')\n",
    "print(f'Test: {len(X_test)}')"
   ]
  },
  {
   "cell_type": "code",
   "execution_count": 9,
   "id": "c72f3ed8-23a6-437a-b891-28cca5d0df60",
   "metadata": {
    "tags": []
   },
   "outputs": [],
   "source": [
    "class MaskDataset(Dataset):\n",
    "    def __init__(self, X, y, transform):\n",
    "        self.image = X\n",
    "        self.label = y\n",
    "        self.transform = transform\n",
    "        \n",
    "    def __getitem__(self, idx):\n",
    "        img = self.image[idx]\n",
    "        lbl = self.label[idx]\n",
    "        if self.transform:\n",
    "            img = self.transform(img)\n",
    "        return img, lbl\n",
    "    \n",
    "    def __len__(self):\n",
    "        return len(self.image)"
   ]
  },
  {
   "cell_type": "code",
   "execution_count": 10,
   "id": "4b8113f7-346b-4c6e-8ac9-8c790e341673",
   "metadata": {},
   "outputs": [],
   "source": [
    "transform_train = transforms.Compose([\n",
    "    transforms.RandomResizedCrop(224),\n",
    "    transforms.RandomHorizontalFlip(),\n",
    "    transforms.RandomAutocontrast(),\n",
    "    transforms.RandomAdjustSharpness(2),\n",
    "    transforms.ToTensor(),\n",
    "])\n",
    "\n",
    "transform_valtest = transforms.Compose([\n",
    "    transforms.Resize(224),\n",
    "    transforms.ToTensor(),\n",
    "])"
   ]
  },
  {
   "cell_type": "code",
   "execution_count": 11,
   "id": "61bbbe65-4956-41da-bb9e-2f68f30a3d9e",
   "metadata": {},
   "outputs": [],
   "source": [
    "trainset = MaskDataset(X_train, y_train, transform_train)\n",
    "trainloader = DataLoader(trainset, batch_size=16, shuffle=True)\n",
    "\n",
    "valset = MaskDataset(X_val, y_val, transform_valtest)\n",
    "valloader = DataLoader(valset, batch_size=1, shuffle=False)\n",
    "\n",
    "testset = MaskDataset(X_test, y_test, transform_valtest)\n",
    "testloader = DataLoader(testset, batch_size=1, shuffle=False)"
   ]
  },
  {
   "cell_type": "code",
   "execution_count": 12,
   "id": "90827133-c606-41ac-a7f9-c6e0e0859d70",
   "metadata": {},
   "outputs": [
    {
     "data": {
      "text/plain": [
       "device(type='cuda')"
      ]
     },
     "execution_count": 12,
     "metadata": {},
     "output_type": "execute_result"
    }
   ],
   "source": [
    "device = torch.device('cuda' if torch.cuda.is_available() else 'cpu')\n",
    "device"
   ]
  },
  {
   "cell_type": "code",
   "execution_count": 13,
   "id": "5244cc72-61f6-494e-89c4-073432ec92a2",
   "metadata": {},
   "outputs": [],
   "source": [
    "def count_parameters(net):\n",
    "    return sum(p.numel() for p in net.parameters() if p.requires_grad)"
   ]
  },
  {
   "cell_type": "code",
   "execution_count": 14,
   "id": "cfdef0a2-43dc-4695-94f9-1fb357be7e8a",
   "metadata": {
    "tags": []
   },
   "outputs": [],
   "source": [
    "def train(epoch, trainloader, net):\n",
    "    net.train()\n",
    "    train_loss = 0\n",
    "    correct = 0\n",
    "    total = 0\n",
    "    pbar = tqdm(trainloader, desc='Training')\n",
    "    for batch_idx, (x_train, y_train) in enumerate(pbar):\n",
    "        x_train, y_train = x_train.to(device), y_train.to(device)\n",
    "        optimizer.zero_grad()\n",
    "        outputs = net(x_train)\n",
    "        loss = criterion(outputs, y_train)\n",
    "        loss.backward()\n",
    "        optimizer.step()\n",
    "        train_loss += loss.item()\n",
    "        _, predicted = torch.max(outputs.data, 1)\n",
    "        total += y_train.size(0)\n",
    "        correct += predicted.eq(y_train.data).cpu().sum()\n",
    "        pbar.set_postfix({\"epoch\":(epoch), \"loss\":(train_loss/(batch_idx+1)), \"acc\":(100.*correct/total).item()})\n",
    "    lr_.append(scheduler.get_last_lr())\n",
    "    acc = 100.*correct/total\n",
    "    loss = train_loss/(batch_idx+1)\n",
    "    return acc, loss"
   ]
  },
  {
   "cell_type": "code",
   "execution_count": 15,
   "id": "7d17f4fe-e940-478b-82b3-0385776b7275",
   "metadata": {},
   "outputs": [],
   "source": [
    "def valid(epoch, loader, net):\n",
    "    net.eval()\n",
    "    val_loss = 0\n",
    "    correct = 0\n",
    "    total = 0\n",
    "    pbar = tqdm(loader,desc='Validating')\n",
    "    with torch.no_grad():\n",
    "        for batch_idx, (x_val, y_val) in enumerate(pbar):\n",
    "            x_val, y_val = x_val.to(device), y_val.to(device)\n",
    "            outputs = net(x_val)\n",
    "            loss = criterion(outputs, y_val)\n",
    "            val_loss += loss.item()\n",
    "            _, predicted = torch.max(outputs.data, 1)\n",
    "            total += y_val.size(0)\n",
    "            correct += predicted.eq(y_val.data).cpu().sum()\n",
    "            pbar.set_postfix({\"epoch\":(epoch), \"loss\":(val_loss/(batch_idx+1)), \"acc\":(100.*correct/total).item()})\n",
    "    acc = 100.*correct/total\n",
    "    loss = val_loss/(batch_idx+1)\n",
    "    return acc, loss"
   ]
  },
  {
   "cell_type": "code",
   "execution_count": 16,
   "id": "ca201338-8adc-40a0-a750-19d791afee48",
   "metadata": {},
   "outputs": [],
   "source": [
    "plotTotal = list()"
   ]
  },
  {
   "cell_type": "markdown",
   "id": "638cbc05-a5eb-4701-9745-1a24ebb610b6",
   "metadata": {},
   "source": [
    "## ResNet18"
   ]
  },
  {
   "cell_type": "code",
   "execution_count": 17,
   "id": "1088392d-cd84-49bc-a356-070ff3026be2",
   "metadata": {},
   "outputs": [
    {
     "name": "stdout",
     "output_type": "stream",
     "text": [
      "number of trainable params: 11177538\n",
      "ResNet(\n",
      "  (conv1): Conv2d(3, 64, kernel_size=(7, 7), stride=(2, 2), padding=(3, 3), bias=False)\n",
      "  (bn1): BatchNorm2d(64, eps=1e-05, momentum=0.1, affine=True, track_running_stats=True)\n",
      "  (relu): ReLU(inplace=True)\n",
      "  (maxpool): MaxPool2d(kernel_size=3, stride=2, padding=1, dilation=1, ceil_mode=False)\n",
      "  (layer1): Sequential(\n",
      "    (0): BasicBlock(\n",
      "      (conv1): Conv2d(64, 64, kernel_size=(3, 3), stride=(1, 1), padding=(1, 1), bias=False)\n",
      "      (bn1): BatchNorm2d(64, eps=1e-05, momentum=0.1, affine=True, track_running_stats=True)\n",
      "      (relu): ReLU(inplace=True)\n",
      "      (conv2): Conv2d(64, 64, kernel_size=(3, 3), stride=(1, 1), padding=(1, 1), bias=False)\n",
      "      (bn2): BatchNorm2d(64, eps=1e-05, momentum=0.1, affine=True, track_running_stats=True)\n",
      "    )\n",
      "    (1): BasicBlock(\n",
      "      (conv1): Conv2d(64, 64, kernel_size=(3, 3), stride=(1, 1), padding=(1, 1), bias=False)\n",
      "      (bn1): BatchNorm2d(64, eps=1e-05, momentum=0.1, affine=True, track_running_stats=True)\n",
      "      (relu): ReLU(inplace=True)\n",
      "      (conv2): Conv2d(64, 64, kernel_size=(3, 3), stride=(1, 1), padding=(1, 1), bias=False)\n",
      "      (bn2): BatchNorm2d(64, eps=1e-05, momentum=0.1, affine=True, track_running_stats=True)\n",
      "    )\n",
      "  )\n",
      "  (layer2): Sequential(\n",
      "    (0): BasicBlock(\n",
      "      (conv1): Conv2d(64, 128, kernel_size=(3, 3), stride=(2, 2), padding=(1, 1), bias=False)\n",
      "      (bn1): BatchNorm2d(128, eps=1e-05, momentum=0.1, affine=True, track_running_stats=True)\n",
      "      (relu): ReLU(inplace=True)\n",
      "      (conv2): Conv2d(128, 128, kernel_size=(3, 3), stride=(1, 1), padding=(1, 1), bias=False)\n",
      "      (bn2): BatchNorm2d(128, eps=1e-05, momentum=0.1, affine=True, track_running_stats=True)\n",
      "      (downsample): Sequential(\n",
      "        (0): Conv2d(64, 128, kernel_size=(1, 1), stride=(2, 2), bias=False)\n",
      "        (1): BatchNorm2d(128, eps=1e-05, momentum=0.1, affine=True, track_running_stats=True)\n",
      "      )\n",
      "    )\n",
      "    (1): BasicBlock(\n",
      "      (conv1): Conv2d(128, 128, kernel_size=(3, 3), stride=(1, 1), padding=(1, 1), bias=False)\n",
      "      (bn1): BatchNorm2d(128, eps=1e-05, momentum=0.1, affine=True, track_running_stats=True)\n",
      "      (relu): ReLU(inplace=True)\n",
      "      (conv2): Conv2d(128, 128, kernel_size=(3, 3), stride=(1, 1), padding=(1, 1), bias=False)\n",
      "      (bn2): BatchNorm2d(128, eps=1e-05, momentum=0.1, affine=True, track_running_stats=True)\n",
      "    )\n",
      "  )\n",
      "  (layer3): Sequential(\n",
      "    (0): BasicBlock(\n",
      "      (conv1): Conv2d(128, 256, kernel_size=(3, 3), stride=(2, 2), padding=(1, 1), bias=False)\n",
      "      (bn1): BatchNorm2d(256, eps=1e-05, momentum=0.1, affine=True, track_running_stats=True)\n",
      "      (relu): ReLU(inplace=True)\n",
      "      (conv2): Conv2d(256, 256, kernel_size=(3, 3), stride=(1, 1), padding=(1, 1), bias=False)\n",
      "      (bn2): BatchNorm2d(256, eps=1e-05, momentum=0.1, affine=True, track_running_stats=True)\n",
      "      (downsample): Sequential(\n",
      "        (0): Conv2d(128, 256, kernel_size=(1, 1), stride=(2, 2), bias=False)\n",
      "        (1): BatchNorm2d(256, eps=1e-05, momentum=0.1, affine=True, track_running_stats=True)\n",
      "      )\n",
      "    )\n",
      "    (1): BasicBlock(\n",
      "      (conv1): Conv2d(256, 256, kernel_size=(3, 3), stride=(1, 1), padding=(1, 1), bias=False)\n",
      "      (bn1): BatchNorm2d(256, eps=1e-05, momentum=0.1, affine=True, track_running_stats=True)\n",
      "      (relu): ReLU(inplace=True)\n",
      "      (conv2): Conv2d(256, 256, kernel_size=(3, 3), stride=(1, 1), padding=(1, 1), bias=False)\n",
      "      (bn2): BatchNorm2d(256, eps=1e-05, momentum=0.1, affine=True, track_running_stats=True)\n",
      "    )\n",
      "  )\n",
      "  (layer4): Sequential(\n",
      "    (0): BasicBlock(\n",
      "      (conv1): Conv2d(256, 512, kernel_size=(3, 3), stride=(2, 2), padding=(1, 1), bias=False)\n",
      "      (bn1): BatchNorm2d(512, eps=1e-05, momentum=0.1, affine=True, track_running_stats=True)\n",
      "      (relu): ReLU(inplace=True)\n",
      "      (conv2): Conv2d(512, 512, kernel_size=(3, 3), stride=(1, 1), padding=(1, 1), bias=False)\n",
      "      (bn2): BatchNorm2d(512, eps=1e-05, momentum=0.1, affine=True, track_running_stats=True)\n",
      "      (downsample): Sequential(\n",
      "        (0): Conv2d(256, 512, kernel_size=(1, 1), stride=(2, 2), bias=False)\n",
      "        (1): BatchNorm2d(512, eps=1e-05, momentum=0.1, affine=True, track_running_stats=True)\n",
      "      )\n",
      "    )\n",
      "    (1): BasicBlock(\n",
      "      (conv1): Conv2d(512, 512, kernel_size=(3, 3), stride=(1, 1), padding=(1, 1), bias=False)\n",
      "      (bn1): BatchNorm2d(512, eps=1e-05, momentum=0.1, affine=True, track_running_stats=True)\n",
      "      (relu): ReLU(inplace=True)\n",
      "      (conv2): Conv2d(512, 512, kernel_size=(3, 3), stride=(1, 1), padding=(1, 1), bias=False)\n",
      "      (bn2): BatchNorm2d(512, eps=1e-05, momentum=0.1, affine=True, track_running_stats=True)\n",
      "    )\n",
      "  )\n",
      "  (avgpool): AdaptiveAvgPool2d(output_size=(1, 1))\n",
      "  (fc): Linear(in_features=512, out_features=2, bias=True)\n",
      ")\n"
     ]
    }
   ],
   "source": [
    "net = resnet18(pretrained=True)\n",
    "num_ftrs = net.fc.in_features\n",
    "net.fc = nn.Linear(num_ftrs, 2, bias=True)\n",
    "rnetsnet = net.to(device)\n",
    "print(f'number of trainable params: {count_parameters(net)}')\n",
    "print(net)"
   ]
  },
  {
   "cell_type": "code",
   "execution_count": 18,
   "id": "d6187364-f824-4482-9c8e-22923ea9c2fd",
   "metadata": {},
   "outputs": [],
   "source": [
    "criterion = nn.CrossEntropyLoss()\n",
    "optimizer = optim.Adam(net.parameters(), lr=0.001, weight_decay=1e-4)\n",
    "n_epochs = 100\n",
    "scheduler = CosineAnnealingLR(optimizer, n_epochs)"
   ]
  },
  {
   "cell_type": "code",
   "execution_count": 19,
   "id": "729a49cc-2245-46c7-bfc5-3a645ad90c80",
   "metadata": {},
   "outputs": [
    {
     "name": "stderr",
     "output_type": "stream",
     "text": [
      "Training: 100%|███████████████████████████████████████| 154/154 [00:10<00:00, 15.09it/s, epoch=0, loss=0.304, acc=87.9]\n",
      "Validating: 100%|████████████████████████████████████| 819/819 [00:05<00:00, 155.24it/s, epoch=0, loss=0.137, acc=94.4]\n",
      "Training:   1%|▌                                        | 2/154 [00:00<00:08, 17.00it/s, epoch=1, loss=0.0796, acc=100]"
     ]
    },
    {
     "name": "stdout",
     "output_type": "stream",
     "text": [
      "Best acc: 94.3834, saving...\n"
     ]
    },
    {
     "name": "stderr",
     "output_type": "stream",
     "text": [
      "Training: 100%|███████████████████████████████████████| 154/154 [00:08<00:00, 17.64it/s, epoch=1, loss=0.241, acc=90.2]\n",
      "Validating: 100%|████████████████████████████████████| 819/819 [00:05<00:00, 156.79it/s, epoch=1, loss=0.424, acc=84.4]\n",
      "Training: 100%|███████████████████████████████████████| 154/154 [00:08<00:00, 17.68it/s, epoch=2, loss=0.242, acc=90.5]\n",
      "Validating: 100%|███████████████████████████████████| 819/819 [00:05<00:00, 156.44it/s, epoch=2, loss=0.0968, acc=96.2]\n",
      "Training:   1%|▌                                        | 2/154 [00:00<00:08, 16.93it/s, epoch=3, loss=0.0557, acc=100]"
     ]
    },
    {
     "name": "stdout",
     "output_type": "stream",
     "text": [
      "Best acc: 96.2149, saving...\n"
     ]
    },
    {
     "name": "stderr",
     "output_type": "stream",
     "text": [
      "Training: 100%|███████████████████████████████████████| 154/154 [00:08<00:00, 17.55it/s, epoch=3, loss=0.185, acc=92.8]\n",
      "Validating: 100%|███████████████████████████████████| 819/819 [00:05<00:00, 157.46it/s, epoch=3, loss=0.0477, acc=98.2]\n",
      "Training:   1%|▌                                        | 2/154 [00:00<00:08, 17.20it/s, epoch=4, loss=0.167, acc=90.6]"
     ]
    },
    {
     "name": "stdout",
     "output_type": "stream",
     "text": [
      "Best acc: 98.1685, saving...\n"
     ]
    },
    {
     "name": "stderr",
     "output_type": "stream",
     "text": [
      "Training: 100%|███████████████████████████████████████| 154/154 [00:08<00:00, 17.53it/s, epoch=4, loss=0.188, acc=92.5]\n",
      "Validating: 100%|████████████████████████████████████| 819/819 [00:05<00:00, 156.20it/s, epoch=4, loss=0.124, acc=96.5]\n",
      "Training: 100%|███████████████████████████████████████| 154/154 [00:08<00:00, 17.80it/s, epoch=5, loss=0.211, acc=92.1]\n",
      "Validating: 100%|███████████████████████████████████| 819/819 [00:05<00:00, 157.52it/s, epoch=5, loss=0.0955, acc=97.3]\n",
      "Training: 100%|███████████████████████████████████████| 154/154 [00:08<00:00, 17.61it/s, epoch=6, loss=0.174, acc=93.4]\n",
      "Validating: 100%|████████████████████████████████████| 819/819 [00:05<00:00, 155.87it/s, epoch=6, loss=0.103, acc=96.6]\n",
      "Training: 100%|███████████████████████████████████████| 154/154 [00:08<00:00, 17.65it/s, epoch=7, loss=0.173, acc=93.4]\n",
      "Validating: 100%|███████████████████████████████████| 819/819 [00:05<00:00, 156.78it/s, epoch=7, loss=0.0812, acc=97.4]\n",
      "Training: 100%|███████████████████████████████████████| 154/154 [00:08<00:00, 17.61it/s, epoch=8, loss=0.184, acc=93.2]\n",
      "Validating: 100%|███████████████████████████████████| 819/819 [00:05<00:00, 155.70it/s, epoch=8, loss=0.0526, acc=98.3]\n",
      "Training:   1%|▌                                       | 2/154 [00:00<00:08, 17.03it/s, epoch=9, loss=0.0633, acc=96.9]"
     ]
    },
    {
     "name": "stdout",
     "output_type": "stream",
     "text": [
      "Best acc: 98.2906, saving...\n"
     ]
    },
    {
     "name": "stderr",
     "output_type": "stream",
     "text": [
      "Training: 100%|███████████████████████████████████████| 154/154 [00:08<00:00, 17.56it/s, epoch=9, loss=0.188, acc=92.6]\n",
      "Validating: 100%|███████████████████████████████████| 819/819 [00:05<00:00, 157.45it/s, epoch=9, loss=0.0561, acc=97.9]\n",
      "Training: 100%|██████████████████████████████████████| 154/154 [00:08<00:00, 17.61it/s, epoch=10, loss=0.198, acc=92.7]\n",
      "Validating: 100%|██████████████████████████████████| 819/819 [00:05<00:00, 157.10it/s, epoch=10, loss=0.0792, acc=97.1]\n",
      "Training: 100%|██████████████████████████████████████| 154/154 [00:08<00:00, 17.64it/s, epoch=11, loss=0.193, acc=92.1]\n",
      "Validating: 100%|██████████████████████████████████| 819/819 [00:05<00:00, 156.54it/s, epoch=11, loss=0.0793, acc=97.2]\n",
      "Training: 100%|██████████████████████████████████████| 154/154 [00:08<00:00, 17.56it/s, epoch=12, loss=0.171, acc=93.4]\n",
      "Validating: 100%|███████████████████████████████████| 819/819 [00:05<00:00, 156.09it/s, epoch=12, loss=0.173, acc=94.4]\n",
      "Training: 100%|██████████████████████████████████████| 154/154 [00:08<00:00, 17.69it/s, epoch=13, loss=0.197, acc=93.1]\n",
      "Validating: 100%|████████████████████████████████████| 819/819 [00:05<00:00, 156.55it/s, epoch=13, loss=0.0495, acc=98]\n",
      "Training: 100%|████████████████████████████████████████| 154/154 [00:08<00:00, 17.56it/s, epoch=14, loss=0.177, acc=93]\n",
      "Validating: 100%|██████████████████████████████████| 819/819 [00:05<00:00, 156.92it/s, epoch=14, loss=0.0614, acc=98.2]\n",
      "Training: 100%|██████████████████████████████████████| 154/154 [00:08<00:00, 17.58it/s, epoch=15, loss=0.146, acc=94.2]\n",
      "Validating: 100%|██████████████████████████████████| 819/819 [00:05<00:00, 157.67it/s, epoch=15, loss=0.0693, acc=97.3]\n",
      "Training: 100%|██████████████████████████████████████| 154/154 [00:08<00:00, 17.71it/s, epoch=16, loss=0.152, acc=93.6]\n",
      "Validating: 100%|██████████████████████████████████| 819/819 [00:05<00:00, 156.54it/s, epoch=16, loss=0.0455, acc=98.3]\n",
      "Training: 100%|██████████████████████████████████████| 154/154 [00:08<00:00, 17.66it/s, epoch=17, loss=0.148, acc=94.7]\n",
      "Validating: 100%|██████████████████████████████████| 819/819 [00:05<00:00, 155.37it/s, epoch=17, loss=0.0537, acc=98.4]\n",
      "Training:   1%|▌                                       | 2/154 [00:00<00:08, 17.04it/s, epoch=18, loss=0.234, acc=87.5]"
     ]
    },
    {
     "name": "stdout",
     "output_type": "stream",
     "text": [
      "Best acc: 98.4127, saving...\n"
     ]
    },
    {
     "name": "stderr",
     "output_type": "stream",
     "text": [
      "Training: 100%|████████████████████████████████████████| 154/154 [00:08<00:00, 17.63it/s, epoch=18, loss=0.134, acc=95]\n",
      "Validating: 100%|██████████████████████████████████| 819/819 [00:05<00:00, 156.35it/s, epoch=18, loss=0.0369, acc=98.8]\n",
      "Training:   1%|▌                                       | 2/154 [00:00<00:09, 16.70it/s, epoch=19, loss=0.0462, acc=100]"
     ]
    },
    {
     "name": "stdout",
     "output_type": "stream",
     "text": [
      "Best acc: 98.7790, saving...\n"
     ]
    },
    {
     "name": "stderr",
     "output_type": "stream",
     "text": [
      "Training: 100%|██████████████████████████████████████| 154/154 [00:08<00:00, 17.60it/s, epoch=19, loss=0.138, acc=95.2]\n",
      "Validating: 100%|██████████████████████████████████| 819/819 [00:05<00:00, 157.39it/s, epoch=19, loss=0.0552, acc=98.4]\n",
      "Training: 100%|██████████████████████████████████████| 154/154 [00:08<00:00, 17.83it/s, epoch=20, loss=0.139, acc=94.7]\n",
      "Validating: 100%|██████████████████████████████████| 819/819 [00:05<00:00, 156.36it/s, epoch=20, loss=0.0512, acc=98.2]\n",
      "Training: 100%|██████████████████████████████████████| 154/154 [00:08<00:00, 17.67it/s, epoch=21, loss=0.145, acc=94.4]\n",
      "Validating: 100%|██████████████████████████████████| 819/819 [00:05<00:00, 156.32it/s, epoch=21, loss=0.0486, acc=98.5]\n",
      "Training: 100%|██████████████████████████████████████| 154/154 [00:08<00:00, 17.71it/s, epoch=22, loss=0.128, acc=95.4]\n",
      "Validating: 100%|██████████████████████████████████| 819/819 [00:05<00:00, 156.33it/s, epoch=22, loss=0.0337, acc=99.1]\n",
      "Training:   1%|▌                                      | 2/154 [00:00<00:08, 16.96it/s, epoch=23, loss=0.0957, acc=96.9]"
     ]
    },
    {
     "name": "stdout",
     "output_type": "stream",
     "text": [
      "Best acc: 99.1453, saving...\n"
     ]
    },
    {
     "name": "stderr",
     "output_type": "stream",
     "text": [
      "Training: 100%|██████████████████████████████████████| 154/154 [00:08<00:00, 17.67it/s, epoch=23, loss=0.141, acc=94.8]\n",
      "Validating: 100%|██████████████████████████████████| 819/819 [00:05<00:00, 158.42it/s, epoch=23, loss=0.0424, acc=98.8]\n",
      "Training: 100%|██████████████████████████████████████| 154/154 [00:08<00:00, 17.70it/s, epoch=24, loss=0.125, acc=95.2]\n",
      "Validating: 100%|████████████████████████████████████| 819/819 [00:05<00:00, 156.89it/s, epoch=24, loss=0.03, acc=99.5]\n",
      "Training:   1%|▌                                       | 2/154 [00:00<00:08, 17.85it/s, epoch=25, loss=0.0349, acc=100]"
     ]
    },
    {
     "name": "stdout",
     "output_type": "stream",
     "text": [
      "Best acc: 99.5116, saving...\n"
     ]
    },
    {
     "name": "stderr",
     "output_type": "stream",
     "text": [
      "Training: 100%|██████████████████████████████████████| 154/154 [00:08<00:00, 17.51it/s, epoch=25, loss=0.155, acc=94.4]\n",
      "Validating: 100%|██████████████████████████████████| 819/819 [00:05<00:00, 158.58it/s, epoch=25, loss=0.0396, acc=98.5]\n",
      "Training: 100%|██████████████████████████████████████| 154/154 [00:08<00:00, 17.70it/s, epoch=26, loss=0.138, acc=94.3]\n",
      "Validating: 100%|██████████████████████████████████| 819/819 [00:05<00:00, 157.78it/s, epoch=26, loss=0.0928, acc=96.8]\n",
      "Training: 100%|████████████████████████████████████████| 154/154 [00:08<00:00, 17.73it/s, epoch=27, loss=0.122, acc=95]\n",
      "Validating: 100%|██████████████████████████████████| 819/819 [00:05<00:00, 157.74it/s, epoch=27, loss=0.0573, acc=98.3]\n",
      "Training: 100%|██████████████████████████████████████| 154/154 [00:08<00:00, 17.64it/s, epoch=28, loss=0.139, acc=95.3]\n",
      "Validating: 100%|██████████████████████████████████| 819/819 [00:05<00:00, 158.02it/s, epoch=28, loss=0.0493, acc=98.4]\n",
      "Training: 100%|████████████████████████████████████████| 154/154 [00:08<00:00, 17.53it/s, epoch=29, loss=0.132, acc=95]\n",
      "Validating: 100%|█████████████████████████████████████| 819/819 [00:05<00:00, 157.98it/s, epoch=29, loss=0.125, acc=96]\n",
      "Training: 100%|████████████████████████████████████████| 154/154 [00:08<00:00, 17.61it/s, epoch=30, loss=0.131, acc=95]\n",
      "Validating: 100%|███████████████████████████████████| 819/819 [00:05<00:00, 158.50it/s, epoch=30, loss=0.121, acc=95.8]\n",
      "Training: 100%|████████████████████████████████████████| 154/154 [00:08<00:00, 17.53it/s, epoch=31, loss=0.116, acc=96]\n",
      "Validating: 100%|██████████████████████████████████| 819/819 [00:05<00:00, 158.50it/s, epoch=31, loss=0.0311, acc=98.9]\n",
      "Training: 100%|██████████████████████████████████████| 154/154 [00:08<00:00, 17.52it/s, epoch=32, loss=0.137, acc=95.1]\n",
      "Validating: 100%|████████████████████████████████████| 819/819 [00:05<00:00, 158.36it/s, epoch=32, loss=0.0543, acc=98]\n",
      "Training: 100%|██████████████████████████████████████| 154/154 [00:08<00:00, 17.51it/s, epoch=33, loss=0.153, acc=94.6]\n",
      "Validating: 100%|██████████████████████████████████| 819/819 [00:05<00:00, 157.34it/s, epoch=33, loss=0.0168, acc=99.1]\n",
      "Training: 100%|██████████████████████████████████████| 154/154 [00:08<00:00, 17.48it/s, epoch=34, loss=0.125, acc=95.3]\n",
      "Validating: 100%|██████████████████████████████████| 819/819 [00:05<00:00, 158.22it/s, epoch=34, loss=0.0281, acc=99.8]\n",
      "Training:   1%|▌                                       | 2/154 [00:00<00:08, 17.71it/s, epoch=35, loss=0.104, acc=96.9]"
     ]
    },
    {
     "name": "stdout",
     "output_type": "stream",
     "text": [
      "Best acc: 99.7558, saving...\n"
     ]
    },
    {
     "name": "stderr",
     "output_type": "stream",
     "text": [
      "Training: 100%|██████████████████████████████████████| 154/154 [00:08<00:00, 17.68it/s, epoch=35, loss=0.109, acc=96.1]\n",
      "Validating: 100%|██████████████████████████████████| 819/819 [00:05<00:00, 157.34it/s, epoch=35, loss=0.0444, acc=98.3]\n",
      "Training: 100%|█████████████████████████████████████| 154/154 [00:08<00:00, 17.50it/s, epoch=36, loss=0.0978, acc=96.2]\n",
      "Validating: 100%|██████████████████████████████████| 819/819 [00:05<00:00, 157.58it/s, epoch=36, loss=0.0346, acc=98.8]\n",
      "Training: 100%|██████████████████████████████████████| 154/154 [00:08<00:00, 17.64it/s, epoch=37, loss=0.125, acc=94.9]\n",
      "Validating: 100%|██████████████████████████████████| 819/819 [00:05<00:00, 157.09it/s, epoch=37, loss=0.0722, acc=97.2]\n",
      "Training: 100%|██████████████████████████████████████| 154/154 [00:08<00:00, 17.52it/s, epoch=38, loss=0.115, acc=95.8]\n",
      "Validating: 100%|███████████████████████████████████| 819/819 [00:05<00:00, 158.21it/s, epoch=38, loss=0.286, acc=92.6]\n",
      "Training: 100%|██████████████████████████████████████| 154/154 [00:08<00:00, 17.45it/s, epoch=39, loss=0.123, acc=95.4]\n",
      "Validating: 100%|██████████████████████████████████| 819/819 [00:05<00:00, 157.12it/s, epoch=39, loss=0.0214, acc=99.1]\n",
      "Training: 100%|███████████████████████████████████████| 154/154 [00:08<00:00, 17.56it/s, epoch=40, loss=0.09, acc=96.3]\n",
      "Validating: 100%|██████████████████████████████████| 819/819 [00:05<00:00, 156.52it/s, epoch=40, loss=0.0586, acc=98.4]\n",
      "Training: 100%|██████████████████████████████████████| 154/154 [00:08<00:00, 17.52it/s, epoch=41, loss=0.113, acc=95.7]\n",
      "Validating: 100%|██████████████████████████████████| 819/819 [00:05<00:00, 157.33it/s, epoch=41, loss=0.0222, acc=99.4]\n",
      "Training: 100%|█████████████████████████████████████| 154/154 [00:08<00:00, 17.65it/s, epoch=42, loss=0.0975, acc=95.8]\n",
      "Validating: 100%|██████████████████████████████████| 819/819 [00:05<00:00, 157.49it/s, epoch=42, loss=0.0344, acc=98.4]\n",
      "Training: 100%|█████████████████████████████████████| 154/154 [00:08<00:00, 17.52it/s, epoch=43, loss=0.0862, acc=97.1]\n",
      "Validating: 100%|██████████████████████████████████| 819/819 [00:05<00:00, 156.99it/s, epoch=43, loss=0.0221, acc=99.3]\n",
      "Training: 100%|█████████████████████████████████████| 154/154 [00:08<00:00, 17.60it/s, epoch=44, loss=0.0898, acc=96.6]\n",
      "Validating: 100%|██████████████████████████████████| 819/819 [00:05<00:00, 157.05it/s, epoch=44, loss=0.0203, acc=99.5]\n",
      "Training: 100%|██████████████████████████████████████| 154/154 [00:08<00:00, 17.59it/s, epoch=45, loss=0.112, acc=96.2]\n",
      "Validating: 100%|████████████████████████████████████| 819/819 [00:05<00:00, 158.35it/s, epoch=45, loss=0.0276, acc=99]\n",
      "Training: 100%|█████████████████████████████████████| 154/154 [00:08<00:00, 17.58it/s, epoch=46, loss=0.0903, acc=96.9]\n",
      "Validating: 100%|██████████████████████████████████| 819/819 [00:05<00:00, 156.44it/s, epoch=46, loss=0.0492, acc=98.8]\n",
      "Training: 100%|█████████████████████████████████████| 154/154 [00:08<00:00, 17.50it/s, epoch=47, loss=0.0734, acc=97.3]\n",
      "Validating: 100%|███████████████████████████████████| 819/819 [00:05<00:00, 156.22it/s, epoch=47, loss=0.027, acc=99.3]\n",
      "Training: 100%|█████████████████████████████████████| 154/154 [00:08<00:00, 17.60it/s, epoch=48, loss=0.0823, acc=96.9]\n",
      "Validating: 100%|██████████████████████████████████| 819/819 [00:05<00:00, 157.41it/s, epoch=48, loss=0.0285, acc=99.3]\n",
      "Training: 100%|█████████████████████████████████████| 154/154 [00:08<00:00, 17.56it/s, epoch=49, loss=0.0799, acc=97.1]\n",
      "Validating: 100%|██████████████████████████████████| 819/819 [00:05<00:00, 157.52it/s, epoch=49, loss=0.0117, acc=99.8]\n",
      "Training: 100%|█████████████████████████████████████| 154/154 [00:08<00:00, 17.56it/s, epoch=50, loss=0.0775, acc=96.9]\n",
      "Validating: 100%|██████████████████████████████████| 819/819 [00:05<00:00, 156.09it/s, epoch=50, loss=0.0186, acc=99.5]\n",
      "Training: 100%|██████████████████████████████████████| 154/154 [00:08<00:00, 17.66it/s, epoch=51, loss=0.117, acc=95.9]\n",
      "Validating: 100%|██████████████████████████████████| 819/819 [00:05<00:00, 157.19it/s, epoch=51, loss=0.0197, acc=99.5]\n",
      "Training: 100%|█████████████████████████████████████| 154/154 [00:08<00:00, 17.65it/s, epoch=52, loss=0.0925, acc=96.2]\n",
      "Validating: 100%|███████████████████████████████████| 819/819 [00:05<00:00, 157.11it/s, epoch=52, loss=0.012, acc=99.8]\n",
      "Training: 100%|███████████████████████████████████████| 154/154 [00:08<00:00, 17.56it/s, epoch=53, loss=0.09, acc=96.8]\n",
      "Validating: 100%|██████████████████████████████████| 819/819 [00:05<00:00, 156.59it/s, epoch=53, loss=0.0193, acc=99.3]\n",
      "Training: 100%|█████████████████████████████████████| 154/154 [00:08<00:00, 17.63it/s, epoch=54, loss=0.0764, acc=97.1]\n",
      "Validating: 100%|███████████████████████████████████| 819/819 [00:05<00:00, 156.72it/s, epoch=54, loss=0.016, acc=99.5]\n",
      "Training: 100%|███████████████████████████████████████| 154/154 [00:08<00:00, 17.67it/s, epoch=55, loss=0.08, acc=97.7]\n",
      "Validating: 100%|███████████████████████████████████| 819/819 [00:05<00:00, 157.64it/s, epoch=55, loss=0.016, acc=99.4]\n",
      "Training: 100%|██████████████████████████████████████| 154/154 [00:08<00:00, 17.55it/s, epoch=56, loss=0.111, acc=96.3]\n",
      "Validating: 100%|██████████████████████████████████| 819/819 [00:05<00:00, 157.41it/s, epoch=56, loss=0.0202, acc=99.4]\n",
      "Training: 100%|█████████████████████████████████████| 154/154 [00:08<00:00, 17.45it/s, epoch=57, loss=0.0853, acc=96.8]\n",
      "Validating: 100%|██████████████████████████████████| 819/819 [00:05<00:00, 157.29it/s, epoch=57, loss=0.0269, acc=99.4]\n",
      "Training: 100%|█████████████████████████████████████| 154/154 [00:08<00:00, 17.56it/s, epoch=58, loss=0.0782, acc=97.2]\n",
      "Validating: 100%|██████████████████████████████████| 819/819 [00:05<00:00, 157.94it/s, epoch=58, loss=0.0157, acc=99.5]\n",
      "Training: 100%|█████████████████████████████████████| 154/154 [00:08<00:00, 17.60it/s, epoch=59, loss=0.0675, acc=97.8]\n",
      "Validating: 100%|██████████████████████████████████| 819/819 [00:05<00:00, 156.35it/s, epoch=59, loss=0.0159, acc=99.3]\n",
      "Training: 100%|█████████████████████████████████████| 154/154 [00:08<00:00, 17.55it/s, epoch=60, loss=0.0625, acc=97.6]\n",
      "Validating: 100%|██████████████████████████████████| 819/819 [00:05<00:00, 157.50it/s, epoch=60, loss=0.0194, acc=99.1]\n",
      "Training: 100%|█████████████████████████████████████| 154/154 [00:08<00:00, 17.56it/s, epoch=61, loss=0.0722, acc=97.4]\n",
      "Validating: 100%|██████████████████████████████████| 819/819 [00:05<00:00, 158.26it/s, epoch=61, loss=0.0208, acc=99.3]\n",
      "Training: 100%|█████████████████████████████████████| 154/154 [00:08<00:00, 17.64it/s, epoch=62, loss=0.0644, acc=97.8]\n",
      "Validating: 100%|██████████████████████████████████| 819/819 [00:05<00:00, 156.82it/s, epoch=62, loss=0.0112, acc=99.9]\n",
      "Training:   1%|▌                                      | 2/154 [00:00<00:08, 18.42it/s, epoch=63, loss=0.0406, acc=96.9]"
     ]
    },
    {
     "name": "stdout",
     "output_type": "stream",
     "text": [
      "Best acc: 99.8779, saving...\n"
     ]
    },
    {
     "name": "stderr",
     "output_type": "stream",
     "text": [
      "Training: 100%|█████████████████████████████████████| 154/154 [00:08<00:00, 17.71it/s, epoch=63, loss=0.0699, acc=97.6]\n",
      "Validating: 100%|██████████████████████████████████| 819/819 [00:05<00:00, 157.71it/s, epoch=63, loss=0.0118, acc=99.6]\n",
      "Training: 100%|█████████████████████████████████████| 154/154 [00:08<00:00, 17.51it/s, epoch=64, loss=0.0581, acc=98.1]\n",
      "Validating: 100%|████████████████████████████████████| 819/819 [00:05<00:00, 158.12it/s, epoch=64, loss=0.02, acc=99.4]\n",
      "Training: 100%|█████████████████████████████████████| 154/154 [00:08<00:00, 17.70it/s, epoch=65, loss=0.0594, acc=97.5]\n",
      "Validating: 100%|██████████████████████████████████| 819/819 [00:05<00:00, 157.55it/s, epoch=65, loss=0.0144, acc=99.6]\n",
      "Training: 100%|█████████████████████████████████████| 154/154 [00:08<00:00, 17.64it/s, epoch=66, loss=0.0693, acc=96.9]\n",
      "Validating: 100%|██████████████████████████████████| 819/819 [00:05<00:00, 157.62it/s, epoch=66, loss=0.0182, acc=99.4]\n",
      "Training: 100%|█████████████████████████████████████| 154/154 [00:08<00:00, 17.52it/s, epoch=67, loss=0.0682, acc=97.3]\n",
      "Validating: 100%|██████████████████████████████████| 819/819 [00:05<00:00, 157.55it/s, epoch=67, loss=0.0119, acc=99.6]\n",
      "Training: 100%|█████████████████████████████████████| 154/154 [00:08<00:00, 17.59it/s, epoch=68, loss=0.0659, acc=97.4]\n",
      "Validating: 100%|██████████████████████████████████| 819/819 [00:05<00:00, 157.73it/s, epoch=68, loss=0.0138, acc=99.6]\n",
      "Training: 100%|█████████████████████████████████████| 154/154 [00:08<00:00, 17.65it/s, epoch=69, loss=0.0632, acc=97.4]\n",
      "Validating: 100%|██████████████████████████████████| 819/819 [00:05<00:00, 157.53it/s, epoch=69, loss=0.0128, acc=99.5]\n",
      "Training: 100%|███████████████████████████████████████| 154/154 [00:08<00:00, 17.57it/s, epoch=70, loss=0.0539, acc=98]\n",
      "Validating: 100%|██████████████████████████████████| 819/819 [00:05<00:00, 157.40it/s, epoch=70, loss=0.0132, acc=99.3]\n",
      "Training: 100%|██████████████████████████████████████| 154/154 [00:08<00:00, 17.55it/s, epoch=71, loss=0.062, acc=97.5]\n",
      "Validating: 100%|██████████████████████████████████| 819/819 [00:05<00:00, 157.90it/s, epoch=71, loss=0.0103, acc=99.6]\n",
      "Training: 100%|█████████████████████████████████████| 154/154 [00:08<00:00, 17.65it/s, epoch=72, loss=0.0557, acc=98.2]\n",
      "Validating: 100%|██████████████████████████████████| 819/819 [00:05<00:00, 157.43it/s, epoch=72, loss=0.0122, acc=99.4]\n",
      "Training: 100%|█████████████████████████████████████| 154/154 [00:08<00:00, 17.60it/s, epoch=73, loss=0.0519, acc=98.3]\n",
      "Validating: 100%|██████████████████████████████████| 819/819 [00:05<00:00, 156.23it/s, epoch=73, loss=0.0101, acc=99.8]\n",
      "Training: 100%|█████████████████████████████████████| 154/154 [00:08<00:00, 17.46it/s, epoch=74, loss=0.0518, acc=98.1]\n",
      "Validating: 100%|██████████████████████████████████| 819/819 [00:05<00:00, 157.01it/s, epoch=74, loss=0.0158, acc=99.5]\n",
      "Training: 100%|█████████████████████████████████████| 154/154 [00:08<00:00, 17.52it/s, epoch=75, loss=0.0569, acc=97.6]\n",
      "Validating: 100%|██████████████████████████████████| 819/819 [00:05<00:00, 158.10it/s, epoch=75, loss=0.0232, acc=99.5]\n",
      "Training: 100%|█████████████████████████████████████| 154/154 [00:08<00:00, 17.61it/s, epoch=76, loss=0.0515, acc=97.9]\n",
      "Validating: 100%|██████████████████████████████████| 819/819 [00:05<00:00, 157.92it/s, epoch=76, loss=0.0108, acc=99.6]\n",
      "Training: 100%|█████████████████████████████████████| 154/154 [00:08<00:00, 17.73it/s, epoch=77, loss=0.0567, acc=97.6]\n",
      "Validating: 100%|██████████████████████████████████| 819/819 [00:05<00:00, 156.36it/s, epoch=77, loss=0.0102, acc=99.8]\n",
      "Training: 100%|█████████████████████████████████████| 154/154 [00:08<00:00, 17.62it/s, epoch=78, loss=0.0583, acc=97.6]\n",
      "Validating: 100%|██████████████████████████████████| 819/819 [00:05<00:00, 157.40it/s, epoch=78, loss=0.0139, acc=99.6]\n",
      "Training: 100%|██████████████████████████████████████| 154/154 [00:08<00:00, 17.58it/s, epoch=79, loss=0.056, acc=97.8]\n",
      "Validating: 100%|█████████████████████████████████| 819/819 [00:05<00:00, 156.45it/s, epoch=79, loss=0.00956, acc=99.8]\n",
      "Training: 100%|█████████████████████████████████████| 154/154 [00:08<00:00, 17.55it/s, epoch=80, loss=0.0396, acc=98.5]\n",
      "Validating: 100%|██████████████████████████████████| 819/819 [00:05<00:00, 156.51it/s, epoch=80, loss=0.0118, acc=99.6]\n",
      "Training: 100%|███████████████████████████████████████| 154/154 [00:08<00:00, 17.60it/s, epoch=81, loss=0.0486, acc=98]\n",
      "Validating: 100%|██████████████████████████████████| 819/819 [00:05<00:00, 157.58it/s, epoch=81, loss=0.0128, acc=99.8]\n",
      "Training: 100%|██████████████████████████████████████| 154/154 [00:08<00:00, 17.51it/s, epoch=82, loss=0.042, acc=98.5]\n",
      "Validating: 100%|███████████████████████████████████| 819/819 [00:05<00:00, 157.94it/s, epoch=82, loss=0.012, acc=99.8]\n",
      "Training: 100%|███████████████████████████████████████| 154/154 [00:08<00:00, 17.57it/s, epoch=83, loss=0.0549, acc=98]\n",
      "Validating: 100%|██████████████████████████████████| 819/819 [00:05<00:00, 156.83it/s, epoch=83, loss=0.0126, acc=99.8]\n",
      "Training: 100%|██████████████████████████████████████| 154/154 [00:08<00:00, 17.54it/s, epoch=84, loss=0.045, acc=98.5]\n",
      "Validating: 100%|█████████████████████████████████| 819/819 [00:05<00:00, 157.01it/s, epoch=84, loss=0.00842, acc=99.9]\n",
      "Training: 100%|█████████████████████████████████████| 154/154 [00:08<00:00, 17.53it/s, epoch=85, loss=0.0476, acc=98.3]\n",
      "Validating: 100%|█████████████████████████████████| 819/819 [00:05<00:00, 157.92it/s, epoch=85, loss=0.00817, acc=99.9]\n",
      "Training: 100%|█████████████████████████████████████| 154/154 [00:08<00:00, 17.45it/s, epoch=86, loss=0.0461, acc=98.2]\n",
      "Validating: 100%|█████████████████████████████████| 819/819 [00:05<00:00, 155.29it/s, epoch=86, loss=0.00927, acc=99.8]\n",
      "Training: 100%|█████████████████████████████████████| 154/154 [00:08<00:00, 17.61it/s, epoch=87, loss=0.0378, acc=98.5]\n",
      "Validating: 100%|██████████████████████████████████| 819/819 [00:05<00:00, 156.28it/s, epoch=87, loss=0.0101, acc=99.6]\n",
      "Training: 100%|██████████████████████████████████████| 154/154 [00:08<00:00, 17.70it/s, epoch=88, loss=0.041, acc=98.5]\n",
      "Validating: 100%|█████████████████████████████████| 819/819 [00:05<00:00, 158.59it/s, epoch=88, loss=0.00883, acc=99.8]\n",
      "Training: 100%|█████████████████████████████████████| 154/154 [00:08<00:00, 17.61it/s, epoch=89, loss=0.0451, acc=98.3]\n",
      "Validating: 100%|██████████████████████████████████| 819/819 [00:05<00:00, 157.66it/s, epoch=89, loss=0.0101, acc=99.6]\n",
      "Training: 100%|█████████████████████████████████████| 154/154 [00:08<00:00, 17.62it/s, epoch=90, loss=0.0522, acc=98.4]\n",
      "Validating: 100%|██████████████████████████████████| 819/819 [00:05<00:00, 157.58it/s, epoch=90, loss=0.0111, acc=99.6]\n",
      "Training: 100%|█████████████████████████████████████| 154/154 [00:08<00:00, 17.65it/s, epoch=91, loss=0.0359, acc=98.6]\n",
      "Validating: 100%|█████████████████████████████████| 819/819 [00:05<00:00, 157.63it/s, epoch=91, loss=0.00958, acc=99.6]\n",
      "Training: 100%|█████████████████████████████████████| 154/154 [00:08<00:00, 17.55it/s, epoch=92, loss=0.0364, acc=98.9]\n",
      "Validating: 100%|█████████████████████████████████| 819/819 [00:05<00:00, 156.75it/s, epoch=92, loss=0.00933, acc=99.8]\n",
      "Training: 100%|███████████████████████████████████████| 154/154 [00:08<00:00, 17.61it/s, epoch=93, loss=0.04, acc=98.5]\n",
      "Validating: 100%|█████████████████████████████████| 819/819 [00:05<00:00, 157.30it/s, epoch=93, loss=0.00877, acc=99.8]\n",
      "Training: 100%|█████████████████████████████████████| 154/154 [00:08<00:00, 17.47it/s, epoch=94, loss=0.0406, acc=98.5]\n",
      "Validating: 100%|████████████████████████████████████| 819/819 [00:05<00:00, 156.81it/s, epoch=94, loss=0.01, acc=99.8]\n",
      "Training: 100%|█████████████████████████████████████| 154/154 [00:08<00:00, 17.58it/s, epoch=95, loss=0.0385, acc=98.5]\n",
      "Validating: 100%|█████████████████████████████████| 819/819 [00:05<00:00, 156.74it/s, epoch=95, loss=0.00834, acc=99.8]\n",
      "Training: 100%|█████████████████████████████████████| 154/154 [00:08<00:00, 17.58it/s, epoch=96, loss=0.0459, acc=98.4]\n",
      "Validating: 100%|█████████████████████████████████| 819/819 [00:05<00:00, 157.25it/s, epoch=96, loss=0.00798, acc=99.8]\n",
      "Training: 100%|█████████████████████████████████████| 154/154 [00:08<00:00, 17.60it/s, epoch=97, loss=0.0365, acc=98.4]\n",
      "Validating: 100%|█████████████████████████████████| 819/819 [00:05<00:00, 157.61it/s, epoch=97, loss=0.00933, acc=99.8]\n",
      "Training: 100%|█████████████████████████████████████| 154/154 [00:08<00:00, 17.49it/s, epoch=98, loss=0.0397, acc=98.6]\n",
      "Validating: 100%|█████████████████████████████████| 819/819 [00:05<00:00, 156.57it/s, epoch=98, loss=0.00951, acc=99.8]\n",
      "Training: 100%|█████████████████████████████████████| 154/154 [00:08<00:00, 17.63it/s, epoch=99, loss=0.0357, acc=98.5]\n",
      "Validating: 100%|█████████████████████████████████| 819/819 [00:05<00:00, 155.96it/s, epoch=99, loss=0.00925, acc=99.8]"
     ]
    },
    {
     "name": "stdout",
     "output_type": "stream",
     "text": [
      "time taken: 1398.5675s\n"
     ]
    },
    {
     "name": "stderr",
     "output_type": "stream",
     "text": [
      "\n"
     ]
    }
   ],
   "source": [
    "start = time.time()\n",
    "best_acc = 0.0\n",
    "train_acc_ = []\n",
    "train_loss_ = []\n",
    "valid_acc_ = []\n",
    "valid_loss_ = []\n",
    "epoch_ = []\n",
    "lr_ = []\n",
    "for epoch in range(n_epochs):\n",
    "    train_acc, train_loss = train(epoch, trainloader, net)\n",
    "    val_acc, val_loss = valid(epoch, valloader, net)\n",
    "    train_acc_.append(train_acc)\n",
    "    train_loss_.append(train_loss)\n",
    "    valid_acc_.append(val_acc)\n",
    "    valid_loss_.append(val_loss)\n",
    "    scheduler.step()\n",
    "    if (val_acc > best_acc):\n",
    "        best_acc = val_acc\n",
    "        print(f'Best acc: {best_acc:.4f}, saving...')\n",
    "        torch.save(net, f'models/{datetime.now().strftime(\"%d%m%Y_%H%M%S\")}_resnet18_{best_acc:.4f}_epoch_{epoch}.pth')\n",
    "        epoch_.append(epoch)\n",
    "end = time.time()\n",
    "print(f'time taken: {(end-start):.4f}s')"
   ]
  },
  {
   "cell_type": "code",
   "execution_count": 20,
   "id": "bc8f0d37-b532-4793-9056-44f8d92768a2",
   "metadata": {},
   "outputs": [
    {
     "name": "stdout",
     "output_type": "stream",
     "text": [
      "train_acc: 98.49\n",
      "val_acc: 99.76\n",
      "last model path: models/28052021_014201_resnet18_98.49_99.76_last.pth\n"
     ]
    }
   ],
   "source": [
    "print(f'train_acc: {train_acc:.2f}')\n",
    "print(f'val_acc: {val_acc:.2f}')\n",
    "model_path = f'models/{datetime.now().strftime(\"%d%m%Y_%H%M%S\")}_resnet18_{train_acc:.2f}_{val_acc:.2f}_last.pth'\n",
    "print(f'last model path: {model_path}')\n",
    "torch.save(net, model_path)"
   ]
  },
  {
   "cell_type": "code",
   "execution_count": 21,
   "id": "4cefaabd-7ea4-4365-b2ae-2d6a2369c939",
   "metadata": {},
   "outputs": [
    {
     "data": {
      "image/png": "[encoded data removed]",
      "text/plain": [
       "<Figure size 720x360 with 1 Axes>"
      ]
     },
     "metadata": {
      "needs_background": "light"
     },
     "output_type": "display_data"
    },
    {
     "data": {
      "image/png": "[encoded data removed]",
      "text/plain": [
       "<Figure size 720x360 with 1 Axes>"
      ]
     },
     "metadata": {
      "needs_background": "light"
     },
     "output_type": "display_data"
    },
    {
     "data": {
      "image/png": "[encoded data removed]",
      "text/plain": [
       "<Figure size 720x360 with 1 Axes>"
      ]
     },
     "metadata": {
      "needs_background": "light"
     },
     "output_type": "display_data"
    }
   ],
   "source": [
    "plt.figure(figsize=(10,5))\n",
    "plt.axvline(epoch_[-1], 0, 1, c='g', ls='--', lw=2, label='best')\n",
    "plt.plot(range(n_epochs), train_loss_, 'b', label='train')\n",
    "plt.plot(range(n_epochs), valid_loss_, 'r', label='valid')\n",
    "plt.xlabel('epochs')\n",
    "plt.ylabel('loss')\n",
    "plt.title('Loss vs Epoch')\n",
    "plt.legend()\n",
    "plt.show()\n",
    "\n",
    "plt.figure(figsize=(10,5))\n",
    "plt.axvline(epoch_[-1], 0, 1, c='g', ls='--', lw=2, label='best')\n",
    "plt.plot(range(n_epochs), train_acc_, 'b', label='train')\n",
    "plt.plot(range(n_epochs), valid_acc_, 'r', label='valid')\n",
    "plt.xlabel('epochs')\n",
    "plt.ylabel('acc')\n",
    "plt.title('Accuracy vs Epoch')\n",
    "plt.legend()\n",
    "plt.show()\n",
    "\n",
    "plt.figure(figsize=(10,5))\n",
    "plt.axvline(epoch_[-1], 0, 1, c='g', ls='--', lw=2, label='best')\n",
    "plt.plot(range(n_epochs), lr_, 'b', label='lr')\n",
    "plt.xlabel('epochs')\n",
    "plt.ylabel('lr')\n",
    "plt.title('Learning Rate vs Epoch')\n",
    "plt.legend()\n",
    "plt.show()"
   ]
  },
  {
   "cell_type": "code",
   "execution_count": 22,
   "id": "2b75ce15-9461-4e4e-be77-04a28fddf039",
   "metadata": {},
   "outputs": [],
   "source": [
    "plotTotal.append([net, train_acc_, train_loss_])"
   ]
  },
  {
   "cell_type": "markdown",
   "id": "d8dd1f22-6aba-402b-9d20-7df14ff930cd",
   "metadata": {},
   "source": [
    "## Mobilenet_v2"
   ]
  },
  {
   "cell_type": "code",
   "execution_count": 23,
   "id": "7f78f43f-158b-480d-92ed-1e1b7e3e3e99",
   "metadata": {},
   "outputs": [
    {
     "name": "stdout",
     "output_type": "stream",
     "text": [
      "number of trainable params: 2226434\n",
      "MobileNetV2(\n",
      "  (features): Sequential(\n",
      "    (0): ConvBNActivation(\n",
      "      (0): Conv2d(3, 32, kernel_size=(3, 3), stride=(2, 2), padding=(1, 1), bias=False)\n",
      "      (1): BatchNorm2d(32, eps=1e-05, momentum=0.1, affine=True, track_running_stats=True)\n",
      "      (2): ReLU6(inplace=True)\n",
      "    )\n",
      "    (1): InvertedResidual(\n",
      "      (conv): Sequential(\n",
      "        (0): ConvBNActivation(\n",
      "          (0): Conv2d(32, 32, kernel_size=(3, 3), stride=(1, 1), padding=(1, 1), groups=32, bias=False)\n",
      "          (1): BatchNorm2d(32, eps=1e-05, momentum=0.1, affine=True, track_running_stats=True)\n",
      "          (2): ReLU6(inplace=True)\n",
      "        )\n",
      "        (1): Conv2d(32, 16, kernel_size=(1, 1), stride=(1, 1), bias=False)\n",
      "        (2): BatchNorm2d(16, eps=1e-05, momentum=0.1, affine=True, track_running_stats=True)\n",
      "      )\n",
      "    )\n",
      "    (2): InvertedResidual(\n",
      "      (conv): Sequential(\n",
      "        (0): ConvBNActivation(\n",
      "          (0): Conv2d(16, 96, kernel_size=(1, 1), stride=(1, 1), bias=False)\n",
      "          (1): BatchNorm2d(96, eps=1e-05, momentum=0.1, affine=True, track_running_stats=True)\n",
      "          (2): ReLU6(inplace=True)\n",
      "        )\n",
      "        (1): ConvBNActivation(\n",
      "          (0): Conv2d(96, 96, kernel_size=(3, 3), stride=(2, 2), padding=(1, 1), groups=96, bias=False)\n",
      "          (1): BatchNorm2d(96, eps=1e-05, momentum=0.1, affine=True, track_running_stats=True)\n",
      "          (2): ReLU6(inplace=True)\n",
      "        )\n",
      "        (2): Conv2d(96, 24, kernel_size=(1, 1), stride=(1, 1), bias=False)\n",
      "        (3): BatchNorm2d(24, eps=1e-05, momentum=0.1, affine=True, track_running_stats=True)\n",
      "      )\n",
      "    )\n",
      "    (3): InvertedResidual(\n",
      "      (conv): Sequential(\n",
      "        (0): ConvBNActivation(\n",
      "          (0): Conv2d(24, 144, kernel_size=(1, 1), stride=(1, 1), bias=False)\n",
      "          (1): BatchNorm2d(144, eps=1e-05, momentum=0.1, affine=True, track_running_stats=True)\n",
      "          (2): ReLU6(inplace=True)\n",
      "        )\n",
      "        (1): ConvBNActivation(\n",
      "          (0): Conv2d(144, 144, kernel_size=(3, 3), stride=(1, 1), padding=(1, 1), groups=144, bias=False)\n",
      "          (1): BatchNorm2d(144, eps=1e-05, momentum=0.1, affine=True, track_running_stats=True)\n",
      "          (2): ReLU6(inplace=True)\n",
      "        )\n",
      "        (2): Conv2d(144, 24, kernel_size=(1, 1), stride=(1, 1), bias=False)\n",
      "        (3): BatchNorm2d(24, eps=1e-05, momentum=0.1, affine=True, track_running_stats=True)\n",
      "      )\n",
      "    )\n",
      "    (4): InvertedResidual(\n",
      "      (conv): Sequential(\n",
      "        (0): ConvBNActivation(\n",
      "          (0): Conv2d(24, 144, kernel_size=(1, 1), stride=(1, 1), bias=False)\n",
      "          (1): BatchNorm2d(144, eps=1e-05, momentum=0.1, affine=True, track_running_stats=True)\n",
      "          (2): ReLU6(inplace=True)\n",
      "        )\n",
      "        (1): ConvBNActivation(\n",
      "          (0): Conv2d(144, 144, kernel_size=(3, 3), stride=(2, 2), padding=(1, 1), groups=144, bias=False)\n",
      "          (1): BatchNorm2d(144, eps=1e-05, momentum=0.1, affine=True, track_running_stats=True)\n",
      "          (2): ReLU6(inplace=True)\n",
      "        )\n",
      "        (2): Conv2d(144, 32, kernel_size=(1, 1), stride=(1, 1), bias=False)\n",
      "        (3): BatchNorm2d(32, eps=1e-05, momentum=0.1, affine=True, track_running_stats=True)\n",
      "      )\n",
      "    )\n",
      "    (5): InvertedResidual(\n",
      "      (conv): Sequential(\n",
      "        (0): ConvBNActivation(\n",
      "          (0): Conv2d(32, 192, kernel_size=(1, 1), stride=(1, 1), bias=False)\n",
      "          (1): BatchNorm2d(192, eps=1e-05, momentum=0.1, affine=True, track_running_stats=True)\n",
      "          (2): ReLU6(inplace=True)\n",
      "        )\n",
      "        (1): ConvBNActivation(\n",
      "          (0): Conv2d(192, 192, kernel_size=(3, 3), stride=(1, 1), padding=(1, 1), groups=192, bias=False)\n",
      "          (1): BatchNorm2d(192, eps=1e-05, momentum=0.1, affine=True, track_running_stats=True)\n",
      "          (2): ReLU6(inplace=True)\n",
      "        )\n",
      "        (2): Conv2d(192, 32, kernel_size=(1, 1), stride=(1, 1), bias=False)\n",
      "        (3): BatchNorm2d(32, eps=1e-05, momentum=0.1, affine=True, track_running_stats=True)\n",
      "      )\n",
      "    )\n",
      "    (6): InvertedResidual(\n",
      "      (conv): Sequential(\n",
      "        (0): ConvBNActivation(\n",
      "          (0): Conv2d(32, 192, kernel_size=(1, 1), stride=(1, 1), bias=False)\n",
      "          (1): BatchNorm2d(192, eps=1e-05, momentum=0.1, affine=True, track_running_stats=True)\n",
      "          (2): ReLU6(inplace=True)\n",
      "        )\n",
      "        (1): ConvBNActivation(\n",
      "          (0): Conv2d(192, 192, kernel_size=(3, 3), stride=(1, 1), padding=(1, 1), groups=192, bias=False)\n",
      "          (1): BatchNorm2d(192, eps=1e-05, momentum=0.1, affine=True, track_running_stats=True)\n",
      "          (2): ReLU6(inplace=True)\n",
      "        )\n",
      "        (2): Conv2d(192, 32, kernel_size=(1, 1), stride=(1, 1), bias=False)\n",
      "        (3): BatchNorm2d(32, eps=1e-05, momentum=0.1, affine=True, track_running_stats=True)\n",
      "      )\n",
      "    )\n",
      "    (7): InvertedResidual(\n",
      "      (conv): Sequential(\n",
      "        (0): ConvBNActivation(\n",
      "          (0): Conv2d(32, 192, kernel_size=(1, 1), stride=(1, 1), bias=False)\n",
      "          (1): BatchNorm2d(192, eps=1e-05, momentum=0.1, affine=True, track_running_stats=True)\n",
      "          (2): ReLU6(inplace=True)\n",
      "        )\n",
      "        (1): ConvBNActivation(\n",
      "          (0): Conv2d(192, 192, kernel_size=(3, 3), stride=(2, 2), padding=(1, 1), groups=192, bias=False)\n",
      "          (1): BatchNorm2d(192, eps=1e-05, momentum=0.1, affine=True, track_running_stats=True)\n",
      "          (2): ReLU6(inplace=True)\n",
      "        )\n",
      "        (2): Conv2d(192, 64, kernel_size=(1, 1), stride=(1, 1), bias=False)\n",
      "        (3): BatchNorm2d(64, eps=1e-05, momentum=0.1, affine=True, track_running_stats=True)\n",
      "      )\n",
      "    )\n",
      "    (8): InvertedResidual(\n",
      "      (conv): Sequential(\n",
      "        (0): ConvBNActivation(\n",
      "          (0): Conv2d(64, 384, kernel_size=(1, 1), stride=(1, 1), bias=False)\n",
      "          (1): BatchNorm2d(384, eps=1e-05, momentum=0.1, affine=True, track_running_stats=True)\n",
      "          (2): ReLU6(inplace=True)\n",
      "        )\n",
      "        (1): ConvBNActivation(\n",
      "          (0): Conv2d(384, 384, kernel_size=(3, 3), stride=(1, 1), padding=(1, 1), groups=384, bias=False)\n",
      "          (1): BatchNorm2d(384, eps=1e-05, momentum=0.1, affine=True, track_running_stats=True)\n",
      "          (2): ReLU6(inplace=True)\n",
      "        )\n",
      "        (2): Conv2d(384, 64, kernel_size=(1, 1), stride=(1, 1), bias=False)\n",
      "        (3): BatchNorm2d(64, eps=1e-05, momentum=0.1, affine=True, track_running_stats=True)\n",
      "      )\n",
      "    )\n",
      "    (9): InvertedResidual(\n",
      "      (conv): Sequential(\n",
      "        (0): ConvBNActivation(\n",
      "          (0): Conv2d(64, 384, kernel_size=(1, 1), stride=(1, 1), bias=False)\n",
      "          (1): BatchNorm2d(384, eps=1e-05, momentum=0.1, affine=True, track_running_stats=True)\n",
      "          (2): ReLU6(inplace=True)\n",
      "        )\n",
      "        (1): ConvBNActivation(\n",
      "          (0): Conv2d(384, 384, kernel_size=(3, 3), stride=(1, 1), padding=(1, 1), groups=384, bias=False)\n",
      "          (1): BatchNorm2d(384, eps=1e-05, momentum=0.1, affine=True, track_running_stats=True)\n",
      "          (2): ReLU6(inplace=True)\n",
      "        )\n",
      "        (2): Conv2d(384, 64, kernel_size=(1, 1), stride=(1, 1), bias=False)\n",
      "        (3): BatchNorm2d(64, eps=1e-05, momentum=0.1, affine=True, track_running_stats=True)\n",
      "      )\n",
      "    )\n",
      "    (10): InvertedResidual(\n",
      "      (conv): Sequential(\n",
      "        (0): ConvBNActivation(\n",
      "          (0): Conv2d(64, 384, kernel_size=(1, 1), stride=(1, 1), bias=False)\n",
      "          (1): BatchNorm2d(384, eps=1e-05, momentum=0.1, affine=True, track_running_stats=True)\n",
      "          (2): ReLU6(inplace=True)\n",
      "        )\n",
      "        (1): ConvBNActivation(\n",
      "          (0): Conv2d(384, 384, kernel_size=(3, 3), stride=(1, 1), padding=(1, 1), groups=384, bias=False)\n",
      "          (1): BatchNorm2d(384, eps=1e-05, momentum=0.1, affine=True, track_running_stats=True)\n",
      "          (2): ReLU6(inplace=True)\n",
      "        )\n",
      "        (2): Conv2d(384, 64, kernel_size=(1, 1), stride=(1, 1), bias=False)\n",
      "        (3): BatchNorm2d(64, eps=1e-05, momentum=0.1, affine=True, track_running_stats=True)\n",
      "      )\n",
      "    )\n",
      "    (11): InvertedResidual(\n",
      "      (conv): Sequential(\n",
      "        (0): ConvBNActivation(\n",
      "          (0): Conv2d(64, 384, kernel_size=(1, 1), stride=(1, 1), bias=False)\n",
      "          (1): BatchNorm2d(384, eps=1e-05, momentum=0.1, affine=True, track_running_stats=True)\n",
      "          (2): ReLU6(inplace=True)\n",
      "        )\n",
      "        (1): ConvBNActivation(\n",
      "          (0): Conv2d(384, 384, kernel_size=(3, 3), stride=(1, 1), padding=(1, 1), groups=384, bias=False)\n",
      "          (1): BatchNorm2d(384, eps=1e-05, momentum=0.1, affine=True, track_running_stats=True)\n",
      "          (2): ReLU6(inplace=True)\n",
      "        )\n",
      "        (2): Conv2d(384, 96, kernel_size=(1, 1), stride=(1, 1), bias=False)\n",
      "        (3): BatchNorm2d(96, eps=1e-05, momentum=0.1, affine=True, track_running_stats=True)\n",
      "      )\n",
      "    )\n",
      "    (12): InvertedResidual(\n",
      "      (conv): Sequential(\n",
      "        (0): ConvBNActivation(\n",
      "          (0): Conv2d(96, 576, kernel_size=(1, 1), stride=(1, 1), bias=False)\n",
      "          (1): BatchNorm2d(576, eps=1e-05, momentum=0.1, affine=True, track_running_stats=True)\n",
      "          (2): ReLU6(inplace=True)\n",
      "        )\n",
      "        (1): ConvBNActivation(\n",
      "          (0): Conv2d(576, 576, kernel_size=(3, 3), stride=(1, 1), padding=(1, 1), groups=576, bias=False)\n",
      "          (1): BatchNorm2d(576, eps=1e-05, momentum=0.1, affine=True, track_running_stats=True)\n",
      "          (2): ReLU6(inplace=True)\n",
      "        )\n",
      "        (2): Conv2d(576, 96, kernel_size=(1, 1), stride=(1, 1), bias=False)\n",
      "        (3): BatchNorm2d(96, eps=1e-05, momentum=0.1, affine=True, track_running_stats=True)\n",
      "      )\n",
      "    )\n",
      "    (13): InvertedResidual(\n",
      "      (conv): Sequential(\n",
      "        (0): ConvBNActivation(\n",
      "          (0): Conv2d(96, 576, kernel_size=(1, 1), stride=(1, 1), bias=False)\n",
      "          (1): BatchNorm2d(576, eps=1e-05, momentum=0.1, affine=True, track_running_stats=True)\n",
      "          (2): ReLU6(inplace=True)\n",
      "        )\n",
      "        (1): ConvBNActivation(\n",
      "          (0): Conv2d(576, 576, kernel_size=(3, 3), stride=(1, 1), padding=(1, 1), groups=576, bias=False)\n",
      "          (1): BatchNorm2d(576, eps=1e-05, momentum=0.1, affine=True, track_running_stats=True)\n",
      "          (2): ReLU6(inplace=True)\n",
      "        )\n",
      "        (2): Conv2d(576, 96, kernel_size=(1, 1), stride=(1, 1), bias=False)\n",
      "        (3): BatchNorm2d(96, eps=1e-05, momentum=0.1, affine=True, track_running_stats=True)\n",
      "      )\n",
      "    )\n",
      "    (14): InvertedResidual(\n",
      "      (conv): Sequential(\n",
      "        (0): ConvBNActivation(\n",
      "          (0): Conv2d(96, 576, kernel_size=(1, 1), stride=(1, 1), bias=False)\n",
      "          (1): BatchNorm2d(576, eps=1e-05, momentum=0.1, affine=True, track_running_stats=True)\n",
      "          (2): ReLU6(inplace=True)\n",
      "        )\n",
      "        (1): ConvBNActivation(\n",
      "          (0): Conv2d(576, 576, kernel_size=(3, 3), stride=(2, 2), padding=(1, 1), groups=576, bias=False)\n",
      "          (1): BatchNorm2d(576, eps=1e-05, momentum=0.1, affine=True, track_running_stats=True)\n",
      "          (2): ReLU6(inplace=True)\n",
      "        )\n",
      "        (2): Conv2d(576, 160, kernel_size=(1, 1), stride=(1, 1), bias=False)\n",
      "        (3): BatchNorm2d(160, eps=1e-05, momentum=0.1, affine=True, track_running_stats=True)\n",
      "      )\n",
      "    )\n",
      "    (15): InvertedResidual(\n",
      "      (conv): Sequential(\n",
      "        (0): ConvBNActivation(\n",
      "          (0): Conv2d(160, 960, kernel_size=(1, 1), stride=(1, 1), bias=False)\n",
      "          (1): BatchNorm2d(960, eps=1e-05, momentum=0.1, affine=True, track_running_stats=True)\n",
      "          (2): ReLU6(inplace=True)\n",
      "        )\n",
      "        (1): ConvBNActivation(\n",
      "          (0): Conv2d(960, 960, kernel_size=(3, 3), stride=(1, 1), padding=(1, 1), groups=960, bias=False)\n",
      "          (1): BatchNorm2d(960, eps=1e-05, momentum=0.1, affine=True, track_running_stats=True)\n",
      "          (2): ReLU6(inplace=True)\n",
      "        )\n",
      "        (2): Conv2d(960, 160, kernel_size=(1, 1), stride=(1, 1), bias=False)\n",
      "        (3): BatchNorm2d(160, eps=1e-05, momentum=0.1, affine=True, track_running_stats=True)\n",
      "      )\n",
      "    )\n",
      "    (16): InvertedResidual(\n",
      "      (conv): Sequential(\n",
      "        (0): ConvBNActivation(\n",
      "          (0): Conv2d(160, 960, kernel_size=(1, 1), stride=(1, 1), bias=False)\n",
      "          (1): BatchNorm2d(960, eps=1e-05, momentum=0.1, affine=True, track_running_stats=True)\n",
      "          (2): ReLU6(inplace=True)\n",
      "        )\n",
      "        (1): ConvBNActivation(\n",
      "          (0): Conv2d(960, 960, kernel_size=(3, 3), stride=(1, 1), padding=(1, 1), groups=960, bias=False)\n",
      "          (1): BatchNorm2d(960, eps=1e-05, momentum=0.1, affine=True, track_running_stats=True)\n",
      "          (2): ReLU6(inplace=True)\n",
      "        )\n",
      "        (2): Conv2d(960, 160, kernel_size=(1, 1), stride=(1, 1), bias=False)\n",
      "        (3): BatchNorm2d(160, eps=1e-05, momentum=0.1, affine=True, track_running_stats=True)\n",
      "      )\n",
      "    )\n",
      "    (17): InvertedResidual(\n",
      "      (conv): Sequential(\n",
      "        (0): ConvBNActivation(\n",
      "          (0): Conv2d(160, 960, kernel_size=(1, 1), stride=(1, 1), bias=False)\n",
      "          (1): BatchNorm2d(960, eps=1e-05, momentum=0.1, affine=True, track_running_stats=True)\n",
      "          (2): ReLU6(inplace=True)\n",
      "        )\n",
      "        (1): ConvBNActivation(\n",
      "          (0): Conv2d(960, 960, kernel_size=(3, 3), stride=(1, 1), padding=(1, 1), groups=960, bias=False)\n",
      "          (1): BatchNorm2d(960, eps=1e-05, momentum=0.1, affine=True, track_running_stats=True)\n",
      "          (2): ReLU6(inplace=True)\n",
      "        )\n",
      "        (2): Conv2d(960, 320, kernel_size=(1, 1), stride=(1, 1), bias=False)\n",
      "        (3): BatchNorm2d(320, eps=1e-05, momentum=0.1, affine=True, track_running_stats=True)\n",
      "      )\n",
      "    )\n",
      "    (18): ConvBNActivation(\n",
      "      (0): Conv2d(320, 1280, kernel_size=(1, 1), stride=(1, 1), bias=False)\n",
      "      (1): BatchNorm2d(1280, eps=1e-05, momentum=0.1, affine=True, track_running_stats=True)\n",
      "      (2): ReLU6(inplace=True)\n",
      "    )\n",
      "  )\n",
      "  (classifier): Sequential(\n",
      "    (0): Dropout(p=0.2, inplace=False)\n",
      "    (1): Linear(in_features=1280, out_features=2, bias=True)\n",
      "  )\n",
      ")\n"
     ]
    }
   ],
   "source": [
    "net = mobilenet_v2(pretrained=True)\n",
    "num_ftrs = net.classifier[1].in_features\n",
    "net.classifier[1] = nn.Linear(num_ftrs, 2, bias=True)\n",
    "net = net.to(device)\n",
    "print(f'number of trainable params: {count_parameters(net)}')\n",
    "print(net)"
   ]
  },
  {
   "cell_type": "code",
   "execution_count": 24,
   "id": "5416e70a-f8e0-4506-8d9d-62de033eb989",
   "metadata": {},
   "outputs": [],
   "source": [
    "criterion = nn.CrossEntropyLoss()\n",
    "optimizer = optim.Adam(net.parameters(), lr=0.001, weight_decay=1e-4)\n",
    "n_epochs = 100\n",
    "scheduler = CosineAnnealingLR(optimizer, n_epochs)"
   ]
  },
  {
   "cell_type": "code",
   "execution_count": 25,
   "id": "8c4904f3-1b48-4960-9eb3-84b054d0d3df",
   "metadata": {},
   "outputs": [
    {
     "name": "stderr",
     "output_type": "stream",
     "text": [
      "Training: 100%|█████████████████████████████████████████| 154/154 [00:10<00:00, 14.86it/s, epoch=0, loss=0.264, acc=89]\n",
      "Validating: 100%|█████████████████████████████████████| 819/819 [00:06<00:00, 135.83it/s, epoch=0, loss=0.0559, acc=98]\n",
      "Training:   1%|▌                                        | 2/154 [00:00<00:09, 16.00it/s, epoch=1, loss=0.276, acc=87.5]"
     ]
    },
    {
     "name": "stdout",
     "output_type": "stream",
     "text": [
      "Best acc: 98.0464, saving...\n"
     ]
    },
    {
     "name": "stderr",
     "output_type": "stream",
     "text": [
      "Training: 100%|███████████████████████████████████████| 154/154 [00:10<00:00, 14.97it/s, epoch=1, loss=0.195, acc=92.5]\n",
      "Validating: 100%|████████████████████████████████████| 819/819 [00:06<00:00, 134.75it/s, epoch=1, loss=0.135, acc=95.8]\n",
      "Training: 100%|███████████████████████████████████████| 154/154 [00:10<00:00, 14.91it/s, epoch=2, loss=0.178, acc=93.9]\n",
      "Validating: 100%|████████████████████████████████████| 819/819 [00:06<00:00, 135.01it/s, epoch=2, loss=0.112, acc=95.8]\n",
      "Training: 100%|███████████████████████████████████████| 154/154 [00:10<00:00, 14.94it/s, epoch=3, loss=0.175, acc=93.7]\n",
      "Validating: 100%|█████████████████████████████████████| 819/819 [00:06<00:00, 134.98it/s, epoch=3, loss=0.0506, acc=98]\n",
      "Training: 100%|███████████████████████████████████████| 154/154 [00:10<00:00, 15.12it/s, epoch=4, loss=0.156, acc=94.5]\n",
      "Validating: 100%|███████████████████████████████████| 819/819 [00:06<00:00, 135.51it/s, epoch=4, loss=0.0556, acc=98.5]\n",
      "Training:   1%|▌                                        | 2/154 [00:00<00:09, 15.31it/s, epoch=5, loss=0.191, acc=93.8]"
     ]
    },
    {
     "name": "stdout",
     "output_type": "stream",
     "text": [
      "Best acc: 98.5348, saving...\n"
     ]
    },
    {
     "name": "stderr",
     "output_type": "stream",
     "text": [
      "Training: 100%|███████████████████████████████████████| 154/154 [00:10<00:00, 14.90it/s, epoch=5, loss=0.158, acc=94.6]\n",
      "Validating: 100%|███████████████████████████████████| 819/819 [00:05<00:00, 136.66it/s, epoch=5, loss=0.0346, acc=98.8]\n",
      "Training:   1%|▌                                         | 2/154 [00:00<00:09, 15.37it/s, epoch=6, loss=0.077, acc=100]"
     ]
    },
    {
     "name": "stdout",
     "output_type": "stream",
     "text": [
      "Best acc: 98.7790, saving...\n"
     ]
    },
    {
     "name": "stderr",
     "output_type": "stream",
     "text": [
      "Training: 100%|███████████████████████████████████████| 154/154 [00:10<00:00, 14.94it/s, epoch=6, loss=0.129, acc=95.1]\n",
      "Validating: 100%|████████████████████████████████████| 819/819 [00:06<00:00, 135.91it/s, epoch=6, loss=0.071, acc=97.7]\n",
      "Training: 100%|███████████████████████████████████████| 154/154 [00:10<00:00, 14.96it/s, epoch=7, loss=0.134, acc=95.2]\n",
      "Validating: 100%|███████████████████████████████████| 819/819 [00:06<00:00, 135.18it/s, epoch=7, loss=0.0685, acc=98.4]\n",
      "Training: 100%|███████████████████████████████████████| 154/154 [00:10<00:00, 15.00it/s, epoch=8, loss=0.137, acc=94.5]\n",
      "Validating: 100%|███████████████████████████████████| 819/819 [00:06<00:00, 134.15it/s, epoch=8, loss=0.0676, acc=97.7]\n",
      "Training: 100%|███████████████████████████████████████| 154/154 [00:10<00:00, 14.95it/s, epoch=9, loss=0.149, acc=93.7]\n",
      "Validating: 100%|███████████████████████████████████| 819/819 [00:06<00:00, 135.49it/s, epoch=9, loss=0.0503, acc=98.3]\n",
      "Training: 100%|██████████████████████████████████████| 154/154 [00:10<00:00, 14.93it/s, epoch=10, loss=0.122, acc=95.7]\n",
      "Validating: 100%|██████████████████████████████████| 819/819 [00:06<00:00, 135.25it/s, epoch=10, loss=0.0539, acc=98.7]\n",
      "Training: 100%|█████████████████████████████████████████| 154/154 [00:10<00:00, 14.88it/s, epoch=11, loss=0.15, acc=94]\n",
      "Validating: 100%|███████████████████████████████████| 819/819 [00:06<00:00, 135.04it/s, epoch=11, loss=0.141, acc=95.7]\n",
      "Training: 100%|██████████████████████████████████████| 154/154 [00:10<00:00, 14.98it/s, epoch=12, loss=0.177, acc=92.7]\n",
      "Validating: 100%|██████████████████████████████████| 819/819 [00:06<00:00, 135.00it/s, epoch=12, loss=0.0713, acc=97.4]\n",
      "Training: 100%|██████████████████████████████████████| 154/154 [00:10<00:00, 14.92it/s, epoch=13, loss=0.133, acc=95.2]\n",
      "Validating: 100%|██████████████████████████████████| 819/819 [00:06<00:00, 135.34it/s, epoch=13, loss=0.0395, acc=98.8]\n",
      "Training: 100%|███████████████████████████████████████| 154/154 [00:10<00:00, 15.00it/s, epoch=14, loss=0.13, acc=94.8]\n",
      "Validating: 100%|███████████████████████████████████| 819/819 [00:06<00:00, 135.07it/s, epoch=14, loss=0.127, acc=94.3]\n",
      "Training: 100%|███████████████████████████████████████| 154/154 [00:10<00:00, 15.03it/s, epoch=15, loss=0.14, acc=94.5]\n",
      "Validating: 100%|██████████████████████████████████| 819/819 [00:06<00:00, 133.62it/s, epoch=15, loss=0.0322, acc=99.4]\n",
      "Training:   1%|▌                                       | 2/154 [00:00<00:10, 14.78it/s, epoch=16, loss=0.199, acc=90.6]"
     ]
    },
    {
     "name": "stdout",
     "output_type": "stream",
     "text": [
      "Best acc: 99.3895, saving...\n"
     ]
    },
    {
     "name": "stderr",
     "output_type": "stream",
     "text": [
      "Training: 100%|██████████████████████████████████████| 154/154 [00:10<00:00, 14.96it/s, epoch=16, loss=0.119, acc=95.5]\n",
      "Validating: 100%|██████████████████████████████████| 819/819 [00:06<00:00, 135.56it/s, epoch=16, loss=0.0533, acc=98.3]\n",
      "Training: 100%|██████████████████████████████████████| 154/154 [00:10<00:00, 15.11it/s, epoch=17, loss=0.108, acc=95.5]\n",
      "Validating: 100%|███████████████████████████████████| 819/819 [00:06<00:00, 135.50it/s, epoch=17, loss=0.033, acc=98.5]\n",
      "Training: 100%|██████████████████████████████████████| 154/154 [00:10<00:00, 14.93it/s, epoch=18, loss=0.119, acc=95.9]\n",
      "Validating: 100%|██████████████████████████████████| 819/819 [00:06<00:00, 136.36it/s, epoch=18, loss=0.0507, acc=98.5]\n",
      "Training: 100%|██████████████████████████████████████| 154/154 [00:10<00:00, 14.91it/s, epoch=19, loss=0.152, acc=94.6]\n",
      "Validating: 100%|██████████████████████████████████| 819/819 [00:06<00:00, 135.36it/s, epoch=19, loss=0.0334, acc=99.3]\n",
      "Training: 100%|██████████████████████████████████████| 154/154 [00:10<00:00, 14.92it/s, epoch=20, loss=0.126, acc=95.2]\n",
      "Validating: 100%|██████████████████████████████████| 819/819 [00:06<00:00, 135.28it/s, epoch=20, loss=0.0429, acc=98.5]\n",
      "Training: 100%|████████████████████████████████████████| 154/154 [00:10<00:00, 14.97it/s, epoch=21, loss=0.149, acc=94]\n",
      "Validating: 100%|██████████████████████████████████| 819/819 [00:06<00:00, 134.93it/s, epoch=21, loss=0.0576, acc=98.7]\n",
      "Training: 100%|██████████████████████████████████████| 154/154 [00:10<00:00, 14.96it/s, epoch=22, loss=0.122, acc=95.8]\n",
      "Validating: 100%|████████████████████████████████████| 819/819 [00:06<00:00, 135.56it/s, epoch=22, loss=0.0252, acc=99]\n",
      "Training: 100%|██████████████████████████████████████| 154/154 [00:10<00:00, 14.97it/s, epoch=23, loss=0.102, acc=96.4]\n",
      "Validating: 100%|██████████████████████████████████| 819/819 [00:06<00:00, 135.10it/s, epoch=23, loss=0.0805, acc=97.4]\n",
      "Training: 100%|████████████████████████████████████████| 154/154 [00:10<00:00, 14.93it/s, epoch=24, loss=0.104, acc=96]\n",
      "Validating: 100%|██████████████████████████████████| 819/819 [00:06<00:00, 134.60it/s, epoch=24, loss=0.0347, acc=98.5]\n",
      "Training: 100%|███████████████████████████████████████| 154/154 [00:10<00:00, 14.92it/s, epoch=25, loss=0.12, acc=95.5]\n",
      "Validating: 100%|██████████████████████████████████| 819/819 [00:06<00:00, 134.45it/s, epoch=25, loss=0.0514, acc=98.4]\n",
      "Training: 100%|██████████████████████████████████████| 154/154 [00:10<00:00, 15.02it/s, epoch=26, loss=0.111, acc=96.4]\n",
      "Validating: 100%|██████████████████████████████████| 819/819 [00:06<00:00, 135.39it/s, epoch=26, loss=0.0448, acc=98.5]\n",
      "Training: 100%|██████████████████████████████████████| 154/154 [00:10<00:00, 15.02it/s, epoch=27, loss=0.102, acc=95.7]\n",
      "Validating: 100%|██████████████████████████████████| 819/819 [00:06<00:00, 133.96it/s, epoch=27, loss=0.0457, acc=98.7]\n",
      "Training: 100%|█████████████████████████████████████| 154/154 [00:10<00:00, 14.83it/s, epoch=28, loss=0.0925, acc=96.5]\n",
      "Validating: 100%|██████████████████████████████████| 819/819 [00:06<00:00, 135.02it/s, epoch=28, loss=0.0258, acc=99.4]\n",
      "Training: 100%|███████████████████████████████████████| 154/154 [00:10<00:00, 14.87it/s, epoch=29, loss=0.11, acc=95.4]\n",
      "Validating: 100%|██████████████████████████████████| 819/819 [00:06<00:00, 135.09it/s, epoch=29, loss=0.0177, acc=99.4]\n",
      "Training: 100%|██████████████████████████████████████| 154/154 [00:10<00:00, 15.00it/s, epoch=30, loss=0.107, acc=96.2]\n",
      "Validating: 100%|██████████████████████████████████| 819/819 [00:06<00:00, 134.39it/s, epoch=30, loss=0.0298, acc=99.1]\n",
      "Training: 100%|██████████████████████████████████████| 154/154 [00:10<00:00, 14.99it/s, epoch=31, loss=0.115, acc=95.8]\n",
      "Validating: 100%|██████████████████████████████████| 819/819 [00:06<00:00, 135.14it/s, epoch=31, loss=0.0406, acc=98.3]\n",
      "Training: 100%|█████████████████████████████████████| 154/154 [00:10<00:00, 15.06it/s, epoch=32, loss=0.0934, acc=96.8]\n",
      "Validating: 100%|██████████████████████████████████| 819/819 [00:06<00:00, 134.88it/s, epoch=32, loss=0.0274, acc=99.4]\n",
      "Training: 100%|█████████████████████████████████████| 154/154 [00:10<00:00, 14.95it/s, epoch=33, loss=0.0884, acc=96.6]\n",
      "Validating: 100%|██████████████████████████████████| 819/819 [00:06<00:00, 135.75it/s, epoch=33, loss=0.0199, acc=99.4]\n",
      "Training: 100%|██████████████████████████████████████| 154/154 [00:10<00:00, 14.97it/s, epoch=34, loss=0.088, acc=96.9]\n",
      "Validating: 100%|████████████████████████████████████| 819/819 [00:06<00:00, 135.51it/s, epoch=34, loss=0.0303, acc=99]\n",
      "Training: 100%|█████████████████████████████████████| 154/154 [00:10<00:00, 14.93it/s, epoch=35, loss=0.0914, acc=96.3]\n",
      "Validating: 100%|██████████████████████████████████| 819/819 [00:06<00:00, 135.39it/s, epoch=35, loss=0.0186, acc=99.4]\n",
      "Training: 100%|██████████████████████████████████████| 154/154 [00:10<00:00, 14.95it/s, epoch=36, loss=0.107, acc=96.2]\n",
      "Validating: 100%|██████████████████████████████████| 819/819 [00:06<00:00, 135.20it/s, epoch=36, loss=0.0234, acc=99.5]\n",
      "Training:   1%|▌                                       | 2/154 [00:00<00:09, 15.76it/s, epoch=37, loss=0.0197, acc=100]"
     ]
    },
    {
     "name": "stdout",
     "output_type": "stream",
     "text": [
      "Best acc: 99.5116, saving...\n"
     ]
    },
    {
     "name": "stderr",
     "output_type": "stream",
     "text": [
      "Training: 100%|█████████████████████████████████████| 154/154 [00:10<00:00, 15.06it/s, epoch=37, loss=0.0816, acc=97.1]\n",
      "Validating: 100%|████████████████████████████████████| 819/819 [00:06<00:00, 135.91it/s, epoch=37, loss=0.0337, acc=99]\n",
      "Training: 100%|█████████████████████████████████████| 154/154 [00:10<00:00, 15.05it/s, epoch=38, loss=0.0812, acc=97.3]\n",
      "Validating: 100%|██████████████████████████████████| 819/819 [00:06<00:00, 135.97it/s, epoch=38, loss=0.0513, acc=98.5]\n",
      "Training: 100%|█████████████████████████████████████| 154/154 [00:10<00:00, 15.03it/s, epoch=39, loss=0.0955, acc=96.9]\n",
      "Validating: 100%|██████████████████████████████████| 819/819 [00:06<00:00, 135.02it/s, epoch=39, loss=0.0198, acc=99.4]\n",
      "Training: 100%|██████████████████████████████████████| 154/154 [00:10<00:00, 15.03it/s, epoch=40, loss=0.095, acc=96.3]\n",
      "Validating: 100%|██████████████████████████████████| 819/819 [00:06<00:00, 136.35it/s, epoch=40, loss=0.0345, acc=99.3]\n",
      "Training: 100%|███████████████████████████████████████| 154/154 [00:10<00:00, 14.87it/s, epoch=41, loss=0.09, acc=96.6]\n",
      "Validating: 100%|██████████████████████████████████| 819/819 [00:05<00:00, 136.74it/s, epoch=41, loss=0.0274, acc=99.1]\n",
      "Training: 100%|██████████████████████████████████████| 154/154 [00:10<00:00, 14.86it/s, epoch=42, loss=0.087, acc=96.9]\n",
      "Validating: 100%|██████████████████████████████████| 819/819 [00:06<00:00, 135.74it/s, epoch=42, loss=0.0456, acc=98.5]\n",
      "Training: 100%|█████████████████████████████████████| 154/154 [00:10<00:00, 15.03it/s, epoch=43, loss=0.0805, acc=96.9]\n",
      "Validating: 100%|██████████████████████████████████| 819/819 [00:06<00:00, 135.49it/s, epoch=43, loss=0.0323, acc=98.9]\n",
      "Training: 100%|█████████████████████████████████████| 154/154 [00:10<00:00, 14.93it/s, epoch=44, loss=0.0989, acc=96.5]\n",
      "Validating: 100%|███████████████████████████████████| 819/819 [00:06<00:00, 135.62it/s, epoch=44, loss=0.022, acc=99.5]\n",
      "Training: 100%|█████████████████████████████████████| 154/154 [00:10<00:00, 14.93it/s, epoch=45, loss=0.0788, acc=97.2]\n",
      "Validating: 100%|██████████████████████████████████| 819/819 [00:06<00:00, 135.36it/s, epoch=45, loss=0.0178, acc=99.5]\n",
      "Training: 100%|█████████████████████████████████████| 154/154 [00:10<00:00, 14.91it/s, epoch=46, loss=0.0745, acc=97.3]\n",
      "Validating: 100%|██████████████████████████████████| 819/819 [00:06<00:00, 135.67it/s, epoch=46, loss=0.0315, acc=99.1]\n",
      "Training: 100%|█████████████████████████████████████| 154/154 [00:10<00:00, 14.99it/s, epoch=47, loss=0.0789, acc=97.6]\n",
      "Validating: 100%|███████████████████████████████████| 819/819 [00:06<00:00, 136.22it/s, epoch=47, loss=0.026, acc=99.1]\n",
      "Training: 100%|██████████████████████████████████████| 154/154 [00:10<00:00, 14.97it/s, epoch=48, loss=0.063, acc=97.9]\n",
      "Validating: 100%|██████████████████████████████████| 819/819 [00:06<00:00, 135.63it/s, epoch=48, loss=0.0179, acc=99.6]\n",
      "Training:   1%|▌                                       | 2/154 [00:00<00:10, 14.85it/s, epoch=49, loss=0.226, acc=90.6]"
     ]
    },
    {
     "name": "stdout",
     "output_type": "stream",
     "text": [
      "Best acc: 99.6337, saving...\n"
     ]
    },
    {
     "name": "stderr",
     "output_type": "stream",
     "text": [
      "Training: 100%|█████████████████████████████████████| 154/154 [00:10<00:00, 14.94it/s, epoch=49, loss=0.0652, acc=97.5]\n",
      "Validating: 100%|██████████████████████████████████| 819/819 [00:06<00:00, 135.82it/s, epoch=49, loss=0.0154, acc=99.5]\n",
      "Training: 100%|█████████████████████████████████████| 154/154 [00:10<00:00, 14.92it/s, epoch=50, loss=0.0672, acc=97.3]\n",
      "Validating: 100%|██████████████████████████████████| 819/819 [00:06<00:00, 136.34it/s, epoch=50, loss=0.0193, acc=99.4]\n",
      "Training: 100%|█████████████████████████████████████| 154/154 [00:10<00:00, 14.96it/s, epoch=51, loss=0.0567, acc=97.7]\n",
      "Validating: 100%|██████████████████████████████████| 819/819 [00:06<00:00, 136.01it/s, epoch=51, loss=0.0163, acc=99.5]\n",
      "Training: 100%|██████████████████████████████████████| 154/154 [00:10<00:00, 15.01it/s, epoch=52, loss=0.074, acc=97.2]\n",
      "Validating: 100%|██████████████████████████████████| 819/819 [00:06<00:00, 134.95it/s, epoch=52, loss=0.0107, acc=99.8]\n",
      "Training:   1%|▌                                      | 2/154 [00:00<00:10, 14.96it/s, epoch=53, loss=0.0553, acc=96.9]"
     ]
    },
    {
     "name": "stdout",
     "output_type": "stream",
     "text": [
      "Best acc: 99.7558, saving...\n"
     ]
    },
    {
     "name": "stderr",
     "output_type": "stream",
     "text": [
      "Training: 100%|███████████████████████████████████████| 154/154 [00:10<00:00, 14.89it/s, epoch=53, loss=0.0765, acc=97]\n",
      "Validating: 100%|██████████████████████████████████| 819/819 [00:06<00:00, 134.98it/s, epoch=53, loss=0.0169, acc=99.5]\n",
      "Training: 100%|█████████████████████████████████████| 154/154 [00:10<00:00, 14.91it/s, epoch=54, loss=0.0691, acc=97.4]\n",
      "Validating: 100%|██████████████████████████████████| 819/819 [00:06<00:00, 135.59it/s, epoch=54, loss=0.0102, acc=99.6]\n",
      "Training: 100%|█████████████████████████████████████| 154/154 [00:10<00:00, 14.95it/s, epoch=55, loss=0.0542, acc=97.6]\n",
      "Validating: 100%|██████████████████████████████████| 819/819 [00:06<00:00, 135.69it/s, epoch=55, loss=0.0235, acc=99.1]\n",
      "Training: 100%|█████████████████████████████████████| 154/154 [00:10<00:00, 14.93it/s, epoch=56, loss=0.0548, acc=97.8]\n",
      "Validating: 100%|██████████████████████████████████| 819/819 [00:06<00:00, 134.82it/s, epoch=56, loss=0.0257, acc=99.1]\n",
      "Training: 100%|█████████████████████████████████████| 154/154 [00:10<00:00, 14.90it/s, epoch=57, loss=0.0747, acc=97.3]\n",
      "Validating: 100%|██████████████████████████████████| 819/819 [00:06<00:00, 135.26it/s, epoch=57, loss=0.0173, acc=99.4]\n",
      "Training: 100%|█████████████████████████████████████| 154/154 [00:10<00:00, 15.01it/s, epoch=58, loss=0.0477, acc=98.3]\n",
      "Validating: 100%|██████████████████████████████████| 819/819 [00:06<00:00, 135.65it/s, epoch=58, loss=0.0116, acc=99.5]\n",
      "Training: 100%|███████████████████████████████████████| 154/154 [00:10<00:00, 14.79it/s, epoch=59, loss=0.0704, acc=97]\n",
      "Validating: 100%|██████████████████████████████████| 819/819 [00:06<00:00, 135.85it/s, epoch=59, loss=0.0124, acc=99.6]\n",
      "Training: 100%|█████████████████████████████████████| 154/154 [00:10<00:00, 14.87it/s, epoch=60, loss=0.0761, acc=97.5]\n",
      "Validating: 100%|███████████████████████████████████| 819/819 [00:06<00:00, 136.22it/s, epoch=60, loss=0.018, acc=99.3]\n",
      "Training: 100%|█████████████████████████████████████| 154/154 [00:10<00:00, 15.00it/s, epoch=61, loss=0.0426, acc=98.5]\n",
      "Validating: 100%|██████████████████████████████████| 819/819 [00:06<00:00, 134.55it/s, epoch=61, loss=0.0198, acc=99.5]\n",
      "Training: 100%|███████████████████████████████████████| 154/154 [00:10<00:00, 14.98it/s, epoch=62, loss=0.0556, acc=98]\n",
      "Validating: 100%|██████████████████████████████████| 819/819 [00:06<00:00, 135.52it/s, epoch=62, loss=0.0326, acc=98.9]\n",
      "Training: 100%|████████████████████████████████████████| 154/154 [00:10<00:00, 14.88it/s, epoch=63, loss=0.054, acc=98]\n",
      "Validating: 100%|███████████████████████████████████| 819/819 [00:06<00:00, 135.25it/s, epoch=63, loss=0.014, acc=99.5]\n",
      "Training: 100%|█████████████████████████████████████| 154/154 [00:10<00:00, 14.93it/s, epoch=64, loss=0.0465, acc=98.4]\n",
      "Validating: 100%|███████████████████████████████████| 819/819 [00:06<00:00, 130.26it/s, epoch=64, loss=0.021, acc=99.5]\n",
      "Training: 100%|█████████████████████████████████████| 154/154 [00:10<00:00, 14.56it/s, epoch=65, loss=0.0533, acc=98.1]\n",
      "Validating: 100%|██████████████████████████████████| 819/819 [00:06<00:00, 128.90it/s, epoch=65, loss=0.0106, acc=99.8]\n",
      "Training: 100%|█████████████████████████████████████| 154/154 [00:10<00:00, 14.92it/s, epoch=66, loss=0.0429, acc=98.7]\n",
      "Validating: 100%|███████████████████████████████████| 819/819 [00:06<00:00, 132.13it/s, epoch=66, loss=0.023, acc=99.4]\n",
      "Training: 100%|█████████████████████████████████████| 154/154 [00:10<00:00, 14.74it/s, epoch=67, loss=0.0492, acc=98.3]\n",
      "Validating: 100%|██████████████████████████████████| 819/819 [00:06<00:00, 131.06it/s, epoch=67, loss=0.0188, acc=99.4]\n",
      "Training: 100%|█████████████████████████████████████| 154/154 [00:10<00:00, 14.85it/s, epoch=68, loss=0.0532, acc=97.6]\n",
      "Validating: 100%|█████████████████████████████████| 819/819 [00:06<00:00, 129.97it/s, epoch=68, loss=0.00902, acc=99.8]\n",
      "Training: 100%|█████████████████████████████████████| 154/154 [00:10<00:00, 14.85it/s, epoch=69, loss=0.0491, acc=98.1]\n",
      "Validating: 100%|██████████████████████████████████| 819/819 [00:06<00:00, 129.64it/s, epoch=69, loss=0.0106, acc=99.6]\n",
      "Training: 100%|█████████████████████████████████████| 154/154 [00:10<00:00, 14.86it/s, epoch=70, loss=0.0377, acc=98.7]\n",
      "Validating: 100%|██████████████████████████████████| 819/819 [00:06<00:00, 131.04it/s, epoch=70, loss=0.0117, acc=99.6]\n",
      "Training: 100%|█████████████████████████████████████| 154/154 [00:10<00:00, 14.85it/s, epoch=71, loss=0.0435, acc=98.2]\n",
      "Validating: 100%|██████████████████████████████████| 819/819 [00:06<00:00, 130.74it/s, epoch=71, loss=0.0154, acc=99.5]\n",
      "Training: 100%|█████████████████████████████████████| 154/154 [00:10<00:00, 14.98it/s, epoch=72, loss=0.0448, acc=98.2]\n",
      "Validating: 100%|███████████████████████████████████| 819/819 [00:06<00:00, 130.93it/s, epoch=72, loss=0.011, acc=99.8]\n",
      "Training: 100%|█████████████████████████████████████| 154/154 [00:10<00:00, 14.74it/s, epoch=73, loss=0.0389, acc=98.7]\n",
      "Validating: 100%|█████████████████████████████████| 819/819 [00:06<00:00, 130.79it/s, epoch=73, loss=0.00847, acc=99.8]\n",
      "Training: 100%|█████████████████████████████████████| 154/154 [00:10<00:00, 14.91it/s, epoch=74, loss=0.0381, acc=98.7]\n",
      "Validating: 100%|██████████████████████████████████| 819/819 [00:06<00:00, 130.93it/s, epoch=74, loss=0.0121, acc=99.6]\n",
      "Training: 100%|█████████████████████████████████████| 154/154 [00:10<00:00, 14.71it/s, epoch=75, loss=0.0438, acc=98.6]\n",
      "Validating: 100%|██████████████████████████████████| 819/819 [00:06<00:00, 130.32it/s, epoch=75, loss=0.0185, acc=99.5]\n",
      "Training: 100%|█████████████████████████████████████| 154/154 [00:10<00:00, 14.87it/s, epoch=76, loss=0.0393, acc=98.6]\n",
      "Validating: 100%|██████████████████████████████████| 819/819 [00:06<00:00, 130.75it/s, epoch=76, loss=0.0109, acc=99.9]\n",
      "Training:   1%|▌                                       | 2/154 [00:00<00:10, 14.55it/s, epoch=77, loss=0.0393, acc=100]"
     ]
    },
    {
     "name": "stdout",
     "output_type": "stream",
     "text": [
      "Best acc: 99.8779, saving...\n"
     ]
    },
    {
     "name": "stderr",
     "output_type": "stream",
     "text": [
      "Training: 100%|█████████████████████████████████████| 154/154 [00:10<00:00, 14.73it/s, epoch=77, loss=0.0446, acc=98.4]\n",
      "Validating: 100%|██████████████████████████████████| 819/819 [00:06<00:00, 131.12it/s, epoch=77, loss=0.0126, acc=99.8]\n",
      "Training: 100%|███████████████████████████████████████| 154/154 [00:10<00:00, 14.79it/s, epoch=78, loss=0.0298, acc=99]\n",
      "Validating: 100%|██████████████████████████████████| 819/819 [00:06<00:00, 131.25it/s, epoch=78, loss=0.0115, acc=99.8]\n",
      "Training: 100%|█████████████████████████████████████| 154/154 [00:10<00:00, 14.95it/s, epoch=79, loss=0.0373, acc=98.4]\n",
      "Validating: 100%|██████████████████████████████████| 819/819 [00:06<00:00, 131.24it/s, epoch=79, loss=0.0133, acc=99.6]\n",
      "Training: 100%|█████████████████████████████████████| 154/154 [00:10<00:00, 14.77it/s, epoch=80, loss=0.0364, acc=98.8]\n",
      "Validating: 100%|██████████████████████████████████| 819/819 [00:06<00:00, 131.33it/s, epoch=80, loss=0.0109, acc=99.8]\n",
      "Training: 100%|█████████████████████████████████████| 154/154 [00:10<00:00, 14.78it/s, epoch=81, loss=0.0362, acc=98.9]\n",
      "Validating: 100%|██████████████████████████████████| 819/819 [00:06<00:00, 130.49it/s, epoch=81, loss=0.0111, acc=99.9]\n",
      "Training: 100%|██████████████████████████████████████| 154/154 [00:10<00:00, 14.87it/s, epoch=82, loss=0.039, acc=98.5]\n",
      "Validating: 100%|██████████████████████████████████| 819/819 [00:06<00:00, 131.28it/s, epoch=82, loss=0.0144, acc=99.5]\n",
      "Training: 100%|█████████████████████████████████████| 154/154 [00:10<00:00, 14.83it/s, epoch=83, loss=0.0341, acc=99.1]\n",
      "Validating: 100%|██████████████████████████████████| 819/819 [00:06<00:00, 131.01it/s, epoch=83, loss=0.0155, acc=99.5]\n",
      "Training: 100%|███████████████████████████████████████| 154/154 [00:10<00:00, 14.85it/s, epoch=84, loss=0.0291, acc=99]\n",
      "Validating: 100%|██████████████████████████████████| 819/819 [00:06<00:00, 133.87it/s, epoch=84, loss=0.0148, acc=99.5]\n",
      "Training: 100%|█████████████████████████████████████| 154/154 [00:10<00:00, 14.88it/s, epoch=85, loss=0.0263, acc=99.1]\n",
      "Validating: 100%|██████████████████████████████████| 819/819 [00:06<00:00, 134.00it/s, epoch=85, loss=0.0178, acc=99.5]\n",
      "Training: 100%|█████████████████████████████████████| 154/154 [00:10<00:00, 14.98it/s, epoch=86, loss=0.0311, acc=98.9]\n",
      "Validating: 100%|██████████████████████████████████| 819/819 [00:06<00:00, 134.08it/s, epoch=86, loss=0.0185, acc=99.5]\n",
      "Training: 100%|█████████████████████████████████████| 154/154 [00:10<00:00, 14.87it/s, epoch=87, loss=0.0297, acc=98.8]\n",
      "Validating: 100%|██████████████████████████████████| 819/819 [00:06<00:00, 133.45it/s, epoch=87, loss=0.0169, acc=99.5]\n",
      "Training: 100%|█████████████████████████████████████| 154/154 [00:10<00:00, 14.93it/s, epoch=88, loss=0.0362, acc=98.6]\n",
      "Validating: 100%|██████████████████████████████████| 819/819 [00:06<00:00, 133.24it/s, epoch=88, loss=0.0138, acc=99.5]\n",
      "Training: 100%|█████████████████████████████████████| 154/154 [00:10<00:00, 14.84it/s, epoch=89, loss=0.0365, acc=98.7]\n",
      "Validating: 100%|██████████████████████████████████| 819/819 [00:06<00:00, 132.81it/s, epoch=89, loss=0.0162, acc=99.5]\n",
      "Training: 100%|██████████████████████████████████████| 154/154 [00:10<00:00, 14.83it/s, epoch=90, loss=0.027, acc=99.1]\n",
      "Validating: 100%|██████████████████████████████████| 819/819 [00:06<00:00, 133.83it/s, epoch=90, loss=0.0165, acc=99.5]\n",
      "Training: 100%|█████████████████████████████████████| 154/154 [00:10<00:00, 14.87it/s, epoch=91, loss=0.0289, acc=99.1]\n",
      "Validating: 100%|██████████████████████████████████| 819/819 [00:06<00:00, 133.72it/s, epoch=91, loss=0.0162, acc=99.5]\n",
      "Training: 100%|█████████████████████████████████████| 154/154 [00:10<00:00, 14.93it/s, epoch=92, loss=0.0287, acc=98.9]\n",
      "Validating: 100%|██████████████████████████████████| 819/819 [00:06<00:00, 133.74it/s, epoch=92, loss=0.0145, acc=99.5]\n",
      "Training: 100%|█████████████████████████████████████| 154/154 [00:10<00:00, 14.82it/s, epoch=93, loss=0.0317, acc=98.7]\n",
      "Validating: 100%|██████████████████████████████████| 819/819 [00:06<00:00, 134.60it/s, epoch=93, loss=0.0155, acc=99.5]\n",
      "Training: 100%|█████████████████████████████████████| 154/154 [00:10<00:00, 14.90it/s, epoch=94, loss=0.0303, acc=98.8]\n",
      "Validating: 100%|██████████████████████████████████| 819/819 [00:06<00:00, 133.39it/s, epoch=94, loss=0.0142, acc=99.5]\n",
      "Training: 100%|█████████████████████████████████████| 154/154 [00:10<00:00, 14.85it/s, epoch=95, loss=0.0271, acc=99.1]\n",
      "Validating: 100%|██████████████████████████████████| 819/819 [00:06<00:00, 133.57it/s, epoch=95, loss=0.0123, acc=99.8]\n",
      "Training: 100%|███████████████████████████████████████| 154/154 [00:10<00:00, 14.86it/s, epoch=96, loss=0.0286, acc=99]\n",
      "Validating: 100%|██████████████████████████████████| 819/819 [00:06<00:00, 133.49it/s, epoch=96, loss=0.0156, acc=99.5]\n",
      "Training: 100%|█████████████████████████████████████| 154/154 [00:10<00:00, 14.96it/s, epoch=97, loss=0.0256, acc=99.2]\n",
      "Validating: 100%|██████████████████████████████████| 819/819 [00:06<00:00, 133.46it/s, epoch=97, loss=0.0146, acc=99.5]\n",
      "Training: 100%|█████████████████████████████████████| 154/154 [00:10<00:00, 14.79it/s, epoch=98, loss=0.0353, acc=98.7]\n",
      "Validating: 100%|███████████████████████████████████| 819/819 [00:06<00:00, 134.15it/s, epoch=98, loss=0.017, acc=99.5]\n",
      "Training: 100%|██████████████████████████████████████| 154/154 [00:10<00:00, 14.81it/s, epoch=99, loss=0.023, acc=99.3]\n",
      "Validating: 100%|██████████████████████████████████| 819/819 [00:06<00:00, 132.89it/s, epoch=99, loss=0.0148, acc=99.5]"
     ]
    },
    {
     "name": "stdout",
     "output_type": "stream",
     "text": [
      "time taken: 1643.6841s\n"
     ]
    },
    {
     "name": "stderr",
     "output_type": "stream",
     "text": [
      "\n"
     ]
    }
   ],
   "source": [
    "start = time.time()\n",
    "best_acc = 0.0\n",
    "train_acc_ = []\n",
    "train_loss_ = []\n",
    "valid_acc_ = []\n",
    "valid_loss_ = []\n",
    "epoch_ = []\n",
    "lr_ = []\n",
    "for epoch in range(n_epochs):\n",
    "    train_acc, train_loss = train(epoch, trainloader, net)\n",
    "    val_acc, val_loss = valid(epoch, valloader, net)\n",
    "    train_acc_.append(train_acc)\n",
    "    train_loss_.append(train_loss)\n",
    "    valid_acc_.append(val_acc)\n",
    "    valid_loss_.append(val_loss)\n",
    "    scheduler.step()\n",
    "    if (val_acc > best_acc):\n",
    "        best_acc = val_acc\n",
    "        print(f'Best acc: {best_acc:.4f}, saving...')\n",
    "        torch.save(net, f'models/{datetime.now().strftime(\"%d%m%Y_%H%M%S\")}_mobilenetv2_{best_acc:.4f}_epoch_{epoch}.pth')\n",
    "        epoch_.append(epoch)\n",
    "end = time.time()\n",
    "print(f'time taken: {(end-start):.4f}s')"
   ]
  },
  {
   "cell_type": "code",
   "execution_count": 26,
   "id": "2ccd6b9a-1ae8-4ff7-b917-139c19edb4b2",
   "metadata": {},
   "outputs": [
    {
     "name": "stdout",
     "output_type": "stream",
     "text": [
      "train_acc: 99.27\n",
      "val_acc: 99.51\n",
      "last model path: models/28052021_020925_mobilenetv2_99.27_99.51_last.pth\n"
     ]
    }
   ],
   "source": [
    "print(f'train_acc: {train_acc:.2f}')\n",
    "print(f'val_acc: {val_acc:.2f}')\n",
    "model_path = f'models/{datetime.now().strftime(\"%d%m%Y_%H%M%S\")}_mobilenetv2_{train_acc:.2f}_{val_acc:.2f}_last.pth'\n",
    "print(f'last model path: {model_path}')\n",
    "torch.save(net, model_path)"
   ]
  },
  {
   "cell_type": "code",
   "execution_count": 27,
   "id": "925e1695-af83-485a-ba33-f47794012577",
   "metadata": {},
   "outputs": [
    {
     "data": {
      "image/png": "[encoded data removed]",
      "text/plain": [
       "<Figure size 720x360 with 1 Axes>"
      ]
     },
     "metadata": {
      "needs_background": "light"
     },
     "output_type": "display_data"
    },
    {
     "data": {
      "image/png": "[encoded data removed]",
      "text/plain": [
       "<Figure size 720x360 with 1 Axes>"
      ]
     },
     "metadata": {
      "needs_background": "light"
     },
     "output_type": "display_data"
    },
    {
     "data": {
      "image/png": "[encoded data removed]",
      "text/plain": [
       "<Figure size 720x360 with 1 Axes>"
      ]
     },
     "metadata": {
      "needs_background": "light"
     },
     "output_type": "display_data"
    }
   ],
   "source": [
    "plt.figure(figsize=(10,5))\n",
    "plt.axvline(epoch_[-1], 0, 1, c='g', ls='--', lw=2, label='best')\n",
    "plt.plot(range(n_epochs), train_loss_, 'b', label='train')\n",
    "plt.plot(range(n_epochs), valid_loss_, 'r', label='valid')\n",
    "plt.xlabel('epochs')\n",
    "plt.ylabel('loss')\n",
    "plt.title('Loss vs Epoch')\n",
    "plt.legend()\n",
    "plt.show()\n",
    "\n",
    "plt.figure(figsize=(10,5))\n",
    "plt.axvline(epoch_[-1], 0, 1, c='g', ls='--', lw=2, label='best')\n",
    "plt.plot(range(n_epochs), train_acc_, 'b', label='train')\n",
    "plt.plot(range(n_epochs), valid_acc_, 'r', label='valid')\n",
    "plt.xlabel('epochs')\n",
    "plt.ylabel('acc')\n",
    "plt.title('Accuracy vs Epoch')\n",
    "plt.legend()\n",
    "plt.show()\n",
    "\n",
    "plt.figure(figsize=(10,5))\n",
    "plt.axvline(epoch_[-1], 0, 1, c='g', ls='--', lw=2, label='best')\n",
    "plt.plot(range(n_epochs), lr_, 'b', label='lr')\n",
    "plt.xlabel('epochs')\n",
    "plt.ylabel('lr')\n",
    "plt.title('Learning Rate vs Epoch')\n",
    "plt.legend()\n",
    "plt.show()"
   ]
  },
  {
   "cell_type": "code",
   "execution_count": 28,
   "id": "b926fcc3-2bee-4280-9be6-00f26e44ee3d",
   "metadata": {},
   "outputs": [],
   "source": [
    "plotTotal.append([net, train_acc_, train_loss_])"
   ]
  },
  {
   "cell_type": "markdown",
   "id": "d526ec12-c836-4d13-bd8f-67e9c52e370a",
   "metadata": {},
   "source": [
    "## Densenet121"
   ]
  },
  {
   "cell_type": "code",
   "execution_count": 29,
   "id": "179c1cf1-4c85-4e69-8849-c41528b32dd8",
   "metadata": {},
   "outputs": [
    {
     "name": "stdout",
     "output_type": "stream",
     "text": [
      "number of trainable params: 6955906\n",
      "DenseNet(\n",
      "  (features): Sequential(\n",
      "    (conv0): Conv2d(3, 64, kernel_size=(7, 7), stride=(2, 2), padding=(3, 3), bias=False)\n",
      "    (norm0): BatchNorm2d(64, eps=1e-05, momentum=0.1, affine=True, track_running_stats=True)\n",
      "    (relu0): ReLU(inplace=True)\n",
      "    (pool0): MaxPool2d(kernel_size=3, stride=2, padding=1, dilation=1, ceil_mode=False)\n",
      "    (denseblock1): _DenseBlock(\n",
      "      (denselayer1): _DenseLayer(\n",
      "        (norm1): BatchNorm2d(64, eps=1e-05, momentum=0.1, affine=True, track_running_stats=True)\n",
      "        (relu1): ReLU(inplace=True)\n",
      "        (conv1): Conv2d(64, 128, kernel_size=(1, 1), stride=(1, 1), bias=False)\n",
      "        (norm2): BatchNorm2d(128, eps=1e-05, momentum=0.1, affine=True, track_running_stats=True)\n",
      "        (relu2): ReLU(inplace=True)\n",
      "        (conv2): Conv2d(128, 32, kernel_size=(3, 3), stride=(1, 1), padding=(1, 1), bias=False)\n",
      "      )\n",
      "      (denselayer2): _DenseLayer(\n",
      "        (norm1): BatchNorm2d(96, eps=1e-05, momentum=0.1, affine=True, track_running_stats=True)\n",
      "        (relu1): ReLU(inplace=True)\n",
      "        (conv1): Conv2d(96, 128, kernel_size=(1, 1), stride=(1, 1), bias=False)\n",
      "        (norm2): BatchNorm2d(128, eps=1e-05, momentum=0.1, affine=True, track_running_stats=True)\n",
      "        (relu2): ReLU(inplace=True)\n",
      "        (conv2): Conv2d(128, 32, kernel_size=(3, 3), stride=(1, 1), padding=(1, 1), bias=False)\n",
      "      )\n",
      "      (denselayer3): _DenseLayer(\n",
      "        (norm1): BatchNorm2d(128, eps=1e-05, momentum=0.1, affine=True, track_running_stats=True)\n",
      "        (relu1): ReLU(inplace=True)\n",
      "        (conv1): Conv2d(128, 128, kernel_size=(1, 1), stride=(1, 1), bias=False)\n",
      "        (norm2): BatchNorm2d(128, eps=1e-05, momentum=0.1, affine=True, track_running_stats=True)\n",
      "        (relu2): ReLU(inplace=True)\n",
      "        (conv2): Conv2d(128, 32, kernel_size=(3, 3), stride=(1, 1), padding=(1, 1), bias=False)\n",
      "      )\n",
      "      (denselayer4): _DenseLayer(\n",
      "        (norm1): BatchNorm2d(160, eps=1e-05, momentum=0.1, affine=True, track_running_stats=True)\n",
      "        (relu1): ReLU(inplace=True)\n",
      "        (conv1): Conv2d(160, 128, kernel_size=(1, 1), stride=(1, 1), bias=False)\n",
      "        (norm2): BatchNorm2d(128, eps=1e-05, momentum=0.1, affine=True, track_running_stats=True)\n",
      "        (relu2): ReLU(inplace=True)\n",
      "        (conv2): Conv2d(128, 32, kernel_size=(3, 3), stride=(1, 1), padding=(1, 1), bias=False)\n",
      "      )\n",
      "      (denselayer5): _DenseLayer(\n",
      "        (norm1): BatchNorm2d(192, eps=1e-05, momentum=0.1, affine=True, track_running_stats=True)\n",
      "        (relu1): ReLU(inplace=True)\n",
      "        (conv1): Conv2d(192, 128, kernel_size=(1, 1), stride=(1, 1), bias=False)\n",
      "        (norm2): BatchNorm2d(128, eps=1e-05, momentum=0.1, affine=True, track_running_stats=True)\n",
      "        (relu2): ReLU(inplace=True)\n",
      "        (conv2): Conv2d(128, 32, kernel_size=(3, 3), stride=(1, 1), padding=(1, 1), bias=False)\n",
      "      )\n",
      "      (denselayer6): _DenseLayer(\n",
      "        (norm1): BatchNorm2d(224, eps=1e-05, momentum=0.1, affine=True, track_running_stats=True)\n",
      "        (relu1): ReLU(inplace=True)\n",
      "        (conv1): Conv2d(224, 128, kernel_size=(1, 1), stride=(1, 1), bias=False)\n",
      "        (norm2): BatchNorm2d(128, eps=1e-05, momentum=0.1, affine=True, track_running_stats=True)\n",
      "        (relu2): ReLU(inplace=True)\n",
      "        (conv2): Conv2d(128, 32, kernel_size=(3, 3), stride=(1, 1), padding=(1, 1), bias=False)\n",
      "      )\n",
      "    )\n",
      "    (transition1): _Transition(\n",
      "      (norm): BatchNorm2d(256, eps=1e-05, momentum=0.1, affine=True, track_running_stats=True)\n",
      "      (relu): ReLU(inplace=True)\n",
      "      (conv): Conv2d(256, 128, kernel_size=(1, 1), stride=(1, 1), bias=False)\n",
      "      (pool): AvgPool2d(kernel_size=2, stride=2, padding=0)\n",
      "    )\n",
      "    (denseblock2): _DenseBlock(\n",
      "      (denselayer1): _DenseLayer(\n",
      "        (norm1): BatchNorm2d(128, eps=1e-05, momentum=0.1, affine=True, track_running_stats=True)\n",
      "        (relu1): ReLU(inplace=True)\n",
      "        (conv1): Conv2d(128, 128, kernel_size=(1, 1), stride=(1, 1), bias=False)\n",
      "        (norm2): BatchNorm2d(128, eps=1e-05, momentum=0.1, affine=True, track_running_stats=True)\n",
      "        (relu2): ReLU(inplace=True)\n",
      "        (conv2): Conv2d(128, 32, kernel_size=(3, 3), stride=(1, 1), padding=(1, 1), bias=False)\n",
      "      )\n",
      "      (denselayer2): _DenseLayer(\n",
      "        (norm1): BatchNorm2d(160, eps=1e-05, momentum=0.1, affine=True, track_running_stats=True)\n",
      "        (relu1): ReLU(inplace=True)\n",
      "        (conv1): Conv2d(160, 128, kernel_size=(1, 1), stride=(1, 1), bias=False)\n",
      "        (norm2): BatchNorm2d(128, eps=1e-05, momentum=0.1, affine=True, track_running_stats=True)\n",
      "        (relu2): ReLU(inplace=True)\n",
      "        (conv2): Conv2d(128, 32, kernel_size=(3, 3), stride=(1, 1), padding=(1, 1), bias=False)\n",
      "      )\n",
      "      (denselayer3): _DenseLayer(\n",
      "        (norm1): BatchNorm2d(192, eps=1e-05, momentum=0.1, affine=True, track_running_stats=True)\n",
      "        (relu1): ReLU(inplace=True)\n",
      "        (conv1): Conv2d(192, 128, kernel_size=(1, 1), stride=(1, 1), bias=False)\n",
      "        (norm2): BatchNorm2d(128, eps=1e-05, momentum=0.1, affine=True, track_running_stats=True)\n",
      "        (relu2): ReLU(inplace=True)\n",
      "        (conv2): Conv2d(128, 32, kernel_size=(3, 3), stride=(1, 1), padding=(1, 1), bias=False)\n",
      "      )\n",
      "      (denselayer4): _DenseLayer(\n",
      "        (norm1): BatchNorm2d(224, eps=1e-05, momentum=0.1, affine=True, track_running_stats=True)\n",
      "        (relu1): ReLU(inplace=True)\n",
      "        (conv1): Conv2d(224, 128, kernel_size=(1, 1), stride=(1, 1), bias=False)\n",
      "        (norm2): BatchNorm2d(128, eps=1e-05, momentum=0.1, affine=True, track_running_stats=True)\n",
      "        (relu2): ReLU(inplace=True)\n",
      "        (conv2): Conv2d(128, 32, kernel_size=(3, 3), stride=(1, 1), padding=(1, 1), bias=False)\n",
      "      )\n",
      "      (denselayer5): _DenseLayer(\n",
      "        (norm1): BatchNorm2d(256, eps=1e-05, momentum=0.1, affine=True, track_running_stats=True)\n",
      "        (relu1): ReLU(inplace=True)\n",
      "        (conv1): Conv2d(256, 128, kernel_size=(1, 1), stride=(1, 1), bias=False)\n",
      "        (norm2): BatchNorm2d(128, eps=1e-05, momentum=0.1, affine=True, track_running_stats=True)\n",
      "        (relu2): ReLU(inplace=True)\n",
      "        (conv2): Conv2d(128, 32, kernel_size=(3, 3), stride=(1, 1), padding=(1, 1), bias=False)\n",
      "      )\n",
      "      (denselayer6): _DenseLayer(\n",
      "        (norm1): BatchNorm2d(288, eps=1e-05, momentum=0.1, affine=True, track_running_stats=True)\n",
      "        (relu1): ReLU(inplace=True)\n",
      "        (conv1): Conv2d(288, 128, kernel_size=(1, 1), stride=(1, 1), bias=False)\n",
      "        (norm2): BatchNorm2d(128, eps=1e-05, momentum=0.1, affine=True, track_running_stats=True)\n",
      "        (relu2): ReLU(inplace=True)\n",
      "        (conv2): Conv2d(128, 32, kernel_size=(3, 3), stride=(1, 1), padding=(1, 1), bias=False)\n",
      "      )\n",
      "      (denselayer7): _DenseLayer(\n",
      "        (norm1): BatchNorm2d(320, eps=1e-05, momentum=0.1, affine=True, track_running_stats=True)\n",
      "        (relu1): ReLU(inplace=True)\n",
      "        (conv1): Conv2d(320, 128, kernel_size=(1, 1), stride=(1, 1), bias=False)\n",
      "        (norm2): BatchNorm2d(128, eps=1e-05, momentum=0.1, affine=True, track_running_stats=True)\n",
      "        (relu2): ReLU(inplace=True)\n",
      "        (conv2): Conv2d(128, 32, kernel_size=(3, 3), stride=(1, 1), padding=(1, 1), bias=False)\n",
      "      )\n",
      "      (denselayer8): _DenseLayer(\n",
      "        (norm1): BatchNorm2d(352, eps=1e-05, momentum=0.1, affine=True, track_running_stats=True)\n",
      "        (relu1): ReLU(inplace=True)\n",
      "        (conv1): Conv2d(352, 128, kernel_size=(1, 1), stride=(1, 1), bias=False)\n",
      "        (norm2): BatchNorm2d(128, eps=1e-05, momentum=0.1, affine=True, track_running_stats=True)\n",
      "        (relu2): ReLU(inplace=True)\n",
      "        (conv2): Conv2d(128, 32, kernel_size=(3, 3), stride=(1, 1), padding=(1, 1), bias=False)\n",
      "      )\n",
      "      (denselayer9): _DenseLayer(\n",
      "        (norm1): BatchNorm2d(384, eps=1e-05, momentum=0.1, affine=True, track_running_stats=True)\n",
      "        (relu1): ReLU(inplace=True)\n",
      "        (conv1): Conv2d(384, 128, kernel_size=(1, 1), stride=(1, 1), bias=False)\n",
      "        (norm2): BatchNorm2d(128, eps=1e-05, momentum=0.1, affine=True, track_running_stats=True)\n",
      "        (relu2): ReLU(inplace=True)\n",
      "        (conv2): Conv2d(128, 32, kernel_size=(3, 3), stride=(1, 1), padding=(1, 1), bias=False)\n",
      "      )\n",
      "      (denselayer10): _DenseLayer(\n",
      "        (norm1): BatchNorm2d(416, eps=1e-05, momentum=0.1, affine=True, track_running_stats=True)\n",
      "        (relu1): ReLU(inplace=True)\n",
      "        (conv1): Conv2d(416, 128, kernel_size=(1, 1), stride=(1, 1), bias=False)\n",
      "        (norm2): BatchNorm2d(128, eps=1e-05, momentum=0.1, affine=True, track_running_stats=True)\n",
      "        (relu2): ReLU(inplace=True)\n",
      "        (conv2): Conv2d(128, 32, kernel_size=(3, 3), stride=(1, 1), padding=(1, 1), bias=False)\n",
      "      )\n",
      "      (denselayer11): _DenseLayer(\n",
      "        (norm1): BatchNorm2d(448, eps=1e-05, momentum=0.1, affine=True, track_running_stats=True)\n",
      "        (relu1): ReLU(inplace=True)\n",
      "        (conv1): Conv2d(448, 128, kernel_size=(1, 1), stride=(1, 1), bias=False)\n",
      "        (norm2): BatchNorm2d(128, eps=1e-05, momentum=0.1, affine=True, track_running_stats=True)\n",
      "        (relu2): ReLU(inplace=True)\n",
      "        (conv2): Conv2d(128, 32, kernel_size=(3, 3), stride=(1, 1), padding=(1, 1), bias=False)\n",
      "      )\n",
      "      (denselayer12): _DenseLayer(\n",
      "        (norm1): BatchNorm2d(480, eps=1e-05, momentum=0.1, affine=True, track_running_stats=True)\n",
      "        (relu1): ReLU(inplace=True)\n",
      "        (conv1): Conv2d(480, 128, kernel_size=(1, 1), stride=(1, 1), bias=False)\n",
      "        (norm2): BatchNorm2d(128, eps=1e-05, momentum=0.1, affine=True, track_running_stats=True)\n",
      "        (relu2): ReLU(inplace=True)\n",
      "        (conv2): Conv2d(128, 32, kernel_size=(3, 3), stride=(1, 1), padding=(1, 1), bias=False)\n",
      "      )\n",
      "    )\n",
      "    (transition2): _Transition(\n",
      "      (norm): BatchNorm2d(512, eps=1e-05, momentum=0.1, affine=True, track_running_stats=True)\n",
      "      (relu): ReLU(inplace=True)\n",
      "      (conv): Conv2d(512, 256, kernel_size=(1, 1), stride=(1, 1), bias=False)\n",
      "      (pool): AvgPool2d(kernel_size=2, stride=2, padding=0)\n",
      "    )\n",
      "    (denseblock3): _DenseBlock(\n",
      "      (denselayer1): _DenseLayer(\n",
      "        (norm1): BatchNorm2d(256, eps=1e-05, momentum=0.1, affine=True, track_running_stats=True)\n",
      "        (relu1): ReLU(inplace=True)\n",
      "        (conv1): Conv2d(256, 128, kernel_size=(1, 1), stride=(1, 1), bias=False)\n",
      "        (norm2): BatchNorm2d(128, eps=1e-05, momentum=0.1, affine=True, track_running_stats=True)\n",
      "        (relu2): ReLU(inplace=True)\n",
      "        (conv2): Conv2d(128, 32, kernel_size=(3, 3), stride=(1, 1), padding=(1, 1), bias=False)\n",
      "      )\n",
      "      (denselayer2): _DenseLayer(\n",
      "        (norm1): BatchNorm2d(288, eps=1e-05, momentum=0.1, affine=True, track_running_stats=True)\n",
      "        (relu1): ReLU(inplace=True)\n",
      "        (conv1): Conv2d(288, 128, kernel_size=(1, 1), stride=(1, 1), bias=False)\n",
      "        (norm2): BatchNorm2d(128, eps=1e-05, momentum=0.1, affine=True, track_running_stats=True)\n",
      "        (relu2): ReLU(inplace=True)\n",
      "        (conv2): Conv2d(128, 32, kernel_size=(3, 3), stride=(1, 1), padding=(1, 1), bias=False)\n",
      "      )\n",
      "      (denselayer3): _DenseLayer(\n",
      "        (norm1): BatchNorm2d(320, eps=1e-05, momentum=0.1, affine=True, track_running_stats=True)\n",
      "        (relu1): ReLU(inplace=True)\n",
      "        (conv1): Conv2d(320, 128, kernel_size=(1, 1), stride=(1, 1), bias=False)\n",
      "        (norm2): BatchNorm2d(128, eps=1e-05, momentum=0.1, affine=True, track_running_stats=True)\n",
      "        (relu2): ReLU(inplace=True)\n",
      "        (conv2): Conv2d(128, 32, kernel_size=(3, 3), stride=(1, 1), padding=(1, 1), bias=False)\n",
      "      )\n",
      "      (denselayer4): _DenseLayer(\n",
      "        (norm1): BatchNorm2d(352, eps=1e-05, momentum=0.1, affine=True, track_running_stats=True)\n",
      "        (relu1): ReLU(inplace=True)\n",
      "        (conv1): Conv2d(352, 128, kernel_size=(1, 1), stride=(1, 1), bias=False)\n",
      "        (norm2): BatchNorm2d(128, eps=1e-05, momentum=0.1, affine=True, track_running_stats=True)\n",
      "        (relu2): ReLU(inplace=True)\n",
      "        (conv2): Conv2d(128, 32, kernel_size=(3, 3), stride=(1, 1), padding=(1, 1), bias=False)\n",
      "      )\n",
      "      (denselayer5): _DenseLayer(\n",
      "        (norm1): BatchNorm2d(384, eps=1e-05, momentum=0.1, affine=True, track_running_stats=True)\n",
      "        (relu1): ReLU(inplace=True)\n",
      "        (conv1): Conv2d(384, 128, kernel_size=(1, 1), stride=(1, 1), bias=False)\n",
      "        (norm2): BatchNorm2d(128, eps=1e-05, momentum=0.1, affine=True, track_running_stats=True)\n",
      "        (relu2): ReLU(inplace=True)\n",
      "        (conv2): Conv2d(128, 32, kernel_size=(3, 3), stride=(1, 1), padding=(1, 1), bias=False)\n",
      "      )\n",
      "      (denselayer6): _DenseLayer(\n",
      "        (norm1): BatchNorm2d(416, eps=1e-05, momentum=0.1, affine=True, track_running_stats=True)\n",
      "        (relu1): ReLU(inplace=True)\n",
      "        (conv1): Conv2d(416, 128, kernel_size=(1, 1), stride=(1, 1), bias=False)\n",
      "        (norm2): BatchNorm2d(128, eps=1e-05, momentum=0.1, affine=True, track_running_stats=True)\n",
      "        (relu2): ReLU(inplace=True)\n",
      "        (conv2): Conv2d(128, 32, kernel_size=(3, 3), stride=(1, 1), padding=(1, 1), bias=False)\n",
      "      )\n",
      "      (denselayer7): _DenseLayer(\n",
      "        (norm1): BatchNorm2d(448, eps=1e-05, momentum=0.1, affine=True, track_running_stats=True)\n",
      "        (relu1): ReLU(inplace=True)\n",
      "        (conv1): Conv2d(448, 128, kernel_size=(1, 1), stride=(1, 1), bias=False)\n",
      "        (norm2): BatchNorm2d(128, eps=1e-05, momentum=0.1, affine=True, track_running_stats=True)\n",
      "        (relu2): ReLU(inplace=True)\n",
      "        (conv2): Conv2d(128, 32, kernel_size=(3, 3), stride=(1, 1), padding=(1, 1), bias=False)\n",
      "      )\n",
      "      (denselayer8): _DenseLayer(\n",
      "        (norm1): BatchNorm2d(480, eps=1e-05, momentum=0.1, affine=True, track_running_stats=True)\n",
      "        (relu1): ReLU(inplace=True)\n",
      "        (conv1): Conv2d(480, 128, kernel_size=(1, 1), stride=(1, 1), bias=False)\n",
      "        (norm2): BatchNorm2d(128, eps=1e-05, momentum=0.1, affine=True, track_running_stats=True)\n",
      "        (relu2): ReLU(inplace=True)\n",
      "        (conv2): Conv2d(128, 32, kernel_size=(3, 3), stride=(1, 1), padding=(1, 1), bias=False)\n",
      "      )\n",
      "      (denselayer9): _DenseLayer(\n",
      "        (norm1): BatchNorm2d(512, eps=1e-05, momentum=0.1, affine=True, track_running_stats=True)\n",
      "        (relu1): ReLU(inplace=True)\n",
      "        (conv1): Conv2d(512, 128, kernel_size=(1, 1), stride=(1, 1), bias=False)\n",
      "        (norm2): BatchNorm2d(128, eps=1e-05, momentum=0.1, affine=True, track_running_stats=True)\n",
      "        (relu2): ReLU(inplace=True)\n",
      "        (conv2): Conv2d(128, 32, kernel_size=(3, 3), stride=(1, 1), padding=(1, 1), bias=False)\n",
      "      )\n",
      "      (denselayer10): _DenseLayer(\n",
      "        (norm1): BatchNorm2d(544, eps=1e-05, momentum=0.1, affine=True, track_running_stats=True)\n",
      "        (relu1): ReLU(inplace=True)\n",
      "        (conv1): Conv2d(544, 128, kernel_size=(1, 1), stride=(1, 1), bias=False)\n",
      "        (norm2): BatchNorm2d(128, eps=1e-05, momentum=0.1, affine=True, track_running_stats=True)\n",
      "        (relu2): ReLU(inplace=True)\n",
      "        (conv2): Conv2d(128, 32, kernel_size=(3, 3), stride=(1, 1), padding=(1, 1), bias=False)\n",
      "      )\n",
      "      (denselayer11): _DenseLayer(\n",
      "        (norm1): BatchNorm2d(576, eps=1e-05, momentum=0.1, affine=True, track_running_stats=True)\n",
      "        (relu1): ReLU(inplace=True)\n",
      "        (conv1): Conv2d(576, 128, kernel_size=(1, 1), stride=(1, 1), bias=False)\n",
      "        (norm2): BatchNorm2d(128, eps=1e-05, momentum=0.1, affine=True, track_running_stats=True)\n",
      "        (relu2): ReLU(inplace=True)\n",
      "        (conv2): Conv2d(128, 32, kernel_size=(3, 3), stride=(1, 1), padding=(1, 1), bias=False)\n",
      "      )\n",
      "      (denselayer12): _DenseLayer(\n",
      "        (norm1): BatchNorm2d(608, eps=1e-05, momentum=0.1, affine=True, track_running_stats=True)\n",
      "        (relu1): ReLU(inplace=True)\n",
      "        (conv1): Conv2d(608, 128, kernel_size=(1, 1), stride=(1, 1), bias=False)\n",
      "        (norm2): BatchNorm2d(128, eps=1e-05, momentum=0.1, affine=True, track_running_stats=True)\n",
      "        (relu2): ReLU(inplace=True)\n",
      "        (conv2): Conv2d(128, 32, kernel_size=(3, 3), stride=(1, 1), padding=(1, 1), bias=False)\n",
      "      )\n",
      "      (denselayer13): _DenseLayer(\n",
      "        (norm1): BatchNorm2d(640, eps=1e-05, momentum=0.1, affine=True, track_running_stats=True)\n",
      "        (relu1): ReLU(inplace=True)\n",
      "        (conv1): Conv2d(640, 128, kernel_size=(1, 1), stride=(1, 1), bias=False)\n",
      "        (norm2): BatchNorm2d(128, eps=1e-05, momentum=0.1, affine=True, track_running_stats=True)\n",
      "        (relu2): ReLU(inplace=True)\n",
      "        (conv2): Conv2d(128, 32, kernel_size=(3, 3), stride=(1, 1), padding=(1, 1), bias=False)\n",
      "      )\n",
      "      (denselayer14): _DenseLayer(\n",
      "        (norm1): BatchNorm2d(672, eps=1e-05, momentum=0.1, affine=True, track_running_stats=True)\n",
      "        (relu1): ReLU(inplace=True)\n",
      "        (conv1): Conv2d(672, 128, kernel_size=(1, 1), stride=(1, 1), bias=False)\n",
      "        (norm2): BatchNorm2d(128, eps=1e-05, momentum=0.1, affine=True, track_running_stats=True)\n",
      "        (relu2): ReLU(inplace=True)\n",
      "        (conv2): Conv2d(128, 32, kernel_size=(3, 3), stride=(1, 1), padding=(1, 1), bias=False)\n",
      "      )\n",
      "      (denselayer15): _DenseLayer(\n",
      "        (norm1): BatchNorm2d(704, eps=1e-05, momentum=0.1, affine=True, track_running_stats=True)\n",
      "        (relu1): ReLU(inplace=True)\n",
      "        (conv1): Conv2d(704, 128, kernel_size=(1, 1), stride=(1, 1), bias=False)\n",
      "        (norm2): BatchNorm2d(128, eps=1e-05, momentum=0.1, affine=True, track_running_stats=True)\n",
      "        (relu2): ReLU(inplace=True)\n",
      "        (conv2): Conv2d(128, 32, kernel_size=(3, 3), stride=(1, 1), padding=(1, 1), bias=False)\n",
      "      )\n",
      "      (denselayer16): _DenseLayer(\n",
      "        (norm1): BatchNorm2d(736, eps=1e-05, momentum=0.1, affine=True, track_running_stats=True)\n",
      "        (relu1): ReLU(inplace=True)\n",
      "        (conv1): Conv2d(736, 128, kernel_size=(1, 1), stride=(1, 1), bias=False)\n",
      "        (norm2): BatchNorm2d(128, eps=1e-05, momentum=0.1, affine=True, track_running_stats=True)\n",
      "        (relu2): ReLU(inplace=True)\n",
      "        (conv2): Conv2d(128, 32, kernel_size=(3, 3), stride=(1, 1), padding=(1, 1), bias=False)\n",
      "      )\n",
      "      (denselayer17): _DenseLayer(\n",
      "        (norm1): BatchNorm2d(768, eps=1e-05, momentum=0.1, affine=True, track_running_stats=True)\n",
      "        (relu1): ReLU(inplace=True)\n",
      "        (conv1): Conv2d(768, 128, kernel_size=(1, 1), stride=(1, 1), bias=False)\n",
      "        (norm2): BatchNorm2d(128, eps=1e-05, momentum=0.1, affine=True, track_running_stats=True)\n",
      "        (relu2): ReLU(inplace=True)\n",
      "        (conv2): Conv2d(128, 32, kernel_size=(3, 3), stride=(1, 1), padding=(1, 1), bias=False)\n",
      "      )\n",
      "      (denselayer18): _DenseLayer(\n",
      "        (norm1): BatchNorm2d(800, eps=1e-05, momentum=0.1, affine=True, track_running_stats=True)\n",
      "        (relu1): ReLU(inplace=True)\n",
      "        (conv1): Conv2d(800, 128, kernel_size=(1, 1), stride=(1, 1), bias=False)\n",
      "        (norm2): BatchNorm2d(128, eps=1e-05, momentum=0.1, affine=True, track_running_stats=True)\n",
      "        (relu2): ReLU(inplace=True)\n",
      "        (conv2): Conv2d(128, 32, kernel_size=(3, 3), stride=(1, 1), padding=(1, 1), bias=False)\n",
      "      )\n",
      "      (denselayer19): _DenseLayer(\n",
      "        (norm1): BatchNorm2d(832, eps=1e-05, momentum=0.1, affine=True, track_running_stats=True)\n",
      "        (relu1): ReLU(inplace=True)\n",
      "        (conv1): Conv2d(832, 128, kernel_size=(1, 1), stride=(1, 1), bias=False)\n",
      "        (norm2): BatchNorm2d(128, eps=1e-05, momentum=0.1, affine=True, track_running_stats=True)\n",
      "        (relu2): ReLU(inplace=True)\n",
      "        (conv2): Conv2d(128, 32, kernel_size=(3, 3), stride=(1, 1), padding=(1, 1), bias=False)\n",
      "      )\n",
      "      (denselayer20): _DenseLayer(\n",
      "        (norm1): BatchNorm2d(864, eps=1e-05, momentum=0.1, affine=True, track_running_stats=True)\n",
      "        (relu1): ReLU(inplace=True)\n",
      "        (conv1): Conv2d(864, 128, kernel_size=(1, 1), stride=(1, 1), bias=False)\n",
      "        (norm2): BatchNorm2d(128, eps=1e-05, momentum=0.1, affine=True, track_running_stats=True)\n",
      "        (relu2): ReLU(inplace=True)\n",
      "        (conv2): Conv2d(128, 32, kernel_size=(3, 3), stride=(1, 1), padding=(1, 1), bias=False)\n",
      "      )\n",
      "      (denselayer21): _DenseLayer(\n",
      "        (norm1): BatchNorm2d(896, eps=1e-05, momentum=0.1, affine=True, track_running_stats=True)\n",
      "        (relu1): ReLU(inplace=True)\n",
      "        (conv1): Conv2d(896, 128, kernel_size=(1, 1), stride=(1, 1), bias=False)\n",
      "        (norm2): BatchNorm2d(128, eps=1e-05, momentum=0.1, affine=True, track_running_stats=True)\n",
      "        (relu2): ReLU(inplace=True)\n",
      "        (conv2): Conv2d(128, 32, kernel_size=(3, 3), stride=(1, 1), padding=(1, 1), bias=False)\n",
      "      )\n",
      "      (denselayer22): _DenseLayer(\n",
      "        (norm1): BatchNorm2d(928, eps=1e-05, momentum=0.1, affine=True, track_running_stats=True)\n",
      "        (relu1): ReLU(inplace=True)\n",
      "        (conv1): Conv2d(928, 128, kernel_size=(1, 1), stride=(1, 1), bias=False)\n",
      "        (norm2): BatchNorm2d(128, eps=1e-05, momentum=0.1, affine=True, track_running_stats=True)\n",
      "        (relu2): ReLU(inplace=True)\n",
      "        (conv2): Conv2d(128, 32, kernel_size=(3, 3), stride=(1, 1), padding=(1, 1), bias=False)\n",
      "      )\n",
      "      (denselayer23): _DenseLayer(\n",
      "        (norm1): BatchNorm2d(960, eps=1e-05, momentum=0.1, affine=True, track_running_stats=True)\n",
      "        (relu1): ReLU(inplace=True)\n",
      "        (conv1): Conv2d(960, 128, kernel_size=(1, 1), stride=(1, 1), bias=False)\n",
      "        (norm2): BatchNorm2d(128, eps=1e-05, momentum=0.1, affine=True, track_running_stats=True)\n",
      "        (relu2): ReLU(inplace=True)\n",
      "        (conv2): Conv2d(128, 32, kernel_size=(3, 3), stride=(1, 1), padding=(1, 1), bias=False)\n",
      "      )\n",
      "      (denselayer24): _DenseLayer(\n",
      "        (norm1): BatchNorm2d(992, eps=1e-05, momentum=0.1, affine=True, track_running_stats=True)\n",
      "        (relu1): ReLU(inplace=True)\n",
      "        (conv1): Conv2d(992, 128, kernel_size=(1, 1), stride=(1, 1), bias=False)\n",
      "        (norm2): BatchNorm2d(128, eps=1e-05, momentum=0.1, affine=True, track_running_stats=True)\n",
      "        (relu2): ReLU(inplace=True)\n",
      "        (conv2): Conv2d(128, 32, kernel_size=(3, 3), stride=(1, 1), padding=(1, 1), bias=False)\n",
      "      )\n",
      "    )\n",
      "    (transition3): _Transition(\n",
      "      (norm): BatchNorm2d(1024, eps=1e-05, momentum=0.1, affine=True, track_running_stats=True)\n",
      "      (relu): ReLU(inplace=True)\n",
      "      (conv): Conv2d(1024, 512, kernel_size=(1, 1), stride=(1, 1), bias=False)\n",
      "      (pool): AvgPool2d(kernel_size=2, stride=2, padding=0)\n",
      "    )\n",
      "    (denseblock4): _DenseBlock(\n",
      "      (denselayer1): _DenseLayer(\n",
      "        (norm1): BatchNorm2d(512, eps=1e-05, momentum=0.1, affine=True, track_running_stats=True)\n",
      "        (relu1): ReLU(inplace=True)\n",
      "        (conv1): Conv2d(512, 128, kernel_size=(1, 1), stride=(1, 1), bias=False)\n",
      "        (norm2): BatchNorm2d(128, eps=1e-05, momentum=0.1, affine=True, track_running_stats=True)\n",
      "        (relu2): ReLU(inplace=True)\n",
      "        (conv2): Conv2d(128, 32, kernel_size=(3, 3), stride=(1, 1), padding=(1, 1), bias=False)\n",
      "      )\n",
      "      (denselayer2): _DenseLayer(\n",
      "        (norm1): BatchNorm2d(544, eps=1e-05, momentum=0.1, affine=True, track_running_stats=True)\n",
      "        (relu1): ReLU(inplace=True)\n",
      "        (conv1): Conv2d(544, 128, kernel_size=(1, 1), stride=(1, 1), bias=False)\n",
      "        (norm2): BatchNorm2d(128, eps=1e-05, momentum=0.1, affine=True, track_running_stats=True)\n",
      "        (relu2): ReLU(inplace=True)\n",
      "        (conv2): Conv2d(128, 32, kernel_size=(3, 3), stride=(1, 1), padding=(1, 1), bias=False)\n",
      "      )\n",
      "      (denselayer3): _DenseLayer(\n",
      "        (norm1): BatchNorm2d(576, eps=1e-05, momentum=0.1, affine=True, track_running_stats=True)\n",
      "        (relu1): ReLU(inplace=True)\n",
      "        (conv1): Conv2d(576, 128, kernel_size=(1, 1), stride=(1, 1), bias=False)\n",
      "        (norm2): BatchNorm2d(128, eps=1e-05, momentum=0.1, affine=True, track_running_stats=True)\n",
      "        (relu2): ReLU(inplace=True)\n",
      "        (conv2): Conv2d(128, 32, kernel_size=(3, 3), stride=(1, 1), padding=(1, 1), bias=False)\n",
      "      )\n",
      "      (denselayer4): _DenseLayer(\n",
      "        (norm1): BatchNorm2d(608, eps=1e-05, momentum=0.1, affine=True, track_running_stats=True)\n",
      "        (relu1): ReLU(inplace=True)\n",
      "        (conv1): Conv2d(608, 128, kernel_size=(1, 1), stride=(1, 1), bias=False)\n",
      "        (norm2): BatchNorm2d(128, eps=1e-05, momentum=0.1, affine=True, track_running_stats=True)\n",
      "        (relu2): ReLU(inplace=True)\n",
      "        (conv2): Conv2d(128, 32, kernel_size=(3, 3), stride=(1, 1), padding=(1, 1), bias=False)\n",
      "      )\n",
      "      (denselayer5): _DenseLayer(\n",
      "        (norm1): BatchNorm2d(640, eps=1e-05, momentum=0.1, affine=True, track_running_stats=True)\n",
      "        (relu1): ReLU(inplace=True)\n",
      "        (conv1): Conv2d(640, 128, kernel_size=(1, 1), stride=(1, 1), bias=False)\n",
      "        (norm2): BatchNorm2d(128, eps=1e-05, momentum=0.1, affine=True, track_running_stats=True)\n",
      "        (relu2): ReLU(inplace=True)\n",
      "        (conv2): Conv2d(128, 32, kernel_size=(3, 3), stride=(1, 1), padding=(1, 1), bias=False)\n",
      "      )\n",
      "      (denselayer6): _DenseLayer(\n",
      "        (norm1): BatchNorm2d(672, eps=1e-05, momentum=0.1, affine=True, track_running_stats=True)\n",
      "        (relu1): ReLU(inplace=True)\n",
      "        (conv1): Conv2d(672, 128, kernel_size=(1, 1), stride=(1, 1), bias=False)\n",
      "        (norm2): BatchNorm2d(128, eps=1e-05, momentum=0.1, affine=True, track_running_stats=True)\n",
      "        (relu2): ReLU(inplace=True)\n",
      "        (conv2): Conv2d(128, 32, kernel_size=(3, 3), stride=(1, 1), padding=(1, 1), bias=False)\n",
      "      )\n",
      "      (denselayer7): _DenseLayer(\n",
      "        (norm1): BatchNorm2d(704, eps=1e-05, momentum=0.1, affine=True, track_running_stats=True)\n",
      "        (relu1): ReLU(inplace=True)\n",
      "        (conv1): Conv2d(704, 128, kernel_size=(1, 1), stride=(1, 1), bias=False)\n",
      "        (norm2): BatchNorm2d(128, eps=1e-05, momentum=0.1, affine=True, track_running_stats=True)\n",
      "        (relu2): ReLU(inplace=True)\n",
      "        (conv2): Conv2d(128, 32, kernel_size=(3, 3), stride=(1, 1), padding=(1, 1), bias=False)\n",
      "      )\n",
      "      (denselayer8): _DenseLayer(\n",
      "        (norm1): BatchNorm2d(736, eps=1e-05, momentum=0.1, affine=True, track_running_stats=True)\n",
      "        (relu1): ReLU(inplace=True)\n",
      "        (conv1): Conv2d(736, 128, kernel_size=(1, 1), stride=(1, 1), bias=False)\n",
      "        (norm2): BatchNorm2d(128, eps=1e-05, momentum=0.1, affine=True, track_running_stats=True)\n",
      "        (relu2): ReLU(inplace=True)\n",
      "        (conv2): Conv2d(128, 32, kernel_size=(3, 3), stride=(1, 1), padding=(1, 1), bias=False)\n",
      "      )\n",
      "      (denselayer9): _DenseLayer(\n",
      "        (norm1): BatchNorm2d(768, eps=1e-05, momentum=0.1, affine=True, track_running_stats=True)\n",
      "        (relu1): ReLU(inplace=True)\n",
      "        (conv1): Conv2d(768, 128, kernel_size=(1, 1), stride=(1, 1), bias=False)\n",
      "        (norm2): BatchNorm2d(128, eps=1e-05, momentum=0.1, affine=True, track_running_stats=True)\n",
      "        (relu2): ReLU(inplace=True)\n",
      "        (conv2): Conv2d(128, 32, kernel_size=(3, 3), stride=(1, 1), padding=(1, 1), bias=False)\n",
      "      )\n",
      "      (denselayer10): _DenseLayer(\n",
      "        (norm1): BatchNorm2d(800, eps=1e-05, momentum=0.1, affine=True, track_running_stats=True)\n",
      "        (relu1): ReLU(inplace=True)\n",
      "        (conv1): Conv2d(800, 128, kernel_size=(1, 1), stride=(1, 1), bias=False)\n",
      "        (norm2): BatchNorm2d(128, eps=1e-05, momentum=0.1, affine=True, track_running_stats=True)\n",
      "        (relu2): ReLU(inplace=True)\n",
      "        (conv2): Conv2d(128, 32, kernel_size=(3, 3), stride=(1, 1), padding=(1, 1), bias=False)\n",
      "      )\n",
      "      (denselayer11): _DenseLayer(\n",
      "        (norm1): BatchNorm2d(832, eps=1e-05, momentum=0.1, affine=True, track_running_stats=True)\n",
      "        (relu1): ReLU(inplace=True)\n",
      "        (conv1): Conv2d(832, 128, kernel_size=(1, 1), stride=(1, 1), bias=False)\n",
      "        (norm2): BatchNorm2d(128, eps=1e-05, momentum=0.1, affine=True, track_running_stats=True)\n",
      "        (relu2): ReLU(inplace=True)\n",
      "        (conv2): Conv2d(128, 32, kernel_size=(3, 3), stride=(1, 1), padding=(1, 1), bias=False)\n",
      "      )\n",
      "      (denselayer12): _DenseLayer(\n",
      "        (norm1): BatchNorm2d(864, eps=1e-05, momentum=0.1, affine=True, track_running_stats=True)\n",
      "        (relu1): ReLU(inplace=True)\n",
      "        (conv1): Conv2d(864, 128, kernel_size=(1, 1), stride=(1, 1), bias=False)\n",
      "        (norm2): BatchNorm2d(128, eps=1e-05, momentum=0.1, affine=True, track_running_stats=True)\n",
      "        (relu2): ReLU(inplace=True)\n",
      "        (conv2): Conv2d(128, 32, kernel_size=(3, 3), stride=(1, 1), padding=(1, 1), bias=False)\n",
      "      )\n",
      "      (denselayer13): _DenseLayer(\n",
      "        (norm1): BatchNorm2d(896, eps=1e-05, momentum=0.1, affine=True, track_running_stats=True)\n",
      "        (relu1): ReLU(inplace=True)\n",
      "        (conv1): Conv2d(896, 128, kernel_size=(1, 1), stride=(1, 1), bias=False)\n",
      "        (norm2): BatchNorm2d(128, eps=1e-05, momentum=0.1, affine=True, track_running_stats=True)\n",
      "        (relu2): ReLU(inplace=True)\n",
      "        (conv2): Conv2d(128, 32, kernel_size=(3, 3), stride=(1, 1), padding=(1, 1), bias=False)\n",
      "      )\n",
      "      (denselayer14): _DenseLayer(\n",
      "        (norm1): BatchNorm2d(928, eps=1e-05, momentum=0.1, affine=True, track_running_stats=True)\n",
      "        (relu1): ReLU(inplace=True)\n",
      "        (conv1): Conv2d(928, 128, kernel_size=(1, 1), stride=(1, 1), bias=False)\n",
      "        (norm2): BatchNorm2d(128, eps=1e-05, momentum=0.1, affine=True, track_running_stats=True)\n",
      "        (relu2): ReLU(inplace=True)\n",
      "        (conv2): Conv2d(128, 32, kernel_size=(3, 3), stride=(1, 1), padding=(1, 1), bias=False)\n",
      "      )\n",
      "      (denselayer15): _DenseLayer(\n",
      "        (norm1): BatchNorm2d(960, eps=1e-05, momentum=0.1, affine=True, track_running_stats=True)\n",
      "        (relu1): ReLU(inplace=True)\n",
      "        (conv1): Conv2d(960, 128, kernel_size=(1, 1), stride=(1, 1), bias=False)\n",
      "        (norm2): BatchNorm2d(128, eps=1e-05, momentum=0.1, affine=True, track_running_stats=True)\n",
      "        (relu2): ReLU(inplace=True)\n",
      "        (conv2): Conv2d(128, 32, kernel_size=(3, 3), stride=(1, 1), padding=(1, 1), bias=False)\n",
      "      )\n",
      "      (denselayer16): _DenseLayer(\n",
      "        (norm1): BatchNorm2d(992, eps=1e-05, momentum=0.1, affine=True, track_running_stats=True)\n",
      "        (relu1): ReLU(inplace=True)\n",
      "        (conv1): Conv2d(992, 128, kernel_size=(1, 1), stride=(1, 1), bias=False)\n",
      "        (norm2): BatchNorm2d(128, eps=1e-05, momentum=0.1, affine=True, track_running_stats=True)\n",
      "        (relu2): ReLU(inplace=True)\n",
      "        (conv2): Conv2d(128, 32, kernel_size=(3, 3), stride=(1, 1), padding=(1, 1), bias=False)\n",
      "      )\n",
      "    )\n",
      "    (norm5): BatchNorm2d(1024, eps=1e-05, momentum=0.1, affine=True, track_running_stats=True)\n",
      "  )\n",
      "  (classifier): Linear(in_features=1024, out_features=2, bias=True)\n",
      ")\n"
     ]
    }
   ],
   "source": [
    "net = densenet121(pretrained=True)\n",
    "num_ftrs = net.classifier.in_features\n",
    "net.classifier = nn.Linear(num_ftrs, 2, bias=True)\n",
    "net = net.to(device)\n",
    "print(f'number of trainable params: {count_parameters(net)}')\n",
    "print(net)"
   ]
  },
  {
   "cell_type": "code",
   "execution_count": 30,
   "id": "f91c8ce0-d748-4d9d-b829-f9e0a9b9ca8f",
   "metadata": {},
   "outputs": [],
   "source": [
    "criterion = nn.CrossEntropyLoss()\n",
    "optimizer = optim.Adam(net.parameters(), lr=0.001, weight_decay=1e-4)\n",
    "n_epochs = 100\n",
    "scheduler = CosineAnnealingLR(optimizer, n_epochs)"
   ]
  },
  {
   "cell_type": "code",
   "execution_count": 31,
   "id": "f27b485b-af13-487c-a8d7-0463f78e7a21",
   "metadata": {},
   "outputs": [
    {
     "name": "stderr",
     "output_type": "stream",
     "text": [
      "Training: 100%|███████████████████████████████████████| 154/154 [00:22<00:00,  6.83it/s, epoch=0, loss=0.336, acc=86.3]\n",
      "Validating: 100%|████████████████████████████████████████| 819/819 [00:24<00:00, 33.49it/s, epoch=0, loss=0.16, acc=94]\n",
      "Training:   0%|                                                                                | 0/154 [00:00<?, ?it/s]"
     ]
    },
    {
     "name": "stdout",
     "output_type": "stream",
     "text": [
      "Best acc: 94.0171, saving...\n"
     ]
    },
    {
     "name": "stderr",
     "output_type": "stream",
     "text": [
      "Training: 100%|███████████████████████████████████████| 154/154 [00:22<00:00,  6.82it/s, epoch=1, loss=0.255, acc=90.1]\n",
      "Validating: 100%|████████████████████████████████████| 819/819 [00:24<00:00, 33.14it/s, epoch=1, loss=0.0837, acc=97.2]\n",
      "Training:   0%|                                                                                | 0/154 [00:00<?, ?it/s]"
     ]
    },
    {
     "name": "stdout",
     "output_type": "stream",
     "text": [
      "Best acc: 97.1917, saving...\n"
     ]
    },
    {
     "name": "stderr",
     "output_type": "stream",
     "text": [
      "Training: 100%|███████████████████████████████████████| 154/154 [00:22<00:00,  6.83it/s, epoch=2, loss=0.231, acc=90.1]\n",
      "Validating: 100%|█████████████████████████████████████| 819/819 [00:24<00:00, 33.34it/s, epoch=2, loss=0.162, acc=94.3]\n",
      "Training: 100%|███████████████████████████████████████| 154/154 [00:22<00:00,  6.84it/s, epoch=3, loss=0.199, acc=92.8]\n",
      "Validating: 100%|█████████████████████████████████████| 819/819 [00:24<00:00, 32.94it/s, epoch=3, loss=0.108, acc=96.3]\n",
      "Training: 100%|█████████████████████████████████████████| 154/154 [00:22<00:00,  6.86it/s, epoch=4, loss=0.2, acc=91.9]\n",
      "Validating: 100%|█████████████████████████████████████| 819/819 [00:24<00:00, 33.24it/s, epoch=4, loss=0.128, acc=95.1]\n",
      "Training: 100%|███████████████████████████████████████| 154/154 [00:22<00:00,  6.88it/s, epoch=5, loss=0.188, acc=92.7]\n",
      "Validating: 100%|█████████████████████████████████████| 819/819 [00:24<00:00, 33.10it/s, epoch=5, loss=0.185, acc=92.8]\n",
      "Training: 100%|████████████████████████████████████████| 154/154 [00:22<00:00,  6.82it/s, epoch=6, loss=0.19, acc=92.7]\n",
      "Validating: 100%|█████████████████████████████████████| 819/819 [00:25<00:00, 32.67it/s, epoch=6, loss=0.101, acc=96.3]\n",
      "Training: 100%|███████████████████████████████████████| 154/154 [00:22<00:00,  6.79it/s, epoch=7, loss=0.179, acc=93.3]\n",
      "Validating: 100%|████████████████████████████████████| 819/819 [00:24<00:00, 33.02it/s, epoch=7, loss=0.0456, acc=98.2]\n",
      "Training:   0%|                                                                                | 0/154 [00:00<?, ?it/s]"
     ]
    },
    {
     "name": "stdout",
     "output_type": "stream",
     "text": [
      "Best acc: 98.1685, saving...\n"
     ]
    },
    {
     "name": "stderr",
     "output_type": "stream",
     "text": [
      "Training: 100%|███████████████████████████████████████| 154/154 [00:22<00:00,  6.86it/s, epoch=8, loss=0.165, acc=93.6]\n",
      "Validating: 100%|████████████████████████████████████| 819/819 [00:24<00:00, 33.09it/s, epoch=8, loss=0.0709, acc=96.9]\n",
      "Training: 100%|███████████████████████████████████████| 154/154 [00:22<00:00,  6.83it/s, epoch=9, loss=0.143, acc=94.5]\n",
      "Validating: 100%|████████████████████████████████████| 819/819 [00:24<00:00, 33.00it/s, epoch=9, loss=0.0549, acc=98.5]\n",
      "Training:   0%|                                                                                | 0/154 [00:00<?, ?it/s]"
     ]
    },
    {
     "name": "stdout",
     "output_type": "stream",
     "text": [
      "Best acc: 98.5348, saving...\n"
     ]
    },
    {
     "name": "stderr",
     "output_type": "stream",
     "text": [
      "Training: 100%|██████████████████████████████████████| 154/154 [00:22<00:00,  6.83it/s, epoch=10, loss=0.194, acc=92.9]\n",
      "Validating: 100%|████████████████████████████████████| 819/819 [00:24<00:00, 33.29it/s, epoch=10, loss=0.274, acc=89.1]\n",
      "Training: 100%|██████████████████████████████████████| 154/154 [00:22<00:00,  6.87it/s, epoch=11, loss=0.184, acc=93.2]\n",
      "Validating: 100%|███████████████████████████████████| 819/819 [00:24<00:00, 33.02it/s, epoch=11, loss=0.0862, acc=97.2]\n",
      "Training: 100%|██████████████████████████████████████| 154/154 [00:22<00:00,  6.82it/s, epoch=12, loss=0.148, acc=94.7]\n",
      "Validating: 100%|███████████████████████████████████| 819/819 [00:24<00:00, 33.26it/s, epoch=12, loss=0.0538, acc=97.9]\n",
      "Training: 100%|██████████████████████████████████████| 154/154 [00:22<00:00,  6.83it/s, epoch=13, loss=0.136, acc=94.9]\n",
      "Validating: 100%|████████████████████████████████████| 819/819 [00:24<00:00, 33.19it/s, epoch=13, loss=0.174, acc=93.3]\n",
      "Training: 100%|██████████████████████████████████████| 154/154 [00:22<00:00,  6.89it/s, epoch=14, loss=0.174, acc=92.8]\n",
      "Validating: 100%|███████████████████████████████████| 819/819 [00:24<00:00, 33.06it/s, epoch=14, loss=0.0871, acc=97.6]\n",
      "Training: 100%|██████████████████████████████████████| 154/154 [00:22<00:00,  6.80it/s, epoch=15, loss=0.158, acc=94.2]\n",
      "Validating: 100%|███████████████████████████████████| 819/819 [00:24<00:00, 33.13it/s, epoch=15, loss=0.0579, acc=98.9]\n",
      "Training:   0%|                                                                                | 0/154 [00:00<?, ?it/s]"
     ]
    },
    {
     "name": "stdout",
     "output_type": "stream",
     "text": [
      "Best acc: 98.9011, saving...\n"
     ]
    },
    {
     "name": "stderr",
     "output_type": "stream",
     "text": [
      "Training: 100%|██████████████████████████████████████| 154/154 [00:22<00:00,  6.86it/s, epoch=16, loss=0.188, acc=92.7]\n",
      "Validating: 100%|████████████████████████████████████| 819/819 [00:24<00:00, 32.96it/s, epoch=16, loss=0.093, acc=97.2]\n",
      "Training: 100%|█████████████████████████████████████████| 154/154 [00:22<00:00,  6.83it/s, epoch=17, loss=0.19, acc=93]\n",
      "Validating: 100%|███████████████████████████████████| 819/819 [00:25<00:00, 32.51it/s, epoch=17, loss=0.0411, acc=98.8]\n",
      "Training: 100%|██████████████████████████████████████| 154/154 [00:22<00:00,  6.80it/s, epoch=18, loss=0.132, acc=95.3]\n",
      "Validating: 100%|█████████████████████████████████████| 819/819 [00:25<00:00, 32.69it/s, epoch=18, loss=0.0621, acc=98]\n",
      "Training: 100%|██████████████████████████████████████| 154/154 [00:22<00:00,  6.83it/s, epoch=19, loss=0.146, acc=94.5]\n",
      "Validating: 100%|███████████████████████████████████| 819/819 [00:25<00:00, 32.60it/s, epoch=19, loss=0.0353, acc=98.7]\n",
      "Training: 100%|███████████████████████████████████████| 154/154 [00:22<00:00,  6.81it/s, epoch=20, loss=0.12, acc=95.1]\n",
      "Validating: 100%|███████████████████████████████████| 819/819 [00:25<00:00, 32.56it/s, epoch=20, loss=0.0548, acc=98.7]\n",
      "Training: 100%|██████████████████████████████████████| 154/154 [00:22<00:00,  6.85it/s, epoch=21, loss=0.147, acc=94.2]\n",
      "Validating: 100%|██████████████████████████████████████| 819/819 [00:25<00:00, 32.59it/s, epoch=21, loss=0.102, acc=96]\n",
      "Training: 100%|████████████████████████████████████████| 154/154 [00:22<00:00,  6.77it/s, epoch=22, loss=0.115, acc=96]\n",
      "Validating: 100%|███████████████████████████████████| 819/819 [00:25<00:00, 32.61it/s, epoch=22, loss=0.0482, acc=98.3]\n",
      "Training: 100%|████████████████████████████████████████| 154/154 [00:22<00:00,  6.81it/s, epoch=23, loss=0.137, acc=95]\n",
      "Validating: 100%|█████████████████████████████████████| 819/819 [00:24<00:00, 32.93it/s, epoch=23, loss=0.0317, acc=99]\n",
      "Training:   0%|                                                                                | 0/154 [00:00<?, ?it/s]"
     ]
    },
    {
     "name": "stdout",
     "output_type": "stream",
     "text": [
      "Best acc: 99.0232, saving...\n"
     ]
    },
    {
     "name": "stderr",
     "output_type": "stream",
     "text": [
      "Training: 100%|███████████████████████████████████████| 154/154 [00:22<00:00,  6.81it/s, epoch=24, loss=0.13, acc=94.5]\n",
      "Validating: 100%|███████████████████████████████████| 819/819 [00:24<00:00, 33.07it/s, epoch=24, loss=0.0327, acc=99.3]\n",
      "Training:   0%|                                                                                | 0/154 [00:00<?, ?it/s]"
     ]
    },
    {
     "name": "stdout",
     "output_type": "stream",
     "text": [
      "Best acc: 99.2674, saving...\n"
     ]
    },
    {
     "name": "stderr",
     "output_type": "stream",
     "text": [
      "Training: 100%|██████████████████████████████████████| 154/154 [00:22<00:00,  6.86it/s, epoch=25, loss=0.137, acc=94.8]\n",
      "Validating: 100%|█████████████████████████████████████| 819/819 [00:24<00:00, 32.85it/s, epoch=25, loss=0.0525, acc=98]\n",
      "Training: 100%|██████████████████████████████████████| 154/154 [00:22<00:00,  6.85it/s, epoch=26, loss=0.128, acc=95.4]\n",
      "Validating: 100%|███████████████████████████████████| 819/819 [00:24<00:00, 33.07it/s, epoch=26, loss=0.0628, acc=98.4]\n",
      "Training: 100%|██████████████████████████████████████| 154/154 [00:22<00:00,  6.86it/s, epoch=27, loss=0.116, acc=95.8]\n",
      "Validating: 100%|███████████████████████████████████| 819/819 [00:24<00:00, 33.12it/s, epoch=27, loss=0.0721, acc=96.8]\n",
      "Training: 100%|██████████████████████████████████████| 154/154 [00:22<00:00,  6.86it/s, epoch=28, loss=0.133, acc=94.6]\n",
      "Validating: 100%|████████████████████████████████████| 819/819 [00:25<00:00, 32.69it/s, epoch=28, loss=0.065, acc=97.7]\n",
      "Training: 100%|████████████████████████████████████████| 154/154 [00:22<00:00,  6.79it/s, epoch=29, loss=0.126, acc=95]\n",
      "Validating: 100%|███████████████████████████████████| 819/819 [00:24<00:00, 32.96it/s, epoch=29, loss=0.0459, acc=98.4]\n",
      "Training: 100%|██████████████████████████████████████| 154/154 [00:22<00:00,  6.79it/s, epoch=30, loss=0.107, acc=95.8]\n",
      "Validating: 100%|███████████████████████████████████| 819/819 [00:24<00:00, 32.96it/s, epoch=30, loss=0.0378, acc=98.7]\n",
      "Training: 100%|██████████████████████████████████████| 154/154 [00:22<00:00,  6.87it/s, epoch=31, loss=0.109, acc=96.1]\n",
      "Validating: 100%|███████████████████████████████████| 819/819 [00:24<00:00, 32.86it/s, epoch=31, loss=0.0779, acc=97.3]\n",
      "Training: 100%|██████████████████████████████████████| 154/154 [00:22<00:00,  6.82it/s, epoch=32, loss=0.124, acc=95.5]\n",
      "Validating: 100%|███████████████████████████████████| 819/819 [00:24<00:00, 32.80it/s, epoch=32, loss=0.0374, acc=98.9]\n",
      "Training: 100%|█████████████████████████████████████| 154/154 [00:22<00:00,  6.80it/s, epoch=33, loss=0.0954, acc=96.5]\n",
      "Validating: 100%|███████████████████████████████████| 819/819 [00:24<00:00, 32.85it/s, epoch=33, loss=0.0748, acc=97.7]\n",
      "Training: 100%|██████████████████████████████████████| 154/154 [00:22<00:00,  6.83it/s, epoch=34, loss=0.112, acc=96.1]\n",
      "Validating: 100%|███████████████████████████████████| 819/819 [00:25<00:00, 32.72it/s, epoch=34, loss=0.0611, acc=98.4]\n",
      "Training: 100%|██████████████████████████████████████| 154/154 [00:22<00:00,  6.85it/s, epoch=35, loss=0.121, acc=95.8]\n",
      "Validating: 100%|██████████████████████████████████████| 819/819 [00:25<00:00, 32.55it/s, epoch=35, loss=0.031, acc=99]\n",
      "Training: 100%|██████████████████████████████████████| 154/154 [00:22<00:00,  6.85it/s, epoch=36, loss=0.112, acc=95.8]\n",
      "Validating: 100%|█████████████████████████████████████| 819/819 [00:24<00:00, 32.96it/s, epoch=36, loss=0.0339, acc=99]\n",
      "Training: 100%|██████████████████████████████████████| 154/154 [00:22<00:00,  6.85it/s, epoch=37, loss=0.119, acc=96.4]\n",
      "Validating: 100%|████████████████████████████████████| 819/819 [00:24<00:00, 33.02it/s, epoch=37, loss=0.039, acc=98.2]\n",
      "Training: 100%|██████████████████████████████████████| 154/154 [00:22<00:00,  6.83it/s, epoch=38, loss=0.113, acc=95.7]\n",
      "Validating: 100%|█████████████████████████████████████| 819/819 [00:24<00:00, 32.80it/s, epoch=38, loss=0.03, acc=99.1]\n",
      "Training: 100%|██████████████████████████████████████| 154/154 [00:22<00:00,  6.84it/s, epoch=39, loss=0.108, acc=95.9]\n",
      "Validating: 100%|███████████████████████████████████| 819/819 [00:24<00:00, 32.84it/s, epoch=39, loss=0.0286, acc=99.4]\n",
      "Training:   0%|                                                                                | 0/154 [00:00<?, ?it/s]"
     ]
    },
    {
     "name": "stdout",
     "output_type": "stream",
     "text": [
      "Best acc: 99.3895, saving...\n"
     ]
    },
    {
     "name": "stderr",
     "output_type": "stream",
     "text": [
      "Training: 100%|█████████████████████████████████████| 154/154 [00:22<00:00,  6.90it/s, epoch=40, loss=0.0979, acc=96.2]\n",
      "Validating: 100%|███████████████████████████████████| 819/819 [00:24<00:00, 33.24it/s, epoch=40, loss=0.0449, acc=98.9]\n",
      "Training: 100%|█████████████████████████████████████| 154/154 [00:22<00:00,  6.86it/s, epoch=41, loss=0.0883, acc=96.9]\n",
      "Validating: 100%|███████████████████████████████████| 819/819 [00:24<00:00, 33.22it/s, epoch=41, loss=0.0424, acc=98.8]\n",
      "Training: 100%|█████████████████████████████████████| 154/154 [00:22<00:00,  6.84it/s, epoch=42, loss=0.0824, acc=96.7]\n",
      "Validating: 100%|████████████████████████████████████| 819/819 [00:24<00:00, 33.29it/s, epoch=42, loss=0.034, acc=99.4]\n",
      "Training: 100%|█████████████████████████████████████| 154/154 [00:22<00:00,  6.84it/s, epoch=43, loss=0.0914, acc=96.5]\n",
      "Validating: 100%|███████████████████████████████████| 819/819 [00:24<00:00, 32.89it/s, epoch=43, loss=0.0279, acc=99.1]\n",
      "Training: 100%|█████████████████████████████████████| 154/154 [00:22<00:00,  6.86it/s, epoch=44, loss=0.0973, acc=96.3]\n",
      "Validating: 100%|███████████████████████████████████| 819/819 [00:24<00:00, 32.91it/s, epoch=44, loss=0.0245, acc=99.1]\n",
      "Training: 100%|█████████████████████████████████████| 154/154 [00:22<00:00,  6.83it/s, epoch=45, loss=0.0858, acc=96.9]\n",
      "Validating: 100%|███████████████████████████████████| 819/819 [00:24<00:00, 32.84it/s, epoch=45, loss=0.0375, acc=98.9]\n",
      "Training: 100%|█████████████████████████████████████| 154/154 [00:22<00:00,  6.84it/s, epoch=46, loss=0.0819, acc=96.9]\n",
      "Validating: 100%|█████████████████████████████████████| 819/819 [00:25<00:00, 32.72it/s, epoch=46, loss=0.0361, acc=99]\n",
      "Training: 100%|██████████████████████████████████████| 154/154 [00:22<00:00,  6.89it/s, epoch=47, loss=0.103, acc=96.2]\n",
      "Validating: 100%|█████████████████████████████████████| 819/819 [00:24<00:00, 33.07it/s, epoch=47, loss=0.0354, acc=99]\n",
      "Training: 100%|████████████████████████████████████████| 154/154 [00:22<00:00,  6.83it/s, epoch=48, loss=0.105, acc=96]\n",
      "Validating: 100%|████████████████████████████████████| 819/819 [00:24<00:00, 32.89it/s, epoch=48, loss=0.027, acc=99.1]\n",
      "Training: 100%|█████████████████████████████████████| 154/154 [00:22<00:00,  6.82it/s, epoch=49, loss=0.0865, acc=96.9]\n",
      "Validating: 100%|███████████████████████████████████| 819/819 [00:24<00:00, 32.92it/s, epoch=49, loss=0.0217, acc=99.1]\n",
      "Training: 100%|█████████████████████████████████████| 154/154 [00:22<00:00,  6.85it/s, epoch=50, loss=0.0739, acc=97.6]\n",
      "Validating: 100%|█████████████████████████████████████| 819/819 [00:24<00:00, 33.00it/s, epoch=50, loss=0.0338, acc=99]\n",
      "Training: 100%|█████████████████████████████████████| 154/154 [00:22<00:00,  6.81it/s, epoch=51, loss=0.0734, acc=97.5]\n",
      "Validating: 100%|███████████████████████████████████| 819/819 [00:24<00:00, 33.11it/s, epoch=51, loss=0.0186, acc=99.5]\n",
      "Training:   0%|                                                                                | 0/154 [00:00<?, ?it/s]"
     ]
    },
    {
     "name": "stdout",
     "output_type": "stream",
     "text": [
      "Best acc: 99.5116, saving...\n"
     ]
    },
    {
     "name": "stderr",
     "output_type": "stream",
     "text": [
      "Training: 100%|█████████████████████████████████████| 154/154 [00:22<00:00,  6.84it/s, epoch=52, loss=0.0743, acc=97.5]\n",
      "Validating: 100%|███████████████████████████████████| 819/819 [00:24<00:00, 32.97it/s, epoch=52, loss=0.0177, acc=99.4]\n",
      "Training: 100%|███████████████████████████████████████| 154/154 [00:22<00:00,  6.85it/s, epoch=53, loss=0.08, acc=96.9]\n",
      "Validating: 100%|███████████████████████████████████| 819/819 [00:24<00:00, 33.08it/s, epoch=53, loss=0.0156, acc=99.5]\n",
      "Training: 100%|█████████████████████████████████████| 154/154 [00:22<00:00,  6.81it/s, epoch=54, loss=0.0668, acc=97.6]\n",
      "Validating: 100%|███████████████████████████████████| 819/819 [00:24<00:00, 33.09it/s, epoch=54, loss=0.0195, acc=99.4]\n",
      "Training: 100%|█████████████████████████████████████| 154/154 [00:22<00:00,  6.85it/s, epoch=55, loss=0.0873, acc=96.7]\n",
      "Validating: 100%|████████████████████████████████████| 819/819 [00:24<00:00, 33.00it/s, epoch=55, loss=0.023, acc=99.4]\n",
      "Training: 100%|██████████████████████████████████████| 154/154 [00:22<00:00,  6.84it/s, epoch=56, loss=0.109, acc=96.6]\n",
      "Validating: 100%|████████████████████████████████████| 819/819 [00:24<00:00, 32.93it/s, epoch=56, loss=0.025, acc=99.1]\n",
      "Training: 100%|██████████████████████████████████████| 154/154 [00:22<00:00,  6.84it/s, epoch=57, loss=0.084, acc=96.9]\n",
      "Validating: 100%|███████████████████████████████████| 819/819 [00:24<00:00, 32.84it/s, epoch=57, loss=0.0143, acc=99.5]\n",
      "Training: 100%|███████████████████████████████████████| 154/154 [00:22<00:00,  6.82it/s, epoch=58, loss=0.0746, acc=97]\n",
      "Validating: 100%|███████████████████████████████████| 819/819 [00:24<00:00, 32.95it/s, epoch=58, loss=0.0213, acc=99.3]\n",
      "Training: 100%|█████████████████████████████████████| 154/154 [00:22<00:00,  6.82it/s, epoch=59, loss=0.0691, acc=97.7]\n",
      "Validating: 100%|███████████████████████████████████| 819/819 [00:25<00:00, 32.67it/s, epoch=59, loss=0.0259, acc=99.3]\n",
      "Training: 100%|███████████████████████████████████████| 154/154 [00:22<00:00,  6.81it/s, epoch=60, loss=0.0573, acc=98]\n",
      "Validating: 100%|███████████████████████████████████| 819/819 [00:24<00:00, 33.00it/s, epoch=60, loss=0.0174, acc=99.5]\n",
      "Training: 100%|███████████████████████████████████████| 154/154 [00:22<00:00,  6.84it/s, epoch=61, loss=0.0557, acc=98]\n",
      "Validating: 100%|███████████████████████████████████| 819/819 [00:24<00:00, 33.07it/s, epoch=61, loss=0.0191, acc=99.6]\n",
      "Training:   0%|                                                                                | 0/154 [00:00<?, ?it/s]"
     ]
    },
    {
     "name": "stdout",
     "output_type": "stream",
     "text": [
      "Best acc: 99.6337, saving...\n"
     ]
    },
    {
     "name": "stderr",
     "output_type": "stream",
     "text": [
      "Training: 100%|█████████████████████████████████████| 154/154 [00:22<00:00,  6.85it/s, epoch=62, loss=0.0841, acc=96.5]\n",
      "Validating: 100%|███████████████████████████████████| 819/819 [00:24<00:00, 33.21it/s, epoch=62, loss=0.0319, acc=98.8]\n",
      "Training: 100%|█████████████████████████████████████| 154/154 [00:22<00:00,  6.85it/s, epoch=63, loss=0.0616, acc=97.6]\n",
      "Validating: 100%|███████████████████████████████████| 819/819 [00:24<00:00, 33.08it/s, epoch=63, loss=0.0255, acc=99.1]\n",
      "Training: 100%|█████████████████████████████████████| 154/154 [00:22<00:00,  6.85it/s, epoch=64, loss=0.0581, acc=97.8]\n",
      "Validating: 100%|███████████████████████████████████| 819/819 [00:24<00:00, 32.98it/s, epoch=64, loss=0.0216, acc=99.3]\n",
      "Training: 100%|███████████████████████████████████████| 154/154 [00:22<00:00,  6.76it/s, epoch=65, loss=0.0617, acc=98]\n",
      "Validating: 100%|███████████████████████████████████| 819/819 [00:24<00:00, 33.09it/s, epoch=65, loss=0.0188, acc=99.5]\n",
      "Training: 100%|███████████████████████████████████████| 154/154 [00:22<00:00,  6.80it/s, epoch=66, loss=0.0573, acc=98]\n",
      "Validating: 100%|███████████████████████████████████| 819/819 [00:24<00:00, 33.04it/s, epoch=66, loss=0.0178, acc=99.5]\n",
      "Training: 100%|█████████████████████████████████████| 154/154 [00:22<00:00,  6.81it/s, epoch=67, loss=0.0663, acc=97.7]\n",
      "Validating: 100%|███████████████████████████████████| 819/819 [00:24<00:00, 33.20it/s, epoch=67, loss=0.0172, acc=99.5]\n",
      "Training: 100%|█████████████████████████████████████| 154/154 [00:22<00:00,  6.80it/s, epoch=68, loss=0.0647, acc=97.5]\n",
      "Validating: 100%|███████████████████████████████████| 819/819 [00:24<00:00, 33.18it/s, epoch=68, loss=0.0316, acc=99.1]\n",
      "Training: 100%|██████████████████████████████████████| 154/154 [00:22<00:00,  6.88it/s, epoch=69, loss=0.055, acc=98.1]\n",
      "Validating: 100%|███████████████████████████████████| 819/819 [00:24<00:00, 32.96it/s, epoch=69, loss=0.0225, acc=99.5]\n",
      "Training: 100%|████████████████████████████████████████| 154/154 [00:22<00:00,  6.82it/s, epoch=70, loss=0.057, acc=98]\n",
      "Validating: 100%|███████████████████████████████████| 819/819 [00:25<00:00, 32.72it/s, epoch=70, loss=0.0197, acc=99.6]\n",
      "Training: 100%|█████████████████████████████████████| 154/154 [00:22<00:00,  6.78it/s, epoch=71, loss=0.0444, acc=98.5]\n",
      "Validating: 100%|███████████████████████████████████| 819/819 [00:24<00:00, 33.17it/s, epoch=71, loss=0.0131, acc=99.8]\n",
      "Training:   0%|                                                                                | 0/154 [00:00<?, ?it/s]"
     ]
    },
    {
     "name": "stdout",
     "output_type": "stream",
     "text": [
      "Best acc: 99.7558, saving...\n"
     ]
    },
    {
     "name": "stderr",
     "output_type": "stream",
     "text": [
      "Training: 100%|█████████████████████████████████████| 154/154 [00:22<00:00,  6.85it/s, epoch=72, loss=0.0527, acc=98.2]\n",
      "Validating: 100%|███████████████████████████████████| 819/819 [00:24<00:00, 32.97it/s, epoch=72, loss=0.0139, acc=99.6]\n",
      "Training: 100%|█████████████████████████████████████| 154/154 [00:22<00:00,  6.82it/s, epoch=73, loss=0.0478, acc=98.1]\n",
      "Validating: 100%|███████████████████████████████████| 819/819 [00:24<00:00, 33.03it/s, epoch=73, loss=0.0197, acc=99.6]\n",
      "Training: 100%|█████████████████████████████████████| 154/154 [00:22<00:00,  6.81it/s, epoch=74, loss=0.0557, acc=98.2]\n",
      "Validating: 100%|███████████████████████████████████| 819/819 [00:24<00:00, 32.86it/s, epoch=74, loss=0.0148, acc=99.4]\n",
      "Training: 100%|█████████████████████████████████████| 154/154 [00:22<00:00,  6.79it/s, epoch=75, loss=0.0425, acc=98.4]\n",
      "Validating: 100%|███████████████████████████████████| 819/819 [00:25<00:00, 32.72it/s, epoch=75, loss=0.0145, acc=99.6]\n",
      "Training: 100%|█████████████████████████████████████| 154/154 [00:22<00:00,  6.84it/s, epoch=76, loss=0.0458, acc=98.2]\n",
      "Validating: 100%|███████████████████████████████████| 819/819 [00:24<00:00, 32.92it/s, epoch=76, loss=0.0182, acc=99.4]\n",
      "Training: 100%|█████████████████████████████████████| 154/154 [00:22<00:00,  6.75it/s, epoch=77, loss=0.0526, acc=97.8]\n",
      "Validating: 100%|███████████████████████████████████| 819/819 [00:24<00:00, 33.10it/s, epoch=77, loss=0.0148, acc=99.6]\n",
      "Training: 100%|█████████████████████████████████████| 154/154 [00:22<00:00,  6.80it/s, epoch=78, loss=0.0448, acc=98.5]\n",
      "Validating: 100%|███████████████████████████████████| 819/819 [00:24<00:00, 32.94it/s, epoch=78, loss=0.0185, acc=99.3]\n",
      "Training: 100%|█████████████████████████████████████| 154/154 [00:22<00:00,  6.81it/s, epoch=79, loss=0.0443, acc=98.4]\n",
      "Validating: 100%|████████████████████████████████████| 819/819 [00:24<00:00, 33.01it/s, epoch=79, loss=0.019, acc=99.5]\n",
      "Training: 100%|█████████████████████████████████████| 154/154 [00:22<00:00,  6.80it/s, epoch=80, loss=0.0473, acc=98.4]\n",
      "Validating: 100%|███████████████████████████████████| 819/819 [00:24<00:00, 33.36it/s, epoch=80, loss=0.0159, acc=99.5]\n",
      "Training: 100%|█████████████████████████████████████| 154/154 [00:22<00:00,  6.86it/s, epoch=81, loss=0.0482, acc=98.4]\n",
      "Validating: 100%|███████████████████████████████████| 819/819 [00:24<00:00, 33.20it/s, epoch=81, loss=0.0177, acc=99.5]\n",
      "Training: 100%|███████████████████████████████████████| 154/154 [00:22<00:00,  6.79it/s, epoch=82, loss=0.0341, acc=99]\n",
      "Validating: 100%|███████████████████████████████████| 819/819 [00:24<00:00, 32.88it/s, epoch=82, loss=0.0167, acc=99.4]\n",
      "Training: 100%|█████████████████████████████████████| 154/154 [00:22<00:00,  6.81it/s, epoch=83, loss=0.0436, acc=98.2]\n",
      "Validating: 100%|███████████████████████████████████| 819/819 [00:24<00:00, 32.91it/s, epoch=83, loss=0.0155, acc=99.5]\n",
      "Training: 100%|█████████████████████████████████████| 154/154 [00:22<00:00,  6.84it/s, epoch=84, loss=0.0369, acc=98.7]\n",
      "Validating: 100%|███████████████████████████████████| 819/819 [00:24<00:00, 33.00it/s, epoch=84, loss=0.0152, acc=99.8]\n",
      "Training: 100%|█████████████████████████████████████| 154/154 [00:22<00:00,  6.84it/s, epoch=85, loss=0.0517, acc=98.1]\n",
      "Validating: 100%|███████████████████████████████████| 819/819 [00:24<00:00, 33.00it/s, epoch=85, loss=0.0169, acc=99.5]\n",
      "Training: 100%|█████████████████████████████████████| 154/154 [00:22<00:00,  6.84it/s, epoch=86, loss=0.0488, acc=98.3]\n",
      "Validating: 100%|███████████████████████████████████| 819/819 [00:24<00:00, 33.00it/s, epoch=86, loss=0.0163, acc=99.6]\n",
      "Training: 100%|██████████████████████████████████████| 154/154 [00:22<00:00,  6.80it/s, epoch=87, loss=0.053, acc=98.3]\n",
      "Validating: 100%|███████████████████████████████████| 819/819 [00:24<00:00, 32.84it/s, epoch=87, loss=0.0137, acc=99.8]\n",
      "Training: 100%|█████████████████████████████████████| 154/154 [00:22<00:00,  6.85it/s, epoch=88, loss=0.0371, acc=98.6]\n",
      "Validating: 100%|████████████████████████████████████| 819/819 [00:24<00:00, 33.26it/s, epoch=88, loss=0.016, acc=99.8]\n",
      "Training: 100%|█████████████████████████████████████| 154/154 [00:22<00:00,  6.81it/s, epoch=89, loss=0.0308, acc=98.7]\n",
      "Validating: 100%|███████████████████████████████████| 819/819 [00:24<00:00, 33.05it/s, epoch=89, loss=0.0156, acc=99.6]\n",
      "Training: 100%|█████████████████████████████████████| 154/154 [00:22<00:00,  6.82it/s, epoch=90, loss=0.0399, acc=98.5]\n",
      "Validating: 100%|███████████████████████████████████| 819/819 [00:24<00:00, 33.18it/s, epoch=90, loss=0.0156, acc=99.6]\n",
      "Training: 100%|█████████████████████████████████████| 154/154 [00:22<00:00,  6.81it/s, epoch=91, loss=0.0384, acc=98.7]\n",
      "Validating: 100%|███████████████████████████████████| 819/819 [00:24<00:00, 33.15it/s, epoch=91, loss=0.0164, acc=99.6]\n",
      "Training: 100%|█████████████████████████████████████| 154/154 [00:22<00:00,  6.85it/s, epoch=92, loss=0.0419, acc=98.6]\n",
      "Validating: 100%|███████████████████████████████████| 819/819 [00:24<00:00, 33.10it/s, epoch=92, loss=0.0157, acc=99.6]\n",
      "Training: 100%|█████████████████████████████████████| 154/154 [00:22<00:00,  6.84it/s, epoch=93, loss=0.0395, acc=98.4]\n",
      "Validating: 100%|███████████████████████████████████| 819/819 [00:24<00:00, 33.04it/s, epoch=93, loss=0.0148, acc=99.8]\n",
      "Training: 100%|█████████████████████████████████████| 154/154 [00:22<00:00,  6.84it/s, epoch=94, loss=0.0378, acc=98.6]\n",
      "Validating: 100%|███████████████████████████████████| 819/819 [00:24<00:00, 33.23it/s, epoch=94, loss=0.0156, acc=99.6]\n",
      "Training: 100%|█████████████████████████████████████| 154/154 [00:22<00:00,  6.79it/s, epoch=95, loss=0.0405, acc=98.4]\n",
      "Validating: 100%|████████████████████████████████████| 819/819 [00:24<00:00, 33.17it/s, epoch=95, loss=0.015, acc=99.8]\n",
      "Training: 100%|█████████████████████████████████████| 154/154 [00:22<00:00,  6.81it/s, epoch=96, loss=0.0352, acc=98.6]\n",
      "Validating: 100%|████████████████████████████████████| 819/819 [00:24<00:00, 33.26it/s, epoch=96, loss=0.015, acc=99.8]\n",
      "Training: 100%|█████████████████████████████████████| 154/154 [00:22<00:00,  6.83it/s, epoch=97, loss=0.0323, acc=98.7]\n",
      "Validating: 100%|███████████████████████████████████| 819/819 [00:24<00:00, 32.83it/s, epoch=97, loss=0.0144, acc=99.8]\n",
      "Training: 100%|█████████████████████████████████████| 154/154 [00:22<00:00,  6.83it/s, epoch=98, loss=0.0405, acc=98.3]\n",
      "Validating: 100%|███████████████████████████████████| 819/819 [00:24<00:00, 32.86it/s, epoch=98, loss=0.0147, acc=99.8]\n",
      "Training: 100%|██████████████████████████████████████| 154/154 [00:22<00:00,  6.87it/s, epoch=99, loss=0.042, acc=98.6]\n",
      "Validating: 100%|███████████████████████████████████| 819/819 [00:24<00:00, 32.85it/s, epoch=99, loss=0.0144, acc=99.6]"
     ]
    },
    {
     "name": "stdout",
     "output_type": "stream",
     "text": [
      "time taken: 4739.2893s\n"
     ]
    },
    {
     "name": "stderr",
     "output_type": "stream",
     "text": [
      "\n"
     ]
    }
   ],
   "source": [
    "start = time.time()\n",
    "best_acc = 0.0\n",
    "train_acc_ = []\n",
    "train_loss_ = []\n",
    "valid_acc_ = []\n",
    "valid_loss_ = []\n",
    "epoch_ = []\n",
    "lr_ = []\n",
    "for epoch in range(n_epochs):\n",
    "    train_acc, train_loss = train(epoch, trainloader, net)\n",
    "    val_acc, val_loss = valid(epoch, valloader, net)\n",
    "    train_acc_.append(train_acc)\n",
    "    train_loss_.append(train_loss)\n",
    "    valid_acc_.append(val_acc)\n",
    "    valid_loss_.append(val_loss)\n",
    "    scheduler.step()\n",
    "    if (val_acc > best_acc):\n",
    "        best_acc = val_acc\n",
    "        print(f'Best acc: {best_acc:.4f}, saving...')\n",
    "        torch.save(net, f'models/{datetime.now().strftime(\"%d%m%Y_%H%M%S\")}_densenet121_{best_acc:.4f}_epoch_{epoch}.pth')\n",
    "        epoch_.append(epoch)\n",
    "end = time.time()\n",
    "print(f'time taken: {(end-start):.4f}s')"
   ]
  },
  {
   "cell_type": "code",
   "execution_count": 32,
   "id": "00fc4e95-b39d-41a5-ba51-679bc40b0981",
   "metadata": {},
   "outputs": [
    {
     "name": "stdout",
     "output_type": "stream",
     "text": [
      "train_acc: 98.57\n",
      "val_acc: 99.63\n",
      "last model path: models/28052021_032825_densenet121_98.57_99.63_last.pth\n"
     ]
    }
   ],
   "source": [
    "print(f'train_acc: {train_acc:.2f}')\n",
    "print(f'val_acc: {val_acc:.2f}')\n",
    "model_path = f'models/{datetime.now().strftime(\"%d%m%Y_%H%M%S\")}_densenet121_{train_acc:.2f}_{val_acc:.2f}_last.pth'\n",
    "print(f'last model path: {model_path}')\n",
    "torch.save(net, model_path)"
   ]
  },
  {
   "cell_type": "code",
   "execution_count": 33,
   "id": "8f0e8a12-3eb5-4c64-afbd-684b8a55b8d4",
   "metadata": {},
   "outputs": [
    {
     "data": {
      "image/png": "[encoded data removed]",
      "text/plain": [
       "<Figure size 720x360 with 1 Axes>"
      ]
     },
     "metadata": {
      "needs_background": "light"
     },
     "output_type": "display_data"
    },
    {
     "data": {
      "image/png": "[encoded data removed]",
      "text/plain": [
       "<Figure size 720x360 with 1 Axes>"
      ]
     },
     "metadata": {
      "needs_background": "light"
     },
     "output_type": "display_data"
    },
    {
     "data": {
      "image/png": "[encoded data removed]",
      "text/plain": [
       "<Figure size 720x360 with 1 Axes>"
      ]
     },
     "metadata": {
      "needs_background": "light"
     },
     "output_type": "display_data"
    }
   ],
   "source": [
    "plt.figure(figsize=(10,5))\n",
    "plt.axvline(epoch_[-1], 0, 1, c='g', ls='--', lw=2, label='best')\n",
    "plt.plot(range(n_epochs), train_loss_, 'b', label='train')\n",
    "plt.plot(range(n_epochs), valid_loss_, 'r', label='valid')\n",
    "plt.xlabel('epochs')\n",
    "plt.ylabel('loss')\n",
    "plt.title('Loss vs Epoch')\n",
    "plt.legend()\n",
    "plt.show()\n",
    "\n",
    "plt.figure(figsize=(10,5))\n",
    "plt.axvline(epoch_[-1], 0, 1, c='g', ls='--', lw=2, label='best')\n",
    "plt.plot(range(n_epochs), train_acc_, 'b', label='train')\n",
    "plt.plot(range(n_epochs), valid_acc_, 'r', label='valid')\n",
    "plt.xlabel('epochs')\n",
    "plt.ylabel('acc')\n",
    "plt.title('Accuracy vs Epoch')\n",
    "plt.legend()\n",
    "plt.show()\n",
    "\n",
    "plt.figure(figsize=(10,5))\n",
    "plt.axvline(epoch_[-1], 0, 1, c='g', ls='--', lw=2, label='best')\n",
    "plt.plot(range(n_epochs), lr_, 'b', label='lr')\n",
    "plt.xlabel('epochs')\n",
    "plt.ylabel('lr')\n",
    "plt.title('Learning Rate vs Epoch')\n",
    "plt.legend()\n",
    "plt.show()"
   ]
  },
  {
   "cell_type": "code",
   "execution_count": 34,
   "id": "7eb0b968-402b-49e2-8a02-2641dd3d4c89",
   "metadata": {},
   "outputs": [],
   "source": [
    "plotTotal.append([net, train_acc_, train_loss_])"
   ]
  },
  {
   "cell_type": "markdown",
   "id": "96de6487-61cc-4da1-82a6-c0940a9ac04b",
   "metadata": {},
   "source": [
    "## Analysis"
   ]
  },
  {
   "cell_type": "code",
   "execution_count": 35,
   "id": "c032caf1-7f81-4284-8a92-029525081deb",
   "metadata": {},
   "outputs": [
    {
     "data": {
      "image/png": "[encoded data removed]",
      "text/plain": [
       "<Figure size 720x360 with 1 Axes>"
      ]
     },
     "metadata": {
      "needs_background": "light"
     },
     "output_type": "display_data"
    },
    {
     "data": {
      "image/png": "[encoded data removed]",
      "text/plain": [
       "<Figure size 720x360 with 1 Axes>"
      ]
     },
     "metadata": {
      "needs_background": "light"
     },
     "output_type": "display_data"
    }
   ],
   "source": [
    "plt.figure(figsize=(10,5))\n",
    "plt.plot(range(n_epochs), plotTotal[0][1], color='tab:blue', label='ResNet18')\n",
    "plt.plot(range(n_epochs), plotTotal[1][1], color='tab:red', label='MobileNetV2')\n",
    "plt.plot(range(n_epochs), plotTotal[2][1], color='tab:green', label='DenseNet121')\n",
    "plt.xlabel('# epoch')\n",
    "plt.ylabel('Training Accuracy %')\n",
    "plt.title('Training Accuracy vs Epochs')\n",
    "plt.legend()\n",
    "plt.show()\n",
    "\n",
    "plt.figure(figsize=(10,5))\n",
    "plt.plot(range(n_epochs), plotTotal[0][2], color='tab:blue', label='ResNet18')\n",
    "plt.plot(range(n_epochs), plotTotal[1][2], color='tab:red', label='MobileNetV2')\n",
    "plt.plot(range(n_epochs), plotTotal[2][2], color='tab:green', label='DenseNet121')\n",
    "plt.xlabel('# epoch')\n",
    "plt.ylabel('Training Loss')\n",
    "plt.title('Training Loss vs Epochs')\n",
    "plt.legend()\n",
    "plt.show()"
   ]
  },
  {
   "cell_type": "markdown",
   "id": "fcdaa9c8-374d-471e-a707-9fde7435628d",
   "metadata": {},
   "source": [
    "# Evaluate"
   ]
  },
  {
   "cell_type": "code",
   "execution_count": 24,
   "id": "bc2d76c2-f954-4ddc-881b-5d4b5aaa56cf",
   "metadata": {},
   "outputs": [],
   "source": [
    "# the true (rows), predicted (columns)\n",
    "\n",
    "def evaluate_test(model_path):\n",
    "    net = torch.load(model_path, map_location=device)\n",
    "    net.eval()\n",
    "    y = list()\n",
    "    y_hat = list()\n",
    "    correct = 0\n",
    "    total = 0\n",
    "    with torch.no_grad():\n",
    "        for image, label in testloader:\n",
    "            image, label = image.to(device), label.to(device)\n",
    "            y.append(label.item())\n",
    "            total += label.size()[0]\n",
    "            output = net(image)\n",
    "            _, predicted = torch.max(output.data, 1)\n",
    "            y_hat.append(predicted.item())\n",
    "            correct += label.eq(predicted).cpu().sum()\n",
    "    print(classification_report(y, y_hat))\n",
    "#     print(ConfusionMatrixDisplay(confusion_matrix(y_true=y, y_pred=y_hat)))\n",
    "    cm = ConfusionMatrixDisplay(confusion_matrix(y_true=y, y_pred=y_hat))\n",
    "    cm.plot() \n",
    "    return correct/total*100"
   ]
  },
  {
   "cell_type": "markdown",
   "id": "964b27a9-7215-42eb-bd4e-5ad7cee2ec06",
   "metadata": {},
   "source": [
    "## ResNet18"
   ]
  },
  {
   "cell_type": "code",
   "execution_count": 26,
   "id": "5ba6e555-ecf6-4729-bd29-df5cb3eaa4b0",
   "metadata": {},
   "outputs": [
    {
     "name": "stdout",
     "output_type": "stream",
     "text": [
      "---Evaluate best model---\n",
      "              precision    recall  f1-score   support\n",
      "\n",
      "           0       0.99      0.99      0.99       433\n",
      "           1       0.99      0.98      0.99       386\n",
      "\n",
      "    accuracy                           0.99       819\n",
      "   macro avg       0.99      0.99      0.99       819\n",
      "weighted avg       0.99      0.99      0.99       819\n",
      "\n",
      "Accuracy: 98.9011%\n",
      "Time taken: 22.1916s\n",
      "\n",
      "\n",
      "---Evaluate last model---\n",
      "              precision    recall  f1-score   support\n",
      "\n",
      "           0       1.00      0.99      0.99       433\n",
      "           1       0.99      0.99      0.99       386\n",
      "\n",
      "    accuracy                           0.99       819\n",
      "   macro avg       0.99      0.99      0.99       819\n",
      "weighted avg       0.99      0.99      0.99       819\n",
      "\n",
      "Accuracy: 99.3895%\n",
      "Time taken: 21.8353s\n"
     ]
    },
    {
     "data": {
      "image/png": "[encoded data removed]",
      "text/plain": [
       "<Figure size 432x288 with 2 Axes>"
      ]
     },
     "metadata": {
      "needs_background": "light"
     },
     "output_type": "display_data"
    },
    {
     "data": {
      "image/png": "[encoded data removed]",
      "text/plain": [
       "<Figure size 432x288 with 2 Axes>"
      ]
     },
     "metadata": {
      "needs_background": "light"
     },
     "output_type": "display_data"
    }
   ],
   "source": [
    "print('---Evaluate best model---')\n",
    "start = time.time()\n",
    "best_model_path = 'models/28052021_013324_resnet18_99.8779_epoch_62.pth'\n",
    "print(f'Accuracy: {evaluate_test(best_model_path):.4f}%')\n",
    "end = time.time()\n",
    "print(f'Time taken: {(end-start):.4f}s')\n",
    "print('\\n')\n",
    "print('---Evaluate last model---')\n",
    "start = time.time()\n",
    "last_model_path = 'models/28052021_014201_resnet18_98.49_99.76_last.pth'\n",
    "print(f'Accuracy: {evaluate_test(last_model_path):.4f}%')\n",
    "end = time.time()\n",
    "print(f'Time taken: {(end-start):.4f}s')"
   ]
  },
  {
   "cell_type": "markdown",
   "id": "7e7c1840-0f17-441e-b54a-ad2db29d5b68",
   "metadata": {},
   "source": [
    "## MobileNetV2"
   ]
  },
  {
   "cell_type": "code",
   "execution_count": 27,
   "id": "a740a3f8-cd84-4937-a859-6bc01921cde9",
   "metadata": {},
   "outputs": [
    {
     "name": "stdout",
     "output_type": "stream",
     "text": [
      "---Evaluate best model---\n",
      "              precision    recall  f1-score   support\n",
      "\n",
      "           0       0.99      0.99      0.99       433\n",
      "           1       0.99      0.99      0.99       386\n",
      "\n",
      "    accuracy                           0.99       819\n",
      "   macro avg       0.99      0.99      0.99       819\n",
      "weighted avg       0.99      0.99      0.99       819\n",
      "\n",
      "Accuracy: 99.1453%\n",
      "Time taken: 18.0908s\n",
      "\n",
      "\n",
      "---Evaluate last model---\n",
      "              precision    recall  f1-score   support\n",
      "\n",
      "           0       0.99      0.99      0.99       433\n",
      "           1       0.99      0.99      0.99       386\n",
      "\n",
      "    accuracy                           0.99       819\n",
      "   macro avg       0.99      0.99      0.99       819\n",
      "weighted avg       0.99      0.99      0.99       819\n",
      "\n",
      "Accuracy: 99.0232%\n",
      "Time taken: 16.7571s\n"
     ]
    },
    {
     "data": {
      "image/png": "[encoded data removed]",
      "text/plain": [
       "<Figure size 432x288 with 2 Axes>"
      ]
     },
     "metadata": {
      "needs_background": "light"
     },
     "output_type": "display_data"
    },
    {
     "data": {
      "image/png": "[encoded data removed]",
      "text/plain": [
       "<Figure size 432x288 with 2 Axes>"
      ]
     },
     "metadata": {
      "needs_background": "light"
     },
     "output_type": "display_data"
    }
   ],
   "source": [
    "print('---Evaluate best model---')\n",
    "start = time.time()\n",
    "best_model_path = 'models/28052021_020305_mobilenetv2_99.8779_epoch_76.pth'\n",
    "print(f'Accuracy: {evaluate_test(best_model_path):.4f}%')\n",
    "end = time.time()\n",
    "print(f'Time taken: {(end-start):.4f}s')\n",
    "print('\\n')\n",
    "print('---Evaluate last model---')\n",
    "start = time.time()\n",
    "last_model_path = 'models/28052021_020925_mobilenetv2_99.27_99.51_last.pth'\n",
    "print(f'Accuracy: {evaluate_test(last_model_path):.4f}%')\n",
    "end = time.time()\n",
    "print(f'Time taken: {(end-start):.4f}s')"
   ]
  },
  {
   "cell_type": "markdown",
   "id": "768a36cb-4551-4ad5-b321-85a31f1ade0b",
   "metadata": {},
   "source": [
    "## DenseNet121"
   ]
  },
  {
   "cell_type": "code",
   "execution_count": 28,
   "id": "f5a7d8eb-f3a6-4202-9af3-29446f5fb895",
   "metadata": {},
   "outputs": [
    {
     "name": "stdout",
     "output_type": "stream",
     "text": [
      "---Evaluate best model---\n",
      "              precision    recall  f1-score   support\n",
      "\n",
      "           0       0.98      1.00      0.99       433\n",
      "           1       1.00      0.98      0.99       386\n",
      "\n",
      "    accuracy                           0.99       819\n",
      "   macro avg       0.99      0.99      0.99       819\n",
      "weighted avg       0.99      0.99      0.99       819\n",
      "\n",
      "Accuracy: 99.0232%\n",
      "Time taken: 58.0278s\n",
      "\n",
      "\n",
      "---Evaluate last model---\n",
      "              precision    recall  f1-score   support\n",
      "\n",
      "           0       0.99      1.00      0.99       433\n",
      "           1       1.00      0.99      0.99       386\n",
      "\n",
      "    accuracy                           0.99       819\n",
      "   macro avg       0.99      0.99      0.99       819\n",
      "weighted avg       0.99      0.99      0.99       819\n",
      "\n",
      "Accuracy: 99.3895%\n",
      "Time taken: 57.0066s\n"
     ]
    },
    {
     "data": {
      "image/png": "[encoded data removed]",
      "text/plain": [
       "<Figure size 432x288 with 2 Axes>"
      ]
     },
     "metadata": {
      "needs_background": "light"
     },
     "output_type": "display_data"
    },
    {
     "data": {
      "image/png": "[encoded data removed]",
      "text/plain": [
       "<Figure size 432x288 with 2 Axes>"
      ]
     },
     "metadata": {
      "needs_background": "light"
     },
     "output_type": "display_data"
    }
   ],
   "source": [
    "print('---Evaluate best model---')\n",
    "start = time.time()\n",
    "best_model_path = 'models/28052021_030618_densenet121_99.7558_epoch_71.pth'\n",
    "print(f'Accuracy: {evaluate_test(best_model_path):.4f}%')\n",
    "end = time.time()\n",
    "print(f'Time taken: {(end-start):.4f}s')\n",
    "print('\\n')\n",
    "print('---Evaluate last model---')\n",
    "start = time.time()\n",
    "last_model_path = 'models/28052021_032825_densenet121_98.57_99.63_last.pth'\n",
    "print(f'Accuracy: {evaluate_test(last_model_path):.4f}%')\n",
    "end = time.time()\n",
    "print(f'Time taken: {(end-start):.4f}s')"
   ]
  },
  {
   "cell_type": "code",
   "execution_count": 41,
   "id": "f9584ae7-b5f4-43c9-b9c2-5ea8be382260",
   "metadata": {},
   "outputs": [
    {
     "name": "stdout",
     "output_type": "stream",
     "text": [
      "(2226434, 6955906, 11177538)\n",
      "('mobilenetv2', 'densenet121', 'resnet18')\n"
     ]
    }
   ],
   "source": [
    "net, param = zip(*sorted(list(zip([count_parameters(i[0]) for i in plotTotal], ['resnet18', 'mobilenetv2', 'densenet121']))))\n",
    "print(net)\n",
    "print(param)"
   ]
  }
 ],
 "metadata": {
  "kernelspec": {
   "display_name": "Python 3",
   "language": "python",
   "name": "python3"
  },
  "language_info": {
   "codemirror_mode": {
    "name": "ipython",
    "version": 3
   },
   "file_extension": ".py",
   "mimetype": "text/x-python",
   "name": "python",
   "nbconvert_exporter": "python",
   "pygments_lexer": "ipython3",
   "version": "3.8.8"
  }
 },
 "nbformat": 4,
 "nbformat_minor": 5
}
